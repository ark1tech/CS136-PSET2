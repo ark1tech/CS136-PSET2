{
 "cells": [
  {
   "cell_type": "code",
   "execution_count": 17,
   "metadata": {},
   "outputs": [],
   "source": [
    "import math\n",
    "import plotly.graph_objects as go"
   ]
  },
  {
   "cell_type": "code",
   "execution_count": 2,
   "metadata": {},
   "outputs": [],
   "source": [
    "GAUSS_LEGENDRE = [\n",
    "    [0.2955242247147529, -0.1488743389816312],\n",
    "    [0.2955242247147529, 0.1488743389816312],\n",
    "    [0.2692667193099963, -0.4333953941292472],\n",
    "    [0.2692667193099963, 0.4333953941292472],\n",
    "    [0.2190863625159820, -0.6794095682990244],\n",
    "    [0.2190863625159820, 0.6794095682990244],\n",
    "    [0.1494513491505806, -0.8650633666889845],\n",
    "    [0.1494513491505806, 0.8650633666889845],\n",
    "    [0.0666713443086881, -0.9739065285171717],\n",
    "    [0.0666713443086881, 0.9739065285171717]\n",
    "]\n",
    "\n",
    "N = 10"
   ]
  },
  {
   "cell_type": "code",
   "execution_count": 37,
   "metadata": {},
   "outputs": [],
   "source": [
    "def weibull(t, lbda, k):\n",
    "    return (k/lbda)*(math.pow((t/lbda), k-1))*math.pow(math.e, -1*math.pow((t/lbda), k))"
   ]
  },
  {
   "cell_type": "code",
   "execution_count": 38,
   "metadata": {},
   "outputs": [],
   "source": [
    "x=[]\n",
    "y=[]\n",
    "for i in range(1, 200, 1):"
   ]
  }
 ],
 "metadata": {
  "kernelspec": {
   "display_name": ".cs136",
   "language": "python",
   "name": "python3"
  },
  "language_info": {
   "codemirror_mode": {
    "name": "ipython",
    "version": 3
   },
   "file_extension": ".py",
   "mimetype": "text/x-python",
   "name": "python",
   "nbconvert_exporter": "python",
   "pygments_lexer": "ipython3",
   "version": "3.12.0"
  }
 },
 "nbformat": 4,
 "nbformat_minor": 2
}
