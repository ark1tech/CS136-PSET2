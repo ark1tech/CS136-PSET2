{
 "cells": [
  {
   "cell_type": "markdown",
   "metadata": {},
   "source": [
    "### Dependencies"
   ]
  },
  {
   "cell_type": "code",
   "execution_count": 1,
   "metadata": {},
   "outputs": [],
   "source": [
    "import math\n",
    "import numpy as np\n",
    "import random\n",
    "import pandas \n",
    "import plotly.express as px"
   ]
  },
  {
   "cell_type": "markdown",
   "metadata": {},
   "source": [
    "### Functions"
   ]
  },
  {
   "cell_type": "code",
   "execution_count": 100,
   "metadata": {},
   "outputs": [],
   "source": [
    "# return Gumbel's function value\n",
    "def gumbel(x):\n",
    "    return math.pow(math.e, x) * math.pow(math.e, -math.pow(math.e, x))\n",
    "\n",
    "# return an array tuple of randomly sampled datapoints\n",
    "def random_points(start, end, n_points):\n",
    "    x_datapoints = sorted([start+(end-start)*random.random() for _ in range(n_points)])\n",
    "    y_datapoints = list(map(gumbel, x_datapoints))\n",
    "    return np.array(x_datapoints), np.array(y_datapoints)\n",
    "\n",
    "# return an array tuple of equally distanced datapoints\n",
    "def equal_points(start, end, n_points):\n",
    "    x_datapoints = [float(_) for _ in range(start, end+1, 1)]\n",
    "    y_datapoints = list(map(gumbel, x_datapoints))\n",
    "    return np.array(x_datapoints), np.array(y_datapoints)\n",
    "\n",
    "# return an array tuple of datapoints given by the Chebyshev points\n",
    "def cheby_points(start, end, n_points):\n",
    "    x_datapoints = sorted([start+(end-start)*((-math.cos((x-1)*math.pi/n_points)+1)/2) for x in range(n_points)])\n",
    "    y_datapoints = list(map(gumbel, x_datapoints))  \n",
    "    return np.array(x_datapoints), np.array(y_datapoints)\n",
    "\n",
    "# return an array of coefficients using Newton-Rhapson's divided differences\n",
    "def nr_coeffts(x_datapoints, y_datapoints, n_points):\n",
    "    a = y_datapoints.copy()\n",
    "    for k in range(1, n_points):\n",
    "        a[k:n_points] = (a[k:n_points] - a[k-1])/(x_datapoints[k:n_points] - x_datapoints[k-1])\n",
    "    return a\n",
    "\n",
    "# return the function value given by the interpolated function via the Newton-Rhapson method\n",
    "def nr_evalfunct(coefficients, x_datapoints, x, degree):\n",
    "    value = coefficients[degree]\n",
    "    for k in range(1, degree+1):\n",
    "        value = coefficients[degree-k] + (x - x_datapoints[degree-k])*value\n",
    "    return value\n",
    "\n",
    "# return the lagrange ith term\n",
    "def lagrange_term(term, x_datapoints, i, x, degree):\n",
    "    for j in range(degree+1):\n",
    "        if j != i:\n",
    "            term *= (x - x_datapoints[j]) / (x_datapoints[i] - x_datapoints[j])\n",
    "            print(f\"numerator {x - x_datapoints[j]}; denominator {x_datapoints[i] - x_datapoints[j]}; term {term}\")\n",
    "    return term\n",
    "\n",
    "# return the function value given by the lagrange polynomial interpolation\n",
    "def lagrange_evalfunct(x_datapoints, y_datapoints, x, degree) -> float:\n",
    "    value = 0\n",
    "    for i in range(degree+1):\n",
    "        term = lagrange_term(y_datapoints[i], x_datapoints, i, x, degree)\n",
    "        print(f\"y dp: {y_datapoints[i]}\")\n",
    "        value += term\n",
    "    return value\n",
    "\n",
    "# return the reconstruction error of the newton rhapson interpolation\n",
    "def poly_recon_error_nr(x_datapoints, y_datapoints, step_size, start, end, n_points):\n",
    "    coeffts = nr_coeffts(x_datapoints, y_datapoints, n_points)\n",
    "    error = 0\n",
    "    for x in range(start*10, (end)*10+1, step_size):\n",
    "       error += abs(gumbel(x/10) - nr_evalfunct(coeffts, x_datapoints, x/10, n_points-1))\n",
    "    return error\n",
    "\n",
    "# return the reconstruction error of the lagrange interpolation\n",
    "def poly_recon_error_lagrange(x_datapoints, y_datapoints, step_size, start, end, n_points):\n",
    "    error = 0\n",
    "    for x in range(start*10, (end)*10+1, step_size):\n",
    "       print(f\"{lagrange_evalfunct(x_datapoints, y_datapoints, x/10, n_points-1)}\")\n",
    "    #    error += abs(gumbel(x/10) - lagrange_evalfunct(x_datapoints, y_datapoints, x/10, n_points-1))\n",
    "    #    print(\"done\", x, error)\n",
    "    return error\n",
    "\n",
    "# plot the polynomial interpolation\n",
    "def plot_interp(x_datapoints, y_datapoints, step_size, start, end, n_points):\n",
    "    coeffts = nr_coeffts(x_datapoints, y_datapoints, n_points)\n",
    "    xdata = []\n",
    "    ydata = []\n",
    "    for x in range(start*10, (end)*10+1, step_size):\n",
    "       xdata.append(x/10)\n",
    "       ydata.append(nr_evalfunct(coeffts, x_datapoints, x/10, n_points-1))\n",
    "    fig = px.scatter(x=xdata, y=ydata)\n",
    "    fig.show()\n",
    "\n",
    "def plot_interp_lag(x_datapoints, y_datapoints, step_size, start, end, n_points):\n",
    "    xdata = []\n",
    "    ydata = []\n",
    "    for x in range(start*10, (end)*10+1, step_size):\n",
    "       xdata.append(x/10)\n",
    "       ydata.append(lagrange_evalfunct(x_datapoints, y_datapoints, x/10, n_points-1))\n",
    "    fig = px.scatter(x=xdata, y=ydata)\n",
    "    fig.show()\n",
    "\n",
    "# plot the gumbel function\n",
    "def plot_gumbel(step_size, start, end):\n",
    "    xdata = []\n",
    "    ydata = []\n",
    "    for x in range(start*10, (end)*10+1, step_size):\n",
    "       xdata.append(x/10)\n",
    "       ydata.append(gumbel(x/10))\n",
    "    fig = px.scatter(x=xdata, y=ydata)\n",
    "    fig.show()\n",
    "\n",
    "def radial_recon_error(x_datapoints, y_datapoints, step_size, start, end):\n",
    "    ..."
   ]
  },
  {
   "cell_type": "code",
   "execution_count": 64,
   "metadata": {},
   "outputs": [
    {
     "data": {
      "application/vnd.plotly.v1+json": {
       "config": {
        "plotlyServerURL": "https://plotly.com"
       },
       "data": [
        {
         "hovertemplate": "x=%{x}<br>y=%{y}<extra></extra>",
         "legendgroup": "",
         "marker": {
          "color": "#636efa",
          "symbol": "circle"
         },
         "mode": "markers",
         "name": "",
         "orientation": "v",
         "showlegend": false,
         "type": "scatter",
         "x": [
          -1.6430979538703294,
          -1.464903860564239,
          -0.6652422443212496,
          -0.3558852926559455,
          0.3269523777016028,
          0.4255648495469906,
          1.0000972076634742,
          2.1519903064355708,
          2.4664962585287533
         ],
         "xaxis": "x",
         "y": [
          0.1593777696822465,
          0.18341497528418368,
          0.30746586461662617,
          0.34769199364418546,
          0.3465309791690182,
          0.33124738282131255,
          0.1793441180512955,
          0.0015805670488859278,
          0.00009009910935238212
         ],
         "yaxis": "y"
        }
       ],
       "layout": {
        "legend": {
         "tracegroupgap": 0
        },
        "margin": {
         "t": 60
        },
        "template": {
         "data": {
          "bar": [
           {
            "error_x": {
             "color": "#2a3f5f"
            },
            "error_y": {
             "color": "#2a3f5f"
            },
            "marker": {
             "line": {
              "color": "#E5ECF6",
              "width": 0.5
             },
             "pattern": {
              "fillmode": "overlay",
              "size": 10,
              "solidity": 0.2
             }
            },
            "type": "bar"
           }
          ],
          "barpolar": [
           {
            "marker": {
             "line": {
              "color": "#E5ECF6",
              "width": 0.5
             },
             "pattern": {
              "fillmode": "overlay",
              "size": 10,
              "solidity": 0.2
             }
            },
            "type": "barpolar"
           }
          ],
          "carpet": [
           {
            "aaxis": {
             "endlinecolor": "#2a3f5f",
             "gridcolor": "white",
             "linecolor": "white",
             "minorgridcolor": "white",
             "startlinecolor": "#2a3f5f"
            },
            "baxis": {
             "endlinecolor": "#2a3f5f",
             "gridcolor": "white",
             "linecolor": "white",
             "minorgridcolor": "white",
             "startlinecolor": "#2a3f5f"
            },
            "type": "carpet"
           }
          ],
          "choropleth": [
           {
            "colorbar": {
             "outlinewidth": 0,
             "ticks": ""
            },
            "type": "choropleth"
           }
          ],
          "contour": [
           {
            "colorbar": {
             "outlinewidth": 0,
             "ticks": ""
            },
            "colorscale": [
             [
              0,
              "#0d0887"
             ],
             [
              0.1111111111111111,
              "#46039f"
             ],
             [
              0.2222222222222222,
              "#7201a8"
             ],
             [
              0.3333333333333333,
              "#9c179e"
             ],
             [
              0.4444444444444444,
              "#bd3786"
             ],
             [
              0.5555555555555556,
              "#d8576b"
             ],
             [
              0.6666666666666666,
              "#ed7953"
             ],
             [
              0.7777777777777778,
              "#fb9f3a"
             ],
             [
              0.8888888888888888,
              "#fdca26"
             ],
             [
              1,
              "#f0f921"
             ]
            ],
            "type": "contour"
           }
          ],
          "contourcarpet": [
           {
            "colorbar": {
             "outlinewidth": 0,
             "ticks": ""
            },
            "type": "contourcarpet"
           }
          ],
          "heatmap": [
           {
            "colorbar": {
             "outlinewidth": 0,
             "ticks": ""
            },
            "colorscale": [
             [
              0,
              "#0d0887"
             ],
             [
              0.1111111111111111,
              "#46039f"
             ],
             [
              0.2222222222222222,
              "#7201a8"
             ],
             [
              0.3333333333333333,
              "#9c179e"
             ],
             [
              0.4444444444444444,
              "#bd3786"
             ],
             [
              0.5555555555555556,
              "#d8576b"
             ],
             [
              0.6666666666666666,
              "#ed7953"
             ],
             [
              0.7777777777777778,
              "#fb9f3a"
             ],
             [
              0.8888888888888888,
              "#fdca26"
             ],
             [
              1,
              "#f0f921"
             ]
            ],
            "type": "heatmap"
           }
          ],
          "heatmapgl": [
           {
            "colorbar": {
             "outlinewidth": 0,
             "ticks": ""
            },
            "colorscale": [
             [
              0,
              "#0d0887"
             ],
             [
              0.1111111111111111,
              "#46039f"
             ],
             [
              0.2222222222222222,
              "#7201a8"
             ],
             [
              0.3333333333333333,
              "#9c179e"
             ],
             [
              0.4444444444444444,
              "#bd3786"
             ],
             [
              0.5555555555555556,
              "#d8576b"
             ],
             [
              0.6666666666666666,
              "#ed7953"
             ],
             [
              0.7777777777777778,
              "#fb9f3a"
             ],
             [
              0.8888888888888888,
              "#fdca26"
             ],
             [
              1,
              "#f0f921"
             ]
            ],
            "type": "heatmapgl"
           }
          ],
          "histogram": [
           {
            "marker": {
             "pattern": {
              "fillmode": "overlay",
              "size": 10,
              "solidity": 0.2
             }
            },
            "type": "histogram"
           }
          ],
          "histogram2d": [
           {
            "colorbar": {
             "outlinewidth": 0,
             "ticks": ""
            },
            "colorscale": [
             [
              0,
              "#0d0887"
             ],
             [
              0.1111111111111111,
              "#46039f"
             ],
             [
              0.2222222222222222,
              "#7201a8"
             ],
             [
              0.3333333333333333,
              "#9c179e"
             ],
             [
              0.4444444444444444,
              "#bd3786"
             ],
             [
              0.5555555555555556,
              "#d8576b"
             ],
             [
              0.6666666666666666,
              "#ed7953"
             ],
             [
              0.7777777777777778,
              "#fb9f3a"
             ],
             [
              0.8888888888888888,
              "#fdca26"
             ],
             [
              1,
              "#f0f921"
             ]
            ],
            "type": "histogram2d"
           }
          ],
          "histogram2dcontour": [
           {
            "colorbar": {
             "outlinewidth": 0,
             "ticks": ""
            },
            "colorscale": [
             [
              0,
              "#0d0887"
             ],
             [
              0.1111111111111111,
              "#46039f"
             ],
             [
              0.2222222222222222,
              "#7201a8"
             ],
             [
              0.3333333333333333,
              "#9c179e"
             ],
             [
              0.4444444444444444,
              "#bd3786"
             ],
             [
              0.5555555555555556,
              "#d8576b"
             ],
             [
              0.6666666666666666,
              "#ed7953"
             ],
             [
              0.7777777777777778,
              "#fb9f3a"
             ],
             [
              0.8888888888888888,
              "#fdca26"
             ],
             [
              1,
              "#f0f921"
             ]
            ],
            "type": "histogram2dcontour"
           }
          ],
          "mesh3d": [
           {
            "colorbar": {
             "outlinewidth": 0,
             "ticks": ""
            },
            "type": "mesh3d"
           }
          ],
          "parcoords": [
           {
            "line": {
             "colorbar": {
              "outlinewidth": 0,
              "ticks": ""
             }
            },
            "type": "parcoords"
           }
          ],
          "pie": [
           {
            "automargin": true,
            "type": "pie"
           }
          ],
          "scatter": [
           {
            "fillpattern": {
             "fillmode": "overlay",
             "size": 10,
             "solidity": 0.2
            },
            "type": "scatter"
           }
          ],
          "scatter3d": [
           {
            "line": {
             "colorbar": {
              "outlinewidth": 0,
              "ticks": ""
             }
            },
            "marker": {
             "colorbar": {
              "outlinewidth": 0,
              "ticks": ""
             }
            },
            "type": "scatter3d"
           }
          ],
          "scattercarpet": [
           {
            "marker": {
             "colorbar": {
              "outlinewidth": 0,
              "ticks": ""
             }
            },
            "type": "scattercarpet"
           }
          ],
          "scattergeo": [
           {
            "marker": {
             "colorbar": {
              "outlinewidth": 0,
              "ticks": ""
             }
            },
            "type": "scattergeo"
           }
          ],
          "scattergl": [
           {
            "marker": {
             "colorbar": {
              "outlinewidth": 0,
              "ticks": ""
             }
            },
            "type": "scattergl"
           }
          ],
          "scattermapbox": [
           {
            "marker": {
             "colorbar": {
              "outlinewidth": 0,
              "ticks": ""
             }
            },
            "type": "scattermapbox"
           }
          ],
          "scatterpolar": [
           {
            "marker": {
             "colorbar": {
              "outlinewidth": 0,
              "ticks": ""
             }
            },
            "type": "scatterpolar"
           }
          ],
          "scatterpolargl": [
           {
            "marker": {
             "colorbar": {
              "outlinewidth": 0,
              "ticks": ""
             }
            },
            "type": "scatterpolargl"
           }
          ],
          "scatterternary": [
           {
            "marker": {
             "colorbar": {
              "outlinewidth": 0,
              "ticks": ""
             }
            },
            "type": "scatterternary"
           }
          ],
          "surface": [
           {
            "colorbar": {
             "outlinewidth": 0,
             "ticks": ""
            },
            "colorscale": [
             [
              0,
              "#0d0887"
             ],
             [
              0.1111111111111111,
              "#46039f"
             ],
             [
              0.2222222222222222,
              "#7201a8"
             ],
             [
              0.3333333333333333,
              "#9c179e"
             ],
             [
              0.4444444444444444,
              "#bd3786"
             ],
             [
              0.5555555555555556,
              "#d8576b"
             ],
             [
              0.6666666666666666,
              "#ed7953"
             ],
             [
              0.7777777777777778,
              "#fb9f3a"
             ],
             [
              0.8888888888888888,
              "#fdca26"
             ],
             [
              1,
              "#f0f921"
             ]
            ],
            "type": "surface"
           }
          ],
          "table": [
           {
            "cells": {
             "fill": {
              "color": "#EBF0F8"
             },
             "line": {
              "color": "white"
             }
            },
            "header": {
             "fill": {
              "color": "#C8D4E3"
             },
             "line": {
              "color": "white"
             }
            },
            "type": "table"
           }
          ]
         },
         "layout": {
          "annotationdefaults": {
           "arrowcolor": "#2a3f5f",
           "arrowhead": 0,
           "arrowwidth": 1
          },
          "autotypenumbers": "strict",
          "coloraxis": {
           "colorbar": {
            "outlinewidth": 0,
            "ticks": ""
           }
          },
          "colorscale": {
           "diverging": [
            [
             0,
             "#8e0152"
            ],
            [
             0.1,
             "#c51b7d"
            ],
            [
             0.2,
             "#de77ae"
            ],
            [
             0.3,
             "#f1b6da"
            ],
            [
             0.4,
             "#fde0ef"
            ],
            [
             0.5,
             "#f7f7f7"
            ],
            [
             0.6,
             "#e6f5d0"
            ],
            [
             0.7,
             "#b8e186"
            ],
            [
             0.8,
             "#7fbc41"
            ],
            [
             0.9,
             "#4d9221"
            ],
            [
             1,
             "#276419"
            ]
           ],
           "sequential": [
            [
             0,
             "#0d0887"
            ],
            [
             0.1111111111111111,
             "#46039f"
            ],
            [
             0.2222222222222222,
             "#7201a8"
            ],
            [
             0.3333333333333333,
             "#9c179e"
            ],
            [
             0.4444444444444444,
             "#bd3786"
            ],
            [
             0.5555555555555556,
             "#d8576b"
            ],
            [
             0.6666666666666666,
             "#ed7953"
            ],
            [
             0.7777777777777778,
             "#fb9f3a"
            ],
            [
             0.8888888888888888,
             "#fdca26"
            ],
            [
             1,
             "#f0f921"
            ]
           ],
           "sequentialminus": [
            [
             0,
             "#0d0887"
            ],
            [
             0.1111111111111111,
             "#46039f"
            ],
            [
             0.2222222222222222,
             "#7201a8"
            ],
            [
             0.3333333333333333,
             "#9c179e"
            ],
            [
             0.4444444444444444,
             "#bd3786"
            ],
            [
             0.5555555555555556,
             "#d8576b"
            ],
            [
             0.6666666666666666,
             "#ed7953"
            ],
            [
             0.7777777777777778,
             "#fb9f3a"
            ],
            [
             0.8888888888888888,
             "#fdca26"
            ],
            [
             1,
             "#f0f921"
            ]
           ]
          },
          "colorway": [
           "#636efa",
           "#EF553B",
           "#00cc96",
           "#ab63fa",
           "#FFA15A",
           "#19d3f3",
           "#FF6692",
           "#B6E880",
           "#FF97FF",
           "#FECB52"
          ],
          "font": {
           "color": "#2a3f5f"
          },
          "geo": {
           "bgcolor": "white",
           "lakecolor": "white",
           "landcolor": "#E5ECF6",
           "showlakes": true,
           "showland": true,
           "subunitcolor": "white"
          },
          "hoverlabel": {
           "align": "left"
          },
          "hovermode": "closest",
          "mapbox": {
           "style": "light"
          },
          "paper_bgcolor": "white",
          "plot_bgcolor": "#E5ECF6",
          "polar": {
           "angularaxis": {
            "gridcolor": "white",
            "linecolor": "white",
            "ticks": ""
           },
           "bgcolor": "#E5ECF6",
           "radialaxis": {
            "gridcolor": "white",
            "linecolor": "white",
            "ticks": ""
           }
          },
          "scene": {
           "xaxis": {
            "backgroundcolor": "#E5ECF6",
            "gridcolor": "white",
            "gridwidth": 2,
            "linecolor": "white",
            "showbackground": true,
            "ticks": "",
            "zerolinecolor": "white"
           },
           "yaxis": {
            "backgroundcolor": "#E5ECF6",
            "gridcolor": "white",
            "gridwidth": 2,
            "linecolor": "white",
            "showbackground": true,
            "ticks": "",
            "zerolinecolor": "white"
           },
           "zaxis": {
            "backgroundcolor": "#E5ECF6",
            "gridcolor": "white",
            "gridwidth": 2,
            "linecolor": "white",
            "showbackground": true,
            "ticks": "",
            "zerolinecolor": "white"
           }
          },
          "shapedefaults": {
           "line": {
            "color": "#2a3f5f"
           }
          },
          "ternary": {
           "aaxis": {
            "gridcolor": "white",
            "linecolor": "white",
            "ticks": ""
           },
           "baxis": {
            "gridcolor": "white",
            "linecolor": "white",
            "ticks": ""
           },
           "bgcolor": "#E5ECF6",
           "caxis": {
            "gridcolor": "white",
            "linecolor": "white",
            "ticks": ""
           }
          },
          "title": {
           "x": 0.05
          },
          "xaxis": {
           "automargin": true,
           "gridcolor": "white",
           "linecolor": "white",
           "ticks": "",
           "title": {
            "standoff": 15
           },
           "zerolinecolor": "white",
           "zerolinewidth": 2
          },
          "yaxis": {
           "automargin": true,
           "gridcolor": "white",
           "linecolor": "white",
           "ticks": "",
           "title": {
            "standoff": 15
           },
           "zerolinecolor": "white",
           "zerolinewidth": 2
          }
         }
        },
        "xaxis": {
         "anchor": "y",
         "domain": [
          0,
          1
         ],
         "title": {
          "text": "x"
         }
        },
        "yaxis": {
         "anchor": "x",
         "domain": [
          0,
          1
         ],
         "title": {
          "text": "y"
         }
        }
       }
      }
     },
     "metadata": {},
     "output_type": "display_data"
    },
    {
     "data": {
      "application/vnd.plotly.v1+json": {
       "config": {
        "plotlyServerURL": "https://plotly.com"
       },
       "data": [
        {
         "hovertemplate": "x=%{x}<br>y=%{y}<extra></extra>",
         "legendgroup": "",
         "marker": {
          "color": "#636efa",
          "symbol": "circle"
         },
         "mode": "markers",
         "name": "",
         "orientation": "v",
         "showlegend": false,
         "type": "scatter",
         "x": [
          -5,
          -4,
          -3,
          -2,
          -1,
          0,
          1,
          2,
          3
         ],
         "xaxis": "x",
         "y": [
          0.006692699677535516,
          0.01798322969671365,
          0.04736900967790793,
          0.11820495159314316,
          0.25464638004358253,
          0.36787944117144233,
          0.17937407873401723,
          0.0045662814201279205,
          3.800542504044374e-8
         ],
         "yaxis": "y"
        }
       ],
       "layout": {
        "legend": {
         "tracegroupgap": 0
        },
        "margin": {
         "t": 60
        },
        "template": {
         "data": {
          "bar": [
           {
            "error_x": {
             "color": "#2a3f5f"
            },
            "error_y": {
             "color": "#2a3f5f"
            },
            "marker": {
             "line": {
              "color": "#E5ECF6",
              "width": 0.5
             },
             "pattern": {
              "fillmode": "overlay",
              "size": 10,
              "solidity": 0.2
             }
            },
            "type": "bar"
           }
          ],
          "barpolar": [
           {
            "marker": {
             "line": {
              "color": "#E5ECF6",
              "width": 0.5
             },
             "pattern": {
              "fillmode": "overlay",
              "size": 10,
              "solidity": 0.2
             }
            },
            "type": "barpolar"
           }
          ],
          "carpet": [
           {
            "aaxis": {
             "endlinecolor": "#2a3f5f",
             "gridcolor": "white",
             "linecolor": "white",
             "minorgridcolor": "white",
             "startlinecolor": "#2a3f5f"
            },
            "baxis": {
             "endlinecolor": "#2a3f5f",
             "gridcolor": "white",
             "linecolor": "white",
             "minorgridcolor": "white",
             "startlinecolor": "#2a3f5f"
            },
            "type": "carpet"
           }
          ],
          "choropleth": [
           {
            "colorbar": {
             "outlinewidth": 0,
             "ticks": ""
            },
            "type": "choropleth"
           }
          ],
          "contour": [
           {
            "colorbar": {
             "outlinewidth": 0,
             "ticks": ""
            },
            "colorscale": [
             [
              0,
              "#0d0887"
             ],
             [
              0.1111111111111111,
              "#46039f"
             ],
             [
              0.2222222222222222,
              "#7201a8"
             ],
             [
              0.3333333333333333,
              "#9c179e"
             ],
             [
              0.4444444444444444,
              "#bd3786"
             ],
             [
              0.5555555555555556,
              "#d8576b"
             ],
             [
              0.6666666666666666,
              "#ed7953"
             ],
             [
              0.7777777777777778,
              "#fb9f3a"
             ],
             [
              0.8888888888888888,
              "#fdca26"
             ],
             [
              1,
              "#f0f921"
             ]
            ],
            "type": "contour"
           }
          ],
          "contourcarpet": [
           {
            "colorbar": {
             "outlinewidth": 0,
             "ticks": ""
            },
            "type": "contourcarpet"
           }
          ],
          "heatmap": [
           {
            "colorbar": {
             "outlinewidth": 0,
             "ticks": ""
            },
            "colorscale": [
             [
              0,
              "#0d0887"
             ],
             [
              0.1111111111111111,
              "#46039f"
             ],
             [
              0.2222222222222222,
              "#7201a8"
             ],
             [
              0.3333333333333333,
              "#9c179e"
             ],
             [
              0.4444444444444444,
              "#bd3786"
             ],
             [
              0.5555555555555556,
              "#d8576b"
             ],
             [
              0.6666666666666666,
              "#ed7953"
             ],
             [
              0.7777777777777778,
              "#fb9f3a"
             ],
             [
              0.8888888888888888,
              "#fdca26"
             ],
             [
              1,
              "#f0f921"
             ]
            ],
            "type": "heatmap"
           }
          ],
          "heatmapgl": [
           {
            "colorbar": {
             "outlinewidth": 0,
             "ticks": ""
            },
            "colorscale": [
             [
              0,
              "#0d0887"
             ],
             [
              0.1111111111111111,
              "#46039f"
             ],
             [
              0.2222222222222222,
              "#7201a8"
             ],
             [
              0.3333333333333333,
              "#9c179e"
             ],
             [
              0.4444444444444444,
              "#bd3786"
             ],
             [
              0.5555555555555556,
              "#d8576b"
             ],
             [
              0.6666666666666666,
              "#ed7953"
             ],
             [
              0.7777777777777778,
              "#fb9f3a"
             ],
             [
              0.8888888888888888,
              "#fdca26"
             ],
             [
              1,
              "#f0f921"
             ]
            ],
            "type": "heatmapgl"
           }
          ],
          "histogram": [
           {
            "marker": {
             "pattern": {
              "fillmode": "overlay",
              "size": 10,
              "solidity": 0.2
             }
            },
            "type": "histogram"
           }
          ],
          "histogram2d": [
           {
            "colorbar": {
             "outlinewidth": 0,
             "ticks": ""
            },
            "colorscale": [
             [
              0,
              "#0d0887"
             ],
             [
              0.1111111111111111,
              "#46039f"
             ],
             [
              0.2222222222222222,
              "#7201a8"
             ],
             [
              0.3333333333333333,
              "#9c179e"
             ],
             [
              0.4444444444444444,
              "#bd3786"
             ],
             [
              0.5555555555555556,
              "#d8576b"
             ],
             [
              0.6666666666666666,
              "#ed7953"
             ],
             [
              0.7777777777777778,
              "#fb9f3a"
             ],
             [
              0.8888888888888888,
              "#fdca26"
             ],
             [
              1,
              "#f0f921"
             ]
            ],
            "type": "histogram2d"
           }
          ],
          "histogram2dcontour": [
           {
            "colorbar": {
             "outlinewidth": 0,
             "ticks": ""
            },
            "colorscale": [
             [
              0,
              "#0d0887"
             ],
             [
              0.1111111111111111,
              "#46039f"
             ],
             [
              0.2222222222222222,
              "#7201a8"
             ],
             [
              0.3333333333333333,
              "#9c179e"
             ],
             [
              0.4444444444444444,
              "#bd3786"
             ],
             [
              0.5555555555555556,
              "#d8576b"
             ],
             [
              0.6666666666666666,
              "#ed7953"
             ],
             [
              0.7777777777777778,
              "#fb9f3a"
             ],
             [
              0.8888888888888888,
              "#fdca26"
             ],
             [
              1,
              "#f0f921"
             ]
            ],
            "type": "histogram2dcontour"
           }
          ],
          "mesh3d": [
           {
            "colorbar": {
             "outlinewidth": 0,
             "ticks": ""
            },
            "type": "mesh3d"
           }
          ],
          "parcoords": [
           {
            "line": {
             "colorbar": {
              "outlinewidth": 0,
              "ticks": ""
             }
            },
            "type": "parcoords"
           }
          ],
          "pie": [
           {
            "automargin": true,
            "type": "pie"
           }
          ],
          "scatter": [
           {
            "fillpattern": {
             "fillmode": "overlay",
             "size": 10,
             "solidity": 0.2
            },
            "type": "scatter"
           }
          ],
          "scatter3d": [
           {
            "line": {
             "colorbar": {
              "outlinewidth": 0,
              "ticks": ""
             }
            },
            "marker": {
             "colorbar": {
              "outlinewidth": 0,
              "ticks": ""
             }
            },
            "type": "scatter3d"
           }
          ],
          "scattercarpet": [
           {
            "marker": {
             "colorbar": {
              "outlinewidth": 0,
              "ticks": ""
             }
            },
            "type": "scattercarpet"
           }
          ],
          "scattergeo": [
           {
            "marker": {
             "colorbar": {
              "outlinewidth": 0,
              "ticks": ""
             }
            },
            "type": "scattergeo"
           }
          ],
          "scattergl": [
           {
            "marker": {
             "colorbar": {
              "outlinewidth": 0,
              "ticks": ""
             }
            },
            "type": "scattergl"
           }
          ],
          "scattermapbox": [
           {
            "marker": {
             "colorbar": {
              "outlinewidth": 0,
              "ticks": ""
             }
            },
            "type": "scattermapbox"
           }
          ],
          "scatterpolar": [
           {
            "marker": {
             "colorbar": {
              "outlinewidth": 0,
              "ticks": ""
             }
            },
            "type": "scatterpolar"
           }
          ],
          "scatterpolargl": [
           {
            "marker": {
             "colorbar": {
              "outlinewidth": 0,
              "ticks": ""
             }
            },
            "type": "scatterpolargl"
           }
          ],
          "scatterternary": [
           {
            "marker": {
             "colorbar": {
              "outlinewidth": 0,
              "ticks": ""
             }
            },
            "type": "scatterternary"
           }
          ],
          "surface": [
           {
            "colorbar": {
             "outlinewidth": 0,
             "ticks": ""
            },
            "colorscale": [
             [
              0,
              "#0d0887"
             ],
             [
              0.1111111111111111,
              "#46039f"
             ],
             [
              0.2222222222222222,
              "#7201a8"
             ],
             [
              0.3333333333333333,
              "#9c179e"
             ],
             [
              0.4444444444444444,
              "#bd3786"
             ],
             [
              0.5555555555555556,
              "#d8576b"
             ],
             [
              0.6666666666666666,
              "#ed7953"
             ],
             [
              0.7777777777777778,
              "#fb9f3a"
             ],
             [
              0.8888888888888888,
              "#fdca26"
             ],
             [
              1,
              "#f0f921"
             ]
            ],
            "type": "surface"
           }
          ],
          "table": [
           {
            "cells": {
             "fill": {
              "color": "#EBF0F8"
             },
             "line": {
              "color": "white"
             }
            },
            "header": {
             "fill": {
              "color": "#C8D4E3"
             },
             "line": {
              "color": "white"
             }
            },
            "type": "table"
           }
          ]
         },
         "layout": {
          "annotationdefaults": {
           "arrowcolor": "#2a3f5f",
           "arrowhead": 0,
           "arrowwidth": 1
          },
          "autotypenumbers": "strict",
          "coloraxis": {
           "colorbar": {
            "outlinewidth": 0,
            "ticks": ""
           }
          },
          "colorscale": {
           "diverging": [
            [
             0,
             "#8e0152"
            ],
            [
             0.1,
             "#c51b7d"
            ],
            [
             0.2,
             "#de77ae"
            ],
            [
             0.3,
             "#f1b6da"
            ],
            [
             0.4,
             "#fde0ef"
            ],
            [
             0.5,
             "#f7f7f7"
            ],
            [
             0.6,
             "#e6f5d0"
            ],
            [
             0.7,
             "#b8e186"
            ],
            [
             0.8,
             "#7fbc41"
            ],
            [
             0.9,
             "#4d9221"
            ],
            [
             1,
             "#276419"
            ]
           ],
           "sequential": [
            [
             0,
             "#0d0887"
            ],
            [
             0.1111111111111111,
             "#46039f"
            ],
            [
             0.2222222222222222,
             "#7201a8"
            ],
            [
             0.3333333333333333,
             "#9c179e"
            ],
            [
             0.4444444444444444,
             "#bd3786"
            ],
            [
             0.5555555555555556,
             "#d8576b"
            ],
            [
             0.6666666666666666,
             "#ed7953"
            ],
            [
             0.7777777777777778,
             "#fb9f3a"
            ],
            [
             0.8888888888888888,
             "#fdca26"
            ],
            [
             1,
             "#f0f921"
            ]
           ],
           "sequentialminus": [
            [
             0,
             "#0d0887"
            ],
            [
             0.1111111111111111,
             "#46039f"
            ],
            [
             0.2222222222222222,
             "#7201a8"
            ],
            [
             0.3333333333333333,
             "#9c179e"
            ],
            [
             0.4444444444444444,
             "#bd3786"
            ],
            [
             0.5555555555555556,
             "#d8576b"
            ],
            [
             0.6666666666666666,
             "#ed7953"
            ],
            [
             0.7777777777777778,
             "#fb9f3a"
            ],
            [
             0.8888888888888888,
             "#fdca26"
            ],
            [
             1,
             "#f0f921"
            ]
           ]
          },
          "colorway": [
           "#636efa",
           "#EF553B",
           "#00cc96",
           "#ab63fa",
           "#FFA15A",
           "#19d3f3",
           "#FF6692",
           "#B6E880",
           "#FF97FF",
           "#FECB52"
          ],
          "font": {
           "color": "#2a3f5f"
          },
          "geo": {
           "bgcolor": "white",
           "lakecolor": "white",
           "landcolor": "#E5ECF6",
           "showlakes": true,
           "showland": true,
           "subunitcolor": "white"
          },
          "hoverlabel": {
           "align": "left"
          },
          "hovermode": "closest",
          "mapbox": {
           "style": "light"
          },
          "paper_bgcolor": "white",
          "plot_bgcolor": "#E5ECF6",
          "polar": {
           "angularaxis": {
            "gridcolor": "white",
            "linecolor": "white",
            "ticks": ""
           },
           "bgcolor": "#E5ECF6",
           "radialaxis": {
            "gridcolor": "white",
            "linecolor": "white",
            "ticks": ""
           }
          },
          "scene": {
           "xaxis": {
            "backgroundcolor": "#E5ECF6",
            "gridcolor": "white",
            "gridwidth": 2,
            "linecolor": "white",
            "showbackground": true,
            "ticks": "",
            "zerolinecolor": "white"
           },
           "yaxis": {
            "backgroundcolor": "#E5ECF6",
            "gridcolor": "white",
            "gridwidth": 2,
            "linecolor": "white",
            "showbackground": true,
            "ticks": "",
            "zerolinecolor": "white"
           },
           "zaxis": {
            "backgroundcolor": "#E5ECF6",
            "gridcolor": "white",
            "gridwidth": 2,
            "linecolor": "white",
            "showbackground": true,
            "ticks": "",
            "zerolinecolor": "white"
           }
          },
          "shapedefaults": {
           "line": {
            "color": "#2a3f5f"
           }
          },
          "ternary": {
           "aaxis": {
            "gridcolor": "white",
            "linecolor": "white",
            "ticks": ""
           },
           "baxis": {
            "gridcolor": "white",
            "linecolor": "white",
            "ticks": ""
           },
           "bgcolor": "#E5ECF6",
           "caxis": {
            "gridcolor": "white",
            "linecolor": "white",
            "ticks": ""
           }
          },
          "title": {
           "x": 0.05
          },
          "xaxis": {
           "automargin": true,
           "gridcolor": "white",
           "linecolor": "white",
           "ticks": "",
           "title": {
            "standoff": 15
           },
           "zerolinecolor": "white",
           "zerolinewidth": 2
          },
          "yaxis": {
           "automargin": true,
           "gridcolor": "white",
           "linecolor": "white",
           "ticks": "",
           "title": {
            "standoff": 15
           },
           "zerolinecolor": "white",
           "zerolinewidth": 2
          }
         }
        },
        "xaxis": {
         "anchor": "y",
         "domain": [
          0,
          1
         ],
         "title": {
          "text": "x"
         }
        },
        "yaxis": {
         "anchor": "x",
         "domain": [
          0,
          1
         ],
         "title": {
          "text": "y"
         }
        }
       }
      }
     },
     "metadata": {},
     "output_type": "display_data"
    },
    {
     "data": {
      "application/vnd.plotly.v1+json": {
       "config": {
        "plotlyServerURL": "https://plotly.com"
       },
       "data": [
        {
         "hovertemplate": "x=%{x}<br>y=%{y}<extra></extra>",
         "legendgroup": "",
         "marker": {
          "color": "#636efa",
          "symbol": "circle"
         },
         "mode": "markers",
         "name": "",
         "orientation": "v",
         "showlegend": false,
         "type": "scatter",
         "x": [
          -2.5,
          -2.2587704831436337,
          -2.2587704831436337,
          -1.564177772475912,
          -0.5000000000000004,
          0.8054072893322783,
          2.194592710667721,
          3.499999999999999,
          4.564177772475912
         ],
         "xaxis": "x",
         "y": [
          0.07561617991742652,
          0.09411391699870213,
          0.09411391699870213,
          0.1697484278298948,
          0.330704298890418,
          0.2387829311408037,
          0.0011342863047272035,
          1.3745882754335996e-13,
          1.981670788578653e-40
         ],
         "yaxis": "y"
        }
       ],
       "layout": {
        "legend": {
         "tracegroupgap": 0
        },
        "margin": {
         "t": 60
        },
        "template": {
         "data": {
          "bar": [
           {
            "error_x": {
             "color": "#2a3f5f"
            },
            "error_y": {
             "color": "#2a3f5f"
            },
            "marker": {
             "line": {
              "color": "#E5ECF6",
              "width": 0.5
             },
             "pattern": {
              "fillmode": "overlay",
              "size": 10,
              "solidity": 0.2
             }
            },
            "type": "bar"
           }
          ],
          "barpolar": [
           {
            "marker": {
             "line": {
              "color": "#E5ECF6",
              "width": 0.5
             },
             "pattern": {
              "fillmode": "overlay",
              "size": 10,
              "solidity": 0.2
             }
            },
            "type": "barpolar"
           }
          ],
          "carpet": [
           {
            "aaxis": {
             "endlinecolor": "#2a3f5f",
             "gridcolor": "white",
             "linecolor": "white",
             "minorgridcolor": "white",
             "startlinecolor": "#2a3f5f"
            },
            "baxis": {
             "endlinecolor": "#2a3f5f",
             "gridcolor": "white",
             "linecolor": "white",
             "minorgridcolor": "white",
             "startlinecolor": "#2a3f5f"
            },
            "type": "carpet"
           }
          ],
          "choropleth": [
           {
            "colorbar": {
             "outlinewidth": 0,
             "ticks": ""
            },
            "type": "choropleth"
           }
          ],
          "contour": [
           {
            "colorbar": {
             "outlinewidth": 0,
             "ticks": ""
            },
            "colorscale": [
             [
              0,
              "#0d0887"
             ],
             [
              0.1111111111111111,
              "#46039f"
             ],
             [
              0.2222222222222222,
              "#7201a8"
             ],
             [
              0.3333333333333333,
              "#9c179e"
             ],
             [
              0.4444444444444444,
              "#bd3786"
             ],
             [
              0.5555555555555556,
              "#d8576b"
             ],
             [
              0.6666666666666666,
              "#ed7953"
             ],
             [
              0.7777777777777778,
              "#fb9f3a"
             ],
             [
              0.8888888888888888,
              "#fdca26"
             ],
             [
              1,
              "#f0f921"
             ]
            ],
            "type": "contour"
           }
          ],
          "contourcarpet": [
           {
            "colorbar": {
             "outlinewidth": 0,
             "ticks": ""
            },
            "type": "contourcarpet"
           }
          ],
          "heatmap": [
           {
            "colorbar": {
             "outlinewidth": 0,
             "ticks": ""
            },
            "colorscale": [
             [
              0,
              "#0d0887"
             ],
             [
              0.1111111111111111,
              "#46039f"
             ],
             [
              0.2222222222222222,
              "#7201a8"
             ],
             [
              0.3333333333333333,
              "#9c179e"
             ],
             [
              0.4444444444444444,
              "#bd3786"
             ],
             [
              0.5555555555555556,
              "#d8576b"
             ],
             [
              0.6666666666666666,
              "#ed7953"
             ],
             [
              0.7777777777777778,
              "#fb9f3a"
             ],
             [
              0.8888888888888888,
              "#fdca26"
             ],
             [
              1,
              "#f0f921"
             ]
            ],
            "type": "heatmap"
           }
          ],
          "heatmapgl": [
           {
            "colorbar": {
             "outlinewidth": 0,
             "ticks": ""
            },
            "colorscale": [
             [
              0,
              "#0d0887"
             ],
             [
              0.1111111111111111,
              "#46039f"
             ],
             [
              0.2222222222222222,
              "#7201a8"
             ],
             [
              0.3333333333333333,
              "#9c179e"
             ],
             [
              0.4444444444444444,
              "#bd3786"
             ],
             [
              0.5555555555555556,
              "#d8576b"
             ],
             [
              0.6666666666666666,
              "#ed7953"
             ],
             [
              0.7777777777777778,
              "#fb9f3a"
             ],
             [
              0.8888888888888888,
              "#fdca26"
             ],
             [
              1,
              "#f0f921"
             ]
            ],
            "type": "heatmapgl"
           }
          ],
          "histogram": [
           {
            "marker": {
             "pattern": {
              "fillmode": "overlay",
              "size": 10,
              "solidity": 0.2
             }
            },
            "type": "histogram"
           }
          ],
          "histogram2d": [
           {
            "colorbar": {
             "outlinewidth": 0,
             "ticks": ""
            },
            "colorscale": [
             [
              0,
              "#0d0887"
             ],
             [
              0.1111111111111111,
              "#46039f"
             ],
             [
              0.2222222222222222,
              "#7201a8"
             ],
             [
              0.3333333333333333,
              "#9c179e"
             ],
             [
              0.4444444444444444,
              "#bd3786"
             ],
             [
              0.5555555555555556,
              "#d8576b"
             ],
             [
              0.6666666666666666,
              "#ed7953"
             ],
             [
              0.7777777777777778,
              "#fb9f3a"
             ],
             [
              0.8888888888888888,
              "#fdca26"
             ],
             [
              1,
              "#f0f921"
             ]
            ],
            "type": "histogram2d"
           }
          ],
          "histogram2dcontour": [
           {
            "colorbar": {
             "outlinewidth": 0,
             "ticks": ""
            },
            "colorscale": [
             [
              0,
              "#0d0887"
             ],
             [
              0.1111111111111111,
              "#46039f"
             ],
             [
              0.2222222222222222,
              "#7201a8"
             ],
             [
              0.3333333333333333,
              "#9c179e"
             ],
             [
              0.4444444444444444,
              "#bd3786"
             ],
             [
              0.5555555555555556,
              "#d8576b"
             ],
             [
              0.6666666666666666,
              "#ed7953"
             ],
             [
              0.7777777777777778,
              "#fb9f3a"
             ],
             [
              0.8888888888888888,
              "#fdca26"
             ],
             [
              1,
              "#f0f921"
             ]
            ],
            "type": "histogram2dcontour"
           }
          ],
          "mesh3d": [
           {
            "colorbar": {
             "outlinewidth": 0,
             "ticks": ""
            },
            "type": "mesh3d"
           }
          ],
          "parcoords": [
           {
            "line": {
             "colorbar": {
              "outlinewidth": 0,
              "ticks": ""
             }
            },
            "type": "parcoords"
           }
          ],
          "pie": [
           {
            "automargin": true,
            "type": "pie"
           }
          ],
          "scatter": [
           {
            "fillpattern": {
             "fillmode": "overlay",
             "size": 10,
             "solidity": 0.2
            },
            "type": "scatter"
           }
          ],
          "scatter3d": [
           {
            "line": {
             "colorbar": {
              "outlinewidth": 0,
              "ticks": ""
             }
            },
            "marker": {
             "colorbar": {
              "outlinewidth": 0,
              "ticks": ""
             }
            },
            "type": "scatter3d"
           }
          ],
          "scattercarpet": [
           {
            "marker": {
             "colorbar": {
              "outlinewidth": 0,
              "ticks": ""
             }
            },
            "type": "scattercarpet"
           }
          ],
          "scattergeo": [
           {
            "marker": {
             "colorbar": {
              "outlinewidth": 0,
              "ticks": ""
             }
            },
            "type": "scattergeo"
           }
          ],
          "scattergl": [
           {
            "marker": {
             "colorbar": {
              "outlinewidth": 0,
              "ticks": ""
             }
            },
            "type": "scattergl"
           }
          ],
          "scattermapbox": [
           {
            "marker": {
             "colorbar": {
              "outlinewidth": 0,
              "ticks": ""
             }
            },
            "type": "scattermapbox"
           }
          ],
          "scatterpolar": [
           {
            "marker": {
             "colorbar": {
              "outlinewidth": 0,
              "ticks": ""
             }
            },
            "type": "scatterpolar"
           }
          ],
          "scatterpolargl": [
           {
            "marker": {
             "colorbar": {
              "outlinewidth": 0,
              "ticks": ""
             }
            },
            "type": "scatterpolargl"
           }
          ],
          "scatterternary": [
           {
            "marker": {
             "colorbar": {
              "outlinewidth": 0,
              "ticks": ""
             }
            },
            "type": "scatterternary"
           }
          ],
          "surface": [
           {
            "colorbar": {
             "outlinewidth": 0,
             "ticks": ""
            },
            "colorscale": [
             [
              0,
              "#0d0887"
             ],
             [
              0.1111111111111111,
              "#46039f"
             ],
             [
              0.2222222222222222,
              "#7201a8"
             ],
             [
              0.3333333333333333,
              "#9c179e"
             ],
             [
              0.4444444444444444,
              "#bd3786"
             ],
             [
              0.5555555555555556,
              "#d8576b"
             ],
             [
              0.6666666666666666,
              "#ed7953"
             ],
             [
              0.7777777777777778,
              "#fb9f3a"
             ],
             [
              0.8888888888888888,
              "#fdca26"
             ],
             [
              1,
              "#f0f921"
             ]
            ],
            "type": "surface"
           }
          ],
          "table": [
           {
            "cells": {
             "fill": {
              "color": "#EBF0F8"
             },
             "line": {
              "color": "white"
             }
            },
            "header": {
             "fill": {
              "color": "#C8D4E3"
             },
             "line": {
              "color": "white"
             }
            },
            "type": "table"
           }
          ]
         },
         "layout": {
          "annotationdefaults": {
           "arrowcolor": "#2a3f5f",
           "arrowhead": 0,
           "arrowwidth": 1
          },
          "autotypenumbers": "strict",
          "coloraxis": {
           "colorbar": {
            "outlinewidth": 0,
            "ticks": ""
           }
          },
          "colorscale": {
           "diverging": [
            [
             0,
             "#8e0152"
            ],
            [
             0.1,
             "#c51b7d"
            ],
            [
             0.2,
             "#de77ae"
            ],
            [
             0.3,
             "#f1b6da"
            ],
            [
             0.4,
             "#fde0ef"
            ],
            [
             0.5,
             "#f7f7f7"
            ],
            [
             0.6,
             "#e6f5d0"
            ],
            [
             0.7,
             "#b8e186"
            ],
            [
             0.8,
             "#7fbc41"
            ],
            [
             0.9,
             "#4d9221"
            ],
            [
             1,
             "#276419"
            ]
           ],
           "sequential": [
            [
             0,
             "#0d0887"
            ],
            [
             0.1111111111111111,
             "#46039f"
            ],
            [
             0.2222222222222222,
             "#7201a8"
            ],
            [
             0.3333333333333333,
             "#9c179e"
            ],
            [
             0.4444444444444444,
             "#bd3786"
            ],
            [
             0.5555555555555556,
             "#d8576b"
            ],
            [
             0.6666666666666666,
             "#ed7953"
            ],
            [
             0.7777777777777778,
             "#fb9f3a"
            ],
            [
             0.8888888888888888,
             "#fdca26"
            ],
            [
             1,
             "#f0f921"
            ]
           ],
           "sequentialminus": [
            [
             0,
             "#0d0887"
            ],
            [
             0.1111111111111111,
             "#46039f"
            ],
            [
             0.2222222222222222,
             "#7201a8"
            ],
            [
             0.3333333333333333,
             "#9c179e"
            ],
            [
             0.4444444444444444,
             "#bd3786"
            ],
            [
             0.5555555555555556,
             "#d8576b"
            ],
            [
             0.6666666666666666,
             "#ed7953"
            ],
            [
             0.7777777777777778,
             "#fb9f3a"
            ],
            [
             0.8888888888888888,
             "#fdca26"
            ],
            [
             1,
             "#f0f921"
            ]
           ]
          },
          "colorway": [
           "#636efa",
           "#EF553B",
           "#00cc96",
           "#ab63fa",
           "#FFA15A",
           "#19d3f3",
           "#FF6692",
           "#B6E880",
           "#FF97FF",
           "#FECB52"
          ],
          "font": {
           "color": "#2a3f5f"
          },
          "geo": {
           "bgcolor": "white",
           "lakecolor": "white",
           "landcolor": "#E5ECF6",
           "showlakes": true,
           "showland": true,
           "subunitcolor": "white"
          },
          "hoverlabel": {
           "align": "left"
          },
          "hovermode": "closest",
          "mapbox": {
           "style": "light"
          },
          "paper_bgcolor": "white",
          "plot_bgcolor": "#E5ECF6",
          "polar": {
           "angularaxis": {
            "gridcolor": "white",
            "linecolor": "white",
            "ticks": ""
           },
           "bgcolor": "#E5ECF6",
           "radialaxis": {
            "gridcolor": "white",
            "linecolor": "white",
            "ticks": ""
           }
          },
          "scene": {
           "xaxis": {
            "backgroundcolor": "#E5ECF6",
            "gridcolor": "white",
            "gridwidth": 2,
            "linecolor": "white",
            "showbackground": true,
            "ticks": "",
            "zerolinecolor": "white"
           },
           "yaxis": {
            "backgroundcolor": "#E5ECF6",
            "gridcolor": "white",
            "gridwidth": 2,
            "linecolor": "white",
            "showbackground": true,
            "ticks": "",
            "zerolinecolor": "white"
           },
           "zaxis": {
            "backgroundcolor": "#E5ECF6",
            "gridcolor": "white",
            "gridwidth": 2,
            "linecolor": "white",
            "showbackground": true,
            "ticks": "",
            "zerolinecolor": "white"
           }
          },
          "shapedefaults": {
           "line": {
            "color": "#2a3f5f"
           }
          },
          "ternary": {
           "aaxis": {
            "gridcolor": "white",
            "linecolor": "white",
            "ticks": ""
           },
           "baxis": {
            "gridcolor": "white",
            "linecolor": "white",
            "ticks": ""
           },
           "bgcolor": "#E5ECF6",
           "caxis": {
            "gridcolor": "white",
            "linecolor": "white",
            "ticks": ""
           }
          },
          "title": {
           "x": 0.05
          },
          "xaxis": {
           "automargin": true,
           "gridcolor": "white",
           "linecolor": "white",
           "ticks": "",
           "title": {
            "standoff": 15
           },
           "zerolinecolor": "white",
           "zerolinewidth": 2
          },
          "yaxis": {
           "automargin": true,
           "gridcolor": "white",
           "linecolor": "white",
           "ticks": "",
           "title": {
            "standoff": 15
           },
           "zerolinecolor": "white",
           "zerolinewidth": 2
          }
         }
        },
        "xaxis": {
         "anchor": "y",
         "domain": [
          0,
          1
         ],
         "title": {
          "text": "x"
         }
        },
        "yaxis": {
         "anchor": "x",
         "domain": [
          0,
          1
         ],
         "title": {
          "text": "y"
         }
        }
       }
      }
     },
     "metadata": {},
     "output_type": "display_data"
    }
   ],
   "source": [
    "start = -5\n",
    "end = 3\n",
    "n_points = 9\n",
    "step_size = 1   \n",
    "\n",
    "random_x_datapoints, random_y_datapoints = random_points(start, end, n_points)\n",
    "fig = px.scatter(x=random_x_datapoints, y=random_y_datapoints)\n",
    "fig.show()\n",
    "\n",
    "equal_x_datapoints, equal_y_datapoints = equal_points(start, end, n_points)\n",
    "fig = px.scatter(x=equal_x_datapoints, y=equal_y_datapoints)\n",
    "fig.show()\n",
    "\n",
    "cheby_x_datapoints, cheby_y_datapoints = cheby_points(start, end, n_points)\n",
    "fig = px.scatter(x=cheby_x_datapoints, y=cheby_y_datapoints)\n",
    "fig.show()"
   ]
  },
  {
   "cell_type": "code",
   "execution_count": 75,
   "metadata": {},
   "outputs": [
    {
     "name": "stdout",
     "output_type": "stream",
     "text": [
      "[-2.5        -2.25877048 -2.25877048 -1.56417777 -0.5         0.80540729\n",
      "  2.19459271  3.5         4.56417777]\n",
      "[-1.64309795 -1.46490386 -0.66524224 -0.35588529  0.32695238  0.42556485\n",
      "  1.00009721  2.15199031  2.46649626]\n",
      "------------\n",
      "[7.56161799e-02 9.41139170e-02 9.41139170e-02 1.69748428e-01\n",
      " 3.30704299e-01 2.38782931e-01 1.13428630e-03 1.37458828e-13\n",
      " 1.98167079e-40]\n",
      "[1.59377770e-01 1.83414975e-01 3.07465865e-01 3.47691994e-01\n",
      " 3.46530979e-01 3.31247383e-01 1.79344118e-01 1.58056705e-03\n",
      " 9.00991094e-05]\n"
     ]
    }
   ],
   "source": [
    "print(cheby_x_datapoints)\n",
    "print(random_x_datapoints)\n",
    "print(\"------------\")\n",
    "print(cheby_y_datapoints)\n",
    "print(random_y_datapoints)"
   ]
  },
  {
   "cell_type": "code",
   "execution_count": 101,
   "metadata": {},
   "outputs": [
    {
     "name": "stdout",
     "output_type": "stream",
     "text": [
      "1750.0594308872464\n",
      "1.4152350082555476\n",
      "numerator -2.7412295168563663; denominator -0.2412295168563663; term 0.8592700720989767\n",
      "numerator -2.7412295168563663; denominator -0.2412295168563663; term 9.764379232212727\n",
      "numerator -3.435822227524088; denominator -0.935822227524088; term 35.84940624115229\n",
      "numerator -4.5; denominator -1.9999999999999996; term 80.66116404259266\n",
      "numerator -5.805407289332278; denominator -3.3054072893322783; term 141.66814214096107\n",
      "numerator -7.194592710667721; denominator -4.694592710667721; term 217.1103321626016\n",
      "numerator -8.5; denominator -5.999999999999999; term 307.57297056368566\n",
      "numerator -9.564177772475912; denominator -7.064177772475912; term 416.4225000029359\n",
      "y dp: 0.07561617991742652\n",
      "numerator -2.5; denominator 0.2412295168563663; term -0.9753565631723642\n",
      "numerator -2.7412295168563663; denominator 0.0; term inf\n",
      "numerator -3.435822227524088; denominator -0.6945927106677217; term inf\n",
      "numerator -4.5; denominator -1.7587704831436333; term inf\n",
      "numerator -5.805407289332278; denominator -3.064177772475912; term inf\n",
      "numerator -7.194592710667721; denominator -4.453363193811355; term inf\n",
      "numerator -8.5; denominator -5.758770483143633; term inf\n",
      "numerator -9.564177772475912; denominator -6.822948255619545; term inf\n",
      "y dp: 0.09411391699870213\n",
      "numerator -2.5; denominator 0.2412295168563663; term -0.9753565631723642\n",
      "numerator -2.7412295168563663; denominator 0.0; term inf\n",
      "numerator -3.435822227524088; denominator -0.6945927106677217; term inf\n",
      "numerator -4.5; denominator -1.7587704831436333; term inf\n",
      "numerator -5.805407289332278; denominator -3.064177772475912; term inf\n",
      "numerator -7.194592710667721; denominator -4.453363193811355; term inf\n",
      "numerator -8.5; denominator -5.758770483143633; term inf\n",
      "numerator -9.564177772475912; denominator -6.822948255619545; term inf\n",
      "y dp: 0.09411391699870213\n",
      "numerator -2.5; denominator 0.935822227524088; term -0.4534740221948978\n",
      "numerator -2.7412295168563663; denominator 0.6945927106677217; term 1.7896478838271226\n",
      "numerator -2.7412295168563663; denominator 0.6945927106677217; term -7.062895317761676\n",
      "numerator -4.5; denominator -1.0641777724759116; term -29.866277751677973\n",
      "numerator -5.805407289332278; denominator -2.3695850618081904; term -73.17142117384294\n",
      "numerator -7.194592710667721; denominator -3.7587704831436333; term -140.05605709828905\n",
      "numerator -8.5; denominator -5.064177772475912; term -235.07794134040137\n",
      "numerator -9.564177772475912; denominator -6.128355544951823; term -366.8728429471266\n",
      "y dp: 0.1697484278298948\n",
      "numerator -2.5; denominator 1.9999999999999996; term -0.4133803736130226\n",
      "numerator -2.7412295168563663; denominator 1.7587704831436333; term 0.6442969635308506\n",
      "numerator -2.7412295168563663; denominator 1.7587704831436333; term -1.0042048527530696\n",
      "numerator -3.435822227524088; denominator 1.0641777724759116; term 3.2421926517494986\n",
      "numerator -5.805407289332278; denominator -1.3054072893322788; term 14.418679141521988\n",
      "numerator -7.194592710667721; denominator -2.6945927106677217; term 38.49803476360806\n",
      "numerator -8.5; denominator -3.9999999999999996; term 81.80832387266715\n",
      "numerator -9.564177772475912; denominator -5.064177772475912; term 154.50274219025658\n",
      "y dp: 0.330704298890418\n",
      "numerator -2.5; denominator 3.3054072893322783; term -0.18060023337475\n",
      "numerator -2.7412295168563663; denominator 3.064177772475912; term 0.16156591661390127\n",
      "numerator -2.7412295168563663; denominator 3.064177772475912; term -0.1445377169426165\n",
      "numerator -3.435822227524088; denominator 2.3695850618081904; term 0.20957504695276696\n",
      "numerator -4.5; denominator 1.3054072893322788; term -0.7224471006055471\n",
      "numerator -7.194592710667721; denominator -1.3891854213354429; term -3.7415542691652113\n",
      "numerator -8.5; denominator -2.6945927106677208; term -11.802604216213236\n",
      "numerator -9.564177772475912; denominator -3.7587704831436333; term -30.03168334120484\n",
      "y dp: 0.2387829311408037\n",
      "numerator -2.5; denominator 4.694592710667721; term -0.0006040387178581631\n",
      "numerator -2.7412295168563663; denominator 4.453363193811355; term 0.000371810851856385\n",
      "numerator -2.7412295168563663; denominator 4.453363193811355; term -0.0002288649807885861\n",
      "numerator -3.435822227524088; denominator 3.7587704831436333; term 0.00020920122460833137\n",
      "numerator -4.5; denominator 2.6945927106677217; term -0.00034936838766412695\n",
      "numerator -5.805407289332278; denominator 1.3891854213354429; term 0.001460010847549657\n",
      "numerator -8.5; denominator -1.305407289332278; term 0.009506682171600181\n",
      "numerator -9.564177772475912; denominator -2.3695850618081904; term 0.03837110546528734\n",
      "y dp: 0.0011342863047272035\n",
      "numerator -2.5; denominator 5.999999999999999; term -5.72745114764e-14\n",
      "numerator -2.7412295168563663; denominator 5.758770483143633; term 2.7263212153044662e-14\n",
      "numerator -2.7412295168563663; denominator 5.758770483143633; term -1.2977548262601808e-14\n",
      "numerator -3.435822227524088; denominator 5.064177772475912; term 8.804696592950418e-15\n",
      "numerator -4.5; denominator 3.9999999999999996; term -9.905283667069222e-15\n",
      "numerator -5.805407289332278; denominator 2.6945927106677208; term 2.1340592875521458e-14\n",
      "numerator -7.194592710667721; denominator 1.305407289332278; term -1.1761606909831875e-13\n",
      "numerator -9.564177772475912; denominator -1.0641777724759125; term -1.0570611629473714e-12\n",
      "y dp: 1.3745882754335996e-13\n",
      "numerator -2.5; denominator 7.064177772475912; term -7.013097816917272e-41\n",
      "numerator -2.7412295168563663; denominator 6.822948255619545; term 2.817625170248184e-41\n",
      "numerator -2.7412295168563663; denominator 6.822948255619545; term -1.1320263608565832e-41\n",
      "numerator -3.435822227524088; denominator 6.128355544951823; term 6.346631334042203e-42\n",
      "numerator -4.5; denominator 5.064177772475912; term -5.6395810507313236e-42\n",
      "numerator -5.805407289332278; denominator 3.7587704831436333; term 8.710312344826595e-42\n",
      "numerator -7.194592710667721; denominator 2.3695850618081904; term -2.6446465549503524e-41\n",
      "numerator -8.5; denominator 1.0641777724759125; term 2.1123816244326617e-40\n",
      "y dp: 1.981670788578653e-40\n",
      "inf\n",
      "numerator -2.6412295168563666; denominator -0.2412295168563663; term 0.8279239164117147\n",
      "numerator -2.6412295168563666; denominator -0.2412295168563663; term 9.06496482783232\n",
      "numerator -3.3358222275240883; denominator -0.935822227524088; term 32.31287981309332\n",
      "numerator -4.4; denominator -1.9999999999999996; term 71.08833558880532\n",
      "numerator -5.705407289332278; denominator -3.3054072893322783; term 122.70436667936357\n",
      "numerator -7.094592710667722; denominator -4.694592710667721; term 185.43408535363523\n",
      "numerator -8.399999999999999; denominator -5.999999999999999; term 259.6077194950893\n",
      "numerator -9.464177772475912; denominator -7.064177772475912; term 347.80744306600957\n",
      "y dp: 0.07561617991742652\n",
      "numerator -2.4000000000000004; denominator 0.2412295168563663; term -0.9363423006454697\n",
      "numerator -2.6412295168563666; denominator 0.0; term inf\n",
      "numerator -3.3358222275240883; denominator -0.6945927106677217; term inf\n",
      "numerator -4.4; denominator -1.7587704831436333; term inf\n",
      "numerator -5.705407289332278; denominator -3.064177772475912; term inf\n",
      "numerator -7.094592710667722; denominator -4.453363193811355; term inf\n",
      "numerator -8.399999999999999; denominator -5.758770483143633; term inf\n",
      "numerator -9.464177772475912; denominator -6.822948255619545; term inf\n",
      "y dp: 0.09411391699870213\n",
      "numerator -2.4000000000000004; denominator 0.2412295168563663; term -0.9363423006454697\n",
      "numerator -2.6412295168563666; denominator 0.0; term inf\n",
      "numerator -3.3358222275240883; denominator -0.6945927106677217; term inf\n",
      "numerator -4.4; denominator -1.7587704831436333; term inf\n",
      "numerator -5.705407289332278; denominator -3.064177772475912; term inf\n",
      "numerator -7.094592710667722; denominator -4.453363193811355; term inf\n",
      "numerator -8.399999999999999; denominator -5.758770483143633; term inf\n",
      "numerator -9.464177772475912; denominator -6.822948255619545; term inf\n",
      "y dp: 0.09411391699870213\n",
      "numerator -2.4000000000000004; denominator 0.935822227524088; term -0.435335061307102\n",
      "numerator -2.6412295168563666; denominator 0.6945927106677217; term 1.6553871009407166\n",
      "numerator -2.6412295168563666; denominator 0.6945927106677217; term -6.2947065318678606\n",
      "numerator -4.4; denominator -1.0641777724759116; term -26.026392823239995\n",
      "numerator -5.705407289332278; denominator -2.3695850618081904; term -62.66547410432595\n",
      "numerator -7.094592710667722; denominator -3.7587704831436333; term -118.27963898962513\n",
      "numerator -8.399999999999999; denominator -5.064177772475912; term -196.19156596611694\n",
      "numerator -9.464177772475912; denominator -6.128355544951823; term -302.9837032372054\n",
      "y dp: 0.1697484278298948\n",
      "numerator -2.4000000000000004; denominator 1.9999999999999996; term -0.3968451586685018\n",
      "numerator -2.6412295168563666; denominator 1.7587704831436333; term 0.5959613017972142\n",
      "numerator -2.6412295168563666; denominator 1.7587704831436333; term -0.8949835105246066\n",
      "numerator -3.3358222275240883; denominator 1.0641777724759116; term 2.8054578519615716\n",
      "numerator -5.705407289332278; denominator -1.3054072893322788; term 12.2615216027201\n",
      "numerator -7.094592710667722; denominator -2.6945927106677217; term 32.28335823813482\n",
      "numerator -8.399999999999999; denominator -3.9999999999999996; term 67.79505230008311\n",
      "numerator -9.464177772475912; denominator -5.064177772475912; term 126.69863813816985\n",
      "y dp: 0.330704298890418\n",
      "numerator -2.4000000000000004; denominator 3.3054072893322783; term -0.17337622403976002\n",
      "numerator -2.6412295168563666; denominator 3.064177772475912; term 0.14944511528288504\n",
      "numerator -2.6412295168563666; denominator 3.064177772475912; term -0.12881721588764689\n",
      "numerator -3.3358222275240883; denominator 2.3695850618081904; term 0.18134454802727198\n",
      "numerator -4.4; denominator 1.3054072893322788; term -0.611239126547343\n",
      "numerator -7.094592710667722; denominator -1.3891854213354429; term -3.12160823535634\n",
      "numerator -8.399999999999999; denominator -2.6945927106677208; term -9.731158654584036\n",
      "numerator -9.464177772475912; denominator -3.7587704831436333; term -24.502005603206054\n",
      "y dp: 0.2387829311408037\n",
      "numerator -2.4000000000000004; denominator 4.694592710667721; term -0.0005798771691438368\n",
      "numerator -2.6412295168563666; denominator 4.453363193811355; term 0.0003439173111733163\n",
      "numerator -2.6412295168563666; denominator 4.453363193811355; term -0.00020397270873643395\n",
      "numerator -3.3358222275240883; denominator 3.7587704831436333; term 0.0001810210808727617\n",
      "numerator -4.4; denominator 2.6945927106677217; term -0.0002955892935829921\n",
      "numerator -5.705407289332278; denominator 1.3891854213354429; term 0.0012139900724237138\n",
      "numerator -8.399999999999999; denominator -1.305407289332278; term 0.007811750931447053\n",
      "numerator -9.464177772475912; denominator -2.3695850618081904; term 0.031200314654711358\n",
      "y dp: 0.0011342863047272035\n",
      "numerator -2.4000000000000004; denominator 5.999999999999999; term -5.4983531017344e-14\n",
      "numerator -2.6412295168563666; denominator 5.758770483143633; term 2.5217904670637386e-14\n",
      "numerator -2.6412295168563666; denominator 5.758770483143633; term -1.1566058130692866e-14\n",
      "numerator -3.3358222275240883; denominator 5.064177772475912; term 7.618672868653623e-15\n",
      "numerator -4.4; denominator 3.9999999999999996; term -8.380540155518988e-15\n",
      "numerator -5.705407289332278; denominator 2.6945927106677208; term 1.7744572195473462e-14\n",
      "numerator -7.094592710667722; denominator 1.305407289332278; term -9.643772758180075e-14\n",
      "numerator -9.464177772475912; denominator -1.0641777724759125; term -8.57661023763231e-13\n",
      "y dp: 1.3745882754335996e-13\n",
      "numerator -2.4000000000000004; denominator 7.064177772475912; term -6.732573904240582e-41\n",
      "numerator -2.6412295168563666; denominator 6.822948255619545; term 2.6062447279519115e-41\n",
      "numerator -2.6412295168563666; denominator 6.822948255619545; term -1.0089026394049384e-41\n",
      "numerator -3.3358222275240883; denominator 6.128355544951823; term 5.491717680621565e-42\n",
      "numerator -4.4; denominator 5.064177772475912; term -4.771467132545222e-42\n",
      "numerator -5.705407289332278; denominator 3.7587704831436333; term 7.242571335737665e-42\n",
      "numerator -7.094592710667722; denominator 2.3695850618081904; term -2.1684426794033655e-41\n",
      "numerator -8.399999999999999; denominator 1.0641777724759125; term 1.7116424509233544e-40\n",
      "y dp: 1.981670788578653e-40\n",
      "inf\n",
      "numerator -2.541229516856366; denominator -0.2412295168563663; term 0.7965777607244526\n",
      "numerator -2.541229516856366; denominator -0.2412295168563663; term 8.391539080309292\n",
      "numerator -3.2358222275240878; denominator -0.935822227524088; term 29.01569110090722\n",
      "numerator -4.299999999999999; denominator -1.9999999999999996; term 62.383735866950516\n",
      "numerator -5.605407289332279; denominator -3.3054072893322783; term 105.79218146367181\n",
      "numerator -6.994592710667721; denominator -4.694592710667721; term 157.6224535155016\n",
      "numerator -8.299999999999999; denominator -5.999999999999999; term 218.0443940297772\n",
      "numerator -9.364177772475912; denominator -7.064177772475912; term 289.0366768432825\n",
      "y dp: 0.07561617991742652\n",
      "numerator -2.3; denominator 0.2412295168563663; term -0.8973280381185751\n",
      "numerator -2.541229516856366; denominator 0.0; term inf\n",
      "numerator -3.2358222275240878; denominator -0.6945927106677217; term inf\n",
      "numerator -4.299999999999999; denominator -1.7587704831436333; term inf\n",
      "numerator -5.605407289332279; denominator -3.064177772475912; term inf\n",
      "numerator -6.994592710667721; denominator -4.453363193811355; term inf\n",
      "numerator -8.299999999999999; denominator -5.758770483143633; term inf\n",
      "numerator -9.364177772475912; denominator -6.822948255619545; term inf\n",
      "y dp: 0.09411391699870213\n",
      "numerator -2.3; denominator 0.2412295168563663; term -0.8973280381185751\n",
      "numerator -2.541229516856366; denominator 0.0; term inf\n",
      "numerator -3.2358222275240878; denominator -0.6945927106677217; term inf\n",
      "numerator -4.299999999999999; denominator -1.7587704831436333; term inf\n",
      "numerator -5.605407289332279; denominator -3.064177772475912; term inf\n",
      "numerator -6.994592710667721; denominator -4.453363193811355; term inf\n",
      "numerator -8.299999999999999; denominator -5.758770483143633; term inf\n",
      "numerator -9.364177772475912; denominator -6.822948255619545; term inf\n",
      "y dp: 0.09411391699870213\n",
      "numerator -2.3; denominator 0.935822227524088; term -0.417196100419306\n",
      "numerator -2.541229516856366; denominator 0.6945927106677217; term 1.5263492236820864\n",
      "numerator -2.541229516856366; denominator 0.6945927106677217; term -5.584285064729472\n",
      "numerator -4.299999999999999; denominator -1.0641777724759116; term -22.564299311072354\n",
      "numerator -5.605407289332279; denominator -2.3695850618081904; term -53.37731482002336\n",
      "numerator -6.994592710667721; denominator -3.7587704831436333; term -99.32837847627756\n",
      "numerator -8.299999999999999; denominator -5.064177772475912; term -162.79553728028714\n",
      "numerator -9.364177772475912; denominator -6.128355544951823; term -248.7529224563492\n",
      "y dp: 0.1697484278298948\n",
      "numerator -2.3; denominator 1.9999999999999996; term -0.38030994372398075\n",
      "numerator -2.541229516856366; denominator 1.7587704831436333; term 0.5495059553296108\n",
      "numerator -2.541229516856366; denominator 1.7587704831436333; term -0.7939755452775138\n",
      "numerator -3.2358222275240878; denominator 1.0641777724759116; term 2.414224186944002\n",
      "numerator -5.605407289332279; denominator -1.3054072893322788; term 10.366657185207108\n",
      "numerator -6.994592710667721; denominator -2.6945927106677217; term 26.90964927448076\n",
      "numerator -8.299999999999999; denominator -3.9999999999999996; term 55.83752224454758\n",
      "numerator -9.364177772475912; denominator -5.064177772475912; term 103.249235742545\n",
      "y dp: 0.330704298890418\n",
      "numerator -2.3; denominator 3.3054072893322783; term -0.16615221470477\n",
      "numerator -2.541229516856366; denominator 3.064177772475912; term 0.13779582767407375\n",
      "numerator -2.541229516856366; denominator 3.064177772475912; term -0.11427888673119153\n",
      "numerator -3.2358222275240878; denominator 2.3695850618081904; term 0.15605523843880056\n",
      "numerator -4.299999999999999; denominator 1.3054072893322788; term -0.5140445673702961\n",
      "numerator -6.994592710667721; denominator -1.3891854213354429; term -2.5882307204391632\n",
      "numerator -8.299999999999999; denominator -2.6945927106677208; term -7.972379237351134\n",
      "numerator -9.364177772475912; denominator -3.7587704831436333; term -19.861488426320385\n",
      "y dp: 0.2387829311408037\n",
      "numerator -2.3; denominator 4.694592710667721; term -0.00055571562042951\n",
      "numerator -2.541229516856366; denominator 4.453363193811355; term 0.0003171088627076484\n",
      "numerator -2.541229516856366; denominator 4.453363193811355; term -0.00018095232005538618\n",
      "numerator -3.2358222275240878; denominator 3.7587704831436333; term 0.000155776880228017\n",
      "numerator -4.299999999999999; denominator 2.6945927106677217; term -0.0002485869505727587\n",
      "numerator -5.605407289332279; denominator 1.3891854213354429; term 0.0010030562395579275\n",
      "numerator -8.299999999999999; denominator -1.305407289332278; term 0.006377600965128104\n",
      "numerator -9.364177772475912; denominator -2.3695850618081904; term 0.02520314217114512\n",
      "y dp: 0.0011342863047272035\n",
      "numerator -2.3; denominator 5.999999999999999; term -5.269255055828799e-14\n",
      "numerator -2.541229516856366; denominator 5.758770483143633; term 2.3252162104587224e-14\n",
      "numerator -2.541229516856366; denominator 5.758770483143633; term -1.0260711178517082e-14\n",
      "numerator -3.2358222275240878; denominator 5.064177772475912; term 6.556214807881407e-15\n",
      "numerator -4.299999999999999; denominator 3.9999999999999996; term -7.047930918472512e-15\n",
      "numerator -5.605407289332279; denominator 2.6945927106677208; term 1.4661408081715785e-14\n",
      "numerator -6.994592710667721; denominator 1.305407289332278; term -7.855830048945809e-14\n",
      "numerator -9.364177772475912; denominator -1.0641777724759125; term -6.912697392422919e-13\n",
      "y dp: 1.3745882754335996e-13\n",
      "numerator -2.3; denominator 7.064177772475912; term -6.452049991563889e-41\n",
      "numerator -2.541229516856366; denominator 6.822948255619545; term 2.4030872386128337e-41\n",
      "numerator -2.541229516856366; denominator 6.822948255619545; term -8.950377452026087e-42\n",
      "numerator -3.2358222275240878; denominator 6.128355544951823; term 4.725873048905177e-42\n",
      "numerator -4.299999999999999; denominator 5.064177772475912; term -4.0127450147464027e-42\n",
      "numerator -5.605407289332279; denominator 3.7587704831436333; term 5.984156323660192e-42\n",
      "numerator -6.994592710667721; denominator 2.3695850618081904; term -1.7664162758111562e-41\n",
      "numerator -8.299999999999999; denominator 1.0641777724759125; term 1.377707321881171e-40\n",
      "y dp: 1.981670788578653e-40\n",
      "inf\n",
      "numerator -2.4412295168563665; denominator -0.2412295168563663; term 0.7652316050371907\n",
      "numerator -2.4412295168563665; denominator -0.2412295168563663; term 7.744101989643652\n",
      "numerator -3.135822227524088; denominator -0.935822227524088; term 25.94950882454115\n",
      "numerator -4.199999999999999; denominator -1.9999999999999996; term 54.49396853153642\n",
      "numerator -5.505407289332279; denominator -3.3054072893322783; term 90.76385005454787\n",
      "numerator -6.894592710667721; denominator -4.694592710667721; term 133.29799144369608\n",
      "numerator -8.2; denominator -5.999999999999999; term 182.17392163971797\n",
      "numerator -9.264177772475911; denominator -7.064177772475912; term 238.90842642086108\n",
      "y dp: 0.07561617991742652\n",
      "numerator -2.2; denominator 0.2412295168563663; term -0.8583137755916806\n",
      "numerator -2.4412295168563665; denominator 0.0; term inf\n",
      "numerator -3.135822227524088; denominator -0.6945927106677217; term inf\n",
      "numerator -4.199999999999999; denominator -1.7587704831436333; term inf\n",
      "numerator -5.505407289332279; denominator -3.064177772475912; term inf\n",
      "numerator -6.894592710667721; denominator -4.453363193811355; term inf\n",
      "numerator -8.2; denominator -5.758770483143633; term inf\n",
      "numerator -9.264177772475911; denominator -6.822948255619545; term inf\n",
      "y dp: 0.09411391699870213\n",
      "numerator -2.2; denominator 0.2412295168563663; term -0.8583137755916806\n",
      "numerator -2.4412295168563665; denominator 0.0; term inf\n",
      "numerator -3.135822227524088; denominator -0.6945927106677217; term inf\n",
      "numerator -4.199999999999999; denominator -1.7587704831436333; term inf\n",
      "numerator -5.505407289332279; denominator -3.064177772475912; term inf\n",
      "numerator -6.894592710667721; denominator -4.453363193811355; term inf\n",
      "numerator -8.2; denominator -5.758770483143633; term inf\n",
      "numerator -9.264177772475911; denominator -6.822948255619545; term inf\n",
      "y dp: 0.09411391699870213\n",
      "numerator -2.2; denominator 0.935822227524088; term -0.3990571395315101\n",
      "numerator -2.4412295168563665; denominator 0.6945927106677217; term 1.4025342520512338\n",
      "numerator -2.4412295168563665; denominator 0.6945927106677217; term -4.929375102739113\n",
      "numerator -4.199999999999999; denominator -1.0641777724759116; term -19.454809118344844\n",
      "numerator -5.505407289332279; denominator -2.3695850618081904; term -45.20059214543348\n",
      "numerator -6.894592710667721; denominator -3.7587704831436333; term -82.91000328999384\n",
      "numerator -8.2; denominator -5.064177772475912; term -134.24924193479885\n",
      "numerator -9.264177772475911; denominator -6.128355544951823; term -202.94332369938917\n",
      "y dp: 0.1697484278298948\n",
      "numerator -2.2; denominator 1.9999999999999996; term -0.36377472877945993\n",
      "numerator -2.4412295168563665; denominator 1.7587704831436333; term 0.5049309241280415\n",
      "numerator -2.4412295168563665; denominator 1.7587704831436333; term -0.7008602246676837\n",
      "numerator -3.135822227524088; denominator 1.0641777724759116; term 2.065231136887138\n",
      "numerator -5.505407289332279; denominator -1.3054072893322788; term 8.709878248795599\n",
      "numerator -6.894592710667721; denominator -2.6945927106677217; term 22.285766174313142\n",
      "numerator -8.2; denominator -3.9999999999999996; term 45.68582065734195\n",
      "numerator -9.264177772475911; denominator -5.064177772475912; term 83.57557401547189\n",
      "y dp: 0.330704298890418\n",
      "numerator -2.2; denominator 3.3054072893322783; term -0.15892820536978\n",
      "numerator -2.4412295168563665; denominator 3.064177772475912; term 0.12661805378746752\n",
      "numerator -2.4412295168563665; denominator 3.064177772475912; term -0.10087656566450166\n",
      "numerator -3.135822227524088; denominator 2.3695850618081904; term 0.13349635847453\n",
      "numerator -4.199999999999999; denominator 1.3054072893322788; term -0.42950940306133767\n",
      "numerator -6.894592710667721; denominator -1.3891854213354429; term -2.1316754077819304\n",
      "numerator -8.2; denominator -2.6945927106677208; term -6.486968614815389\n",
      "numerator -9.264177772475911; denominator -3.7587704831436333; term -15.988321373073079\n",
      "y dp: 0.2387829311408037\n",
      "numerator -2.2; denominator 4.694592710667721; term -0.0005315540717151835\n",
      "numerator -2.4412295168563665; denominator 4.453363193811355; term 0.00029138550645938183\n",
      "numerator -2.4412295168563665; denominator 4.453363193811355; term -0.00015973071770595783\n",
      "numerator -3.135822227524088; denominator 3.7587704831436333; term 0.0001332582388967264\n",
      "numerator -4.199999999999999; denominator 2.6945927106677217; term -0.00020770656773118066\n",
      "numerator -5.505407289332279; denominator 1.3891854213354429; term 0.0008231509159735924\n",
      "numerator -8.2; denominator -1.305407289332278; term 0.005170675517244914\n",
      "numerator -9.264177772475911; denominator -2.3695850618081904; term 0.020215377775462708\n",
      "y dp: 0.0011342863047272035\n",
      "numerator -2.2; denominator 5.999999999999999; term -5.0401570099232e-14\n",
      "numerator -2.4412295168563665; denominator 5.758770483143633; term 2.13659844548942e-14\n",
      "numerator -2.4412295168563665; denominator 5.758770483143633; term -9.057362515254989e-15\n",
      "numerator -3.135822227524088; denominator 5.064177772475912; term 5.608467943690296e-15\n",
      "numerator -4.199999999999999; denominator 3.9999999999999996; term -5.888891340874811e-15\n",
      "numerator -5.505407289332279; denominator 2.6945927106677208; term 1.2031779491492818e-14\n",
      "numerator -6.894592710667721; denominator 1.305407289332278; term -6.354661863489306e-14\n",
      "numerator -9.264177772475911; denominator -1.0641777724759125; term -5.532037852131563e-13\n",
      "y dp: 1.3745882754335996e-13\n",
      "numerator -2.2; denominator 7.064177772475912; term -6.171526078887199e-41\n",
      "numerator -2.4412295168563665; denominator 6.822948255619545; term 2.2081527022309526e-41\n",
      "numerator -2.4412295168563665; denominator 6.822948255619545; term -7.900701210759607e-42\n",
      "numerator -3.135822227524088; denominator 6.128355544951823; term 4.0427149319257085e-42\n",
      "numerator -4.199999999999999; denominator 5.064177772475912; term -3.3528449191440265e-42\n",
      "numerator -5.505407289332279; denominator 3.7587704831436333; term 4.910855009805837e-42\n",
      "numerator -6.894592710667721; denominator 2.3695850618081904; term -1.4288723245037954e-41\n",
      "numerator -8.2; denominator 1.0641777724759125; term 1.1010146390927675e-40\n",
      "y dp: 1.981670788578653e-40\n",
      "inf\n",
      "numerator -2.341229516856366; denominator -0.2412295168563663; term 0.7338854493499284\n",
      "numerator -2.341229516856366; denominator -0.2412295168563663; term 7.122653555835386\n",
      "numerator -3.0358222275240876; denominator -0.935822227524088; term 23.106001703942184\n",
      "numerator -4.1; denominator -1.9999999999999996; term 47.36730349308148\n",
      "numerator -5.4054072893322775; denominator -3.3054072893322783; term 77.46082257513238\n",
      "numerator -6.794592710667721; denominator -4.694592710667721; term 112.11084174253348\n",
      "numerator -8.099999999999998; denominator -5.999999999999999; term 151.3496363524202\n",
      "numerator -9.164177772475911; denominator -7.064177772475912; term 196.3420256405914\n",
      "y dp: 0.07561617991742652\n",
      "numerator -2.0999999999999996; denominator 0.2412295168563663; term -0.8192995130647857\n",
      "numerator -2.341229516856366; denominator 0.0; term inf\n",
      "numerator -3.0358222275240876; denominator -0.6945927106677217; term inf\n",
      "numerator -4.1; denominator -1.7587704831436333; term inf\n",
      "numerator -5.4054072893322775; denominator -3.064177772475912; term inf\n",
      "numerator -6.794592710667721; denominator -4.453363193811355; term inf\n",
      "numerator -8.099999999999998; denominator -5.758770483143633; term inf\n",
      "numerator -9.164177772475911; denominator -6.822948255619545; term inf\n",
      "y dp: 0.09411391699870213\n",
      "numerator -2.0999999999999996; denominator 0.2412295168563663; term -0.8192995130647857\n",
      "numerator -2.341229516856366; denominator 0.0; term inf\n",
      "numerator -3.0358222275240876; denominator -0.6945927106677217; term inf\n",
      "numerator -4.1; denominator -1.7587704831436333; term inf\n",
      "numerator -5.4054072893322775; denominator -3.064177772475912; term inf\n",
      "numerator -6.794592710667721; denominator -4.453363193811355; term inf\n",
      "numerator -8.099999999999998; denominator -5.758770483143633; term inf\n",
      "numerator -9.164177772475911; denominator -6.822948255619545; term inf\n",
      "y dp: 0.09411391699870213\n",
      "numerator -2.0999999999999996; denominator 0.935822227524088; term -0.38091817864371413\n",
      "numerator -2.341229516856366; denominator 0.6945927106677217; term 1.2839421860481572\n",
      "numerator -2.341229516856366; denominator 0.6945927106677217; term -4.327720832289358\n",
      "numerator -4.1; denominator -1.0641777724759116; term -16.67358205678742\n",
      "numerator -5.4054072893322775; denominator -2.3695850618081904; term -38.03514102180565\n",
      "numerator -6.794592710667721; denominator -3.7587704831436333; term -68.75474123651193\n",
      "numerator -8.099999999999998; denominator -5.064177772475912; term -109.97114023970522\n",
      "numerator -9.164177772475911; denominator -6.128355544951823; term -164.44788028473639\n",
      "y dp: 0.1697484278298948\n",
      "numerator -2.0999999999999996; denominator 1.9999999999999996; term -0.34723951383493895\n",
      "numerator -2.341229516856366; denominator 1.7587704831436333; term 0.4622362081925052\n",
      "numerator -2.341229516856366; denominator 1.7587704831436333; term -0.615316816351004\n",
      "numerator -3.0358222275240876; denominator 1.0641777724759116; term 1.755338737908114\n",
      "numerator -5.4054072893322775; denominator -1.3054072893322788; term 7.2684754303686745\n",
      "numerator -6.794592710667721; denominator -2.6945927106677217; term 18.327938757250056\n",
      "numerator -8.099999999999998; denominator -3.9999999999999996; term 37.11407598343136\n",
      "numerator -9.164177772475911; denominator -5.064177772475912; term 67.161937328092\n",
      "y dp: 0.330704298890418\n",
      "numerator -2.0999999999999996; denominator 3.3054072893322783; term -0.15170419603479\n",
      "numerator -2.341229516856366; denominator 3.064177772475912; term 0.11591179362306625\n",
      "numerator -2.341229516856366; denominator 3.064177772475912; term -0.0885640888788281\n",
      "numerator -3.0358222275240876; denominator 2.3695850618081904; term 0.11346494114610894\n",
      "numerator -4.1; denominator 1.3054072893322788; term -0.3563686693805744\n",
      "numerator -6.794592710667721; denominator -1.3891854213354429; term -1.7430214326291302\n",
      "numerator -8.099999999999998; denominator -2.6945927106677208; term -5.239557558514062\n",
      "numerator -9.164177772475911; denominator -3.7587704831436333; term -12.77445301081127\n",
      "y dp: 0.2387829311408037\n",
      "numerator -2.0999999999999996; denominator 4.694592710667721; term -0.000507392523000857\n",
      "numerator -2.341229516856366; denominator 4.453363193811355; term 0.0002667472424285163\n",
      "numerator -2.341229516856366; denominator 4.453363193811355; term -0.0001402348046486634\n",
      "numerator -3.0358222275240876; denominator 3.7587704831436333; term 0.00011326255192598372\n",
      "numerator -4.1; denominator 2.6945927106677217; term -0.0001723364206613104\n",
      "numerator -5.4054072893322775; denominator 1.3891854213354429; term 0.0006705717826815161\n",
      "numerator -8.099999999999998; denominator -1.305407289332278; term 0.004160871081468056\n",
      "numerator -9.164177772475911; denominator -2.3695850618081904; term 0.016091830968005122\n",
      "y dp: 0.0011342863047272035\n",
      "numerator -2.0999999999999996; denominator 5.999999999999999; term -4.811058964017598e-14\n",
      "numerator -2.341229516856366; denominator 5.758770483143633; term 1.955937172155828e-14\n",
      "numerator -2.341229516856366; denominator 5.758770483143633; term -7.951867250087073e-15\n",
      "numerator -3.0358222275240876; denominator 5.064177772475912; term 4.7669051981823975e-15\n",
      "numerator -4.1; denominator 3.9999999999999996; term -4.886077828136958e-15\n",
      "numerator -5.4054072893322775; denominator 2.6945927106677208; term 9.801570606160965e-15\n",
      "numerator -6.794592710667721; denominator 1.305407289332278; term -5.101678283701122e-14\n",
      "numerator -9.164177772475911; denominator -1.0641777724759125; term -4.393315472192416e-13\n",
      "y dp: 1.3745882754335996e-13\n",
      "numerator -2.0999999999999996; denominator 7.064177772475912; term -5.891002166210508e-41\n",
      "numerator -2.341229516856366; denominator 6.822948255619545; term 2.0214411188062656e-41\n",
      "numerator -2.341229516856366; denominator 6.822948255619545; term -6.936382098513577e-42\n",
      "numerator -3.0358222275240876; denominator 6.128355544951823; term 3.436096812400794e-42\n",
      "numerator -4.1; denominator 5.064177772475912; term -2.7818922565104852e-42\n",
      "numerator -5.4054072893322775; denominator 3.7587704831436333; term 4.0005796440389305e-42\n",
      "numerator -6.794592710667721; denominator 2.3695850618081904; term -1.1471337208333944e-41\n",
      "numerator -8.099999999999998; denominator 1.0641777724759125; term 8.731420049426761e-41\n",
      "y dp: 1.981670788578653e-40\n",
      "inf\n",
      "numerator -2.2412295168563663; denominator -0.2412295168563663; term 0.7025392936626665\n",
      "numerator -2.2412295168563663; denominator -0.2412295168563663; term 6.527193778884513\n",
      "numerator -2.935822227524088; denominator -0.935822227524088; term 20.476838459057497\n",
      "numerator -3.9999999999999996; denominator -1.9999999999999996; term 40.953676918115\n",
      "numerator -5.305407289332278; denominator -3.3054072893322783; term 65.73348366101597\n",
      "numerator -6.694592710667721; denominator -4.694592710667721; term 93.73739697671085\n",
      "numerator -7.999999999999999; denominator -5.999999999999999; term 124.98319596894783\n",
      "numerator -9.064177772475912; denominator -7.064177772475912; term 160.3682612927336\n",
      "y dp: 0.07561617991742652\n",
      "numerator -2.0; denominator 0.2412295168563663; term -0.7802852505378913\n",
      "numerator -2.2412295168563663; denominator 0.0; term inf\n",
      "numerator -2.935822227524088; denominator -0.6945927106677217; term inf\n",
      "numerator -3.9999999999999996; denominator -1.7587704831436333; term inf\n",
      "numerator -5.305407289332278; denominator -3.064177772475912; term inf\n",
      "numerator -6.694592710667721; denominator -4.453363193811355; term inf\n",
      "numerator -7.999999999999999; denominator -5.758770483143633; term inf\n",
      "numerator -9.064177772475912; denominator -6.822948255619545; term inf\n",
      "y dp: 0.09411391699870213\n",
      "numerator -2.0; denominator 0.2412295168563663; term -0.7802852505378913\n",
      "numerator -2.2412295168563663; denominator 0.0; term inf\n",
      "numerator -2.935822227524088; denominator -0.6945927106677217; term inf\n",
      "numerator -3.9999999999999996; denominator -1.7587704831436333; term inf\n",
      "numerator -5.305407289332278; denominator -3.064177772475912; term inf\n",
      "numerator -6.694592710667721; denominator -4.453363193811355; term inf\n",
      "numerator -7.999999999999999; denominator -5.758770483143633; term inf\n",
      "numerator -9.064177772475912; denominator -6.822948255619545; term inf\n",
      "y dp: 0.09411391699870213\n",
      "numerator -2.0; denominator 0.935822227524088; term -0.36277921775591826\n",
      "numerator -2.2412295168563663; denominator 0.6945927106677217; term 1.1705730256728584\n",
      "numerator -2.2412295168563663; denominator 0.6945927106677217; term -3.7770664397728075\n",
      "numerator -3.9999999999999996; denominator -1.0641777724759116; term -14.197125846690446\n",
      "numerator -5.305407289332278; denominator -2.3695850618081904; term -31.786803592154058\n",
      "numerator -6.694592710667721; denominator -3.7587704831436333; term -56.61417864638729\n",
      "numerator -7.999999999999999; denominator -5.064177772475912; term -89.43474133801304\n",
      "numerator -9.064177772475912; denominator -6.128355544951823; term -132.27894311564836\n",
      "y dp: 0.1697484278298948\n",
      "numerator -2.0; denominator 1.9999999999999996; term -0.3307042988904181\n",
      "numerator -2.2412295168563663; denominator 1.7587704831436333; term 0.42142180752300296\n",
      "numerator -2.2412295168563663; denominator 1.7587704831436333; term -0.5370245879833667\n",
      "numerator -2.935822227524088; denominator 1.0641777724759116; term 1.4815275820508842\n",
      "numerator -5.305407289332278; denominator -1.3054072893322788; term 6.0211914682811845\n",
      "numerator -6.694592710667721; denominator -2.6945927106677217; term 14.95937562419264\n",
      "numerator -7.999999999999999; denominator -3.9999999999999996; term 29.91875124838528\n",
      "numerator -9.064177772475912; denominator -5.064177772475912; term 53.55042659042826\n",
      "y dp: 0.330704298890418\n",
      "numerator -2.0; denominator 3.3054072893322783; term -0.1444801866998\n",
      "numerator -2.2412295168563663; denominator 3.064177772475912; term 0.10567704718087008\n",
      "numerator -2.2412295168563663; denominator 3.064177772475912; term -0.07729529256542204\n",
      "numerator -2.935822227524088; denominator 2.3695850618081904; term 0.09576581218965846\n",
      "numerator -3.9999999999999996; denominator 1.3054072893322788; term -0.2934434730746541\n",
      "numerator -6.694592710667721; denominator -1.3891854213354429; term -1.4141269449474307\n",
      "numerator -7.999999999999999; denominator -2.6945927106677208; term -4.19841392533719\n",
      "numerator -9.064177772475912; denominator -3.7587704831436333; term -10.124366558786905\n",
      "y dp: 0.2387829311408037\n",
      "numerator -2.0; denominator 4.694592710667721; term -0.0004832309742865305\n",
      "numerator -2.2412295168563663; denominator 4.453363193811355; term 0.00024319407061505194\n",
      "numerator -2.2412295168563663; denominator 4.453363193811355; term -0.0001223914838440178\n",
      "numerator -2.935822227524088; denominator 3.7587704831436333; term 9.559499318734863e-05\n",
      "numerator -3.9999999999999996; denominator 2.6945927106677217; term -0.00014190640805772852\n",
      "numerator -5.305407289332278; denominator 1.3891854213354429; term 0.0005419516215399729\n",
      "numerator -7.999999999999999; denominator -1.305407289332278; term 0.0033212722249601266\n",
      "numerator -9.064177772475912; denominator -2.3695850618081904; term 0.012704587973243248\n",
      "y dp: 0.0011342863047272035\n",
      "numerator -2.0; denominator 5.999999999999999; term -4.581960918111999e-14\n",
      "numerator -2.2412295168563663; denominator 5.758770483143633; term 1.7832323904579507e-14\n",
      "numerator -2.2412295168563663; denominator 5.758770483143633; term -6.9400804921938644e-15\n",
      "numerator -2.935822227524088; denominator 5.064177772475912; term 4.02332688250548e-15\n",
      "numerator -3.9999999999999996; denominator 3.9999999999999996; term -4.02332688250548e-15\n",
      "numerator -5.305407289332278; denominator 2.6945927106677208; term 7.921563687642313e-15\n",
      "numerator -6.694592710667721; denominator 1.305407289332278; term -4.0624595062209496e-14\n",
      "numerator -9.064177772475912; denominator -1.0641777724759125; term -3.4602165268120066e-13\n",
      "y dp: 1.3745882754335996e-13\n",
      "numerator -2.0; denominator 7.064177772475912; term -5.610478253533817e-41\n",
      "numerator -2.2412295168563663; denominator 6.822948255619545; term 1.842952488338775e-41\n",
      "numerator -2.2412295168563663; denominator 6.822948255619545; term -6.053804543551665e-42\n",
      "numerator -2.935822227524088; denominator 6.128355544951823; term 2.9001081627330764e-42\n",
      "numerator -3.9999999999999996; denominator 5.064177772475912; term -2.2906843266800984e-42\n",
      "numerator -5.305407289332278; denominator 3.7587704831436333; term 3.233241662088308e-42\n",
      "numerator -6.694592710667721; denominator 2.3695850618081904; term -9.13461027912054e-42\n",
      "numerator -7.999999999999999; denominator 1.0641777724759125; term 6.86698069843574e-41\n",
      "y dp: 1.981670788578653e-40\n",
      "inf\n",
      "numerator -2.1412295168563666; denominator -0.2412295168563663; term 0.6711931379754047\n",
      "numerator -2.1412295168563666; denominator -0.2412295168563663; term 5.957722658791022\n",
      "numerator -2.8358222275240883; denominator -0.935822227524088; term 18.053687809834177\n",
      "numerator -3.9; denominator -1.9999999999999996; term 35.20469122917665\n",
      "numerator -5.205407289332278; denominator -3.3054072893322783; term 55.44090041020856\n",
      "numerator -6.594592710667722; denominator -4.694592710667721; term 77.8789940365274\n",
      "numerator -7.8999999999999995; denominator -5.999999999999999; term 102.54067548142777\n",
      "numerator -8.964177772475912; denominator -7.064177772475912; term 130.12028767264647\n",
      "y dp: 0.07561617991742652\n",
      "numerator -1.9000000000000004; denominator 0.2412295168563663; term -0.7412709880109969\n",
      "numerator -2.1412295168563666; denominator 0.0; term inf\n",
      "numerator -2.8358222275240883; denominator -0.6945927106677217; term inf\n",
      "numerator -3.9; denominator -1.7587704831436333; term inf\n",
      "numerator -5.205407289332278; denominator -3.064177772475912; term inf\n",
      "numerator -6.594592710667722; denominator -4.453363193811355; term inf\n",
      "numerator -7.8999999999999995; denominator -5.758770483143633; term inf\n",
      "numerator -8.964177772475912; denominator -6.822948255619545; term inf\n",
      "y dp: 0.09411391699870213\n",
      "numerator -1.9000000000000004; denominator 0.2412295168563663; term -0.7412709880109969\n",
      "numerator -2.1412295168563666; denominator 0.0; term inf\n",
      "numerator -2.8358222275240883; denominator -0.6945927106677217; term inf\n",
      "numerator -3.9; denominator -1.7587704831436333; term inf\n",
      "numerator -5.205407289332278; denominator -3.064177772475912; term inf\n",
      "numerator -6.594592710667722; denominator -4.453363193811355; term inf\n",
      "numerator -7.8999999999999995; denominator -5.758770483143633; term inf\n",
      "numerator -8.964177772475912; denominator -6.822948255619545; term inf\n",
      "y dp: 0.09411391699870213\n",
      "numerator -1.9000000000000004; denominator 0.935822227524088; term -0.34464025686812244\n",
      "numerator -2.1412295168563666; denominator 0.6945927106677217; term 1.0624267709253363\n",
      "numerator -2.1412295168563666; denominator 0.6945927106677217; term -3.275156111582045\n",
      "numerator -3.9; denominator -1.0641777724759116; term -12.00279611690452\n",
      "numerator -5.205407289332278; denominator -2.3695850618081904; term -26.367250286270348\n",
      "numerator -6.594592710667722; denominator -3.7587704831436333; term -46.260147385419735\n",
      "numerator -7.8999999999999995; denominator -5.064177772475912; term -72.16475818267776\n",
      "numerator -8.964177772475912; denominator -6.128355544951823; term -105.55812509770836\n",
      "y dp: 0.1697484278298948\n",
      "numerator -1.9000000000000004; denominator 1.9999999999999996; term -0.31416908394589727\n",
      "numerator -2.1412295168563666; denominator 1.7587704831436333; term 0.3824877221195342\n",
      "numerator -2.1412295168563666; denominator 1.7587704831436333; term -0.46566280722066095\n",
      "numerator -2.8358222275240883; denominator 1.0641777724759116; term 1.2408988172861937\n",
      "numerator -5.205407289332278; denominator -1.3054072893322788; term 4.948175026760696\n",
      "numerator -6.594592710667722; denominator -2.6945927106677217; term 12.10988170249229\n",
      "numerator -7.8999999999999995; denominator -3.9999999999999996; term 23.917016362422274\n",
      "numerator -8.964177772475912; denominator -5.064177772475912; term 42.335872888433094\n",
      "y dp: 0.330704298890418\n",
      "numerator -1.9000000000000004; denominator 3.3054072893322783; term -0.13725617736481002\n",
      "numerator -2.1412295168563666; denominator 3.064177772475912; term 0.09591381446087893\n",
      "numerator -2.1412295168563666; denominator 3.064177772475912; term -0.0670240129155344\n",
      "numerator -2.8358222275240883; denominator 2.3695850618081904; term 0.08021159006577135\n",
      "numerator -3.9; denominator 1.3054072893322788; term -0.23963800709012406\n",
      "numerator -6.594592710667722; denominator -1.3891854213354429; term -1.1375839614241658\n",
      "numerator -7.8999999999999995; denominator -2.6945927106677208; term -3.335165741253694\n",
      "numerator -8.964177772475912; denominator -3.7587704831436333; term -7.953935665756654\n",
      "y dp: 0.2387829311408037\n",
      "numerator -1.9000000000000004; denominator 4.694592710667721; term -0.00045906942557220404\n",
      "numerator -2.1412295168563666; denominator 4.453363193811355; term 0.00022072599101898878\n",
      "numerator -2.1412295168563666; denominator 4.453363193811355; term -0.00010612765825253563\n",
      "numerator -2.8358222275240883; denominator 3.7587704831436333; term 8.006851537684597e-05\n",
      "numerator -3.9; denominator 2.6945927106677217; term -0.0001158866082927684\n",
      "numerator -5.205407289332278; denominator 1.3891854213354429; term 0.00043423792553428265\n",
      "numerator -7.8999999999999995; denominator -1.305407289332278; term 0.002627899843791695\n",
      "numerator -8.964177772475912; denominator -2.3695850618081904; term 0.009941386678912685\n",
      "y dp: 0.0011342863047272035\n",
      "numerator -1.9000000000000004; denominator 5.999999999999999; term -4.3528628722064e-14\n",
      "numerator -2.1412295168563666; denominator 5.758770483143633; term 1.6184841003957857e-14\n",
      "numerator -2.1412295168563666; denominator 5.758770483143633; term -6.017857350755861e-15\n",
      "numerator -2.8358222275240883; denominator 5.064177772475912; term 3.3698606968529106e-15\n",
      "numerator -3.9; denominator 3.9999999999999996; term -3.285614179431588e-15\n",
      "numerator -5.205407289332278; denominator 2.6945927106677208; term 6.347141047267423e-15\n",
      "numerator -6.594592710667722; denominator 1.305407289332278; term -3.206417677145008e-14\n",
      "numerator -8.964177772475912; denominator -1.0641777724759125; term -2.700948921707319e-13\n",
      "y dp: 1.3745882754335996e-13\n",
      "numerator -1.9000000000000004; denominator 7.064177772475912; term -5.329954340857127e-41\n",
      "numerator -2.1412295168563666; denominator 6.822948255619545; term 1.6726868108284804e-41\n",
      "numerator -2.1412295168563666; denominator 6.822948255619545; term -5.249352974137517e-42\n",
      "numerator -2.8358222275240883; denominator 6.128355544951823; term 2.4290744450101702e-42\n",
      "numerator -3.9; denominator 5.064177772475912; term -1.8706670186477395e-42\n",
      "numerator -5.205407289332278; denominator 3.7587704831436333; term 2.5906300420446085e-42\n",
      "numerator -6.594592710667722; denominator 2.3695850618081904; term -7.209764387300603e-42\n",
      "numerator -7.8999999999999995; denominator 1.0641777724759125; term 5.352220289957614e-41\n",
      "y dp: 1.981670788578653e-40\n",
      "inf\n",
      "numerator -2.041229516856366; denominator -0.2412295168563663; term 0.6398469822881425\n",
      "numerator -2.041229516856366; denominator -0.2412295168563663; term 5.4142401955549095\n",
      "numerator -2.7358222275240878; denominator -0.935822227524088; term 15.828218476219314\n",
      "numerator -3.7999999999999994; denominator -1.9999999999999996; term 30.0736151048167\n",
      "numerator -5.105407289332279; denominator -3.3054072893322783; term 46.45057033311031\n",
      "numerator -6.494592710667721; denominator -4.694592710667721; term 64.26064071676802\n",
      "numerator -7.799999999999999; denominator -5.999999999999999; term 83.53883293179844\n",
      "numerator -8.864177772475912; denominator -7.064177772475912; term 104.82508932573039\n",
      "y dp: 0.07561617991742652\n",
      "numerator -1.7999999999999998; denominator 0.2412295168563663; term -0.7022567254841022\n",
      "numerator -2.041229516856366; denominator 0.0; term inf\n",
      "numerator -2.7358222275240878; denominator -0.6945927106677217; term inf\n",
      "numerator -3.7999999999999994; denominator -1.7587704831436333; term inf\n",
      "numerator -5.105407289332279; denominator -3.064177772475912; term inf\n",
      "numerator -6.494592710667721; denominator -4.453363193811355; term inf\n",
      "numerator -7.799999999999999; denominator -5.758770483143633; term inf\n",
      "numerator -8.864177772475912; denominator -6.822948255619545; term inf\n",
      "y dp: 0.09411391699870213\n",
      "numerator -1.7999999999999998; denominator 0.2412295168563663; term -0.7022567254841022\n",
      "numerator -2.041229516856366; denominator 0.0; term inf\n",
      "numerator -2.7358222275240878; denominator -0.6945927106677217; term inf\n",
      "numerator -3.7999999999999994; denominator -1.7587704831436333; term inf\n",
      "numerator -5.105407289332279; denominator -3.064177772475912; term inf\n",
      "numerator -6.494592710667721; denominator -4.453363193811355; term inf\n",
      "numerator -7.799999999999999; denominator -5.758770483143633; term inf\n",
      "numerator -8.864177772475912; denominator -6.822948255619545; term inf\n",
      "y dp: 0.09411391699870213\n",
      "numerator -1.7999999999999998; denominator 0.935822227524088; term -0.3265012959803264\n",
      "numerator -2.041229516856366; denominator 0.6945927106677217; term 0.9595034218055899\n",
      "numerator -2.041229516856366; denominator 0.6945927106677217; term -2.8197340341096537\n",
      "numerator -3.7999999999999994; denominator -1.0641777724759116; term -10.06879640484055\n",
      "numerator -5.105407289332279; denominator -2.3695850618081904; term -21.69380090573708\n",
      "numerator -6.494592710667721; denominator -3.7587704831436333; term -37.48364042468537\n",
      "numerator -7.799999999999999; denominator -5.064177772475912; term -57.733438368140646\n",
      "numerator -8.864177772475912; denominator -6.128355544951823; term -83.50681636496066\n",
      "y dp: 0.1697484278298948\n",
      "numerator -1.7999999999999998; denominator 1.9999999999999996; term -0.2976338690013763\n",
      "numerator -2.041229516856366; denominator 1.7587704831436333; term 0.3454339519820987\n",
      "numerator -2.041229516856366; denominator 1.7587704831436333; term -0.4009107417187763\n",
      "numerator -2.7358222275240878; denominator 1.0641777724759116; term 1.0306741475115935\n",
      "numerator -5.105407289332279; denominator -1.3054072893322788; term 4.030934520308648\n",
      "numerator -6.494592710667721; denominator -2.6945927106677217; term 9.715486072953931\n",
      "numerator -7.799999999999999; denominator -3.9999999999999996; term 18.945197842260164\n",
      "numerator -8.864177772475912; denominator -5.064177772475912; term 33.16107947893331\n",
      "y dp: 0.330704298890418\n",
      "numerator -1.7999999999999998; denominator 3.3054072893322783; term -0.13003216802981998\n",
      "numerator -2.041229516856366; denominator 3.064177772475912; term 0.08662209546309273\n",
      "numerator -2.041229516856366; denominator 3.064177772475912; term -0.0577040861204161\n",
      "numerator -2.7358222275240878; denominator 2.3695850618081904; term 0.06662268595951229\n",
      "numerator -3.7999999999999994; denominator 1.3054072893322788; term -0.1939365657867915\n",
      "numerator -6.494592710667721; denominator -1.3891854213354429; term -0.906674506618429\n",
      "numerator -7.799999999999999; denominator -2.6945927106677208; term -2.624538069752028\n",
      "numerator -8.864177772475912; denominator -3.7587704831436333; term -6.18935689881647\n",
      "y dp: 0.2387829311408037\n",
      "numerator -1.7999999999999998; denominator 4.694592710667721; term -0.0004349078768578774\n",
      "numerator -2.041229516856366; denominator 4.453363193811355; term 0.00019934300364032653\n",
      "numerator -2.041229516856366; denominator 4.453363193811355; term -9.137023083473148e-05\n",
      "numerator -2.7358222275240878; denominator 3.7587704831436333; term 6.650385001496592e-05\n",
      "numerator -3.7999999999999994; denominator 2.6945927106677217; term -9.37858360027433e-05\n",
      "numerator -5.105407289332279; denominator 1.3891854213354429; term 0.0003446731324780503\n",
      "numerator -7.799999999999999; denominator -1.305407289332278; term 0.0020594725150523308\n",
      "numerator -8.864177772475912; denominator -2.3695850618081904; term 0.00770410431141959\n",
      "y dp: 0.0011342863047272035\n",
      "numerator -1.7999999999999998; denominator 5.999999999999999; term -4.123764826300799e-14\n",
      "numerator -2.041229516856366; denominator 5.758770483143633; term 1.4616923019693316e-14\n",
      "numerator -2.041229516856366; denominator 5.758770483143633; term -5.181052934953566e-15\n",
      "numerator -2.7358222275240878; denominator 5.064177772475912; term 2.798961730463679e-15\n",
      "numerator -3.7999999999999994; denominator 3.9999999999999996; term -2.659013643940495e-15\n",
      "numerator -5.105407289332279; denominator 2.6945927106677208; term 5.0379961270079335e-15\n",
      "numerator -6.494592710667721; denominator 1.305407289332278; term -2.5064769585877088e-14\n",
      "numerator -8.864177772475912; denominator -1.0641777724759125; term -2.0877956595394962e-13\n",
      "y dp: 1.3745882754335996e-13\n",
      "numerator -1.7999999999999998; denominator 7.064177772475912; term -5.049430428180435e-41\n",
      "numerator -2.041229516856366; denominator 6.822948255619545; term 1.5106440862753797e-41\n",
      "numerator -2.041229516856366; denominator 6.822948255619545; term -4.519411818534775e-42\n",
      "numerator -2.7358222275240878; denominator 6.128355544951823; term 2.0175571110046776e-42\n",
      "numerator -3.7999999999999994; denominator 5.064177772475912; term -1.513911510667498e-42\n",
      "numerator -5.105407289332279; denominator 3.7587704831436333; term 2.0562933801431936e-42\n",
      "numerator -6.494592710667721; denominator 2.3695850618081904; term -5.635918377828336e-42\n",
      "numerator -7.799999999999999; denominator 1.0641777724759125; term 4.1309041105776384e-41\n",
      "y dp: 1.981670788578653e-40\n",
      "inf\n",
      "numerator -1.9412295168563665; denominator -0.2412295168563663; term 0.6085008266008806\n",
      "numerator -1.9412295168563665; denominator -0.2412295168563663; term 4.896746389176184\n",
      "numerator -2.635822227524088; denominator -0.935822227524088; term 13.792099178160075\n",
      "numerator -3.6999999999999997; denominator -1.9999999999999996; term 25.515383479596142\n",
      "numerator -5.005407289332279; denominator -3.3054072893322783; term 38.63816930248208\n",
      "numerator -6.394592710667721; denominator -4.694592710667721; term 52.62977450924709\n",
      "numerator -7.699999999999999; denominator -5.999999999999999; term 67.54154395353378\n",
      "numerator -8.764177772475911; denominator -7.064177772475912; term 83.79547023047175\n",
      "y dp: 0.07561617991742652\n",
      "numerator -1.7000000000000002; denominator 0.2412295168563663; term -0.6632424629572077\n",
      "numerator -1.9412295168563665; denominator 0.0; term inf\n",
      "numerator -2.635822227524088; denominator -0.6945927106677217; term inf\n",
      "numerator -3.6999999999999997; denominator -1.7587704831436333; term inf\n",
      "numerator -5.005407289332279; denominator -3.064177772475912; term inf\n",
      "numerator -6.394592710667721; denominator -4.453363193811355; term inf\n",
      "numerator -7.699999999999999; denominator -5.758770483143633; term inf\n",
      "numerator -8.764177772475911; denominator -6.822948255619545; term inf\n",
      "y dp: 0.09411391699870213\n",
      "numerator -1.7000000000000002; denominator 0.2412295168563663; term -0.6632424629572077\n",
      "numerator -1.9412295168563665; denominator 0.0; term inf\n",
      "numerator -2.635822227524088; denominator -0.6945927106677217; term inf\n",
      "numerator -3.6999999999999997; denominator -1.7587704831436333; term inf\n",
      "numerator -5.005407289332279; denominator -3.064177772475912; term inf\n",
      "numerator -6.394592710667721; denominator -4.453363193811355; term inf\n",
      "numerator -7.699999999999999; denominator -5.758770483143633; term inf\n",
      "numerator -8.764177772475911; denominator -6.822948255619545; term inf\n",
      "y dp: 0.09411391699870213\n",
      "numerator -1.7000000000000002; denominator 0.935822227524088; term -0.3083623350925306\n",
      "numerator -1.9412295168563665; denominator 0.6945927106677217; term 0.8618029783136215\n",
      "numerator -1.9412295168563665; denominator 0.6945927106677217; term -2.4085443937482327\n",
      "numerator -3.6999999999999997; denominator -1.0641777724759116; term -8.374178156469794\n",
      "numerator -5.005407289332279; denominator -2.3695850618081904; term -17.689245708940927\n",
      "numerator -6.394592710667721; denominator -3.7587704831436333; term -30.09375597017038\n",
      "numerator -7.699999999999999; denominator -5.064177772475912; term -45.75706686872911\n",
      "numerator -8.764177772475911; denominator -6.128355544951823; term -65.43730458245828\n",
      "y dp: 0.1697484278298948\n",
      "numerator -1.7000000000000002; denominator 1.9999999999999996; term -0.2810986540568554\n",
      "numerator -1.9412295168563665; denominator 1.7587704831436333; term 0.310260497110697\n",
      "numerator -1.9412295168563665; denominator 1.7587704831436333; term -0.3424476591336037\n",
      "numerator -2.635822227524088; denominator 1.0641777724759116; term 0.8481958325514422\n",
      "numerator -5.005407289332279; denominator -1.3054072893322788; term 3.2522919381014592\n",
      "numerator -6.394592710667721; denominator -2.6945927106677217; term 7.718080078674843\n",
      "numerator -7.699999999999999; denominator -3.9999999999999996; term 14.857304151449073\n",
      "numerator -8.764177772475911; denominator -5.064177772475912; term 25.712378327386887\n",
      "y dp: 0.330704298890418\n",
      "numerator -1.7000000000000002; denominator 3.3054072893322783; term -0.12280815869483001\n",
      "numerator -1.9412295168563665; denominator 3.064177772475912; term 0.07780189018751162\n",
      "numerator -1.9412295168563665; denominator 3.064177772475912; term -0.04928934837131828\n",
      "numerator -2.635822227524088; denominator 2.3695850618081904; term 0.0548273037804183\n",
      "numerator -3.6999999999999997; denominator 1.3054072893322788; term -0.1554005601510866\n",
      "numerator -6.394592710667721; denominator -1.3891854213354429; term -0.7153280432647641\n",
      "numerator -7.699999999999999; denominator -2.6945927106677208; term -2.044103330099855\n",
      "numerator -8.764177772475911; denominator -3.7587704831436333; term -4.76615559546538\n",
      "y dp: 0.2387829311408037\n",
      "numerator -1.7000000000000002; denominator 4.694592710667721; term -0.00041074632814355093\n",
      "numerator -1.9412295168563665; denominator 4.453363193811355; term 0.00017904510847906556\n",
      "numerator -1.9412295168563665; denominator 4.453363193811355; term -7.804610455112033e-05\n",
      "numerator -2.635822227524088; denominator 3.7587704831436333; term 5.4729507446664404e-05\n",
      "numerator -3.6999999999999997; denominator 2.6945927106677217; term -7.515019867417323e-05\n",
      "numerator -5.005407289332279; denominator 1.3891854213354429; term 0.00027077548213604957\n",
      "numerator -7.699999999999999; denominator -1.305407289332278; term 0.0015971806113585089\n",
      "numerator -8.764177772475911; denominator -2.3695850618081904; term 0.0059073527421784604\n",
      "y dp: 0.0011342863047272035\n",
      "numerator -1.7000000000000002; denominator 5.999999999999999; term -3.8946667803952e-14\n",
      "numerator -1.9412295168563665; denominator 5.758770483143633; term 1.3128569951785912e-14\n",
      "numerator -1.9412295168563665; denominator 5.758770483143633; term -4.4255223539675015e-15\n",
      "numerator -2.635822227524088; denominator 5.064177772475912; term 2.3034124616224167e-15\n",
      "numerator -3.6999999999999997; denominator 3.9999999999999996; term -2.1306565270007355e-15\n",
      "numerator -5.005407289332279; denominator 2.6945927106677208; term 3.957853693098627e-15\n",
      "numerator -6.394592710667721; denominator 1.305407289332278; term -1.9387713384627573e-14\n",
      "numerator -8.764177772475911; denominator -1.0641777724759125; term -1.5967009563576722e-13\n",
      "y dp: 1.3745882754335996e-13\n",
      "numerator -1.7000000000000002; denominator 7.064177772475912; term -4.768906515503745e-41\n",
      "numerator -1.9412295168563665; denominator 6.822948255619545; term 1.3568243146794757e-41\n",
      "numerator -1.9412295168563665; denominator 6.822948255619545; term -3.860365505007105e-42\n",
      "numerator -2.635822227524088; denominator 6.128355544951823; term 1.660353602174198e-42\n",
      "numerator -3.6999999999999997; denominator 5.064177772475912; term -1.2130909703513482e-42\n",
      "numerator -5.005407289332279; denominator 3.7587704831436333; term 1.615425685832645e-42\n",
      "numerator -6.394592710667721; denominator 2.3695850618081904; term -4.35940852335058e-42\n",
      "numerator -7.699999999999999; denominator 1.0641777724759125; term 3.154308095695473e-41\n",
      "y dp: 1.981670788578653e-40\n",
      "inf\n",
      "numerator -1.841229516856366; denominator -0.2412295168563663; term 0.5771546709136185\n",
      "numerator -1.841229516856366; denominator -0.2412295168563663; term 4.4052412396548375\n",
      "numerator -2.5358222275240876; denominator -0.935822227524088; term 11.93699863560354\n",
      "numerator -3.599999999999999; denominator -1.9999999999999996; term 21.486597544086372\n",
      "numerator -4.9054072893322775; denominator -3.3054072893322783; term 31.88729950341525\n",
      "numerator -6.294592710667721; denominator -4.694592710667721; term 42.755053609012144\n",
      "numerator -7.599999999999999; denominator -5.999999999999999; term 54.15640123808205\n",
      "numerator -8.664177772475911; denominator -7.064177772475912; term 66.42254809505184\n",
      "y dp: 0.07561617991742652\n",
      "numerator -1.5999999999999996; denominator 0.2412295168563663; term -0.6242282004303129\n",
      "numerator -1.841229516856366; denominator 0.0; term inf\n",
      "numerator -2.5358222275240876; denominator -0.6945927106677217; term inf\n",
      "numerator -3.599999999999999; denominator -1.7587704831436333; term inf\n",
      "numerator -4.9054072893322775; denominator -3.064177772475912; term inf\n",
      "numerator -6.294592710667721; denominator -4.453363193811355; term inf\n",
      "numerator -7.599999999999999; denominator -5.758770483143633; term inf\n",
      "numerator -8.664177772475911; denominator -6.822948255619545; term inf\n",
      "y dp: 0.09411391699870213\n",
      "numerator -1.5999999999999996; denominator 0.2412295168563663; term -0.6242282004303129\n",
      "numerator -1.841229516856366; denominator 0.0; term inf\n",
      "numerator -2.5358222275240876; denominator -0.6945927106677217; term inf\n",
      "numerator -3.599999999999999; denominator -1.7587704831436333; term inf\n",
      "numerator -4.9054072893322775; denominator -3.064177772475912; term inf\n",
      "numerator -6.294592710667721; denominator -4.453363193811355; term inf\n",
      "numerator -7.599999999999999; denominator -5.758770483143633; term inf\n",
      "numerator -8.664177772475911; denominator -6.822948255619545; term inf\n",
      "y dp: 0.09411391699870213\n",
      "numerator -1.5999999999999996; denominator 0.935822227524088; term -0.29022337420473454\n",
      "numerator -1.841229516856366; denominator 0.6945927106677217; term 0.7693254404494289\n",
      "numerator -1.841229516856366; denominator 0.6945927106677217; term -2.039331376890361\n",
      "numerator -3.599999999999999; denominator -1.0641777724759116; term -6.89884072632374\n",
      "numerator -4.9054072893322775; denominator -2.3695850618081904; term -14.281666496085558\n",
      "numerator -6.294592710667721; denominator -3.7587704831436333; term -23.916670152007345\n",
      "numerator -7.599999999999999; denominator -5.064177772475912; term -35.892636736247276\n",
      "numerator -8.664177772475911; denominator -6.128355544951823; term -50.74447510832054\n",
      "y dp: 0.1697484278298948\n",
      "numerator -1.5999999999999996; denominator 1.9999999999999996; term -0.26456343911233443\n",
      "numerator -1.841229516856366; denominator 1.7587704831436333; term 0.2769673575053286\n",
      "numerator -1.841229516856366; denominator 1.7587704831436333; term -0.28995282712103243\n",
      "numerator -2.5358222275240876; denominator 1.0641777724759116; term 0.6909266881568947\n",
      "numerator -4.9054072893322775; denominator -1.3054072893322788; term 2.5963366683915714\n",
      "numerator -6.294592710667721; denominator -2.6945927106677217; term 6.065065715718917\n",
      "numerator -7.599999999999999; denominator -3.9999999999999996; term 11.523624859865942\n",
      "numerator -8.664177772475911; denominator -5.064177772475912; term 19.71548765761189\n",
      "y dp: 0.330704298890418\n",
      "numerator -1.5999999999999996; denominator 3.3054072893322783; term -0.11558414935983997\n",
      "numerator -1.841229516856366; denominator 3.064177772475912; term 0.06945319863413543\n",
      "numerator -1.841229516856366; denominator 3.064177772475912; term -0.04173363585949179\n",
      "numerator -2.5358222275240876; denominator 2.3695850618081904; term 0.04466144016249799\n",
      "numerator -3.599999999999999; denominator 1.3054072893322788; term -0.12316553300942035\n",
      "numerator -6.294592710667721; denominator -1.3891854213354429; term -0.558080191729422\n",
      "numerator -7.599999999999999; denominator -2.6945927106677208; term -1.5740447305272285\n",
      "numerator -8.664177772475911; denominator -3.7587704831436333; term -3.6282618021707256\n",
      "y dp: 0.2387829311408037\n",
      "numerator -1.5999999999999996; denominator 4.694592710667721; term -0.0003865847794292243\n",
      "numerator -1.841229516856366; denominator 4.453363193811355; term 0.00015983230553520559\n",
      "numerator -1.841229516856366; denominator 4.453363193811355; term -6.608218236221667e-05\n",
      "numerator -2.5358222275240876; denominator 3.7587704831436333; term 4.458177684136236e-05\n",
      "numerator -3.599999999999999; denominator 2.6945927106677217; term -5.9561653230010354e-05\n",
      "numerator -4.9054072893322775; denominator 1.3891854213354429; term 0.00021032049676874897\n",
      "numerator -7.599999999999999; denominator -1.305407289332278; term 0.0012244728434602963\n",
      "numerator -8.664177772475911; denominator -2.3695850618081904; term 0.004477176432406055\n",
      "y dp: 0.0011342863047272035\n",
      "numerator -1.5999999999999996; denominator 5.999999999999999; term -3.665568734489599e-14\n",
      "numerator -1.841229516856366; denominator 5.758770483143633; term 1.1719781800235621e-14\n",
      "numerator -1.841229516856366; denominator 5.758770483143633; term -3.747120716978165e-15\n",
      "numerator -2.5358222275240876; denominator 5.064177772475912; term 1.8763227576593578e-15\n",
      "numerator -3.599999999999999; denominator 3.9999999999999996; term -1.688690481893422e-15\n",
      "numerator -4.9054072893322775; denominator 2.6945927106677208; term 3.0741991420489375e-15\n",
      "numerator -6.294592710667721; denominator 1.305407289332278; term -1.482359694848973e-14\n",
      "numerator -8.664177772475911; denominator -1.0641777724759125; term -1.2068874441009202e-13\n",
      "y dp: 1.3745882754335996e-13\n",
      "numerator -1.5999999999999996; denominator 7.064177772475912; term -4.488382602827053e-41\n",
      "numerator -1.841229516856366; denominator 6.822948255619545; term 1.2112274960407658e-41\n",
      "numerator -1.841229516856366; denominator 6.822948255619545; term -3.268598461818147e-42\n",
      "numerator -2.5358222275240876; denominator 6.128355544951823; term 1.3524973496613042e-42\n",
      "numerator -3.599999999999999; denominator 5.064177772475912; term -9.614572547677786e-43\n",
      "numerator -4.9054072893322775; denominator 3.7587704831436333; term 1.2547558961287707e-42\n",
      "numerator -6.294592710667721; denominator 2.3695850618081904; term -3.3331478345042136e-42\n",
      "numerator -7.599999999999999; denominator 1.0641777724759125; term 2.380422162294825e-41\n",
      "y dp: 1.981670788578653e-40\n",
      "inf\n",
      "numerator -1.7412295168563663; denominator -0.2412295168563663; term 0.5458085152263565\n",
      "numerator -1.7412295168563663; denominator -0.2412295168563663; term 3.939724746990878\n",
      "numerator -2.435822227524088; denominator -0.935822227524088; term 10.254585568496857\n",
      "numerator -3.4999999999999996; denominator -1.9999999999999996; term 17.945524744869502\n",
      "numerator -4.805407289332278; denominator -3.3054072893322783; term 26.089237383302624\n",
      "numerator -6.194592710667721; denominator -4.694592710667721; term 34.42518013421016\n",
      "numerator -7.499999999999999; denominator -5.999999999999999; term 43.0314751677627\n",
      "numerator -8.564177772475912; denominator -7.064177772475912; term 52.168732868600685\n",
      "y dp: 0.07561617991742652\n",
      "numerator -1.5; denominator 0.2412295168563663; term -0.5852139379034185\n",
      "numerator -1.7412295168563663; denominator 0.0; term inf\n",
      "numerator -2.435822227524088; denominator -0.6945927106677217; term inf\n",
      "numerator -3.4999999999999996; denominator -1.7587704831436333; term inf\n",
      "numerator -4.805407289332278; denominator -3.064177772475912; term inf\n",
      "numerator -6.194592710667721; denominator -4.453363193811355; term inf\n",
      "numerator -7.499999999999999; denominator -5.758770483143633; term inf\n",
      "numerator -8.564177772475912; denominator -6.822948255619545; term inf\n",
      "y dp: 0.09411391699870213\n",
      "numerator -1.5; denominator 0.2412295168563663; term -0.5852139379034185\n",
      "numerator -1.7412295168563663; denominator 0.0; term inf\n",
      "numerator -2.435822227524088; denominator -0.6945927106677217; term inf\n",
      "numerator -3.4999999999999996; denominator -1.7587704831436333; term inf\n",
      "numerator -4.805407289332278; denominator -3.064177772475912; term inf\n",
      "numerator -6.194592710667721; denominator -4.453363193811355; term inf\n",
      "numerator -7.499999999999999; denominator -5.758770483143633; term inf\n",
      "numerator -8.564177772475912; denominator -6.822948255619545; term inf\n",
      "y dp: 0.09411391699870213\n",
      "numerator -1.5; denominator 0.935822227524088; term -0.2720844133169387\n",
      "numerator -1.7412295168563663; denominator 0.6945927106677217; term 0.682070808213014\n",
      "numerator -1.7412295168563663; denominator 0.6945927106677217; term -1.709839169928635\n",
      "numerator -3.4999999999999996; denominator -1.0641777724759116; term -5.623531377494246\n",
      "numerator -4.805407289332278; denominator -2.3695850618081904; term -11.404257694205148\n",
      "numerator -6.194592710667721; denominator -3.7587704831436333; term -18.794638273315382\n",
      "numerator -7.499999999999999; denominator -5.064177772475912; term -27.834683809085384\n",
      "numerator -8.564177772475912; denominator -6.128355544951823; term -38.89806631373215\n",
      "y dp: 0.1697484278298948\n",
      "numerator -1.5; denominator 1.9999999999999996; term -0.2480282241678136\n",
      "numerator -1.7412295168563663; denominator 1.7587704831436333; term 0.245554533165994\n",
      "numerator -1.7412295168563663; denominator 1.7587704831436333; term -0.24310551333695327\n",
      "numerator -2.435822227524088; denominator 1.0641777724759116; term 0.5564500860059153\n",
      "numerator -4.805407289332278; denominator -1.3054072893322788; term 2.0483793229085956\n",
      "numerator -6.194592710667721; denominator -2.6945927106677217; term 4.709014305626826\n",
      "numerator -7.499999999999999; denominator -3.9999999999999996; term 8.829401823050299\n",
      "numerator -8.564177772475912; denominator -5.064177772475912; term 14.931657266892548\n",
      "y dp: 0.330704298890418\n",
      "numerator -1.5; denominator 3.3054072893322783; term -0.10836014002485\n",
      "numerator -1.7412295168563663; denominator 3.064177772475912; term 0.061576020802964364\n",
      "numerator -1.7412295168563663; denominator 3.064177772475912; term -0.0349907847761878\n",
      "numerator -2.435822227524088; denominator 2.3695850618081904; term 0.03596888446423237\n",
      "numerator -3.4999999999999996; denominator 1.3054072893322788; term -0.09643817424154807\n",
      "numerator -6.194592710667721; denominator -1.3891854213354429; term -0.4300327386192357\n",
      "numerator -7.499999999999999; denominator -2.6945927106677208; term -1.196932481438002\n",
      "numerator -8.564177772475912; denominator -3.7587704831436333; term -2.727153093985298\n",
      "y dp: 0.2387829311408037\n",
      "numerator -1.5; denominator 4.694592710667721; term -0.0003624232307148979\n",
      "numerator -1.7412295168563663; denominator 4.453363193811355; term 0.0001417045948087469\n",
      "numerator -1.7412295168563663; denominator 4.453363193811355; term -5.5405367228535425e-05\n",
      "numerator -2.435822227524088; denominator 3.7587704831436333; term 3.590472619294647e-05\n",
      "numerator -3.4999999999999996; denominator 2.6945927106677217; term -4.663656261586649e-05\n",
      "numerator -4.805407289332278; denominator 1.3891854213354429; term 0.00016132308509849482\n",
      "numerator -7.499999999999999; denominator -1.305407289332278; term 0.0009268548966488401\n",
      "numerator -8.564177772475912; denominator -2.3695850618081904; term 0.0033498481367591386\n",
      "y dp: 0.0011342863047272035\n",
      "numerator -1.5; denominator 5.999999999999999; term -3.436470688584e-14\n",
      "numerator -1.7412295168563663; denominator 5.758770483143633; term 1.0390558565042466e-14\n",
      "numerator -1.7412295168563663; denominator 5.758770483143633; term -3.1417031331660763e-15\n",
      "numerator -2.435822227524088; denominator 5.064177772475912; term 1.5111298749503761e-15\n",
      "numerator -3.4999999999999996; denominator 3.9999999999999996; term -1.322238640581579e-15\n",
      "numerator -4.805407289332278; denominator 2.6945927106677208; term 2.3580169190441492e-15\n",
      "numerator -6.194592710667721; denominator 1.305407289332278; term -1.1189576263063132e-14\n",
      "numerator -8.564177772475912; denominator -1.0641777724759125; term -9.005029309397499e-14\n",
      "y dp: 1.3745882754335996e-13\n",
      "numerator -1.5; denominator 7.064177772475912; term -4.2078586901503633e-41\n",
      "numerator -1.7412295168563663; denominator 6.822948255619545; term 1.0738536303592528e-41\n",
      "numerator -1.7412295168563663; denominator 6.822948255619545; term -2.740495117231562e-42\n",
      "numerator -2.435822227524088; denominator 6.128355544951823; term 1.089257774293568e-42\n",
      "numerator -3.4999999999999996; denominator 5.064177772475912; term -7.528176105404723e-43\n",
      "numerator -4.805407289332278; denominator 3.7587704831436333; term 9.624411092542505e-43\n",
      "numerator -6.194592710667721; denominator 2.3695850618081904; term -2.516023069154516e-42\n",
      "numerator -7.499999999999999; denominator 1.0641777724759125; term 1.7732162338587081e-41\n",
      "y dp: 1.981670788578653e-40\n",
      "inf\n",
      "numerator -1.6412295168563662; denominator -0.2412295168563663; term 0.5144623595390946\n",
      "numerator -1.6412295168563662; denominator -0.2412295168563663; term 3.5001969111843003\n",
      "numerator -2.335822227524088; denominator -0.935822227524088; term 8.736528696787126\n",
      "numerator -3.3999999999999995; denominator -1.9999999999999996; term 14.852098784538114\n",
      "numerator -4.705407289332278; denominator -3.3054072893322783; term 21.142681601808334\n",
      "numerator -6.094592710667721; denominator -4.694592710667721; term 27.447755559613213\n",
      "numerator -7.399999999999999; denominator -5.999999999999999; term 33.85223185685629\n",
      "numerator -8.464177772475912; denominator -7.064177772475912; term 40.56116899378059\n",
      "y dp: 0.07561617991742652\n",
      "numerator -1.4; denominator 0.2412295168563663; term -0.5461996753765239\n",
      "numerator -1.6412295168563662; denominator 0.0; term inf\n",
      "numerator -2.335822227524088; denominator -0.6945927106677217; term inf\n",
      "numerator -3.3999999999999995; denominator -1.7587704831436333; term inf\n",
      "numerator -4.705407289332278; denominator -3.064177772475912; term inf\n",
      "numerator -6.094592710667721; denominator -4.453363193811355; term inf\n",
      "numerator -7.399999999999999; denominator -5.758770483143633; term inf\n",
      "numerator -8.464177772475912; denominator -6.822948255619545; term inf\n",
      "y dp: 0.09411391699870213\n",
      "numerator -1.4; denominator 0.2412295168563663; term -0.5461996753765239\n",
      "numerator -1.6412295168563662; denominator 0.0; term inf\n",
      "numerator -2.335822227524088; denominator -0.6945927106677217; term inf\n",
      "numerator -3.3999999999999995; denominator -1.7587704831436333; term inf\n",
      "numerator -4.705407289332278; denominator -3.064177772475912; term inf\n",
      "numerator -6.094592710667721; denominator -4.453363193811355; term inf\n",
      "numerator -7.399999999999999; denominator -5.758770483143633; term inf\n",
      "numerator -8.464177772475912; denominator -6.822948255619545; term inf\n",
      "y dp: 0.09411391699870213\n",
      "numerator -1.4; denominator 0.935822227524088; term -0.2539454524291428\n",
      "numerator -1.6412295168563662; denominator 0.6945927106677217; term 0.6000390816043754\n",
      "numerator -1.6412295168563662; denominator 0.6945927106677217; term -1.4178119592556375\n",
      "numerator -3.3999999999999995; denominator -1.0641777724759116; term -4.529845281633416\n",
      "numerator -4.705407289332278; denominator -2.3695850618081904; term -8.995147442177224\n",
      "numerator -6.094592710667721; denominator -3.7587704831436333; term -14.585024618641981\n",
      "numerator -7.399999999999999; denominator -5.064177772475912; term -21.31228148517056\n",
      "numerator -8.464177772475912; denominator -6.128355544951823; term -29.435455874639313\n",
      "y dp: 0.1697484278298948\n",
      "numerator -1.4; denominator 1.9999999999999996; term -0.23149300922329263\n",
      "numerator -1.6412295168563662; denominator 1.7587704831436333; term 0.2160220240926928\n",
      "numerator -1.6412295168563662; denominator 1.7587704831436333; term -0.2015849854372557\n",
      "numerator -2.335822227524088; denominator 1.0641777724759116; term 0.4424699537032661\n",
      "numerator -4.705407289332278; denominator -1.3054072893322788; term 1.5949055612603604\n",
      "numerator -6.094592710667721; denominator -2.6945927106677217; term 3.607335449761573\n",
      "numerator -7.399999999999999; denominator -3.9999999999999996; term 6.673570582058909\n",
      "numerator -8.464177772475912; denominator -5.064177772475912; term 11.154088644106903\n",
      "y dp: 0.330704298890418\n",
      "numerator -1.4; denominator 3.3054072893322783; term -0.10113613068986\n",
      "numerator -1.6412295168563662; denominator 3.064177772475912; term 0.054170356693998264\n",
      "numerator -1.6412295168563662; denominator 3.064177772475912; term -0.0290146313126572\n",
      "numerator -2.335822227524088; denominator 2.3695850618081904; term 0.02860121876857404\n",
      "numerator -3.3999999999999995; denominator 1.3054072893322788; term -0.07449333599392761\n",
      "numerator -6.094592710667721; denominator -1.3891854213354429; term -0.32681493454305754\n",
      "numerator -7.399999999999999; denominator -2.6945927106677208; term -0.8975124537538505\n",
      "numerator -8.464177772475912; denominator -3.7587704831436333; term -2.021061141043701\n",
      "y dp: 0.2387829311408037\n",
      "numerator -1.4; denominator 4.694592710667721; term -0.0003382616820005713\n",
      "numerator -1.6412295168563662; denominator 4.453363193811355; term 0.00012466197629968924\n",
      "numerator -1.6412295168563662; denominator 4.453363193811355; term -4.594256211059115e-05\n",
      "numerator -2.335822227524088; denominator 3.7587704831436333; term 2.8550202319768512e-05\n",
      "numerator -3.3999999999999995; denominator 2.6945927106677217; term -3.6024252386238644e-05\n",
      "numerator -4.705407289332278; denominator 1.3891854213354429; term 0.00012202026969733237\n",
      "numerator -7.399999999999999; denominator -1.305407289332278; term 0.0006916998266664518\n",
      "numerator -8.464177772475912; denominator -2.3695850618081904; term 0.002470757599065898\n",
      "y dp: 0.0011342863047272035\n",
      "numerator -1.4; denominator 5.999999999999999; term -3.207372642678399e-14\n",
      "numerator -1.6412295168563662; denominator 5.758770483143633; term 9.140900246206431e-15\n",
      "numerator -1.6412295168563662; denominator 5.758770483143633; term -2.6051247117117378e-15\n",
      "numerator -2.335822227524088; denominator 5.064177772475912; term 1.201598458916956e-15\n",
      "numerator -3.3999999999999995; denominator 3.9999999999999996; term -1.0213586900794126e-15\n",
      "numerator -4.705407289332278; denominator 2.6945927106677208; term 1.7835380487359925e-15\n",
      "numerator -6.094592710667721; denominator 1.305407289332278; term -8.326855595072504e-15\n",
      "numerator -8.464177772475912; denominator -1.0641777724759125; term -6.622952279716468e-14\n",
      "y dp: 1.3745882754335996e-13\n",
      "numerator -1.4; denominator 7.064177772475912; term -3.9273347774736716e-41\n",
      "numerator -1.6412295168563662; denominator 6.822948255619545; term 9.447027176349342e-42\n",
      "numerator -1.6412295168563662; denominator 6.822948255619545; term -2.2724398995109942e-42\n",
      "numerator -2.335822227524088; denominator 6.128355544951823; term 8.661402865835378e-43\n",
      "numerator -3.3999999999999995; denominator 5.064177772475912; term -5.815113739469413e-43\n",
      "numerator -4.705407289332278; denominator 3.7587704831436333; term 7.279635375637821e-43\n",
      "numerator -6.094592710667721; denominator 2.3695850618081904; term -1.872328341858548e-42\n",
      "numerator -7.399999999999999; denominator 1.0641777724759125; term 1.3019657136342663e-41\n",
      "y dp: 1.981670788578653e-40\n",
      "inf\n",
      "numerator -1.541229516856366; denominator -0.2412295168563663; term 0.4831162038518325\n",
      "numerator -1.541229516856366; denominator -0.2412295168563663; term 3.0866577322351048\n",
      "numerator -2.2358222275240878; denominator -0.935822227524088; term 7.374496740421464\n",
      "numerator -3.2999999999999994; denominator -1.9999999999999996; term 12.167919621695416\n",
      "numerator -4.605407289332279; denominator -3.3054072893322783; term 16.95350098083845\n",
      "numerator -5.994592710667721; denominator -4.694592710667721; term 21.648168363806214\n",
      "numerator -7.299999999999999; denominator -5.999999999999999; term 26.33860484263089\n",
      "numerator -8.364177772475912; denominator -7.064177772475912; term 31.18562135300665\n",
      "y dp: 0.07561617991742652\n",
      "numerator -1.2999999999999998; denominator 0.2412295168563663; term -0.5071854128496294\n",
      "numerator -1.541229516856366; denominator 0.0; term inf\n",
      "numerator -2.2358222275240878; denominator -0.6945927106677217; term inf\n",
      "numerator -3.2999999999999994; denominator -1.7587704831436333; term inf\n",
      "numerator -4.605407289332279; denominator -3.064177772475912; term inf\n",
      "numerator -5.994592710667721; denominator -4.453363193811355; term inf\n",
      "numerator -7.299999999999999; denominator -5.758770483143633; term inf\n",
      "numerator -8.364177772475912; denominator -6.822948255619545; term inf\n",
      "y dp: 0.09411391699870213\n",
      "numerator -1.2999999999999998; denominator 0.2412295168563663; term -0.5071854128496294\n",
      "numerator -1.541229516856366; denominator 0.0; term inf\n",
      "numerator -2.2358222275240878; denominator -0.6945927106677217; term inf\n",
      "numerator -3.2999999999999994; denominator -1.7587704831436333; term inf\n",
      "numerator -4.605407289332279; denominator -3.064177772475912; term inf\n",
      "numerator -5.994592710667721; denominator -4.453363193811355; term inf\n",
      "numerator -7.299999999999999; denominator -5.758770483143633; term inf\n",
      "numerator -8.364177772475912; denominator -6.822948255619545; term inf\n",
      "y dp: 0.09411391699870213\n",
      "numerator -1.2999999999999998; denominator 0.935822227524088; term -0.23580649154134686\n",
      "numerator -1.541229516856366; denominator 0.6945927106677217; term 0.5232302606235137\n",
      "numerator -1.541229516856366; denominator 0.6945927106677217; term -1.1609939312639603\n",
      "numerator -3.2999999999999994; denominator -1.0641777724759116; term -3.6002255189536876\n",
      "numerator -4.605407289332279; denominator -2.3695850618081904; term -6.997218675736035\n",
      "numerator -5.994592710667721; denominator -3.7587704831436333; term -11.15936082200857\n",
      "numerator -7.299999999999999; denominator -5.064177772475912; term -16.086191611088438\n",
      "numerator -8.364177772475912; denominator -6.128355544951823; term -21.954954364239992\n",
      "y dp: 0.1697484278298948\n",
      "numerator -1.2999999999999998; denominator 1.9999999999999996; term -0.21495779427877174\n",
      "numerator -1.541229516856366; denominator 1.7587704831436333; term 0.1883698302854252\n",
      "numerator -1.541229516856366; denominator 1.7587704831436333; term -0.16507051107783\n",
      "numerator -2.2358222275240878; denominator 1.0641777724759116; term 0.3468107747805149\n",
      "numerator -4.605407289332279; denominator -1.3054072893322788; term 1.2235299153340375\n",
      "numerator -5.994592710667721; denominator -2.6945927106677217; term 2.7219562654898617\n",
      "numerator -7.299999999999999; denominator -3.9999999999999996; term 4.967570184518998\n",
      "numerator -8.364177772475912; denominator -5.064177772475912; term 8.204617212766992\n",
      "y dp: 0.330704298890418\n",
      "numerator -1.2999999999999998; denominator 3.3054072893322783; term -0.09391212135487\n",
      "numerator -1.541229516856366; denominator 3.064177772475912; term 0.0472362063072372\n",
      "numerator -1.541229516856366; denominator 3.064177772475912; term -0.023759011660151035\n",
      "numerator -2.2358222275240878; denominator 2.3695850618081904; term 0.02241781788294782\n",
      "numerator -3.2999999999999994; denominator 1.3054072893322788; term -0.056671047893081895\n",
      "numerator -5.994592710667721; denominator -1.3891854213354429; term -0.24454608102580913\n",
      "numerator -7.299999999999999; denominator -2.6945927106677208; term -0.662506947495615\n",
      "numerator -8.364177772475912; denominator -3.7587704831436333; term -1.474238959043656\n",
      "y dp: 0.2387829311408037\n",
      "numerator -1.2999999999999998; denominator 4.694592710667721; term -0.00031410013328624477\n",
      "numerator -1.541229516856366; denominator 4.453363193811355; term 0.00010870445000803268\n",
      "numerator -1.541229516856366; denominator 4.453363193811355; term -3.76206699688986e-05\n",
      "numerator -2.2358222275240878; denominator 3.7587704831436333; term 2.237783086464586e-05\n",
      "numerator -3.2999999999999994; denominator 2.6945927106677217; term -2.740556729073613e-05\n",
      "numerator -4.605407289332279; denominator 1.3891854213354429; term 9.085453779648177e-05\n",
      "numerator -7.299999999999999; denominator -1.305407289332278; term 0.0005080698808213077\n",
      "numerator -8.364177772475912; denominator -2.3695850618081904; term 0.0017933885862646685\n",
      "y dp: 0.0011342863047272035\n",
      "numerator -1.2999999999999998; denominator 5.999999999999999; term -2.9782745967727995e-14\n",
      "numerator -1.541229516856366; denominator 5.758770483143633; term 7.970806843727519e-15\n",
      "numerator -1.541229516856366; denominator 5.758770483143633; term -2.1332405617956587e-15\n",
      "numerator -2.2358222275240878; denominator 5.064177772475912; term 9.418205440262105e-16\n",
      "numerator -3.2999999999999994; denominator 3.9999999999999996; term -7.770019488216236e-16\n",
      "numerator -4.605407289332279; denominator 2.6945927106677208; term 1.3279967784228735e-15\n",
      "numerator -5.994592710667721; denominator 1.305407289332278; term -6.0983264554895825e-15\n",
      "numerator -8.364177772475912; denominator -1.0641777724759125; term -4.7931358751868995e-14\n",
      "y dp: 1.3745882754335996e-13\n",
      "numerator -1.2999999999999998; denominator 7.064177772475912; term -3.646810864796981e-41\n",
      "numerator -1.541229516856366; denominator 6.822948255619545; term 8.237747578678115e-42\n",
      "numerator -1.541229516856366; denominator 6.822948255619545; term -1.860817236920099e-42\n",
      "numerator -2.2358222275240878; denominator 6.128355544951823; term 6.7888628672875424e-43\n",
      "numerator -3.2999999999999994; denominator 5.064177772475912; term -4.423866710171942e-43\n",
      "numerator -4.605407289332279; denominator 3.7587704831436333; term 5.420311797548436e-43\n",
      "numerator -5.994592710667721; denominator 2.3695850618081904; term -1.3712342348383804e-42\n",
      "numerator -7.299999999999999; denominator 1.0641777724759125; term 9.406332450480448e-42\n",
      "y dp: 1.981670788578653e-40\n",
      "inf\n",
      "numerator -1.4412295168563665; denominator -0.2412295168563663; term 0.4517700481645706\n",
      "numerator -1.4412295168563665; denominator -0.2412295168563663; term 2.699107210143294\n",
      "numerator -2.135822227524088; denominator -0.935822227524088; term 6.160158419347003\n",
      "numerator -3.1999999999999997; denominator -1.9999999999999996; term 9.856253470955208\n",
      "numerator -4.505407289332279; denominator -3.3054072893322783; term 13.434482454511274\n",
      "numerator -5.894592710667721; denominator -4.694592710667721; term 16.868513890035008\n",
      "numerator -7.199999999999999; denominator -5.999999999999999; term 20.24221666804201\n",
      "numerator -8.264177772475911; denominator -7.064177772475912; term 23.680785286217766\n",
      "y dp: 0.07561617991742652\n",
      "numerator -1.2000000000000002; denominator 0.2412295168563663; term -0.4681711503227349\n",
      "numerator -1.4412295168563665; denominator 0.0; term inf\n",
      "numerator -2.135822227524088; denominator -0.6945927106677217; term inf\n",
      "numerator -3.1999999999999997; denominator -1.7587704831436333; term inf\n",
      "numerator -4.505407289332279; denominator -3.064177772475912; term inf\n",
      "numerator -5.894592710667721; denominator -4.453363193811355; term inf\n",
      "numerator -7.199999999999999; denominator -5.758770483143633; term inf\n",
      "numerator -8.264177772475911; denominator -6.822948255619545; term inf\n",
      "y dp: 0.09411391699870213\n",
      "numerator -1.2000000000000002; denominator 0.2412295168563663; term -0.4681711503227349\n",
      "numerator -1.4412295168563665; denominator 0.0; term inf\n",
      "numerator -2.135822227524088; denominator -0.6945927106677217; term inf\n",
      "numerator -3.1999999999999997; denominator -1.7587704831436333; term inf\n",
      "numerator -4.505407289332279; denominator -3.064177772475912; term inf\n",
      "numerator -5.894592710667721; denominator -4.453363193811355; term inf\n",
      "numerator -7.199999999999999; denominator -5.758770483143633; term inf\n",
      "numerator -8.264177772475911; denominator -6.822948255619545; term inf\n",
      "y dp: 0.09411391699870213\n",
      "numerator -1.2000000000000002; denominator 0.935822227524088; term -0.217667530653551\n",
      "numerator -1.4412295168563665; denominator 0.6945927106677217; term 0.4516443452704289\n",
      "numerator -1.4412295168563665; denominator 0.6945927106677217; term -0.9371292723461907\n",
      "numerator -3.1999999999999997; denominator -1.0641777724759116; term -2.8179630782277876\n",
      "numerator -4.505407289332279; denominator -2.3695850618081904; term -5.357930212485617\n",
      "numerator -5.894592710667721; denominator -3.7587704831436333; term -8.40243279455837\n",
      "numerator -7.199999999999999; denominator -5.064177772475912; term -11.946167539699658\n",
      "numerator -8.264177772475911; denominator -6.128355544951823; term -16.109582990690413\n",
      "y dp: 0.1697484278298948\n",
      "numerator -1.2000000000000002; denominator 1.9999999999999996; term -0.1984225793342509\n",
      "numerator -1.4412295168563665; denominator 1.7587704831436333; term 0.16259795174419128\n",
      "numerator -1.4412295168563665; denominator 1.7587704831436333; term -0.13324135791456634\n",
      "numerator -2.135822227524088; denominator 1.0641777724759116; term 0.2674175886960325\n",
      "numerator -4.505407289332279; denominator -1.3054072893322788; term 0.9229496136972232\n",
      "numerator -5.894592710667721; denominator -2.6945927106677217; term 2.019010904198989\n",
      "numerator -7.199999999999999; denominator -3.9999999999999996; term 3.634219627558181\n",
      "numerator -8.264177772475911; denominator -5.064177772475912; term 5.930644305102711\n",
      "y dp: 0.330704298890418\n",
      "numerator -1.2000000000000002; denominator 3.3054072893322783; term -0.08668811201988001\n",
      "numerator -1.4412295168563665; denominator 3.064177772475912; term 0.04077356964268117\n",
      "numerator -1.4412295168563665; denominator 3.064177772475912; term -0.019177762009920312\n",
      "numerator -2.135822227524088; denominator 2.3695850618081904; term 0.017285849339250446\n",
      "numerator -3.1999999999999997; denominator 1.3054072893322788; term -0.042373532258958915\n",
      "numerator -5.894592710667721; denominator -1.3891854213354429; term -0.1797994065751071\n",
      "numerator -7.199999999999999; denominator -2.6945927106677208; term -0.48042723570642326\n",
      "numerator -8.264177772475911; denominator -3.7587704831436333; term -1.0562858520950429\n",
      "y dp: 0.2387829311408037\n",
      "numerator -1.2000000000000002; denominator 4.694592710667721; term -0.0002899385845719184\n",
      "numerator -1.4412295168563665; denominator 4.453363193811355; term 9.383201593377736e-05\n",
      "numerator -1.4412295168563665; denominator 4.453363193811355; term -3.0366593763972564e-05\n",
      "numerator -2.135822227524088; denominator 3.7587704831436333; term 1.7255016294861273e-05\n",
      "numerator -3.1999999999999997; denominator 2.6945927106677217; term -2.0491427860306762e-05\n",
      "numerator -4.505407289332279; denominator 1.3891854213354429; term 6.645781551745771e-05\n",
      "numerator -7.199999999999999; denominator -1.305407289332278; term 0.0003665494100086178\n",
      "numerator -8.264177772475911; denominator -2.3695850618081904; term 0.0012783797195260104\n",
      "y dp: 0.0011342863047272035\n",
      "numerator -1.2000000000000002; denominator 5.999999999999999; term -2.7491765508672e-14\n",
      "numerator -1.4412295168563665; denominator 5.758770483143633; term 6.880278357605736e-15\n",
      "numerator -1.4412295168563665; denominator 5.758770483143633; term -1.7219057925983518e-15\n",
      "numerator -2.135822227524088; denominator 5.064177772475912; term 7.262155537908767e-16\n",
      "numerator -3.1999999999999997; denominator 3.9999999999999996; term -5.809724430327014e-16\n",
      "numerator -4.505407289332279; denominator 2.6945927106677208; term 9.713963336195968e-16\n",
      "numerator -5.894592710667721; denominator 1.305407289332278; term -4.386359563115581e-15\n",
      "numerator -8.264177772475911; denominator -1.0641777724759125; term -3.406353350084413e-14\n",
      "y dp: 1.3745882754335996e-13\n",
      "numerator -1.2000000000000002; denominator 7.064177772475912; term -3.366286952120291e-41\n",
      "numerator -1.4412295168563665; denominator 6.822948255619545; term 7.110697510578845e-42\n",
      "numerator -1.4412295168563665; denominator 6.822948255619545; term -1.5020115577225277e-42\n",
      "numerator -2.135822227524088; denominator 6.128355544951823; term 5.2347316461174315e-43\n",
      "numerator -3.1999999999999997; denominator 5.064177772475912; term -3.3077711763238578e-43\n",
      "numerator -4.505407289332279; denominator 3.7587704831436333; term 3.964822123639954e-43\n",
      "numerator -5.894592710667721; denominator 2.3695850618081904; term -9.862913117484022e-43\n",
      "numerator -7.199999999999999; denominator 1.0641777724759125; term 6.673036806685635e-42\n",
      "y dp: 1.981670788578653e-40\n",
      "inf\n",
      "numerator -1.3412295168563664; denominator -0.2412295168563663; term 0.4204238924773086\n",
      "numerator -1.3412295168563664; denominator -0.2412295168563663; term 2.337545344908865\n",
      "numerator -2.035822227524088; denominator -0.935822227524088; term 5.085182453510848\n",
      "numerator -3.0999999999999996; denominator -1.9999999999999996; term 7.882032802941816\n",
      "numerator -4.405407289332278; denominator -3.3054072893322783; term 10.505079019127617\n",
      "numerator -5.794592710667722; denominator -4.694592710667721; term 12.966546420715435\n",
      "numerator -7.1; denominator -5.999999999999999; term 15.343746597846598\n",
      "numerator -8.164177772475911; denominator -7.064177772475912; term 17.733001483729186\n",
      "y dp: 0.07561617991742652\n",
      "numerator -1.1; denominator 0.2412295168563663; term -0.4291568877958403\n",
      "numerator -1.3412295168563664; denominator 0.0; term inf\n",
      "numerator -2.035822227524088; denominator -0.6945927106677217; term inf\n",
      "numerator -3.0999999999999996; denominator -1.7587704831436333; term inf\n",
      "numerator -4.405407289332278; denominator -3.064177772475912; term inf\n",
      "numerator -5.794592710667722; denominator -4.453363193811355; term inf\n",
      "numerator -7.1; denominator -5.758770483143633; term inf\n",
      "numerator -8.164177772475911; denominator -6.822948255619545; term inf\n",
      "y dp: 0.09411391699870213\n",
      "numerator -1.1; denominator 0.2412295168563663; term -0.4291568877958403\n",
      "numerator -1.3412295168563664; denominator 0.0; term inf\n",
      "numerator -2.035822227524088; denominator -0.6945927106677217; term inf\n",
      "numerator -3.0999999999999996; denominator -1.7587704831436333; term inf\n",
      "numerator -4.405407289332278; denominator -3.064177772475912; term inf\n",
      "numerator -5.794592710667722; denominator -4.453363193811355; term inf\n",
      "numerator -7.1; denominator -5.758770483143633; term inf\n",
      "numerator -8.164177772475911; denominator -6.822948255619545; term inf\n",
      "y dp: 0.09411391699870213\n",
      "numerator -1.1; denominator 0.935822227524088; term -0.19952856976575506\n",
      "numerator -1.3412295168563664; denominator 0.6945927106677217; term 0.38528133554512073\n",
      "numerator -1.3412295168563664; denominator 0.6945927106677217; term -0.7439621688949171\n",
      "numerator -3.0999999999999996; denominator -1.0641777724759116; term -2.1671968567887436\n",
      "numerator -4.405407289332278; denominator -2.3695850618081904; term -4.029137836912968\n",
      "numerator -5.794592710667722; denominator -3.7587704831436333; term -6.211396211807283\n",
      "numerator -7.1; denominator -5.064177772475912; term -8.708405408578393\n",
      "numerator -8.164177772475911; denominator -6.128355544951823; term -11.60131283978623\n",
      "y dp: 0.1697484278298948\n",
      "numerator -1.1; denominator 1.9999999999999996; term -0.18188736438972997\n",
      "numerator -1.3412295168563664; denominator 1.7587704831436333; term 0.13870638846899078\n",
      "numerator -1.3412295168563664; denominator 1.7587704831436333; term -0.10577679360335439\n",
      "numerator -2.035822227524088; denominator 1.0641777724759116; term 0.20235599083499095\n",
      "numerator -4.405407289332278; denominator -1.3054072893322788; term 0.6828984059990278\n",
      "numerator -5.794592710667722; denominator -2.6945927106677217; term 1.468540351149394\n",
      "numerator -7.1; denominator -3.9999999999999996; term 2.6066591232901746\n",
      "numerator -8.164177772475911; denominator -5.064177772475912; term 4.202306757565236\n",
      "y dp: 0.330704298890418\n",
      "numerator -1.1; denominator 3.3054072893322783; term -0.07946410268489\n",
      "numerator -1.3412295168563664; denominator 3.064177772475912; term 0.03478244670033012\n",
      "numerator -1.3412295168563664; denominator 3.064177772475912; term -0.015224718553215996\n",
      "numerator -2.035822227524088; denominator 2.3695850618081904; term 0.0130802733938506\n",
      "numerator -3.0999999999999996; denominator 1.3054072893322788; term -0.031062219318292422\n",
      "numerator -5.794592710667722; denominator -1.3891854213354429; term -0.1295672319004829\n",
      "numerator -7.1; denominator -2.6945927106677208; term -0.3413975488211984\n",
      "numerator -8.164177772475911; denominator -3.7587704831436333; term -0.7415271275975058\n",
      "y dp: 0.2387829311408037\n",
      "numerator -1.1; denominator 4.694592710667721; term -0.00026577703585759177\n",
      "numerator -1.3412295168563664; denominator 4.453363193811355; term 8.004467407692304e-05\n",
      "numerator -1.3412295168563664; denominator 4.453363193811355; term -2.4107236456327644e-05\n",
      "numerator -2.035822227524088; denominator 3.7587704831436333; term 1.3056941902162806e-05\n",
      "numerator -3.0999999999999996; denominator 2.6945927106677217; term -1.5021386993463136e-05\n",
      "numerator -4.405407289332278; denominator 1.3891854213354429; term 4.763606552483709e-05\n",
      "numerator -7.1; denominator -1.305407289332278; term 0.0002590885373402063\n",
      "numerator -8.164177772475911; denominator -2.3695850618081904; term 0.000892664674397508\n",
      "y dp: 0.0011342863047272035\n",
      "numerator -1.1; denominator 5.999999999999999; term -2.5200785049616e-14\n",
      "numerator -1.3412295168563664; denominator 5.758770483143633; term 5.869314787841074e-15\n",
      "numerator -1.3412295168563664; denominator 5.758770483143633; term -1.3669755133003219e-15\n",
      "numerator -2.035822227524088; denominator 5.064177772475912; term 5.495303007693105e-16\n",
      "numerator -3.0999999999999996; denominator 3.9999999999999996; term -4.2588598309621564e-16\n",
      "numerator -4.405407289332278; denominator 2.6945927106677208; term 6.962837860166217e-16\n",
      "numerator -5.794592710667722; denominator 1.305407289332278; term -3.0907449222777042e-15\n",
      "numerator -8.164177772475911; denominator -1.0641777724759125; term -2.3711631315268403e-14\n",
      "y dp: 1.3745882754335996e-13\n",
      "numerator -1.1; denominator 7.064177772475912; term -3.0857630394435996e-41\n",
      "numerator -1.3412295168563664; denominator 6.822948255619545; term 6.065876972051524e-42\n",
      "numerator -1.3412295168563664; denominator 6.822948255619545; term -1.1924072901819295e-42\n",
      "numerator -2.035822227524088; denominator 6.128355544951823; term 3.96114299800016e-43\n",
      "numerator -3.0999999999999996; denominator 5.064177772475912; term -2.424785196234717e-43\n",
      "numerator -4.405407289332278; denominator 3.7587704831436333; term 2.8419310054875795e-43\n",
      "numerator -5.794592710667722; denominator 2.3695850618081904; term -6.949669355213014e-43\n",
      "numerator -7.1; denominator 1.0641777724759125; term 4.636692637096897e-42\n",
      "y dp: 1.981670788578653e-40\n",
      "inf\n",
      "numerator -1.2412295168563663; denominator -0.2412295168563663; term 0.38907773679004654\n",
      "numerator -1.2412295168563663; denominator -0.2412295168563663; term 2.001972136531818\n",
      "numerator -1.935822227524088; denominator -0.935822227524088; term 4.141237562860119\n",
      "numerator -2.9999999999999996; denominator -1.9999999999999996; term 6.2118563442901795\n",
      "numerator -4.305407289332278; denominator -3.3054072893322783; term 8.091157683141232\n",
      "numerator -5.694592710667721; denominator -4.694592710667721; term 9.814663465603543\n",
      "numerator -6.999999999999999; denominator -5.999999999999999; term 11.4504407098708\n",
      "numerator -8.064177772475912; denominator -7.064177772475912; term 13.071356983309592\n",
      "y dp: 0.07561617991742652\n",
      "numerator -1.0; denominator 0.2412295168563663; term -0.39014262526894566\n",
      "numerator -1.2412295168563663; denominator 0.0; term inf\n",
      "numerator -1.935822227524088; denominator -0.6945927106677217; term inf\n",
      "numerator -2.9999999999999996; denominator -1.7587704831436333; term inf\n",
      "numerator -4.305407289332278; denominator -3.064177772475912; term inf\n",
      "numerator -5.694592710667721; denominator -4.453363193811355; term inf\n",
      "numerator -6.999999999999999; denominator -5.758770483143633; term inf\n",
      "numerator -8.064177772475912; denominator -6.822948255619545; term inf\n",
      "y dp: 0.09411391699870213\n",
      "numerator -1.0; denominator 0.2412295168563663; term -0.39014262526894566\n",
      "numerator -1.2412295168563663; denominator 0.0; term inf\n",
      "numerator -1.935822227524088; denominator -0.6945927106677217; term inf\n",
      "numerator -2.9999999999999996; denominator -1.7587704831436333; term inf\n",
      "numerator -4.305407289332278; denominator -3.064177772475912; term inf\n",
      "numerator -5.694592710667721; denominator -4.453363193811355; term inf\n",
      "numerator -6.999999999999999; denominator -5.758770483143633; term inf\n",
      "numerator -8.064177772475912; denominator -6.822948255619545; term inf\n",
      "y dp: 0.09411391699870213\n",
      "numerator -1.0; denominator 0.935822227524088; term -0.18138960887795913\n",
      "numerator -1.2412295168563663; denominator 0.6945927106677217; term 0.3241412314475894\n",
      "numerator -1.2412295168563663; denominator 0.6945927106677217; term -0.5792368073027285\n",
      "numerator -2.9999999999999996; denominator -1.0641777724759116; term -1.6329136605298902\n",
      "numerator -4.305407289332278; denominator -2.3695850618081904; term -2.966915385401229\n",
      "numerator -5.694592710667721; denominator -3.7587704831436333; term -4.494920560497583\n",
      "numerator -6.999999999999999; denominator -5.064177772475912; term -6.213139691598917\n",
      "numerator -8.064177772475912; denominator -6.128355544951823; term -8.175743497707542\n",
      "y dp: 0.1697484278298948\n",
      "numerator -1.0; denominator 1.9999999999999996; term -0.16535214944520904\n",
      "numerator -1.2412295168563663; denominator 1.7587704831436333; term 0.11669514045982382\n",
      "numerator -1.2412295168563663; denominator 1.7587704831436333; term -0.08235608580008438\n",
      "numerator -1.935822227524088; denominator 1.0641777724759116; term 0.14981213250936698\n",
      "numerator -4.305407289332278; denominator -1.3054072893322788; term 0.49410038737118056\n",
      "numerator -5.694592710667721; denominator -2.6945927106677217; term 1.0442025071628676\n",
      "numerator -6.999999999999999; denominator -3.9999999999999996; term 1.8273543875350182\n",
      "numerator -8.064177772475912; denominator -5.064177772475912; term 2.909872302368177\n",
      "y dp: 0.330704298890418\n",
      "numerator -1.0; denominator 3.3054072893322783; term -0.0722400933499\n",
      "numerator -1.2412295168563663; denominator 3.064177772475912; term 0.02926283748018411\n",
      "numerator -1.2412295168563663; denominator 3.064177772475912; term -0.011853717481289125\n",
      "numerator -1.935822227524088; denominator 2.3695850618081904; term 0.009683843027589017\n",
      "numerator -2.9999999999999996; denominator 1.3054072893322788; term -0.02225476241796307\n",
      "numerator -5.694592710667721; denominator -1.3891854213354429; term -0.09122742428519401\n",
      "numerator -6.999999999999999; denominator -2.6945927106677208; term -0.23699016458710553\n",
      "numerator -8.064177772475912; denominator -3.7587704831436333; term -0.5084457340849334\n",
      "y dp: 0.2387829311408037\n",
      "numerator -1.0; denominator 4.694592710667721; term -0.00024161548714326524\n",
      "numerator -1.2412295168563663; denominator 4.453363193811355; term 6.734242443746988e-05\n",
      "numerator -1.2412295168563663; denominator 4.453363193811355; term -1.8769501006478626e-05\n",
      "numerator -1.935822227524088; denominator 3.7587704831436333; term 9.666569802764044e-06\n",
      "numerator -2.9999999999999996; denominator 2.6945927106677217; term -1.0762186542509419e-05\n",
      "numerator -4.305407289332278; denominator 1.3891854213354429; term 3.335450810067583e-05\n",
      "numerator -6.999999999999999; denominator -1.305407289332278; term 0.0001788572490844277\n",
      "numerator -8.064177772475912; denominator -2.3695850618081904; term 0.0006086874346735655\n",
      "y dp: 0.0011342863047272035\n",
      "numerator -1.0; denominator 5.999999999999999; term -2.2909804590559996e-14\n",
      "numerator -1.2412295168563663; denominator 5.758770483143633; term 4.937916134433534e-15\n",
      "numerator -1.2412295168563663; denominator 5.758770483143633; term -1.0643048330820796e-15\n",
      "numerator -1.935822227524088; denominator 5.064177772475912; term 4.068389865654946e-16\n",
      "numerator -2.9999999999999996; denominator 3.9999999999999996; term -3.05129239924121e-16\n",
      "numerator -4.305407289332278; denominator 2.6945927106677208; term 4.875340338288793e-16\n",
      "numerator -5.694592710667721; denominator 1.305407289332278; term -2.1267751282930718e-15\n",
      "numerator -8.064177772475912; denominator -1.0641777724759125; term -1.611637938718909e-14\n",
      "y dp: 1.3745882754335996e-13\n",
      "numerator -1.0; denominator 7.064177772475912; term -2.8052391267669084e-41\n",
      "numerator -1.2412295168563663; denominator 6.822948255619545; term 5.1032859630961583e-42\n",
      "numerator -1.2412295168563663; denominator 6.822948255619545; term -9.283888625619573e-43\n",
      "numerator -1.935822227524088; denominator 6.128355544951823; term 2.932590615460727e-43\n",
      "numerator -2.9999999999999996; denominator 5.064177772475912; term -1.7372557286986566e-43\n",
      "numerator -4.305407289332278; denominator 3.7587704831436333; term 1.9899042815505793e-43\n",
      "numerator -5.694592710667721; denominator 2.3695850618081904; term -4.782142915771672e-43\n",
      "numerator -6.999999999999999; denominator 1.0641777724759125; term 3.145621086645972e-42\n",
      "y dp: 1.981670788578653e-40\n",
      "inf\n",
      "numerator -1.1412295168563662; denominator -0.2412295168563663; term 0.3577315811027845\n",
      "numerator -1.1412295168563662; denominator -0.2412295168563663; term 1.6923875850121552\n",
      "numerator -1.8358222275240879; denominator -0.935822227524088; term 3.319992467341939\n",
      "numerator -2.8999999999999995; denominator -1.9999999999999996; term 4.813989077645811\n",
      "numerator -4.205407289332278; denominator -3.3054072893322783; term 6.124747417129129\n",
      "numerator -5.594592710667721; denominator -4.694592710667721; term 7.298922263626556\n",
      "numerator -6.899999999999999; denominator -5.999999999999999; term 8.39376060317054\n",
      "numerator -7.964177772475912; denominator -7.064177772475912; term 9.463153926238874\n",
      "y dp: 0.07561617991742652\n",
      "numerator -0.8999999999999999; denominator 0.2412295168563663; term -0.3511283627420511\n",
      "numerator -1.1412295168563662; denominator 0.0; term inf\n",
      "numerator -1.8358222275240879; denominator -0.6945927106677217; term inf\n",
      "numerator -2.8999999999999995; denominator -1.7587704831436333; term inf\n",
      "numerator -4.205407289332278; denominator -3.064177772475912; term inf\n",
      "numerator -5.594592710667721; denominator -4.453363193811355; term inf\n",
      "numerator -6.899999999999999; denominator -5.758770483143633; term inf\n",
      "numerator -7.964177772475912; denominator -6.822948255619545; term inf\n",
      "y dp: 0.09411391699870213\n",
      "numerator -0.8999999999999999; denominator 0.2412295168563663; term -0.3511283627420511\n",
      "numerator -1.1412295168563662; denominator 0.0; term inf\n",
      "numerator -1.8358222275240879; denominator -0.6945927106677217; term inf\n",
      "numerator -2.8999999999999995; denominator -1.7587704831436333; term inf\n",
      "numerator -4.205407289332278; denominator -3.064177772475912; term inf\n",
      "numerator -5.594592710667721; denominator -4.453363193811355; term inf\n",
      "numerator -6.899999999999999; denominator -5.758770483143633; term inf\n",
      "numerator -7.964177772475912; denominator -6.822948255619545; term inf\n",
      "y dp: 0.09411391699870213\n",
      "numerator -0.8999999999999999; denominator 0.935822227524088; term -0.1632506479901632\n",
      "numerator -1.1412295168563662; denominator 0.6945927106677217; term 0.2682240329778348\n",
      "numerator -1.1412295168563662; denominator 0.6945927106677217; term -0.4406973739622135\n",
      "numerator -2.8999999999999995; denominator -1.0641777724759116; term -1.2009482039048582\n",
      "numerator -4.205407289332278; denominator -2.3695850618081904; term -2.131375831242819\n",
      "numerator -5.594592710667721; denominator -3.7587704831436333; term -3.172361745054379\n",
      "numerator -6.899999999999999; denominator -5.064177772475912; term -4.322379075996257\n",
      "numerator -7.964177772475912; denominator -6.128355544951823; term -5.617199444249114\n",
      "y dp: 0.1697484278298948\n",
      "numerator -0.8999999999999999; denominator 1.9999999999999996; term -0.14881693450068814\n",
      "numerator -1.1412295168563662; denominator 1.7587704831436333; term 0.09656420771669046\n",
      "numerator -1.1412295168563662; denominator 1.7587704831436333; term -0.06265850216064639\n",
      "numerator -1.8358222275240879; denominator 1.0641777724759116; term 0.10809272095793986\n",
      "numerator -4.205407289332278; denominator -1.3054072893322788; term 0.3482238228291161\n",
      "numerator -5.594592710667721; denominator -2.6945927106677217; term 0.722992552146355\n",
      "numerator -6.899999999999999; denominator -3.9999999999999996; term 1.2471621524524623\n",
      "numerator -7.964177772475912; denominator -5.064177772475912; term 1.9613492139275728\n",
      "y dp: 0.330704298890418\n",
      "numerator -0.8999999999999999; denominator 3.3054072893322783; term -0.06501608401490999\n",
      "numerator -1.1412295168563662; denominator 3.064177772475912; term 0.02421474198224311\n",
      "numerator -1.1412295168563662; denominator 3.064177772475912; term -0.00901859498539069\n",
      "numerator -1.8358222275240879; denominator 2.3695850618081904; term 0.006987103945778376\n",
      "numerator -2.8999999999999995; denominator 1.3054072893322788; term -0.015522053238358806\n",
      "numerator -5.594592710667721; denominator -1.3891854213354429; term -0.0625111411106218\n",
      "numerator -6.899999999999999; denominator -2.6945927106677208; term -0.1600712686394848\n",
      "numerator -7.964177772475912; denominator -3.7587704831436333; term -0.33916304425281135\n",
      "y dp: 0.2387829311408037\n",
      "numerator -0.8999999999999999; denominator 4.694592710667721; term -0.0002174539384289387\n",
      "numerator -1.1412295168563662; denominator 4.453363193811355; term 5.572526701541784e-05\n",
      "numerator -1.1412295168563662; denominator 4.453363193811355; term -1.4280290374940215e-05\n",
      "numerator -1.8358222275240879; denominator 3.7587704831436333; term 6.974640937343911e-06\n",
      "numerator -2.8999999999999995; denominator 2.6945927106677217; term -7.506313899767513e-06\n",
      "numerator -4.205407289332278; denominator 1.3891854213354429; term 2.27234656405713e-05\n",
      "numerator -6.899999999999999; denominator -1.305407289332278; term 0.00012010957361831628\n",
      "numerator -7.964177772475912; denominator -2.3695850618081904; term 0.00040368839755539656\n",
      "y dp: 0.0011342863047272035\n",
      "numerator -0.8999999999999999; denominator 5.999999999999999; term -2.0618824131503995e-14\n",
      "numerator -1.1412295168563662; denominator 5.758770483143633; term 4.086082397383121e-15\n",
      "numerator -1.1412295168563662; denominator 5.758770483143633; term -8.097488611241351e-16\n",
      "numerator -1.8358222275240879; denominator 5.064177772475912; term 2.935432018290337e-16\n",
      "numerator -2.8999999999999995; denominator 3.9999999999999996; term -2.1281882132604944e-16\n",
      "numerator -4.205407289332278; denominator 2.6945927106677208; term 3.321428945341032e-16\n",
      "numerator -5.594592710667721; denominator 1.305407289332278; term -1.423467014353085e-15\n",
      "numerator -7.964177772475912; denominator -1.0641777724759125; term -1.0653055014659306e-14\n",
      "y dp: 1.3745882754335996e-13\n",
      "numerator -0.8999999999999999; denominator 7.064177772475912; term -2.5247152140902177e-41\n",
      "numerator -1.1412295168563662; denominator 6.822948255619545; term 4.222924483712748e-42\n",
      "numerator -1.1412295168563662; denominator 6.822948255619545; term -7.0634070312626296e-43\n",
      "numerator -1.8358222275240879; denominator 6.128355544951823; term 2.1159280878739882e-43\n",
      "numerator -2.8999999999999995; denominator 5.064177772475912; term -1.2116856339809212e-43\n",
      "numerator -4.205407289332278; denominator 3.7587704831436333; term 1.3556644707023604e-43\n",
      "numerator -5.594592710667721; denominator 2.3695850618081904; term -3.2007251768016794e-43\n",
      "numerator -6.899999999999999; denominator 1.0641777724759125; term 2.075311502564904e-42\n",
      "y dp: 1.981670788578653e-40\n",
      "inf\n",
      "numerator -1.041229516856366; denominator -0.2412295168563663; term 0.32638542541552246\n",
      "numerator -1.041229516856366; denominator -0.2412295168563663; term 1.4087916903498752\n",
      "numerator -1.7358222275240878; denominator -0.935822227524088; term 2.6131158869034246\n",
      "numerator -2.7999999999999994; denominator -1.9999999999999996; term 3.6583622416647943\n",
      "numerator -4.105407289332279; denominator -3.3054072893322783; term 4.54378710376191\n",
      "numerator -5.494592710667721; denominator -4.694592710667721; term 5.3180884983748005\n",
      "numerator -6.799999999999999; denominator -5.999999999999999; term 6.027166964824774\n",
      "numerator -7.864177772475911; denominator -7.064177772475912; term 6.709728152716547\n",
      "y dp: 0.07561617991742652\n",
      "numerator -0.7999999999999998; denominator 0.2412295168563663; term -0.31211410021515645\n",
      "numerator -1.041229516856366; denominator 0.0; term inf\n",
      "numerator -1.7358222275240878; denominator -0.6945927106677217; term inf\n",
      "numerator -2.7999999999999994; denominator -1.7587704831436333; term inf\n",
      "numerator -4.105407289332279; denominator -3.064177772475912; term inf\n",
      "numerator -5.494592710667721; denominator -4.453363193811355; term inf\n",
      "numerator -6.799999999999999; denominator -5.758770483143633; term inf\n",
      "numerator -7.864177772475911; denominator -6.822948255619545; term inf\n",
      "y dp: 0.09411391699870213\n",
      "numerator -0.7999999999999998; denominator 0.2412295168563663; term -0.31211410021515645\n",
      "numerator -1.041229516856366; denominator 0.0; term inf\n",
      "numerator -1.7358222275240878; denominator -0.6945927106677217; term inf\n",
      "numerator -2.7999999999999994; denominator -1.7587704831436333; term inf\n",
      "numerator -4.105407289332279; denominator -3.064177772475912; term inf\n",
      "numerator -5.494592710667721; denominator -4.453363193811355; term inf\n",
      "numerator -6.799999999999999; denominator -5.758770483143633; term inf\n",
      "numerator -7.864177772475911; denominator -6.822948255619545; term inf\n",
      "y dp: 0.09411391699870213\n",
      "numerator -0.7999999999999998; denominator 0.935822227524088; term -0.14511168710236727\n",
      "numerator -1.041229516856366; denominator 0.6945927106677217; term 0.21752974013585705\n",
      "numerator -1.041229516856366; denominator 0.6945927106677217; term -0.32608805526596046\n",
      "numerator -2.7999999999999994; denominator -1.0641777724759116; term -0.8579831099275816\n",
      "numerator -4.105407289332279; denominator -2.3695850618081904; term -1.4864923696526051\n",
      "numerator -5.494592710667721; denominator -3.7587704831436333; term -2.1729632536449506\n",
      "numerator -6.799999999999999; denominator -5.064177772475912; term -2.9177787172272787\n",
      "numerator -7.864177772475911; denominator -6.128355544951823; term -3.7442231222898847\n",
      "y dp: 0.1697484278298948\n",
      "numerator -0.7999999999999998; denominator 1.9999999999999996; term -0.13228171955616722\n",
      "numerator -1.041229516856366; denominator 1.7587704831436333; term 0.07831359023959061\n",
      "numerator -1.041229516856366; denominator 1.7587704831436333; term -0.0463633103409304\n",
      "numerator -1.7358222275240878; denominator 1.0641777724759116; term 0.07562501934629165\n",
      "numerator -4.105407289332279; denominator -1.3054072893322788; term 0.23783497167306902\n",
      "numerator -5.494592710667721; denominator -2.6945927106677217; term 0.484973590451405\n",
      "numerator -6.799999999999999; denominator -3.9999999999999996; term 0.8244551037673884\n",
      "numerator -7.864177772475911; denominator -5.064177772475912; term 1.280298953305091\n",
      "y dp: 0.330704298890418\n",
      "numerator -0.7999999999999998; denominator 3.3054072893322783; term -0.05779207467991999\n",
      "numerator -1.041229516856366; denominator 3.064177772475912; term 0.01963816020650713\n",
      "numerator -1.041229516856366; denominator 3.064177772475912; term -0.006673187256771695\n",
      "numerator -1.7358222275240878; denominator 2.3695850618081904; term 0.004888394578203346\n",
      "numerator -2.7999999999999994; denominator 1.3054072893322788; term -0.010485237006735714\n",
      "numerator -5.494592710667721; denominator -1.3891854213354429; term -0.041471862533260816\n",
      "numerator -6.799999999999999; denominator -2.6945927106677208; term -0.10465725083784246\n",
      "numerator -7.864177772475911; denominator -3.7587704831436333; term -0.21896607666213436\n",
      "y dp: 0.2387829311408037\n",
      "numerator -0.7999999999999998; denominator 4.694592710667721; term -0.00019329238971461216\n",
      "numerator -1.041229516856366; denominator 4.453363193811355; term 4.5193201810766915e-05\n",
      "numerator -1.041229516856366; denominator 4.453363193811355; term -1.0566507522227124e-05\n",
      "numerator -1.7358222275240878; denominator 3.7587704831436333; term 4.879675071046745e-06\n",
      "numerator -2.7999999999999994; denominator 2.6945927106677217; term -5.070558583803622e-06\n",
      "numerator -4.105407289332279; denominator 1.3891854213354429; term 1.4984830571373516e-05\n",
      "numerator -6.799999999999999; denominator -1.305407289332278; term 7.805751409390445e-05\n",
      "numerator -7.864177772475911; denominator -2.3695850618081904; term 0.0002590572405295228\n",
      "y dp: 0.0011342863047272035\n",
      "numerator -0.7999999999999998; denominator 5.999999999999999; term -1.8327843672447994e-14\n",
      "numerator -1.041229516856366; denominator 5.758770483143633; term 3.313813576689832e-15\n",
      "numerator -1.041229516856366; denominator 5.758770483143633; term -5.991627066069965e-16\n",
      "numerator -1.7358222275240878; denominator 5.064177772475912; term 2.05371926255155e-16\n",
      "numerator -2.7999999999999994; denominator 3.9999999999999996; term -1.437603483786085e-16\n",
      "numerator -4.105407289332279; denominator 2.6945927106677208; term 2.190293100007076e-16\n",
      "numerator -5.494592710667721; denominator 1.305407289332278; term -9.219167534816301e-16\n",
      "numerator -7.864177772475911; denominator -1.0641777724759125; term -6.812881671015634e-15\n",
      "y dp: 1.3745882754335996e-13\n",
      "numerator -0.7999999999999998; denominator 7.064177772475912; term -2.2441913014135265e-41\n",
      "numerator -1.041229516856366; denominator 6.822948255619545; term 3.424792533901291e-42\n",
      "numerator -1.041229516856366; denominator 6.822948255619545; term -5.226472401384974e-43\n",
      "numerator -1.7358222275240878; denominator 6.128355544951823; term 1.4803689014646675e-43\n",
      "numerator -2.7999999999999994; denominator 5.064177772475912; term -8.18500674804418e-44\n",
      "numerator -4.105407289332279; denominator 3.7587704831436333; term 8.939834586162574e-44\n",
      "numerator -5.494592710667721; denominator 2.3695850618081904; term -2.0729684172730583e-43\n",
      "numerator -6.799999999999999; denominator 1.0641777724759125; term 1.3246081248869403e-42\n",
      "y dp: 1.981670788578653e-40\n",
      "inf\n",
      "numerator -0.9412295168563665; denominator -0.2412295168563663; term 0.2950392697282606\n",
      "numerator -0.9412295168563665; denominator -0.2412295168563663; term 1.1511844525449795\n",
      "numerator -1.6358222275240881; denominator -0.935822227524088; term 2.0122765414916954\n",
      "numerator -2.6999999999999997; denominator -1.9999999999999996; term 2.716573331013789\n",
      "numerator -4.005407289332279; denominator -3.3054072893322783; term 3.291873487774136\n",
      "numerator -5.394592710667721; denominator -4.694592710667721; term 3.782717227254605\n",
      "numerator -6.699999999999999; denominator -5.999999999999999; term 4.224034237100976\n",
      "numerator -7.764177772475912; denominator -7.064177772475912; term 4.642600142603995\n",
      "y dp: 0.07561617991742652\n",
      "numerator -0.7000000000000002; denominator 0.2412295168563663; term -0.273099837688262\n",
      "numerator -0.9412295168563665; denominator 0.0; term inf\n",
      "numerator -1.6358222275240881; denominator -0.6945927106677217; term inf\n",
      "numerator -2.6999999999999997; denominator -1.7587704831436333; term inf\n",
      "numerator -4.005407289332279; denominator -3.064177772475912; term inf\n",
      "numerator -5.394592710667721; denominator -4.453363193811355; term inf\n",
      "numerator -6.699999999999999; denominator -5.758770483143633; term inf\n",
      "numerator -7.764177772475912; denominator -6.822948255619545; term inf\n",
      "y dp: 0.09411391699870213\n",
      "numerator -0.7000000000000002; denominator 0.2412295168563663; term -0.273099837688262\n",
      "numerator -0.9412295168563665; denominator 0.0; term inf\n",
      "numerator -1.6358222275240881; denominator -0.6945927106677217; term inf\n",
      "numerator -2.6999999999999997; denominator -1.7587704831436333; term inf\n",
      "numerator -4.005407289332279; denominator -3.064177772475912; term inf\n",
      "numerator -5.394592710667721; denominator -4.453363193811355; term inf\n",
      "numerator -6.699999999999999; denominator -5.758770483143633; term inf\n",
      "numerator -7.764177772475912; denominator -6.822948255619545; term inf\n",
      "y dp: 0.09411391699870213\n",
      "numerator -0.7000000000000002; denominator 0.935822227524088; term -0.12697272621457142\n",
      "numerator -0.9412295168563665; denominator 0.6945927106677217; term 0.1720583529216563\n",
      "numerator -0.9412295168563665; denominator 0.6945927106677217; term -0.23315303760655856\n",
      "numerator -2.6999999999999997; denominator -1.0641777724759116; term -0.5915489101722969\n",
      "numerator -4.005407289332279; denominator -2.3695850618081904; term -0.9999195027810646\n",
      "numerator -5.394592710667721; denominator -3.7587704831436333; term -1.4350858838408882\n",
      "numerator -6.699999999999999; denominator -5.064177772475912; term -1.8986449239583216\n",
      "numerator -7.764177772475912; denominator -6.128355544951823; term -2.405444104587653\n",
      "y dp: 0.1697484278298948\n",
      "numerator -0.7000000000000002; denominator 1.9999999999999996; term -0.11574650461164636\n",
      "numerator -0.9412295168563665; denominator 1.7587704831436333; term 0.0619432880285244\n",
      "numerator -0.9412295168563665; denominator 1.7587704831436333; term -0.03314977799682652\n",
      "numerator -1.6358222275240881; denominator 1.0641777724759116; term 0.05095684676680769\n",
      "numerator -4.005407289332279; denominator -1.3054072893322788; term 0.15635191188916905\n",
      "numerator -5.394592710667721; denominator -2.6945927106677217; term 0.31301757806925284\n",
      "numerator -6.699999999999999; denominator -3.9999999999999996; term 0.5243044432659986\n",
      "numerator -7.764177772475912; denominator -5.064177772475912; term 0.8038408380016219\n",
      "y dp: 0.330704298890418\n",
      "numerator -0.7000000000000002; denominator 3.3054072893322783; term -0.05056806534493001\n",
      "numerator -0.9412295168563665; denominator 3.064177772475912; term 0.015533092152976186\n",
      "numerator -0.9412295168563665; denominator 3.064177772475912; term -0.004771330486683153\n",
      "numerator -1.6358222275240881; denominator 2.3695850618081904; term 0.0032938460791205894\n",
      "numerator -2.6999999999999997; denominator 1.3054072893322788; term -0.006812727710578813\n",
      "numerator -5.394592710667721; denominator -1.3891854213354429; term -0.026455713314297788\n",
      "numerator -6.699999999999999; denominator -2.6945927106677208; term -0.06578110246645466\n",
      "numerator -7.764177772475912; denominator -3.7587704831436333; term -0.13587852089118657\n",
      "y dp: 0.2387829311408037\n",
      "numerator -0.7000000000000002; denominator 4.694592710667721; term -0.00016913084100028572\n",
      "numerator -0.9412295168563665; denominator 4.453363193811355; term 3.5746228823517154e-05\n",
      "numerator -0.9412295168563665; denominator 4.453363193811355; term -7.5550554088540836e-06\n",
      "numerator -1.6358222275240881; denominator 3.7587704831436333; term 3.2879707934822937e-06\n",
      "numerator -2.6999999999999997; denominator 2.6945927106677217; term -3.294568825654671e-06\n",
      "numerator -4.005407289332279; denominator 1.3891854213354429; term 9.49915669054353e-06\n",
      "numerator -6.699999999999999; denominator -1.305407289332278; term 4.8754400520619154e-05\n",
      "numerator -7.764177772475912; denominator -2.3695850618081904; term 0.0001597485732559959\n",
      "y dp: 0.0011342863047272035\n",
      "numerator -0.7000000000000002; denominator 5.999999999999999; term -1.6036863213392003e-14\n",
      "numerator -0.9412295168563665; denominator 5.758770483143633; term 2.62110967235367e-15\n",
      "numerator -0.9412295168563665; denominator 5.758770483143633; term -4.28401478711174e-16\n",
      "numerator -1.6358222275240881; denominator 5.064177772475912; term 1.3838152858470952e-16\n",
      "numerator -2.6999999999999997; denominator 3.9999999999999996; term -9.340753179467893e-17\n",
      "numerator -4.005407289332279; denominator 2.6945927106677208; term 1.3884666400520056e-16\n",
      "numerator -5.394592710667721; denominator 1.305407289332278; term -5.737835292203042e-16\n",
      "numerator -7.764177772475912; denominator -1.0641777724759125; term -4.186290523076966e-15\n",
      "y dp: 1.3745882754335996e-13\n",
      "numerator -0.7000000000000002; denominator 7.064177772475912; term -1.9636673887368363e-41\n",
      "numerator -0.9412295168563665; denominator 6.822948255619545; term 2.7088901136617918e-42\n",
      "numerator -0.9412295168563665; denominator 6.822948255619545; term -3.736929018623132e-43\n",
      "numerator -1.6358222275240881; denominator 6.128355544951823; term 9.97486439307358e-44\n",
      "numerator -2.6999999999999997; denominator 5.064177772475912; term -5.318165173362655e-44\n",
      "numerator -4.005407289332279; denominator 3.7587704831436333; term 5.66712377006975e-44\n",
      "numerator -5.394592710667721; denominator 2.3695850618081904; term -1.2901762875370764e-43\n",
      "numerator -6.699999999999999; denominator 1.0641777724759125; term 8.122873217307374e-43\n",
      "y dp: 1.981670788578653e-40\n",
      "inf\n",
      "numerator -0.8412295168563664; denominator -0.2412295168563663; term 0.2636931140409986\n",
      "numerator -0.8412295168563664; denominator -0.2412295168563663; term 0.9195658715974656\n",
      "numerator -1.535822227524088; denominator -0.935822227524088; term 1.509143151053865\n",
      "numerator -2.5999999999999996; denominator -1.9999999999999996; term 1.9618860963700246\n",
      "numerator -3.9054072893322784; denominator -3.3054072893322783; term 2.3180091259346525\n",
      "numerator -5.294592710667722; denominator -4.694592710667721; term 2.6142660243020885\n",
      "numerator -6.6; denominator -5.999999999999999; term 2.8756926267322975\n",
      "numerator -7.664177772475911; denominator -7.064177772475912; term 3.1199412330969474\n",
      "y dp: 0.07561617991742652\n",
      "numerator -0.6000000000000001; denominator 0.2412295168563663; term -0.23408557516136744\n",
      "numerator -0.8412295168563664; denominator 0.0; term inf\n",
      "numerator -1.535822227524088; denominator -0.6945927106677217; term inf\n",
      "numerator -2.5999999999999996; denominator -1.7587704831436333; term inf\n",
      "numerator -3.9054072893322784; denominator -3.064177772475912; term inf\n",
      "numerator -5.294592710667722; denominator -4.453363193811355; term inf\n",
      "numerator -6.6; denominator -5.758770483143633; term inf\n",
      "numerator -7.664177772475911; denominator -6.822948255619545; term inf\n",
      "y dp: 0.09411391699870213\n",
      "numerator -0.6000000000000001; denominator 0.2412295168563663; term -0.23408557516136744\n",
      "numerator -0.8412295168563664; denominator 0.0; term inf\n",
      "numerator -1.535822227524088; denominator -0.6945927106677217; term inf\n",
      "numerator -2.5999999999999996; denominator -1.7587704831436333; term inf\n",
      "numerator -3.9054072893322784; denominator -3.064177772475912; term inf\n",
      "numerator -5.294592710667722; denominator -4.453363193811355; term inf\n",
      "numerator -6.6; denominator -5.758770483143633; term inf\n",
      "numerator -7.664177772475911; denominator -6.822948255619545; term inf\n",
      "y dp: 0.09411391699870213\n",
      "numerator -0.6000000000000001; denominator 0.935822227524088; term -0.1088337653267755\n",
      "numerator -0.8412295168563664; denominator 0.6945927106677217; term 0.13180987133523214\n",
      "numerator -0.8412295168563664; denominator 0.6945927106677217; term -0.15963650737659543\n",
      "numerator -2.5999999999999996; denominator -1.0641777724759116; term -0.3900240447735372\n",
      "numerator -3.9054072893322784; denominator -2.3695850618081904; term -0.6428141247274326\n",
      "numerator -5.294592710667722; denominator -3.7587704831436333; term -0.9054660278830494\n",
      "numerator -6.6; denominator -5.064177772475912; term -1.18006832550556\n",
      "numerator -7.664177772475911; denominator -6.128355544951823; term -1.475804294317209\n",
      "y dp: 0.1697484278298948\n",
      "numerator -0.6000000000000001; denominator 1.9999999999999996; term -0.09921128966712545\n",
      "numerator -0.8412295168563664; denominator 1.7587704831436333; term 0.047453301083491675\n",
      "numerator -0.8412295168563664; denominator 1.7587704831436333; term -0.022697172784224694\n",
      "numerator -1.535822227524088; denominator 1.0641777724759116; term 0.032756578238675935\n",
      "numerator -3.9054072893322784; denominator -1.3054072893322788; term 0.09799836455053325\n",
      "numerator -5.294592710667722; denominator -2.6945927106677217; term 0.1925565316615279\n",
      "numerator -6.6; denominator -3.9999999999999996; term 0.317718277241521\n",
      "numerator -7.664177772475911; denominator -5.064177772475912; term 0.48083804869142505\n",
      "y dp: 0.330704298890418\n",
      "numerator -0.6000000000000001; denominator 3.3054072893322783; term -0.043344056009940006\n",
      "numerator -0.8412295168563664; denominator 3.064177772475912; term 0.011899537821650246\n",
      "numerator -0.8412295168563664; denominator 3.064177772475912; term -0.0032668608663760507\n",
      "numerator -1.535822227524088; denominator 2.3695850618081904; term 0.002117382327258726\n",
      "numerator -2.5999999999999996; denominator 1.3054072893322788; term -0.0042172233109626775\n",
      "numerator -5.294592710667722; denominator -1.3891854213354429; term -0.016073073801779688\n",
      "numerator -6.6; denominator -2.6945927106677208; term -0.03936857940414257\n",
      "numerator -7.664177772475911; denominator -3.7587704831436333; term -0.08027300218416995\n",
      "y dp: 0.2387829311408037\n",
      "numerator -0.6000000000000001; denominator 4.694592710667721; term -0.0001449692922859592\n",
      "numerator -0.8412295168563664; denominator 4.453363193811355; term 2.7384348053668478e-05\n",
      "numerator -0.8412295168563664; denominator 4.453363193811355; term -5.172836995335787e-06\n",
      "numerator -1.535822227524088; denominator 3.7587704831436333; term 2.113605518725692e-06\n",
      "numerator -2.5999999999999996; denominator 2.6945927106677217; term -2.039408155054736e-06\n",
      "numerator -3.9054072893322784; denominator 1.3891854213354429; term 5.7333739271593184e-06\n",
      "numerator -6.6; denominator -1.305407289332278; term 2.898732696567596e-05\n",
      "numerator -7.664177772475911; denominator -2.3695850618081904; term 9.375651062059603e-05\n",
      "y dp: 0.0011342863047272035\n",
      "numerator -0.6000000000000001; denominator 5.999999999999999; term -1.3745882754336e-14\n",
      "numerator -0.8412295168563664; denominator 5.758770483143633; term 2.0079706843746286e-15\n",
      "numerator -0.8412295168563664; denominator 5.758770483143633; term -2.933202866171747e-16\n",
      "numerator -1.535822227524088; denominator 5.064177772475912; term 8.89557666041701e-17\n",
      "numerator -2.5999999999999996; denominator 3.9999999999999996; term -5.782124829271056e-17\n",
      "numerator -3.9054072893322784; denominator 2.6945927106677208; term 8.380321213913113e-17\n",
      "numerator -5.294592710667722; denominator 1.305407289332278; term -3.398968886939042e-16\n",
      "numerator -7.664177772475911; denominator -1.0641777724759125; term -2.4479276363766597e-15\n",
      "y dp: 1.3745882754335996e-13\n",
      "numerator -0.6000000000000001; denominator 7.064177772475912; term -1.6831434760601454e-41\n",
      "numerator -0.8412295168563664; denominator 6.822948255619545; term 2.0752172229942438e-42\n",
      "numerator -0.8412295168563664; denominator 6.822948255619545; term -2.558621165613603e-43\n",
      "numerator -1.535822227524088; denominator 6.128355544951823; term 6.412139813265116e-44\n",
      "numerator -2.5999999999999996; denominator 5.064177772475912; term -3.2920573217433587e-44\n",
      "numerator -3.9054072893322784; denominator 3.7587704831436333; term 3.4204867572769316e-44\n",
      "numerator -5.294592710667722; denominator 2.3695850618081904; term -7.642723843892911e-44\n",
      "numerator -6.6; denominator 1.0641777724759125; term 4.739995391215048e-43\n",
      "y dp: 1.981670788578653e-40\n",
      "inf\n",
      "numerator -0.7412295168563663; denominator -0.2412295168563663; term 0.23234695835373653\n",
      "numerator -0.7412295168563663; denominator -0.2412295168563663; term 0.7139359475073345\n",
      "numerator -1.435822227524088; denominator -0.935822227524088; term 1.0953844355370537\n",
      "numerator -2.4999999999999996; denominator -1.9999999999999996; term 1.369230544421317\n",
      "numerator -3.8054072893322783; denominator -3.3054072893322783; term 1.5763503370169694\n",
      "numerator -5.194592710667721; denominator -4.694592710667721; term 1.7442403366579353\n",
      "numerator -6.499999999999999; denominator -5.999999999999999; term 1.8895936980460966\n",
      "numerator -7.564177772475912; denominator -7.064177772475912; term 2.023338470538127\n",
      "y dp: 0.07561617991742652\n",
      "numerator -0.5; denominator 0.2412295168563663; term -0.19507131263447283\n",
      "numerator -0.7412295168563663; denominator 0.0; term inf\n",
      "numerator -1.435822227524088; denominator -0.6945927106677217; term inf\n",
      "numerator -2.4999999999999996; denominator -1.7587704831436333; term inf\n",
      "numerator -3.8054072893322783; denominator -3.064177772475912; term inf\n",
      "numerator -5.194592710667721; denominator -4.453363193811355; term inf\n",
      "numerator -6.499999999999999; denominator -5.758770483143633; term inf\n",
      "numerator -7.564177772475912; denominator -6.822948255619545; term inf\n",
      "y dp: 0.09411391699870213\n",
      "numerator -0.5; denominator 0.2412295168563663; term -0.19507131263447283\n",
      "numerator -0.7412295168563663; denominator 0.0; term inf\n",
      "numerator -1.435822227524088; denominator -0.6945927106677217; term inf\n",
      "numerator -2.4999999999999996; denominator -1.7587704831436333; term inf\n",
      "numerator -3.8054072893322783; denominator -3.064177772475912; term inf\n",
      "numerator -5.194592710667721; denominator -4.453363193811355; term inf\n",
      "numerator -6.499999999999999; denominator -5.758770483143633; term inf\n",
      "numerator -7.564177772475912; denominator -6.822948255619545; term inf\n",
      "y dp: 0.09411391699870213\n",
      "numerator -0.5; denominator 0.935822227524088; term -0.09069480443897956\n",
      "numerator -0.7412295168563663; denominator 0.6945927106677217; term 0.09678429537658476\n",
      "numerator -0.7412295168563663; denominator 0.6945927106677217; term -0.10328265096866003\n",
      "numerator -2.4999999999999996; denominator -1.0641777724759116; term -0.24263486242614105\n",
      "numerator -3.8054072893322783; denominator -2.3695850618081904; term -0.38965660655287826\n",
      "numerator -5.194592710667721; denominator -3.7587704831436333; term -0.5385025175493683\n",
      "numerator -6.499999999999999; denominator -5.064177772475912; term -0.6911815740543383\n",
      "numerator -7.564177772475912; denominator -6.128355544951823; term -0.8531196111024332\n",
      "y dp: 0.1697484278298948\n",
      "numerator -0.5; denominator 1.9999999999999996; term -0.08267607472260452\n",
      "numerator -0.7412295168563663; denominator 1.7587704831436333; term 0.0348436294044925\n",
      "numerator -0.7412295168563663; denominator 1.7587704831436333; term -0.014684762359015002\n",
      "numerator -1.435822227524088; denominator 1.0641777724759116; term 0.019813144707887673\n",
      "numerator -3.8054072893322783; denominator -1.3054072893322788; term 0.05775751821836151\n",
      "numerator -5.194592710667721; denominator -2.6945927106677217; term 0.11134401942659898\n",
      "numerator -6.499999999999999; denominator -3.9999999999999996; term 0.18093403156822335\n",
      "numerator -7.564177772475912; denominator -5.064177772475912; term 0.2702545687300554\n",
      "y dp: 0.330704298890418\n",
      "numerator -0.5; denominator 3.3054072893322783; term -0.03612004667495\n",
      "numerator -0.7412295168563663; denominator 3.064177772475912; term 0.008737497212529323\n",
      "numerator -0.7412295168563663; denominator 3.064177772475912; term -0.002113614587101398\n",
      "numerator -1.435822227524088; denominator 2.3695850618081904; term 0.0012807199258183832\n",
      "numerator -2.4999999999999996; denominator 1.3054072893322788; term -0.002452720955912305\n",
      "numerator -5.194592710667721; denominator -1.3891854213354429; term -0.009171480065372438\n",
      "numerator -6.499999999999999; denominator -2.6945927106677208; term -0.02212379636778143\n",
      "numerator -7.564177772475912; denominator -3.7587704831436333; term -0.04452209292332063\n",
      "y dp: 0.2387829311408037\n",
      "numerator -0.5; denominator 4.694592710667721; term -0.00012080774357163262\n",
      "numerator -0.7412295168563663; denominator 4.453363193811355; term 2.0107559501220916e-05\n",
      "numerator -0.7412295168563663; denominator 4.453363193811355; term -3.3467552421869604e-06\n",
      "numerator -1.435822227524088; denominator 3.7587704831436333; term 1.2784354853174933e-06\n",
      "numerator -2.4999999999999996; denominator 2.6945927106677217; term -1.1861119866615167e-06\n",
      "numerator -3.8054072893322783; denominator 1.3891854213354429; term 3.249126524569415e-06\n",
      "numerator -6.499999999999999; denominator -1.305407289332278; term 1.6178339574389715e-05\n",
      "numerator -7.564177772475912; denominator -2.3695850618081904; term 5.164441596824684e-05\n",
      "y dp: 0.0011342863047272035\n",
      "numerator -0.5; denominator 5.999999999999999; term -1.1454902295279998e-14\n",
      "numerator -0.7412295168563663; denominator 5.758770483143633; term 1.4743966127527125e-15\n",
      "numerator -0.7412295168563663; denominator 5.758770483143633; term -1.8977423950550908e-16\n",
      "numerator -1.435822227524088; denominator 5.064177772475912; term 5.3805787145634e-17\n",
      "numerator -2.4999999999999996; denominator 3.9999999999999996; term -3.362861696602125e-17\n",
      "numerator -3.8054072893322783; denominator 2.6945927106677208; term 4.7491624105577444e-17\n",
      "numerator -5.194592710667721; denominator 1.305407289332278; term -1.8898289170944653e-16\n",
      "numerator -7.564177772475912; denominator -1.0641777724759125; term -1.3432907788714166e-15\n",
      "y dp: 1.3745882754335996e-13\n",
      "numerator -0.5; denominator 7.064177772475912; term -1.4026195633834542e-41\n",
      "numerator -0.7412295168563663; denominator 6.822948255619545; term 1.52377386189865e-42\n",
      "numerator -0.7412295168563663; denominator 6.822948255619545; term -1.655393124992909e-43\n",
      "numerator -1.435822227524088; denominator 6.128355544951823; term 3.878447042964549e-44\n",
      "numerator -2.4999999999999996; denominator 5.064177772475912; term -1.9146479533381134e-44\n",
      "numerator -3.8054072893322783; denominator 3.7587704831436333; term 1.938403877228586e-44\n",
      "numerator -5.194592710667721; denominator 2.3695850618081904; term -4.2493594398751023e-44\n",
      "numerator -6.499999999999999; denominator 1.0641777724759125; term 2.5955096106664223e-43\n",
      "y dp: 1.981670788578653e-40\n",
      "inf\n",
      "numerator -0.6412295168563662; denominator -0.2412295168563663; term 0.2010008026664745\n",
      "numerator -0.6412295168563662; denominator -0.2412295168563663; term 0.5342946802745867\n",
      "numerator -1.3358222275240879; denominator -0.935822227524088; term 0.7626691148883804\n",
      "numerator -2.3999999999999995; denominator -1.9999999999999996; term 0.9152029378660564\n",
      "numerator -3.7054072893322783; denominator -3.3054072893322783; term 1.0259551517695884\n",
      "numerator -5.094592710667721; denominator -4.694592710667721; term 1.1133710547030433\n",
      "numerator -6.399999999999999; denominator -5.999999999999999; term 1.1875957916832462\n",
      "numerator -7.464177772475912; denominator -7.064177772475912; term 1.254841879193131\n",
      "y dp: 0.07561617991742652\n",
      "numerator -0.3999999999999999; denominator 0.2412295168563663; term -0.15605705010757823\n",
      "numerator -0.6412295168563662; denominator 0.0; term inf\n",
      "numerator -1.3358222275240879; denominator -0.6945927106677217; term inf\n",
      "numerator -2.3999999999999995; denominator -1.7587704831436333; term inf\n",
      "numerator -3.7054072893322783; denominator -3.064177772475912; term inf\n",
      "numerator -5.094592710667721; denominator -4.453363193811355; term inf\n",
      "numerator -6.399999999999999; denominator -5.758770483143633; term inf\n",
      "numerator -7.464177772475912; denominator -6.822948255619545; term inf\n",
      "y dp: 0.09411391699870213\n",
      "numerator -0.3999999999999999; denominator 0.2412295168563663; term -0.15605705010757823\n",
      "numerator -0.6412295168563662; denominator 0.0; term inf\n",
      "numerator -1.3358222275240879; denominator -0.6945927106677217; term inf\n",
      "numerator -2.3999999999999995; denominator -1.7587704831436333; term inf\n",
      "numerator -3.7054072893322783; denominator -3.064177772475912; term inf\n",
      "numerator -5.094592710667721; denominator -4.453363193811355; term inf\n",
      "numerator -6.399999999999999; denominator -5.758770483143633; term inf\n",
      "numerator -7.464177772475912; denominator -6.822948255619545; term inf\n",
      "y dp: 0.09411391699870213\n",
      "numerator -0.3999999999999999; denominator 0.935822227524088; term -0.07255584355118364\n",
      "numerator -0.6412295168563662; denominator 0.6945927106677217; term 0.06698162504571419\n",
      "numerator -0.6412295168563662; denominator 0.6945927106677217; term -0.061835654775341045\n",
      "numerator -2.3999999999999995; denominator -1.0641777724759116; term -0.139455620385247\n",
      "numerator -3.7054072893322783; denominator -2.3695850618081904; term -0.2180718812936531\n",
      "numerator -5.094592710667721; denominator -3.7587704831436333; term -0.295572028625454\n",
      "numerator -6.399999999999999; denominator -5.064177772475912; term -0.3735376339835833\n",
      "numerator -7.464177772475912; denominator -6.128355544951823; term -0.45495912962494794\n",
      "y dp: 0.1697484278298948\n",
      "numerator -0.3999999999999999; denominator 1.9999999999999996; term -0.06614085977808361\n",
      "numerator -0.6412295168563662; denominator 1.7587704831436333; term 0.02411427299152689\n",
      "numerator -0.6412295168563662; denominator 1.7587704831436333; term -0.008791814377087492\n",
      "numerator -1.3358222275240879; denominator 1.0641777724759116; term 0.01103603304723709\n",
      "numerator -3.7054072893322783; denominator -1.3054072893322788; term 0.03132585334302918\n",
      "numerator -5.094592710667721; denominator -2.6945927106677217; term 0.059226933801544875\n",
      "numerator -6.399999999999999; denominator -3.9999999999999996; term 0.09476309408247179\n",
      "numerator -7.464177772475912; denominator -5.064177772475912; term 0.13967293651218166\n",
      "y dp: 0.330704298890418\n",
      "numerator -0.3999999999999999; denominator 3.3054072893322783; term -0.028896037339959994\n",
      "numerator -0.6412295168563662; denominator 3.064177772475912; term 0.006046970325613418\n",
      "numerator -0.6412295168563662; denominator 3.064177772475912; term -0.0012654278401101995\n",
      "numerator -1.3358222275240879; denominator 2.3695850618081904; term 0.0007133682024721646\n",
      "numerator -2.3999999999999995; denominator 1.3054072893322788; term -0.0013115321937637813\n",
      "numerator -5.094592710667721; denominator -1.3891854213354429; term -0.0048098131837086035\n",
      "numerator -6.399999999999999; denominator -2.6945927106677208; term -0.01142391733409947\n",
      "numerator -7.464177772475912; denominator -3.7587704831436333; term -0.022685649528798094\n",
      "y dp: 0.2387829311408037\n",
      "numerator -0.3999999999999999; denominator 4.694592710667721; term -9.664619485730608e-05\n",
      "numerator -0.6412295168563662; denominator 4.453363193811355; term 1.3915863166174487e-05\n",
      "numerator -0.6412295168563662; denominator 4.453363193811355; term -2.0037131099223253e-06\n",
      "numerator -1.3358222275240879; denominator 3.7587704831436333; term 7.120957562636519e-07\n",
      "numerator -2.3999999999999995; denominator 2.6945927106677217; term -6.342442062827616e-07\n",
      "numerator -3.7054072893322783; denominator 1.3891854213354429; term 1.691734644693935e-06\n",
      "numerator -6.399999999999999; denominator -1.305407289332278; term 8.294041112317749e-06\n",
      "numerator -7.464177772475912; denominator -2.3695850618081904; term 2.6126176397872136e-05\n",
      "y dp: 0.0011342863047272035\n",
      "numerator -0.3999999999999999; denominator 5.999999999999999; term -9.163921836223997e-15\n",
      "numerator -0.6412295168563662; denominator 5.758770483143633; term 1.020387457487921e-15\n",
      "numerator -0.6412295168563662; denominator 5.758770483143633; term -1.1361844655668597e-16\n",
      "numerator -1.3358222275240879; denominator 5.064177772475912; term 2.9970126086820885e-17\n",
      "numerator -2.3999999999999995; denominator 3.9999999999999996; term -1.7982075652092532e-17\n",
      "numerator -3.7054072893322783; denominator 2.6945927106677208; term 2.4727638405166246e-17\n",
      "numerator -5.094592710667721; denominator 1.305407289332278; term -9.650416954192519e-17\n",
      "numerator -7.464177772475912; denominator -1.0641777724759125; term -6.768834079010886e-16\n",
      "y dp: 1.3745882754335996e-13\n",
      "numerator -0.3999999999999999; denominator 7.064177772475912; term -1.1220956507067633e-41\n",
      "numerator -0.6412295168563662; denominator 6.822948255619545; term 1.054560030375011e-42\n",
      "numerator -0.6412295168563662; denominator 6.822948255619545; term -9.910891793975661e-44\n",
      "numerator -1.3358222275240879; denominator 6.128355544951823; term 2.1603168184137803e-44\n",
      "numerator -2.3999999999999995; denominator 5.064177772475912; term -1.0238108923372582e-44\n",
      "numerator -3.7054072893322783; denominator 3.7587704831436333; term 1.009275868366261e-44\n",
      "numerator -5.094592710667721; denominator 2.3695850618081904; term -2.169936654693429e-44\n",
      "numerator -6.399999999999999; denominator 1.0641777724759125; term 1.3050070156724953e-43\n",
      "y dp: 1.981670788578653e-40\n",
      "inf\n",
      "numerator -0.5412295168563661; denominator -0.2412295168563663; term 0.16965464697921248\n",
      "numerator -0.5412295168563661; denominator -0.2412295168563663; term 0.380642069899222\n",
      "numerator -1.2358222275240878; denominator -0.935822227524088; term 0.5026659090549629\n",
      "numerator -2.2999999999999994; denominator -1.9999999999999996; term 0.5780657954132072\n",
      "numerator -3.605407289332278; denominator -3.3054072893322783; term 0.6305312628863532\n",
      "numerator -4.994592710667721; denominator -4.694592710667721; term 0.6708242958551284\n",
      "numerator -6.299999999999999; denominator -5.999999999999999; term 0.7043655106478848\n",
      "numerator -7.364177772475911; denominator -7.064177772475912; term 0.7342783554261815\n",
      "y dp: 0.07561617991742652\n",
      "numerator -0.2999999999999998; denominator 0.2412295168563663; term -0.11704278758068364\n",
      "numerator -0.5412295168563661; denominator 0.0; term inf\n",
      "numerator -1.2358222275240878; denominator -0.6945927106677217; term inf\n",
      "numerator -2.2999999999999994; denominator -1.7587704831436333; term inf\n",
      "numerator -3.605407289332278; denominator -3.064177772475912; term inf\n",
      "numerator -4.994592710667721; denominator -4.453363193811355; term inf\n",
      "numerator -6.299999999999999; denominator -5.758770483143633; term inf\n",
      "numerator -7.364177772475911; denominator -6.822948255619545; term inf\n",
      "y dp: 0.09411391699870213\n",
      "numerator -0.2999999999999998; denominator 0.2412295168563663; term -0.11704278758068364\n",
      "numerator -0.5412295168563661; denominator 0.0; term inf\n",
      "numerator -1.2358222275240878; denominator -0.6945927106677217; term inf\n",
      "numerator -2.2999999999999994; denominator -1.7587704831436333; term inf\n",
      "numerator -3.605407289332278; denominator -3.064177772475912; term inf\n",
      "numerator -4.994592710667721; denominator -4.453363193811355; term inf\n",
      "numerator -6.299999999999999; denominator -5.758770483143633; term inf\n",
      "numerator -7.364177772475911; denominator -6.822948255619545; term inf\n",
      "y dp: 0.09411391699870213\n",
      "numerator -0.2999999999999998; denominator 0.935822227524088; term -0.05441688266338771\n",
      "numerator -0.5412295168563661; denominator 0.6945927106677217; term 0.04240186034262043\n",
      "numerator -0.5412295168563661; denominator 0.6945927106677217; term -0.03303970518922699\n",
      "numerator -2.2999999999999994; denominator -1.0641777724759116; term -0.07140848446629454\n",
      "numerator -3.605407289332278; denominator -2.3695850618081904; term -0.10865052897425351\n",
      "numerator -4.994592710667721; denominator -3.7587704831436333; term -0.144373044978033\n",
      "numerator -6.299999999999999; denominator -5.064177772475912; term -0.17960471062154723\n",
      "numerator -7.364177772475911; denominator -6.128355544951823; term -0.2158231532243066\n",
      "y dp: 0.1697484278298948\n",
      "numerator -0.2999999999999998; denominator 1.9999999999999996; term -0.04960564483356268\n",
      "numerator -0.5412295168563661; denominator 1.7587704831436333; term 0.01526523184459483\n",
      "numerator -0.5412295168563661; denominator 1.7587704831436333; term -0.004697596494332197\n",
      "numerator -1.2358222275240878; denominator 1.0641777724759116; term 0.005455286056321356\n",
      "numerator -3.605407289332278; denominator -1.3054072893322788; term 0.015066966665181014\n",
      "numerator -4.994592710667721; denominator -2.6945927106677217; term 0.027927545999758458\n",
      "numerator -6.299999999999999; denominator -3.9999999999999996; term 0.04398588494961957\n",
      "numerator -7.364177772475911; denominator -5.064177772475912; term 0.06396297499846743\n",
      "y dp: 0.330704298890418\n",
      "numerator -0.2999999999999998; denominator 3.3054072893322783; term -0.021672028004969986\n",
      "numerator -0.5412295168563661; denominator 3.064177772475912; term 0.0038279571609025334\n",
      "numerator -0.5412295168563661; denominator 3.064177772475912; term -0.0006761368166534573\n",
      "numerator -1.2358222275240878; denominator 2.3695850618081904; term 0.0003526292093646559\n",
      "numerator -2.2999999999999994; denominator 1.3054072893322788; term -0.0006212981865250365\n",
      "numerator -4.994592710667721; denominator -1.3891854213354429; term -0.002233777684325206\n",
      "numerator -6.299999999999999; denominator -2.6945927106677208; term -0.005222607244328792\n",
      "numerator -7.364177772475911; denominator -3.7587704831436333; term -0.010232124668301566\n",
      "y dp: 0.2387829311408037\n",
      "numerator -0.2999999999999998; denominator 4.694592710667721; term -7.248464614297953e-05\n",
      "numerator -0.5412295168563661; denominator 4.453363193811355; term 8.809259048529177e-06\n",
      "numerator -0.5412295168563661; denominator 4.453363193811355; term -1.0706135590565946e-06\n",
      "numerator -1.2358222275240878; denominator 3.7587704831436333; term 3.5200021903552157e-07\n",
      "numerator -2.2999999999999994; denominator 2.6945927106677217; term -3.0045375710271253e-07\n",
      "numerator -3.605407289332278; denominator 1.3891854213354429; term 7.797793939732241e-07\n",
      "numerator -6.299999999999999; denominator -1.305407289332278; term 3.763277731154799e-06\n",
      "numerator -7.364177772475911; denominator -2.3695850618081904; term 1.169548486192603e-05\n",
      "y dp: 0.0011342863047272035\n",
      "numerator -0.2999999999999998; denominator 5.999999999999999; term -6.872941377167995e-15\n",
      "numerator -0.5412295168563661; denominator 5.758770483143633; term 6.459432185802537e-16\n",
      "numerator -0.5412295168563661; denominator 5.758770483143633; term -6.07080169512144e-17\n",
      "numerator -1.2358222275240878; denominator 5.064177772475912; term 1.4814708351073533e-17\n",
      "numerator -2.2999999999999994; denominator 3.9999999999999996; term -8.51845730186728e-18\n",
      "numerator -3.605407289332278; denominator 2.6945927106677208; term 1.1397829411632119e-17\n",
      "numerator -4.994592710667721; denominator 1.305407289332278; term -4.360900706008056e-17\n",
      "numerator -7.364177772475911; denominator -1.0641777724759125; term -3.017770985052776e-16\n",
      "y dp: 1.3745882754335996e-13\n",
      "numerator -0.2999999999999998; denominator 7.064177772475912; term -8.41571738030072e-42\n",
      "numerator -0.5412295168563661; denominator 6.822948255619545; term 6.6757572842332646e-43\n",
      "numerator -0.5412295168563661; denominator 6.822948255619545; term -5.295536114640891e-44\n",
      "numerator -1.2358222275240878; denominator 6.128355544951823; term 1.0678788443533762e-44\n",
      "numerator -2.2999999999999994; denominator 5.064177772475912; term -4.8499903683514445e-45\n",
      "numerator -3.605407289332278; denominator 3.7587704831436333; term 4.6521038476978596e-45\n",
      "numerator -4.994592710667721; denominator 2.3695850618081904; term -9.805667811414405e-45\n",
      "numerator -6.299999999999999; denominator 1.0641777724759125; term 5.805017621086333e-44\n",
      "y dp: 1.981670788578653e-40\n",
      "inf\n",
      "numerator -0.44122951685636647; denominator -0.2412295168563663; term 0.13830849129195058\n",
      "numerator -0.44122951685636647; denominator -0.2412295168563663; term 0.2529781163812408\n",
      "numerator -1.1358222275240881; denominator -0.935822227524088; term 0.30704353798392003\n",
      "numerator -2.1999999999999997; denominator -1.9999999999999996; term 0.33774789178231207\n",
      "numerator -3.5054072893322785; denominator -3.3054072893322783; term 0.3581839749768004\n",
      "numerator -4.894592710667721; denominator -4.694592710667721; term 0.3734434020262602\n",
      "numerator -6.199999999999999; denominator -5.999999999999999; term 0.38589151542713557\n",
      "numerator -7.264177772475912; denominator -7.064177772475912; term 0.39681682132559926\n",
      "y dp: 0.07561617991742652\n",
      "numerator -0.20000000000000018; denominator 0.2412295168563663; term -0.07802852505378921\n",
      "numerator -0.44122951685636647; denominator 0.0; term inf\n",
      "numerator -1.1358222275240881; denominator -0.6945927106677217; term inf\n",
      "numerator -2.1999999999999997; denominator -1.7587704831436333; term inf\n",
      "numerator -3.5054072893322785; denominator -3.064177772475912; term inf\n",
      "numerator -4.894592710667721; denominator -4.453363193811355; term inf\n",
      "numerator -6.199999999999999; denominator -5.758770483143633; term inf\n",
      "numerator -7.264177772475912; denominator -6.822948255619545; term inf\n",
      "y dp: 0.09411391699870213\n",
      "numerator -0.20000000000000018; denominator 0.2412295168563663; term -0.07802852505378921\n",
      "numerator -0.44122951685636647; denominator 0.0; term inf\n",
      "numerator -1.1358222275240881; denominator -0.6945927106677217; term inf\n",
      "numerator -2.1999999999999997; denominator -1.7587704831436333; term inf\n",
      "numerator -3.5054072893322785; denominator -3.064177772475912; term inf\n",
      "numerator -4.894592710667721; denominator -4.453363193811355; term inf\n",
      "numerator -6.199999999999999; denominator -5.758770483143633; term inf\n",
      "numerator -7.264177772475912; denominator -6.822948255619545; term inf\n",
      "y dp: 0.09411391699870213\n",
      "numerator -0.20000000000000018; denominator 0.935822227524088; term -0.03627792177559186\n",
      "numerator -0.44122951685636647; denominator 0.6945927106677217; term 0.02304500126730355\n",
      "numerator -0.44122951685636647; denominator 0.6945927106677217; term -0.014638988602906486\n",
      "numerator -2.1999999999999997; denominator -1.0641777724759116; term -0.030263529045024537\n",
      "numerator -3.5054072893322785; denominator -2.3695850618081904; term -0.044769861620580824\n",
      "numerator -4.894592710667721; denominator -3.7587704831436333; term -0.05829838223121002\n",
      "numerator -6.199999999999999; denominator -5.064177772475912; term -0.07137387075904064\n",
      "numerator -7.264177772475912; denominator -6.128355544951823; term -0.08460222023679394\n",
      "y dp: 0.1697484278298948\n",
      "numerator -0.20000000000000018; denominator 1.9999999999999996; term -0.03307042988904184\n",
      "numerator -0.44122951685636647; denominator 1.7587704831436333; term 0.008296505963696355\n",
      "numerator -0.44122951685636647; denominator 1.7587704831436333; term -0.002081376366639166\n",
      "numerator -1.1358222275240881; denominator 1.0641777724759116; term 0.0022215024615406566\n",
      "numerator -3.5054072893322785; denominator -1.3054072893322788; term 0.005965395616825028\n",
      "numerator -4.894592710667721; denominator -2.6945927106677217; term 0.010835842384181922\n",
      "numerator -6.199999999999999; denominator -3.9999999999999996; term 0.01679555569548198\n",
      "numerator -7.264177772475912; denominator -5.064177772475912; term 0.02409194697362527\n",
      "y dp: 0.330704298890418\n",
      "numerator -0.20000000000000018; denominator 3.3054072893322783; term -0.014448018669980012\n",
      "numerator -0.44122951685636647; denominator 3.064177772475912; term 0.0020804577183966754\n",
      "numerator -0.44122951685636647; denominator 3.064177772475912; term -0.00029957770798217607\n",
      "numerator -1.1358222275240881; denominator 2.3695850618081904; term 0.00014359772311242712\n",
      "numerator -2.1999999999999997; denominator 1.3054072893322788; term -0.0002420049232365873\n",
      "numerator -4.894592710667721; denominator -1.3891854213354429; term -0.0008526691361912009\n",
      "numerator -6.199999999999999; denominator -2.6945927106677208; term -0.0019619100962666217\n",
      "numerator -7.264177772475912; denominator -3.7587704831436333; term -0.003791575936016382\n",
      "y dp: 0.2387829311408037\n",
      "numerator -0.20000000000000018; denominator 4.694592710667721; term -4.8323097428653095e-05\n",
      "numerator -0.44122951685636647; denominator 4.453363193811355; term 4.787747148285007e-06\n",
      "numerator -0.44122951685636647; denominator 4.453363193811355; term -4.74359550104488e-07\n",
      "numerator -1.1358222275240881; denominator 3.7587704831436333; term 1.433415855698618e-07\n",
      "numerator -2.1999999999999997; denominator 2.6945927106677217; term -1.1703122590855358e-07\n",
      "numerator -3.5054072893322785; denominator 1.3891854213354429; term 2.9531127096407693e-07\n",
      "numerator -6.199999999999999; denominator -1.305407289332278; term 1.4025736602970912e-06\n",
      "numerator -7.264177772475912; denominator -2.3695850618081904; term 4.299716676815815e-06\n",
      "y dp: 0.0011342863047272035\n",
      "numerator -0.20000000000000018; denominator 5.999999999999999; term -4.581960918112003e-15\n",
      "numerator -0.44122951685636647; denominator 5.758770483143633; term 3.5106389602971234e-16\n",
      "numerator -0.44122951685636647; denominator 5.758770483143633; term -2.689805986960363e-17\n",
      "numerator -1.1358222275240881; denominator 5.064177772475912; term 6.0328479073578574e-18\n",
      "numerator -2.1999999999999997; denominator 3.9999999999999996; term -3.318066349046822e-18\n",
      "numerator -3.5054072893322785; denominator 2.6945927106677208; term 4.3164868369122326e-18\n",
      "numerator -4.894592710667721; denominator 1.305407289332278; term -1.6184561845407322e-17\n",
      "numerator -7.264177772475912; denominator -1.0641777724759125; term -1.1047734453345831e-16\n",
      "y dp: 1.3745882754335996e-13\n",
      "numerator -0.20000000000000018; denominator 7.064177772475912; term -5.610478253533822e-42\n",
      "numerator -0.44122951685636647; denominator 6.822948255619545; term 3.628209560435975e-43\n",
      "numerator -0.44122951685636647; denominator 6.822948255619545; term -2.3463070382899315e-44\n",
      "numerator -1.1358222275240881; denominator 6.128355544951823; term 4.3486179402257025e-45\n",
      "numerator -2.1999999999999997; denominator 5.064177772475912; term -1.8891436869561535e-45\n",
      "numerator -3.5054072893322785; denominator 3.7587704831436333; term 1.7618043135514065e-45\n",
      "numerator -4.894592710667721; denominator 2.3695850618081904; term -3.6391664894069496e-45\n",
      "numerator -6.199999999999999; denominator 1.0641777724759125; term 2.1202126954623826e-44\n",
      "y dp: 1.981670788578653e-40\n",
      "inf\n",
      "numerator -0.3412295168563664; denominator -0.2412295168563663; term 0.10696233560468855\n",
      "numerator -0.3412295168563664; denominator -0.2412295168563663; term 0.15130281972064213\n",
      "numerator -1.035822227524088; denominator -0.935822227524088; term 0.1674707216223682\n",
      "numerator -2.0999999999999996; denominator -1.9999999999999996; term 0.1758442577034866\n",
      "numerator -3.4054072893322784; denominator -3.3054072893322783; term 0.1811641545365032\n",
      "numerator -4.794592710667722; denominator -4.694592710667721; term 0.18502315074132492\n",
      "numerator -6.1; denominator -5.999999999999999; term 0.18810686992034703\n",
      "numerator -7.164177772475911; denominator -7.064177772475912; term 0.19076969744223168\n",
      "y dp: 0.07561617991742652\n",
      "numerator -0.10000000000000009; denominator 0.2412295168563663; term -0.039014262526894605\n",
      "numerator -0.3412295168563664; denominator 0.0; term inf\n",
      "numerator -1.035822227524088; denominator -0.6945927106677217; term inf\n",
      "numerator -2.0999999999999996; denominator -1.7587704831436333; term inf\n",
      "numerator -3.4054072893322784; denominator -3.064177772475912; term inf\n",
      "numerator -4.794592710667722; denominator -4.453363193811355; term inf\n",
      "numerator -6.1; denominator -5.758770483143633; term inf\n",
      "numerator -7.164177772475911; denominator -6.822948255619545; term inf\n",
      "y dp: 0.09411391699870213\n",
      "numerator -0.10000000000000009; denominator 0.2412295168563663; term -0.039014262526894605\n",
      "numerator -0.3412295168563664; denominator 0.0; term inf\n",
      "numerator -1.035822227524088; denominator -0.6945927106677217; term inf\n",
      "numerator -2.0999999999999996; denominator -1.7587704831436333; term inf\n",
      "numerator -3.4054072893322784; denominator -3.064177772475912; term inf\n",
      "numerator -4.794592710667722; denominator -4.453363193811355; term inf\n",
      "numerator -6.1; denominator -5.758770483143633; term inf\n",
      "numerator -7.164177772475911; denominator -6.822948255619545; term inf\n",
      "y dp: 0.09411391699870213\n",
      "numerator -0.10000000000000009; denominator 0.935822227524088; term -0.01813896088779593\n",
      "numerator -0.3412295168563664; denominator 0.6945927106677217; term 0.008911047819763372\n",
      "numerator -0.3412295168563664; denominator 0.6945927106677217; term -0.00437769140896793\n",
      "numerator -2.0999999999999996; denominator -1.0641777724759116; term -0.008638737057478566\n",
      "numerator -3.4054072893322784; denominator -2.3695850618081904; term -0.0124150082730998\n",
      "numerator -4.794592710667722; denominator -3.7587704831436333; term -0.015836271045552196\n",
      "numerator -6.1; denominator -5.064177772475912; term -0.019075407246345415\n",
      "numerator -7.164177772475911; denominator -6.128355544951823; term -0.02229955615218276\n",
      "y dp: 0.1697484278298948\n",
      "numerator -0.10000000000000009; denominator 1.9999999999999996; term -0.01653521494452092\n",
      "numerator -0.3412295168563664; denominator 1.7587704831436333; term 0.0032080953488313993\n",
      "numerator -0.3412295168563664; denominator 1.7587704831436333; term -0.0006224216498984161\n",
      "numerator -1.035822227524088; denominator 1.0641777724759116; term 0.0006058369160981409\n",
      "numerator -3.4054072893322784; denominator -1.3054072893322788; term 0.0015804427224261114\n",
      "numerator -4.794592710667722; denominator -2.6945927106677217; term 0.0028121426761725165\n",
      "numerator -6.1; denominator -3.9999999999999996; term 0.0042885175811630885\n",
      "numerator -7.164177772475911; denominator -5.064177772475912; term 0.006066868840747613\n",
      "y dp: 0.330704298890418\n",
      "numerator -0.10000000000000009; denominator 3.3054072893322783; term -0.007224009334990006\n",
      "numerator -0.3412295168563664; denominator 3.064177772475912; term 0.0008044719980958281\n",
      "numerator -0.3412295168563664; denominator 3.064177772475912; term -8.958670534735533e-05\n",
      "numerator -1.035822227524088; denominator 2.3695850618081904; term 3.916124480402942e-05\n",
      "numerator -2.0999999999999996; denominator 1.3054072893322788; term -6.299843333227223e-05\n",
      "numerator -4.794592710667722; denominator -1.3891854213354429; term -0.00021743089482470406\n",
      "numerator -6.1; denominator -2.6945927106677208; term -0.0004922185283066509\n",
      "numerator -7.164177772475911; denominator -3.7587704831436333; term -0.0009381634381533378\n",
      "y dp: 0.2387829311408037\n",
      "numerator -0.10000000000000009; denominator 4.694592710667721; term -2.4161548714326547e-05\n",
      "numerator -0.3412295168563664; denominator 4.453363193811355; term 1.8513274654419422e-06\n",
      "numerator -0.3412295168563664; denominator 4.453363193811355; term -1.4185404358071662e-07\n",
      "numerator -1.035822227524088; denominator 3.7587704831436333; term 3.909139226883253e-08\n",
      "numerator -2.0999999999999996; denominator 2.6945927106677217; term -3.0465429316850584e-08\n",
      "numerator -3.4054072893322784; denominator 1.3891854213354429; term 7.468203558349085e-08\n",
      "numerator -6.1; denominator -1.305407289332278; term 3.4897952599323657e-07\n",
      "numerator -7.164177772475911; denominator -2.3695850618081904; term 1.0551009134325407e-06\n",
      "y dp: 0.0011342863047272035\n",
      "numerator -0.10000000000000009; denominator 5.999999999999999; term -2.2909804590560016e-15\n",
      "numerator -0.3412295168563664; denominator 5.758770483143633; term 1.357494898362939e-16\n",
      "numerator -0.3412295168563664; denominator 5.758770483143633; term -8.043684492362403e-18\n",
      "numerator -1.035822227524088; denominator 5.064177772475912; term 1.6452477702626738e-18\n",
      "numerator -2.0999999999999996; denominator 3.9999999999999996; term -8.637550793879038e-19\n",
      "numerator -3.4054072893322784; denominator 2.6945927106677208; term 1.0916075857773918e-18\n",
      "numerator -4.794592710667722; denominator 1.305407289332278; term -4.009333957645505e-18\n",
      "numerator -7.164177772475911; denominator -1.0641777724759125; term -2.6991337316667134e-17\n",
      "y dp: 1.3745882754335996e-13\n",
      "numerator -0.10000000000000009; denominator 7.064177772475912; term -2.805239126766911e-42\n",
      "numerator -0.3412295168563664; denominator 6.822948255619545; term 1.4029571323582148e-43\n",
      "numerator -0.3412295168563664; denominator 6.822948255619545; term -7.016473912879127e-45\n",
      "numerator -1.035822227524088; denominator 6.128355544951823; term 1.185933091592558e-45\n",
      "numerator -2.0999999999999996; denominator 5.064177772475912; term -4.9177963417480284e-46\n",
      "numerator -3.4054072893322784; denominator 3.7587704831436333; term 4.455472762900377e-46\n",
      "numerator -4.794592710667722; denominator 2.3695850618081904; term -9.01515525898851e-46\n",
      "numerator -6.1; denominator 1.0641777724759125; term 5.167599671987573e-45\n",
      "y dp: 1.981670788578653e-40\n",
      "inf\n",
      "numerator -0.2412295168563663; denominator -0.2412295168563663; term 0.07561617991742652\n",
      "numerator -0.2412295168563663; denominator -0.2412295168563663; term 0.07561617991742652\n",
      "numerator -0.935822227524088; denominator -0.935822227524088; term 0.07561617991742652\n",
      "numerator -1.9999999999999996; denominator -1.9999999999999996; term 0.07561617991742652\n",
      "numerator -3.3054072893322783; denominator -3.3054072893322783; term 0.07561617991742652\n",
      "numerator -4.694592710667721; denominator -4.694592710667721; term 0.07561617991742652\n",
      "numerator -5.999999999999999; denominator -5.999999999999999; term 0.07561617991742652\n",
      "numerator -7.064177772475912; denominator -7.064177772475912; term 0.07561617991742652\n",
      "y dp: 0.07561617991742652\n",
      "numerator 0.0; denominator 0.2412295168563663; term 0.0\n",
      "numerator -0.2412295168563663; denominator 0.0; term nan\n",
      "numerator -0.935822227524088; denominator -0.6945927106677217; term nan\n",
      "numerator -1.9999999999999996; denominator -1.7587704831436333; term nan\n",
      "numerator -3.3054072893322783; denominator -3.064177772475912; term nan\n",
      "numerator -4.694592710667721; denominator -4.453363193811355; term nan\n",
      "numerator -5.999999999999999; denominator -5.758770483143633; term nan\n",
      "numerator -7.064177772475912; denominator -6.822948255619545; term nan\n",
      "y dp: 0.09411391699870213\n",
      "numerator 0.0; denominator 0.2412295168563663; term 0.0\n",
      "numerator -0.2412295168563663; denominator 0.0; term nan\n",
      "numerator -0.935822227524088; denominator -0.6945927106677217; term nan\n",
      "numerator -1.9999999999999996; denominator -1.7587704831436333; term nan\n",
      "numerator -3.3054072893322783; denominator -3.064177772475912; term nan\n",
      "numerator -4.694592710667721; denominator -4.453363193811355; term nan\n",
      "numerator -5.999999999999999; denominator -5.758770483143633; term nan\n",
      "numerator -7.064177772475912; denominator -6.822948255619545; term nan\n",
      "y dp: 0.09411391699870213\n",
      "numerator 0.0; denominator 0.935822227524088; term 0.0\n",
      "numerator -0.2412295168563663; denominator 0.6945927106677217; term -0.0\n",
      "numerator -0.2412295168563663; denominator 0.6945927106677217; term 0.0\n",
      "numerator -1.9999999999999996; denominator -1.0641777724759116; term 0.0\n",
      "numerator -3.3054072893322783; denominator -2.3695850618081904; term 0.0\n",
      "numerator -4.694592710667721; denominator -3.7587704831436333; term 0.0\n",
      "numerator -5.999999999999999; denominator -5.064177772475912; term 0.0\n",
      "numerator -7.064177772475912; denominator -6.128355544951823; term 0.0\n",
      "y dp: 0.1697484278298948\n",
      "numerator 0.0; denominator 1.9999999999999996; term 0.0\n",
      "numerator -0.2412295168563663; denominator 1.7587704831436333; term -0.0\n",
      "numerator -0.2412295168563663; denominator 1.7587704831436333; term 0.0\n",
      "numerator -0.935822227524088; denominator 1.0641777724759116; term -0.0\n",
      "numerator -3.3054072893322783; denominator -1.3054072893322788; term -0.0\n",
      "numerator -4.694592710667721; denominator -2.6945927106677217; term -0.0\n",
      "numerator -5.999999999999999; denominator -3.9999999999999996; term -0.0\n",
      "numerator -7.064177772475912; denominator -5.064177772475912; term -0.0\n",
      "y dp: 0.330704298890418\n",
      "numerator 0.0; denominator 3.3054072893322783; term 0.0\n",
      "numerator -0.2412295168563663; denominator 3.064177772475912; term -0.0\n",
      "numerator -0.2412295168563663; denominator 3.064177772475912; term 0.0\n",
      "numerator -0.935822227524088; denominator 2.3695850618081904; term -0.0\n",
      "numerator -1.9999999999999996; denominator 1.3054072893322788; term 0.0\n",
      "numerator -4.694592710667721; denominator -1.3891854213354429; term 0.0\n",
      "numerator -5.999999999999999; denominator -2.6945927106677208; term 0.0\n",
      "numerator -7.064177772475912; denominator -3.7587704831436333; term 0.0\n",
      "y dp: 0.2387829311408037\n",
      "numerator 0.0; denominator 4.694592710667721; term 0.0\n",
      "numerator -0.2412295168563663; denominator 4.453363193811355; term -0.0\n",
      "numerator -0.2412295168563663; denominator 4.453363193811355; term 0.0\n",
      "numerator -0.935822227524088; denominator 3.7587704831436333; term -0.0\n",
      "numerator -1.9999999999999996; denominator 2.6945927106677217; term 0.0\n",
      "numerator -3.3054072893322783; denominator 1.3891854213354429; term -0.0\n",
      "numerator -5.999999999999999; denominator -1.305407289332278; term -0.0\n",
      "numerator -7.064177772475912; denominator -2.3695850618081904; term -0.0\n",
      "y dp: 0.0011342863047272035\n",
      "numerator 0.0; denominator 5.999999999999999; term 0.0\n",
      "numerator -0.2412295168563663; denominator 5.758770483143633; term -0.0\n",
      "numerator -0.2412295168563663; denominator 5.758770483143633; term 0.0\n",
      "numerator -0.935822227524088; denominator 5.064177772475912; term -0.0\n",
      "numerator -1.9999999999999996; denominator 3.9999999999999996; term 0.0\n",
      "numerator -3.3054072893322783; denominator 2.6945927106677208; term -0.0\n",
      "numerator -4.694592710667721; denominator 1.305407289332278; term 0.0\n",
      "numerator -7.064177772475912; denominator -1.0641777724759125; term 0.0\n",
      "y dp: 1.3745882754335996e-13\n",
      "numerator 0.0; denominator 7.064177772475912; term 0.0\n",
      "numerator -0.2412295168563663; denominator 6.822948255619545; term -0.0\n",
      "numerator -0.2412295168563663; denominator 6.822948255619545; term 0.0\n",
      "numerator -0.935822227524088; denominator 6.128355544951823; term -0.0\n",
      "numerator -1.9999999999999996; denominator 5.064177772475912; term 0.0\n",
      "numerator -3.3054072893322783; denominator 3.7587704831436333; term -0.0\n",
      "numerator -4.694592710667721; denominator 2.3695850618081904; term 0.0\n",
      "numerator -5.999999999999999; denominator 1.0641777724759125; term -0.0\n",
      "y dp: 1.981670788578653e-40\n",
      "nan\n",
      "numerator -0.1412295168563662; denominator -0.2412295168563663; term 0.04427002423016448\n",
      "numerator -0.1412295168563662; denominator -0.2412295168563663; term 0.025918196971593994\n",
      "numerator -0.8358222275240879; denominator -0.935822227524088; term 0.023148632816213117\n",
      "numerator -1.8999999999999995; denominator -1.9999999999999996; term 0.02199120117540246\n",
      "numerator -3.2054072893322783; denominator -3.3054072893322783; term 0.021325891298269437\n",
      "numerator -4.594592710667721; denominator -4.694592710667721; term 0.020871626304209148\n",
      "numerator -5.899999999999999; denominator -5.999999999999999; term 0.020523765865805663\n",
      "numerator -6.964177772475912; denominator -7.064177772475912; term 0.0202332328904639\n",
      "y dp: 0.07561617991742652\n",
      "numerator 0.10000000000000009; denominator 0.2412295168563663; term 0.039014262526894605\n",
      "numerator -0.1412295168563662; denominator 0.0; term -inf\n",
      "numerator -0.8358222275240879; denominator -0.6945927106677217; term -inf\n",
      "numerator -1.8999999999999995; denominator -1.7587704831436333; term -inf\n",
      "numerator -3.2054072893322783; denominator -3.064177772475912; term -inf\n",
      "numerator -4.594592710667721; denominator -4.453363193811355; term -inf\n",
      "numerator -5.899999999999999; denominator -5.758770483143633; term -inf\n",
      "numerator -6.964177772475912; denominator -6.822948255619545; term -inf\n",
      "y dp: 0.09411391699870213\n",
      "numerator 0.10000000000000009; denominator 0.2412295168563663; term 0.039014262526894605\n",
      "numerator -0.1412295168563662; denominator 0.0; term -inf\n",
      "numerator -0.8358222275240879; denominator -0.6945927106677217; term -inf\n",
      "numerator -1.8999999999999995; denominator -1.7587704831436333; term -inf\n",
      "numerator -3.2054072893322783; denominator -3.064177772475912; term -inf\n",
      "numerator -4.594592710667721; denominator -4.453363193811355; term -inf\n",
      "numerator -5.899999999999999; denominator -5.758770483143633; term -inf\n",
      "numerator -6.964177772475912; denominator -6.822948255619545; term -inf\n",
      "y dp: 0.09411391699870213\n",
      "numerator 0.10000000000000009; denominator 0.935822227524088; term 0.01813896088779593\n",
      "numerator -0.1412295168563662; denominator 0.6945927106677217; term -0.0036881421919865674\n",
      "numerator -0.1412295168563662; denominator 0.6945927106677217; term 0.0007498992314087465\n",
      "numerator -1.8999999999999995; denominator -1.0641777724759116; term 0.0013388820707668646\n",
      "numerator -3.2054072893322783; denominator -2.3695850618081904; term 0.0018111450896459939\n",
      "numerator -4.594592710667721; denominator -3.7587704831436333; term 0.002213881923402114\n",
      "numerator -5.899999999999999; denominator -5.064177772475912; term 0.0025792742543645766\n",
      "numerator -6.964177772475912; denominator -6.128355544951823; term 0.0029310512909391543\n",
      "y dp: 0.1697484278298948\n",
      "numerator 0.10000000000000009; denominator 1.9999999999999996; term 0.01653521494452092\n",
      "numerator -0.1412295168563662; denominator 1.7587704831436333; term -0.001327780082797843\n",
      "numerator -0.1412295168563662; denominator 1.7587704831436333; term 0.00010662092716604397\n",
      "numerator -0.8358222275240879; denominator 1.0641777724759116; term -8.374177994459437e-05\n",
      "numerator -3.2054072893322783; denominator -1.3054072893322788; term -0.00020562663779314703\n",
      "numerator -4.594592710667721; denominator -2.6945927106677217; term -0.00035061723702555045\n",
      "numerator -5.899999999999999; denominator -3.9999999999999996; term -0.0005171604246126868\n",
      "numerator -6.964177772475912; denominator -5.064177772475912; term -0.0007111908972601158\n",
      "y dp: 0.330704298890418\n",
      "numerator 0.10000000000000009; denominator 3.3054072893322783; term 0.007224009334990006\n",
      "numerator -0.1412295168563662; denominator 3.064177772475912; term -0.0003329582758908085\n",
      "numerator -0.1412295168563662; denominator 3.064177772475912; term 1.5346216808886936e-05\n",
      "numerator -0.8358222275240879; denominator 2.3695850618081904; term -5.413061267141697e-06\n",
      "numerator -1.8999999999999995; denominator 1.3054072893322788; term 7.878626457517291e-06\n",
      "numerator -4.594592710667721; denominator -1.3891854213354429; term 2.6057773955750357e-05\n",
      "numerator -5.899999999999999; denominator -2.6945927106677208; term 5.7055326294870756e-05\n",
      "numerator -6.964177772475912; denominator -3.7587704831436333; term 0.00010571101294053546\n",
      "y dp: 0.2387829311408037\n",
      "numerator 0.10000000000000009; denominator 4.694592710667721; term 2.4161548714326547e-05\n",
      "numerator -0.1412295168563662; denominator 4.453363193811355; term -7.662352480408182e-07\n",
      "numerator -0.1412295168563662; denominator 4.453363193811355; term 2.4299620122945374e-08\n",
      "numerator -0.8358222275240879; denominator 3.7587704831436333; term -5.403405903667475e-09\n",
      "numerator -1.8999999999999995; denominator 2.6945927106677217; term 3.810027087330821e-09\n",
      "numerator -3.2054072893322783; denominator 1.3891854213354429; term -8.791258827452578e-09\n",
      "numerator -5.899999999999999; denominator -1.305407289332278; term -3.9733520339465205e-08\n",
      "numerator -6.964177772475912; denominator -2.3695850618081904; term -1.1677626755427359e-07\n",
      "y dp: 0.0011342863047272035\n",
      "numerator 0.10000000000000009; denominator 5.999999999999999; term 2.2909804590560016e-15\n",
      "numerator -0.1412295168563662; denominator 5.758770483143633; term -5.618457347916938e-17\n",
      "numerator -0.1412295168563662; denominator 5.758770483143633; term 1.3778844269745119e-18\n",
      "numerator -0.8358222275240879; denominator 5.064177772475912; term -2.274142975951514e-19\n",
      "numerator -1.8999999999999995; denominator 3.9999999999999996; term 1.080217913576969e-19\n",
      "numerator -3.2054072893322783; denominator 2.6945927106677208; term -1.2849950794192208e-19\n",
      "numerator -4.594592710667721; denominator 1.305407289332278; term 4.522748626724292e-19\n",
      "numerator -6.964177772475912; denominator -1.0641777724759125; term 2.9597710336918546e-18\n",
      "y dp: 1.3745882754335996e-13\n",
      "numerator 0.10000000000000009; denominator 7.064177772475912; term 2.805239126766911e-42\n",
      "numerator -0.1412295168563662; denominator 6.822948255619545; term -5.8066183663867e-44\n",
      "numerator -0.1412295168563662; denominator 6.822948255619545; term 1.2019230920865768e-45\n",
      "numerator -0.8358222275240879; denominator 6.128355544951823; term -1.6392554719968347e-46\n",
      "numerator -1.8999999999999995; denominator 5.064177772475912; term 6.150229191640803e-47\n",
      "numerator -3.2054072893322783; denominator 3.7587704831436333; term -5.244797353378671e-47\n",
      "numerator -4.594592710667721; denominator 2.3695850618081904; term 1.0169589637087955e-46\n",
      "numerator -5.899999999999999; denominator 1.0641777724759125; term -5.63821011965151e-46\n",
      "y dp: 1.981670788578653e-40\n",
      "-inf\n",
      "numerator -0.04122951685636611; denominator -0.2412295168563663; term 0.012923868542902452\n",
      "numerator -0.04122951685636611; denominator -0.2412295168563663; term 0.002208870883144556\n",
      "numerator -0.7358222275240878; denominator -0.935822227524088; term 0.001736800265846101\n",
      "numerator -1.7999999999999994; denominator -1.9999999999999996; term 0.0015631202392614907\n",
      "numerator -3.105407289332278; denominator -3.3054072893322783; term 0.0014685406548147427\n",
      "numerator -4.494592710667721; denominator -4.694592710667721; term 0.001405977585116376\n",
      "numerator -5.799999999999999; denominator -5.999999999999999; term 0.0013591116656124968\n",
      "numerator -6.864177772475911; denominator -7.064177772475912; term 0.0013206326887411051\n",
      "y dp: 0.07561617991742652\n",
      "numerator 0.20000000000000018; denominator 0.2412295168563663; term 0.07802852505378921\n",
      "numerator -0.04122951685636611; denominator 0.0; term -inf\n",
      "numerator -0.7358222275240878; denominator -0.6945927106677217; term -inf\n",
      "numerator -1.7999999999999994; denominator -1.7587704831436333; term -inf\n",
      "numerator -3.105407289332278; denominator -3.064177772475912; term -inf\n",
      "numerator -4.494592710667721; denominator -4.453363193811355; term -inf\n",
      "numerator -5.799999999999999; denominator -5.758770483143633; term -inf\n",
      "numerator -6.864177772475911; denominator -6.822948255619545; term -inf\n",
      "y dp: 0.09411391699870213\n",
      "numerator 0.20000000000000018; denominator 0.2412295168563663; term 0.07802852505378921\n",
      "numerator -0.04122951685636611; denominator 0.0; term -inf\n",
      "numerator -0.7358222275240878; denominator -0.6945927106677217; term -inf\n",
      "numerator -1.7999999999999994; denominator -1.7587704831436333; term -inf\n",
      "numerator -3.105407289332278; denominator -3.064177772475912; term -inf\n",
      "numerator -4.494592710667721; denominator -4.453363193811355; term -inf\n",
      "numerator -5.799999999999999; denominator -5.758770483143633; term -inf\n",
      "numerator -6.864177772475911; denominator -6.822948255619545; term -inf\n",
      "y dp: 0.09411391699870213\n",
      "numerator 0.20000000000000018; denominator 0.935822227524088; term 0.03627792177559186\n",
      "numerator -0.04122951685636611; denominator 0.6945927106677217; term -0.00215337875619633\n",
      "numerator -0.04122951685636611; denominator 0.6945927106677217; term 0.00012781989266974768\n",
      "numerator -1.7999999999999994; denominator -1.0641777724759116; term 0.0002162005378765357\n",
      "numerator -3.105407289332278; denominator -2.3695850618081904; term 0.00028333683272253006\n",
      "numerator -4.494592710667721; denominator -3.7587704831436333; term 0.0003388032519488367\n",
      "numerator -5.799999999999999; denominator -5.064177772475912; term 0.0003880311769431667\n",
      "numerator -6.864177772475911; denominator -6.128355544951823; term 0.00043462148373473505\n",
      "y dp: 0.1697484278298948\n",
      "numerator 0.20000000000000018; denominator 1.9999999999999996; term 0.03307042988904184\n",
      "numerator -0.04122951685636611; denominator 1.7587704831436333; term -0.0007752448995621297\n",
      "numerator -0.04122951685636611; denominator 1.7587704831436333; term 1.8173475709677556e-05\n",
      "numerator -0.7358222275240878; denominator 1.0641777724759116; term -1.2565990123471156e-05\n",
      "numerator -3.105407289332278; denominator -1.3054072893322788; term -2.9892982554942618e-05\n",
      "numerator -4.494592710667721; denominator -2.6945927106677217; term -4.986162879445657e-05\n",
      "numerator -5.799999999999999; denominator -3.9999999999999996; term -7.229936175196202e-05\n",
      "numerator -6.864177772475911; denominator -5.064177772475912; term -9.799728488981937e-05\n",
      "y dp: 0.330704298890418\n",
      "numerator 0.20000000000000018; denominator 3.3054072893322783; term 0.014448018669980012\n",
      "numerator -0.04122951685636611; denominator 3.064177772475912; term -0.0001944028295765976\n",
      "numerator -0.04122951685636611; denominator 3.064177772475912; term 2.6157538283025994e-06\n",
      "numerator -0.7358222275240878; denominator 2.3695850618081904; term -8.122644928929244e-07\n",
      "numerator -1.7999999999999994; denominator 1.3054072893322788; term 1.1200152620222623e-06\n",
      "numerator -4.494592710667721; denominator -1.3891854213354429; term 3.6237152760231194e-06\n",
      "numerator -5.799999999999999; denominator -2.6945927106677208; term 7.799898113628436e-06\n",
      "numerator -6.864177772475911; denominator -3.7587704831436333; term 1.4243989490512126e-05\n",
      "y dp: 0.2387829311408037\n",
      "numerator 0.20000000000000018; denominator 4.694592710667721; term 4.8323097428653095e-05\n",
      "numerator -0.04122951685636611; denominator 4.453363193811355; term -4.4737827868051276e-07\n",
      "numerator -0.04122951685636611; denominator 4.453363193811355; term 4.141856273403152e-09\n",
      "numerator -0.7358222275240878; denominator 3.7587704831436333; term -8.108156437982926e-10\n",
      "numerator -1.7999999999999994; denominator 2.6945927106677217; term 5.416284817586659e-10\n",
      "numerator -3.105407289332278; denominator 1.3891854213354429; term -1.2107649630719766e-09\n",
      "numerator -5.799999999999999; denominator -1.305407289332278; term -5.379498676929767e-09\n",
      "numerator -6.864177772475911; denominator -2.3695850618081904; term -1.558324950658973e-08\n",
      "y dp: 0.0011342863047272035\n",
      "numerator 0.20000000000000018; denominator 5.999999999999999; term 4.581960918112003e-15\n",
      "numerator -0.04122951685636611; denominator 5.758770483143633; term -3.2804230601214223e-17\n",
      "numerator -0.04122951685636611; denominator 5.758770483143633; term 2.3485960805205946e-19\n",
      "numerator -0.7358222275240878; denominator 5.064177772475912; term -3.4124971064712474e-20\n",
      "numerator -1.7999999999999994; denominator 3.9999999999999996; term 1.535623697912061e-20\n",
      "numerator -3.105407289332278; denominator 2.6945927106677208; term -1.7697431624038677e-20\n",
      "numerator -4.494592710667721; denominator 1.305407289332278; term 6.093327946378418e-20\n",
      "numerator -6.864177772475911; denominator -1.0641777724759125; term 3.930328872837244e-19\n",
      "y dp: 1.3745882754335996e-13\n",
      "numerator 0.20000000000000018; denominator 7.064177772475912; term 5.610478253533822e-42\n",
      "numerator -0.04122951685636611; denominator 6.822948255619545; term -3.39028377557795e-44\n",
      "numerator -0.04122951685636611; denominator 6.822948255619545; term 2.0486709972910854e-46\n",
      "numerator -0.7358222275240878; denominator 6.128355544951823; term -2.4598077667547786e-47\n",
      "numerator -1.7999999999999994; denominator 5.064177772475912; term 8.743085608532831e-48\n",
      "numerator -3.105407289332278; denominator 3.7587704831436333; term -7.223330581569984e-48\n",
      "numerator -4.494592710667721; denominator 2.3695850618081904; term 1.3701102991379206e-47\n",
      "numerator -5.799999999999999; denominator 1.0641777724759125; term -7.467398719023525e-47\n",
      "y dp: 1.981670788578653e-40\n",
      "-inf\n",
      "numerator 0.058770483143633534; denominator -0.2412295168563663; term -0.01842228714435944\n",
      "numerator 0.058770483143633534; denominator -0.2412295168563663; term 0.0044882016520781335\n",
      "numerator -0.6358222275240881; denominator -0.935822227524088; term 0.003049402213443533\n",
      "numerator -1.6999999999999997; denominator -1.9999999999999996; term 0.002591991881427003\n",
      "numerator -3.0054072893322785; denominator -3.3054072893322783; term 0.0023567417302768913\n",
      "numerator -4.394592710667721; denominator -4.694592710667721; term 0.0022061381395806273\n",
      "numerator -5.699999999999999; denominator -5.999999999999999; term 0.0020958312326015962\n",
      "numerator -6.764177772475912; denominator -7.064177772475912; term 0.0020068259173290576\n",
      "y dp: 0.07561617991742652\n",
      "numerator 0.2999999999999998; denominator 0.2412295168563663; term 0.11704278758068364\n",
      "numerator 0.058770483143633534; denominator 0.0; term inf\n",
      "numerator -0.6358222275240881; denominator -0.6945927106677217; term inf\n",
      "numerator -1.6999999999999997; denominator -1.7587704831436333; term inf\n",
      "numerator -3.0054072893322785; denominator -3.064177772475912; term inf\n",
      "numerator -4.394592710667721; denominator -4.453363193811355; term inf\n",
      "numerator -5.699999999999999; denominator -5.758770483143633; term inf\n",
      "numerator -6.764177772475912; denominator -6.822948255619545; term inf\n",
      "y dp: 0.09411391699870213\n",
      "numerator 0.2999999999999998; denominator 0.2412295168563663; term 0.11704278758068364\n",
      "numerator 0.058770483143633534; denominator 0.0; term inf\n",
      "numerator -0.6358222275240881; denominator -0.6945927106677217; term inf\n",
      "numerator -1.6999999999999997; denominator -1.7587704831436333; term inf\n",
      "numerator -3.0054072893322785; denominator -3.064177772475912; term inf\n",
      "numerator -4.394592710667721; denominator -4.453363193811355; term inf\n",
      "numerator -5.699999999999999; denominator -5.758770483143633; term inf\n",
      "numerator -6.764177772475912; denominator -6.822948255619545; term inf\n",
      "y dp: 0.09411391699870213\n",
      "numerator 0.2999999999999998; denominator 0.935822227524088; term 0.05441688266338771\n",
      "numerator 0.058770483143633534; denominator 0.6945927106677217; term 0.004604290307370671\n",
      "numerator 0.058770483143633534; denominator 0.6945927106677217; term 0.0003895755911944357\n",
      "numerator -1.6999999999999997; denominator -1.0641777724759116; term 0.0006223382240823224\n",
      "numerator -3.0054072893322785; denominator -2.3695850618081904; term 0.0007893279989112784\n",
      "numerator -4.394592710667721; denominator -3.7587704831436333; term 0.0009228483318939831\n",
      "numerator -5.699999999999999; denominator -5.064177772475912; term 0.00103871462024603\n",
      "numerator -6.764177772475912; denominator -6.128355544951823; term 0.0011464821671454096\n",
      "y dp: 0.1697484278298948\n",
      "numerator 0.2999999999999998; denominator 1.9999999999999996; term 0.04960564483356268\n",
      "numerator 0.058770483143633534; denominator 1.7587704831436333; term 0.0016576055497071248\n",
      "numerator 0.058770483143633534; denominator 1.7587704831436333; term 5.538998974086156e-05\n",
      "numerator -0.6358222275240881; denominator 1.0641777724759116; term -3.3094270121459595e-05\n",
      "numerator -3.0054072893322785; denominator -1.3054072893322788; term -7.619212905501791e-05\n",
      "numerator -4.394592710667721; denominator -2.6945927106677217; term -0.00012426121900718128\n",
      "numerator -5.699999999999999; denominator -3.9999999999999996; term -0.00017707223708523332\n",
      "numerator -6.764177772475912; denominator -5.064177772475912; term -0.00023651383186513468\n",
      "y dp: 0.330704298890418\n",
      "numerator 0.2999999999999998; denominator 3.3054072893322783; term 0.021672028004969986\n",
      "numerator 0.058770483143633534; denominator 3.064177772475912; term 0.000415666338942629\n",
      "numerator 0.058770483143633534; denominator 3.064177772475912; term 7.97241980724396e-06\n",
      "numerator -0.6358222275240881; denominator 2.3695850618081904; term -2.139210700767549e-06\n",
      "numerator -1.6999999999999997; denominator 1.3054072893322788; term 2.7858417989721802e-06\n",
      "numerator -4.394592710667721; denominator -1.3891854213354429; term 8.812819278701887e-06\n",
      "numerator -5.699999999999999; denominator -2.6945927106677208; term 1.864217537950401e-05\n",
      "numerator -6.764177772475912; denominator -3.7587704831436333; term 3.354793512882338e-05\n",
      "y dp: 0.2387829311408037\n",
      "numerator 0.2999999999999998; denominator 4.694592710667721; term 7.248464614297953e-05\n",
      "numerator 0.058770483143633534; denominator 4.453363193811355; term 9.565709080809077e-07\n",
      "numerator 0.058770483143633534; denominator 4.453363193811355; term 1.2623747936656752e-08\n",
      "numerator -0.6358222275240881; denominator 3.7587704831436333; term -2.1353949566175184e-09\n",
      "numerator -1.6999999999999997; denominator 2.6945927106677217; term 1.3472059847405372e-09\n",
      "numerator -3.0054072893322785; denominator 1.3891854213354429; term -2.9145876602124252e-09\n",
      "numerator -5.699999999999999; denominator -1.305407289332278; term -1.2726410982206579e-08\n",
      "numerator -6.764177772475912; denominator -2.3695850618081904; term -3.632859933019076e-08\n",
      "y dp: 0.0011342863047272035\n",
      "numerator 0.2999999999999998; denominator 5.999999999999999; term 6.872941377167995e-15\n",
      "numerator 0.058770483143633534; denominator 5.758770483143633; term 7.014102863386481e-17\n",
      "numerator 0.058770483143633534; denominator 5.758770483143633; term 7.158163627235592e-19\n",
      "numerator -0.6358222275240881; denominator 5.064177772475912; term -8.987282332756001e-20\n",
      "numerator -1.6999999999999997; denominator 3.9999999999999996; term 3.8195949914213006e-20\n",
      "numerator -3.0054072893322785; denominator 2.6945927106677208; term -4.2601757898580645e-20\n",
      "numerator -4.394592710667721; denominator 1.305407289332278; term 1.4341682956167353e-19\n",
      "numerator -6.764177772475912; denominator -1.0641777724759125; term 9.115929272446783e-19\n",
      "y dp: 1.3745882754335996e-13\n",
      "numerator 0.2999999999999998; denominator 7.064177772475912; term 8.41571738030072e-42\n",
      "numerator 0.058770483143633534; denominator 6.822948255619545; term 7.249003772426183e-44\n",
      "numerator 0.058770483143633534; denominator 6.822948255619545; term 6.244037592760906e-46\n",
      "numerator -0.6358222275240881; denominator 6.128355544951823; term -6.4782434077992025e-47\n",
      "numerator -1.6999999999999997; denominator 5.064177772475912; term 2.1746894141661034e-47\n",
      "numerator -3.0054072893322785; denominator 3.7587704831436333; term -1.7388205655755643e-47\n",
      "numerator -4.394592710667721; denominator 2.3695850618081904; term 3.224787455744032e-47\n",
      "numerator -5.699999999999999; denominator 1.0641777724759125; term -1.7272761161864088e-46\n",
      "y dp: 1.981670788578653e-40\n",
      "inf\n",
      "numerator 0.15877048314363362; denominator -0.2412295168563663; term -0.049768442831621476\n",
      "numerator 0.15877048314363362; denominator -0.2412295168563663; term 0.03275618927839476\n",
      "numerator -0.535822227524088; denominator -0.935822227524088; term 0.01875515860612357\n",
      "numerator -1.5999999999999996; denominator -1.9999999999999996; term 0.015004126884898855\n",
      "numerator -2.9054072893322784; denominator -3.3054072893322783; term 0.013188420005650117\n",
      "numerator -4.294592710667722; denominator -4.694592710667721; term 0.012064708466143697\n",
      "numerator -5.6; denominator -5.999999999999999; term 0.011260394568400785\n",
      "numerator -6.664177772475911; denominator -7.064177772475912; term 0.01062278917787539\n",
      "y dp: 0.07561617991742652\n",
      "numerator 0.3999999999999999; denominator 0.2412295168563663; term 0.15605705010757823\n",
      "numerator 0.15877048314363362; denominator 0.0; term inf\n",
      "numerator -0.535822227524088; denominator -0.6945927106677217; term inf\n",
      "numerator -1.5999999999999996; denominator -1.7587704831436333; term inf\n",
      "numerator -2.9054072893322784; denominator -3.064177772475912; term inf\n",
      "numerator -4.294592710667722; denominator -4.453363193811355; term inf\n",
      "numerator -5.6; denominator -5.758770483143633; term inf\n",
      "numerator -6.664177772475911; denominator -6.822948255619545; term inf\n",
      "y dp: 0.09411391699870213\n",
      "numerator 0.3999999999999999; denominator 0.2412295168563663; term 0.15605705010757823\n",
      "numerator 0.15877048314363362; denominator 0.0; term inf\n",
      "numerator -0.535822227524088; denominator -0.6945927106677217; term inf\n",
      "numerator -1.5999999999999996; denominator -1.7587704831436333; term inf\n",
      "numerator -2.9054072893322784; denominator -3.064177772475912; term inf\n",
      "numerator -4.294592710667722; denominator -4.453363193811355; term inf\n",
      "numerator -5.6; denominator -5.758770483143633; term inf\n",
      "numerator -6.664177772475911; denominator -6.822948255619545; term inf\n",
      "y dp: 0.09411391699870213\n",
      "numerator 0.3999999999999999; denominator 0.935822227524088; term 0.07255584355118364\n",
      "numerator 0.15877048314363362; denominator 0.6945927106677217; term 0.01658486499871449\n",
      "numerator 0.15877048314363362; denominator 0.6945927106677217; term 0.003790979934394242\n",
      "numerator -1.5999999999999996; denominator -1.0641777724759116; term 0.005699769391836348\n",
      "numerator -2.9054072893322784; denominator -2.3695850618081904; term 0.006988629277531637\n",
      "numerator -4.294592710667722; denominator -3.7587704831436333; term 0.007984876035246738\n",
      "numerator -5.6; denominator -5.064177772475912; term 0.008829726720971745\n",
      "numerator -6.664177772475911; denominator -6.128355544951823; term 0.009601738691451705\n",
      "y dp: 0.1697484278298948\n",
      "numerator 0.3999999999999999; denominator 1.9999999999999996; term 0.06614085977808361\n",
      "numerator 0.15877048314363362; denominator 1.7587704831436333; term 0.005970771265009942\n",
      "numerator 0.15877048314363362; denominator 1.7587704831436333; term 0.0005390028133695567\n",
      "numerator -0.535822227524088; denominator 1.0641777724759116; term -0.0002713923327203901\n",
      "numerator -2.9054072893322784; denominator -1.3054072893322788; term -0.0006040300741372726\n",
      "numerator -4.294592710667722; denominator -2.6945927106677217; term -0.0009626921141530157\n",
      "numerator -5.6; denominator -3.9999999999999996; term -0.001347768959814222\n",
      "numerator -6.664177772475911; denominator -5.064177772475912; term -0.0017735893856734948\n",
      "y dp: 0.330704298890418\n",
      "numerator 0.3999999999999999; denominator 3.3054072893322783; term 0.028896037339959994\n",
      "numerator 0.15877048314363362; denominator 3.064177772475912; term 0.0014972492296668769\n",
      "numerator 0.15877048314363362; denominator 3.064177772475912; term 7.7580023494708e-05\n",
      "numerator -0.535822227524088; denominator 2.3695850618081904; term -1.754277644229612e-05\n",
      "numerator -1.5999999999999996; denominator 1.3054072893322788; term 2.1501674256799126e-05\n",
      "numerator -4.294592710667722; denominator -1.3891854213354429; term 6.647128030010043e-05\n",
      "numerator -5.6; denominator -2.6945927106677208; term 0.00013814301812919305\n",
      "numerator -6.664177772475911; denominator -3.7587704831436333; term 0.00024492307656661093\n",
      "y dp: 0.2387829311408037\n",
      "numerator 0.3999999999999999; denominator 4.694592710667721; term 9.664619485730608e-05\n",
      "numerator 0.15877048314363362; denominator 4.453363193811355; term 3.445612312243456e-06\n",
      "numerator 0.15877048314363362; denominator 4.453363193811355; term 1.2284233459798962e-07\n",
      "numerator -0.535822227524088; denominator 3.7587704831436333; term -1.751148511294695e-08\n",
      "numerator -1.5999999999999996; denominator 2.6945927106677217; term 1.0398000436129785e-08\n",
      "numerator -2.9054072893322784; denominator 1.3891854213354429; term -2.174686387981958e-08\n",
      "numerator -5.6; denominator -1.305407289332278; term -9.329075969024344e-08\n",
      "numerator -6.664177772475911; denominator -2.3695850618081904; term -2.6236922958600126e-07\n",
      "y dp: 0.0011342863047272035\n",
      "numerator 0.3999999999999999; denominator 5.999999999999999; term 9.163921836223997e-15\n",
      "numerator 0.15877048314363362; denominator 5.758770483143633; term 2.526512042260687e-16\n",
      "numerator 0.15877048314363362; denominator 5.758770483143633; term 6.965645510479929e-18\n",
      "numerator -0.535822227524088; denominator 5.064177772475912; term -7.370096116795181e-19\n",
      "numerator -1.5999999999999996; denominator 3.9999999999999996; term 2.948038446718072e-19\n",
      "numerator -2.9054072893322784; denominator 2.6945927106677208; term -3.1786816458076227e-19\n",
      "numerator -4.294592710667722; denominator 1.305407289332278; term 1.04573822569976e-18\n",
      "numerator -6.664177772475911; denominator -1.0641777724759125; term 6.5487041918971105e-18\n",
      "y dp: 1.3745882754335996e-13\n",
      "numerator 0.3999999999999999; denominator 7.064177772475912; term 1.1220956507067633e-41\n",
      "numerator 0.15877048314363362; denominator 6.822948255619545; term 2.6111244277625797e-43\n",
      "numerator 0.15877048314363362; denominator 6.822948255619545; term 6.07610480707602e-45\n",
      "numerator -0.535822227524088; denominator 6.128355544951823; term -5.312537741187609e-46\n",
      "numerator -1.5999999999999996; denominator 5.064177772475912; term 1.678468009574718e-46\n",
      "numerator -2.9054072893322784; denominator 3.7587704831436333; term -1.2974011613102998e-46\n",
      "numerator -4.294592710667722; denominator 2.3695850618081904; term 2.3513861814790886e-46\n",
      "numerator -5.6; denominator 1.0641777724759125; term -1.237364936278158e-45\n",
      "y dp: 1.981670788578653e-40\n",
      "inf\n",
      "numerator 0.2587704831436337; denominator -0.2412295168563663; term -0.0811145985188835\n",
      "numerator 0.2587704831436337; denominator -0.2412295168563663; term 0.08701283376209444\n",
      "numerator -0.43582222752408795; denominator -0.935822227524088; term 0.040522789391004344\n",
      "numerator -1.4999999999999996; denominator -1.9999999999999996; term 0.030392092043253254\n",
      "numerator -2.8054072893322783; denominator -3.3054072893322783; term 0.025794762670056294\n",
      "numerator -4.194592710667721; denominator -4.694592710667721; term 0.02304747826650817\n",
      "numerator -5.499999999999999; denominator -5.999999999999999; term 0.021126855077632487\n",
      "numerator -6.564177772475912; denominator -7.064177772475912; term 0.019631503760176347\n",
      "y dp: 0.07561617991742652\n",
      "numerator 0.5; denominator 0.2412295168563663; term 0.19507131263447283\n",
      "numerator 0.2587704831436337; denominator 0.0; term inf\n",
      "numerator -0.43582222752408795; denominator -0.6945927106677217; term inf\n",
      "numerator -1.4999999999999996; denominator -1.7587704831436333; term inf\n",
      "numerator -2.8054072893322783; denominator -3.064177772475912; term inf\n",
      "numerator -4.194592710667721; denominator -4.453363193811355; term inf\n",
      "numerator -5.499999999999999; denominator -5.758770483143633; term inf\n",
      "numerator -6.564177772475912; denominator -6.822948255619545; term inf\n",
      "y dp: 0.09411391699870213\n",
      "numerator 0.5; denominator 0.2412295168563663; term 0.19507131263447283\n",
      "numerator 0.2587704831436337; denominator 0.0; term inf\n",
      "numerator -0.43582222752408795; denominator -0.6945927106677217; term inf\n",
      "numerator -1.4999999999999996; denominator -1.7587704831436333; term inf\n",
      "numerator -2.8054072893322783; denominator -3.064177772475912; term inf\n",
      "numerator -4.194592710667721; denominator -4.453363193811355; term inf\n",
      "numerator -5.499999999999999; denominator -5.758770483143633; term inf\n",
      "numerator -6.564177772475912; denominator -6.822948255619545; term inf\n",
      "y dp: 0.09411391699870213\n",
      "numerator 0.5; denominator 0.935822227524088; term 0.09069480443897956\n",
      "numerator 0.2587704831436337; denominator 0.6945927106677217; term 0.033788345317835124\n",
      "numerator 0.2587704831436337; denominator 0.6945927106677217; term 0.012587846529680612\n",
      "numerator -1.4999999999999996; denominator -1.0641777724759116; term 0.017743059743289567\n",
      "numerator -2.8054072893322783; denominator -2.3695850618081904; term 0.021006424264381138\n",
      "numerator -4.194592710667721; denominator -3.7587704831436333; term 0.023442078863744126\n",
      "numerator -5.499999999999999; denominator -5.064177772475912; term 0.025459499951076405\n",
      "numerator -6.564177772475912; denominator -6.128355544951823; term 0.02727006983380255\n",
      "y dp: 0.1697484278298948\n",
      "numerator 0.5; denominator 1.9999999999999996; term 0.08267607472260452\n",
      "numerator 0.2587704831436337; denominator 1.7587704831436333; term 0.012164252246346315\n",
      "numerator 0.2587704831436337; denominator 1.7587704831436333; term 0.0017897442907057253\n",
      "numerator -0.43582222752408795; denominator 1.0641777724759116; term -0.0007329699638990947\n",
      "numerator -2.8054072893322783; denominator -1.3054072893322788; term -0.0015752013156261236\n",
      "numerator -4.194592710667721; denominator -2.6945927106677217; term -0.0024520692608576986\n",
      "numerator -5.499999999999999; denominator -3.9999999999999996; term -0.0033715952336793357\n",
      "numerator -6.564177772475912; denominator -5.064177772475912; term -0.004370255446203117\n",
      "y dp: 0.330704298890418\n",
      "numerator 0.5; denominator 3.3054072893322783; term 0.03612004667495\n",
      "numerator 0.2587704831436337; denominator 3.064177772475912; term 0.003050345842596144\n",
      "numerator 0.2587704831436337; denominator 3.064177772475912; term 0.0002576023736396919\n",
      "numerator -0.43582222752408795; denominator 2.3695850618081904; term -4.737911379702591e-05\n",
      "numerator -1.4999999999999996; denominator 1.3054072893322788; term 5.444176026617008e-05\n",
      "numerator -4.194592710667721; denominator -1.3891854213354429; term 0.00016438483103923597\n",
      "numerator -5.499999999999999; denominator -2.6945927106677208; term 0.00033552995491172293\n",
      "numerator -6.564177772475912; denominator -3.7587704831436333; term 0.0005859571053642366\n",
      "y dp: 0.2387829311408037\n",
      "numerator 0.5; denominator 4.694592710667721; term 0.00012080774357163262\n",
      "numerator 0.2587704831436337; denominator 4.453363193811355; term 7.019745933807128e-06\n",
      "numerator 0.2587704831436337; denominator 4.453363193811355; term 4.078946557426854e-07\n",
      "numerator -0.43582222752408795; denominator 3.7587704831436333; term -4.729460291820512e-08\n",
      "numerator -1.4999999999999996; denominator 2.6945927106677217; term 2.6327505487732212e-08\n",
      "numerator -2.8054072893322783; denominator 1.3891854213354429; term -5.3167399161313885e-08\n",
      "numerator -5.499999999999999; denominator -1.305407289332278; term -2.240072487543722e-07\n",
      "numerator -6.564177772475912; denominator -2.3695850618081904; term -6.205404595287569e-07\n",
      "y dp: 0.0011342863047272035\n",
      "numerator 0.5; denominator 5.999999999999999; term 1.1454902295279998e-14\n",
      "numerator 0.2587704831436337; denominator 5.758770483143633; term 5.14726296175397e-16\n",
      "numerator 0.2587704831436337; denominator 5.758770483143633; term 2.3129237870812094e-17\n",
      "numerator -0.43582222752408795; denominator 5.064177772475912; term -1.9904980477933584e-18\n",
      "numerator -1.4999999999999996; denominator 3.9999999999999996; term 7.464367679225093e-19\n",
      "numerator -2.8054072893322783; denominator 2.6945927106677208; term -7.771338285987291e-19\n",
      "numerator -4.194592710667721; denominator 1.305407289332278; term 2.4971209516693525e-18\n",
      "numerator -6.564177772475912; denominator -1.0641777724759125; term 1.540301467488401e-17\n",
      "y dp: 1.3745882754335996e-13\n",
      "numerator 0.5; denominator 7.064177772475912; term 1.4026195633834542e-41\n",
      "numerator 0.2587704831436337; denominator 6.822948255619545; term 5.319643774002085e-43\n",
      "numerator 0.2587704831436337; denominator 6.822948255619545; term 2.0175541979477403e-44\n",
      "numerator -0.43582222752408795; denominator 6.128355544951823; term -1.434797570490945e-45\n",
      "numerator -1.4999999999999996; denominator 5.064177772475912; term 4.249843612192534e-46\n",
      "numerator -2.8054072893322783; denominator 3.7587704831436333; term -3.1719261129761193e-46\n",
      "numerator -4.194592710667721; denominator 2.3695850618081904; term 5.614881004572782e-46\n",
      "numerator -5.499999999999999; denominator 1.0641777724759125; term -2.901944235623405e-45\n",
      "y dp: 1.981670788578653e-40\n",
      "inf\n",
      "numerator 0.3587704831436338; denominator -0.2412295168563663; term -0.11246075420614554\n",
      "numerator 0.3587704831436338; denominator -0.2412295168563663; term 0.16725813510317725\n",
      "numerator -0.33582222752408786; denominator -0.935822227524088; term 0.060021014515203995\n",
      "numerator -1.3999999999999995; denominator -1.9999999999999996; term 0.04201471016064279\n",
      "numerator -2.7054072893322783; denominator -3.3054072893322783; term 0.03438816859109295\n",
      "numerator -4.094592710667721; denominator -4.694592710667721; term 0.029993133190520122\n",
      "numerator -5.399999999999999; denominator -5.999999999999999; term 0.026993819871468108\n",
      "numerator -6.464177772475912; denominator -7.064177772475912; term 0.024701084263088275\n",
      "y dp: 0.07561617991742652\n",
      "numerator 0.6000000000000001; denominator 0.2412295168563663; term 0.23408557516136744\n",
      "numerator 0.3587704831436338; denominator 0.0; term inf\n",
      "numerator -0.33582222752408786; denominator -0.6945927106677217; term inf\n",
      "numerator -1.3999999999999995; denominator -1.7587704831436333; term inf\n",
      "numerator -2.7054072893322783; denominator -3.064177772475912; term inf\n",
      "numerator -4.094592710667721; denominator -4.453363193811355; term inf\n",
      "numerator -5.399999999999999; denominator -5.758770483143633; term inf\n",
      "numerator -6.464177772475912; denominator -6.822948255619545; term inf\n",
      "y dp: 0.09411391699870213\n",
      "numerator 0.6000000000000001; denominator 0.2412295168563663; term 0.23408557516136744\n",
      "numerator 0.3587704831436338; denominator 0.0; term inf\n",
      "numerator -0.33582222752408786; denominator -0.6945927106677217; term inf\n",
      "numerator -1.3999999999999995; denominator -1.7587704831436333; term inf\n",
      "numerator -2.7054072893322783; denominator -3.064177772475912; term inf\n",
      "numerator -4.094592710667721; denominator -4.453363193811355; term inf\n",
      "numerator -5.399999999999999; denominator -5.758770483143633; term inf\n",
      "numerator -6.464177772475912; denominator -6.822948255619545; term inf\n",
      "y dp: 0.09411391699870213\n",
      "numerator 0.6000000000000001; denominator 0.935822227524088; term 0.1088337653267755\n",
      "numerator 0.3587704831436338; denominator 0.6945927106677217; term 0.05621473126473256\n",
      "numerator 0.3587704831436338; denominator 0.6945927106677217; term 0.02903598898446498\n",
      "numerator -1.3999999999999995; denominator -1.0641777724759116; term 0.03819886642029173\n",
      "numerator -2.7054072893322783; denominator -2.3695850618081904; term 0.0436124844485758\n",
      "numerator -4.094592710667721; denominator -3.7587704831436333; term 0.04750898244999971\n",
      "numerator -5.399999999999999; denominator -5.064177772475912; term 0.050659458801852054\n",
      "numerator -6.464177772475912; denominator -6.128355544951823; term 0.05343550078819156\n",
      "y dp: 0.1697484278298948\n",
      "numerator 0.6000000000000001; denominator 1.9999999999999996; term 0.09921128966712545\n",
      "numerator 0.3587704831436338; denominator 1.7587704831436333; term 0.020238048493716243\n",
      "numerator 0.3587704831436338; denominator 1.7587704831436333; term 0.004128346765859328\n",
      "numerator -0.33582222752408786; denominator 1.0641777724759116; term -0.0013027810228334058\n",
      "numerator -2.7054072893322783; denominator -1.3054072893322788; term -0.0026999644512327495\n",
      "numerator -4.094592710667721; denominator -2.6945927106677217; term -0.004102755387599965\n",
      "numerator -5.399999999999999; denominator -3.9999999999999996; term -0.005538719773259952\n",
      "numerator -6.464177772475912; denominator -5.064177772475912; term -0.00706990766415677\n",
      "y dp: 0.330704298890418\n",
      "numerator 0.6000000000000001; denominator 3.3054072893322783; term 0.043344056009940006\n",
      "numerator 0.3587704831436338; denominator 3.064177772475912; term 0.005074956177730431\n",
      "numerator 0.3587704831436338; denominator 3.064177772475912; term 0.0005942032789911927\n",
      "numerator -0.33582222752408786; denominator 2.3695850618081904; term -8.421165037252078e-05\n",
      "numerator -1.3999999999999995; denominator 1.3054072893322788; term 9.031381353924683e-05\n",
      "numerator -4.094592710667721; denominator -1.3891854213354429; term 0.00026619792931235317\n",
      "numerator -5.399999999999999; denominator -2.6945927106677208; term 0.0005334642273007936\n",
      "numerator -6.464177772475912; denominator -3.7587704831436333; term 0.0009174296797299433\n",
      "y dp: 0.2387829311408037\n",
      "numerator 0.6000000000000001; denominator 4.694592710667721; term 0.0001449692922859592\n",
      "numerator 0.3587704831436338; denominator 4.453363193811355; term 1.1678971772771924e-05\n",
      "numerator 0.3587704831436338; denominator 4.453363193811355; term 9.408777508560277e-07\n",
      "numerator -0.33582222752408786; denominator 3.7587704831436333; term -8.406144071240729e-08\n",
      "numerator -1.3999999999999995; denominator 2.6945927106677217; term 4.367488137686215e-08\n",
      "numerator -2.7054072893322783; denominator 1.3891854213354429; term -8.505584684591506e-08\n",
      "numerator -5.399999999999999; denominator -1.305407289332278; term -3.518454176878974e-07\n",
      "numerator -6.464177772475912; denominator -2.3695850618081904; term -9.59826834251757e-07\n",
      "y dp: 0.0011342863047272035\n",
      "numerator 0.6000000000000001; denominator 5.999999999999999; term 1.3745882754336e-14\n",
      "numerator 0.3587704831436338; denominator 5.758770483143633; term 8.5636630448185e-16\n",
      "numerator 0.3587704831436338; denominator 5.758770483143633; term 5.3351484263211e-17\n",
      "numerator -0.33582222752408786; denominator 5.064177772475912; term -3.5379117977188e-18\n",
      "numerator -1.3999999999999995; denominator 3.9999999999999996; term 1.2382691292015795e-18\n",
      "numerator -2.7054072893322783; denominator 2.6945927106677208; term -1.2432388446070387e-18\n",
      "numerator -4.094592710667721; denominator 1.305407289332278; term 3.899592680649718e-18\n",
      "numerator -6.464177772475912; denominator -1.0641777724759125; term 2.368745239746702e-17\n",
      "y dp: 1.3745882754335996e-13\n",
      "numerator 0.6000000000000001; denominator 7.064177772475912; term 1.6831434760601454e-41\n",
      "numerator 0.3587704831436338; denominator 6.822948255619545; term 8.850458415961136e-43\n",
      "numerator 0.3587704831436338; denominator 6.822948255619545; term 4.653828701282875e-44\n",
      "numerator -0.33582222752408786; denominator 6.128355544951823; term -2.5502096109089798e-45\n",
      "numerator -1.3999999999999995; denominator 5.064177772475912; term 7.050095031571195e-46\n",
      "numerator -2.7054072893322783; denominator 3.7587704831436333; term -5.074366358476361e-46\n",
      "numerator -4.094592710667721; denominator 2.3695850618081904; term 8.768397403222943e-46\n",
      "numerator -5.399999999999999; denominator 1.0641777724759125; term -4.449383101400535e-45\n",
      "y dp: 1.981670788578653e-40\n",
      "inf\n",
      "numerator 0.45877048314363367; denominator -0.2412295168563663; term -0.1438069098934075\n",
      "numerator 0.45877048314363367; denominator -0.2412295168563663; term 0.2734920933016428\n",
      "numerator -0.235822227524088; denominator -0.935822227524088; term 0.06891855392584059\n",
      "numerator -1.2999999999999996; denominator -1.9999999999999996; term 0.04479706005179638\n",
      "numerator -2.6054072893322786; denominator -3.3054072893322783; term 0.03531019828518122\n",
      "numerator -3.994592710667721; denominator -4.694592710667721; term 0.030045175242082924\n",
      "numerator -5.299999999999999; denominator -5.999999999999999; term 0.026539904797173247\n",
      "numerator -6.364177772475911; denominator -7.064177772475912; term 0.02391002571479705\n",
      "y dp: 0.07561617991742652\n",
      "numerator 0.7; denominator 0.2412295168563663; term 0.27309983768826196\n",
      "numerator 0.45877048314363367; denominator 0.0; term inf\n",
      "numerator -0.235822227524088; denominator -0.6945927106677217; term inf\n",
      "numerator -1.2999999999999996; denominator -1.7587704831436333; term inf\n",
      "numerator -2.6054072893322786; denominator -3.064177772475912; term inf\n",
      "numerator -3.994592710667721; denominator -4.453363193811355; term inf\n",
      "numerator -5.299999999999999; denominator -5.758770483143633; term inf\n",
      "numerator -6.364177772475911; denominator -6.822948255619545; term inf\n",
      "y dp: 0.09411391699870213\n",
      "numerator 0.7; denominator 0.2412295168563663; term 0.27309983768826196\n",
      "numerator 0.45877048314363367; denominator 0.0; term inf\n",
      "numerator -0.235822227524088; denominator -0.6945927106677217; term inf\n",
      "numerator -1.2999999999999996; denominator -1.7587704831436333; term inf\n",
      "numerator -2.6054072893322786; denominator -3.064177772475912; term inf\n",
      "numerator -3.994592710667721; denominator -4.453363193811355; term inf\n",
      "numerator -5.299999999999999; denominator -5.758770483143633; term inf\n",
      "numerator -6.364177772475911; denominator -6.822948255619545; term inf\n",
      "y dp: 0.09411391699870213\n",
      "numerator 0.7; denominator 0.935822227524088; term 0.1269727262145714\n",
      "numerator 0.45877048314363367; denominator 0.6945927106677217; term 0.08386402283940672\n",
      "numerator 0.45877048314363367; denominator 0.6945927106677217; term 0.0553912209061587\n",
      "numerator -1.2999999999999996; denominator -1.0641777724759116; term 0.06766593800439132\n",
      "numerator -2.6054072893322786; denominator -2.3695850618081904; term 0.07440008419939045\n",
      "numerator -3.994592710667721; denominator -3.7587704831436333; term 0.07906788545582846\n",
      "numerator -5.299999999999999; denominator -5.064177772475912; term 0.0827498187748274\n",
      "numerator -6.364177772475911; denominator -6.128355544951823; term 0.08593407374299242\n",
      "y dp: 0.1697484278298948\n",
      "numerator 0.7; denominator 1.9999999999999996; term 0.11574650461164632\n",
      "numerator 0.45877048314363367; denominator 1.7587704831436333; term 0.030192160007119707\n",
      "numerator 0.45877048314363367; denominator 1.7587704831436333; term 0.007875542582940319\n",
      "numerator -0.235822227524088; denominator 1.0641777724759116; term -0.0017452234418961566\n",
      "numerator -2.6054072893322786; denominator -1.3054072893322788; term -0.0034832177774613417\n",
      "numerator -3.994592710667721; denominator -2.6945927106677217; term -0.005163688110797045\n",
      "numerator -5.299999999999999; denominator -3.9999999999999996; term -0.006841886746806084\n",
      "numerator -6.364177772475911; denominator -5.064177772475912; term -0.008598233615036057\n",
      "y dp: 0.330704298890418\n",
      "numerator 0.7; denominator 3.3054072893322783; term 0.05056806534493\n",
      "numerator 0.45877048314363367; denominator 3.064177772475912; term 0.007571080235069731\n",
      "numerator 0.45877048314363367; denominator 3.064177772475912; term 0.0011335465482982061\n",
      "numerator -0.235822227524088; denominator 2.3695850618081904; term -0.00011281108930436126\n",
      "numerator -1.2999999999999996; denominator 1.3054072893322788; term 0.00011234380050894608\n",
      "numerator -3.994592710667721; denominator -1.3891854213354429; term 0.0003230437922176999\n",
      "numerator -5.299999999999999; denominator -2.6945927106677208; term 0.0006353955059611002\n",
      "numerator -6.364177772475911; denominator -3.7587704831436333; term 0.0010758225259837435\n",
      "y dp: 0.2387829311408037\n",
      "numerator 0.7; denominator 4.694592710667721; term 0.00016913084100028566\n",
      "numerator 0.45877048314363367; denominator 4.453363193811355; term 1.742328982913783e-05\n",
      "numerator 0.45877048314363367; denominator 4.453363193811355; term 1.7948886594232984e-06\n",
      "numerator -0.235822227524088; denominator 3.7587704831436333; term -1.1260986637016534e-07\n",
      "numerator -1.2999999999999996; denominator 2.6945927106677217; term 5.4328368699898494e-08\n",
      "numerator -2.6054072893322786; denominator 1.3891854213354429; term -1.0189246565240771e-07\n",
      "numerator -5.299999999999999; denominator -1.305407289332278; term -4.136870326762069e-07\n",
      "numerator -6.364177772475911; denominator -2.3695850618081904; term -1.111071242199005e-06\n",
      "y dp: 0.0011342863047272035\n",
      "numerator 0.7; denominator 5.999999999999999; term 1.6036863213391996e-14\n",
      "numerator 0.45877048314363367; denominator 5.758770483143633; term 1.2775712291454265e-15\n",
      "numerator 0.45877048314363367; denominator 5.758770483143633; term 1.0177727550716745e-16\n",
      "numerator -0.235822227524088; denominator 5.064177772475912; term -4.739435481882502e-18\n",
      "numerator -1.2999999999999996; denominator 3.9999999999999996; term 1.540316531611813e-18\n",
      "numerator -2.6054072893322786; denominator 2.6945927106677208; term -1.4893352540636729e-18\n",
      "numerator -3.994592710667721; denominator 1.305407289332278; term 4.5574188211146695e-18\n",
      "numerator -6.364177772475911; denominator -1.0641777724759125; term 2.7255054852085682e-17\n",
      "y dp: 1.3745882754335996e-13\n",
      "numerator 0.7; denominator 7.064177772475912; term 1.9636673887368358e-41\n",
      "numerator 0.45877048314363367; denominator 6.822948255619545; term 1.3203568353639722e-42\n",
      "numerator 0.45877048314363367; denominator 6.822948255619545; term 8.877991164347847e-44\n",
      "numerator -0.235822227524088; denominator 6.128355544951823; term -3.4162959981006446e-45\n",
      "numerator -1.2999999999999996; denominator 5.064177772475912; term 8.769804294132255e-46\n",
      "numerator -2.6054072893322786; denominator 3.7587704831436333; term -6.078826077946663e-46\n",
      "numerator -3.994592710667721; denominator 2.3695850618081904; term 1.0247547020680945e-45\n",
      "numerator -5.299999999999999; denominator 1.0641777724759125; term -5.103658487739965e-45\n",
      "y dp: 1.981670788578653e-40\n",
      "inf\n",
      "numerator 0.5587704831436338; denominator -0.2412295168563663; term -0.1751530655806695\n",
      "numerator 0.5587704831436338; denominator -0.2412295168563663; term 0.4057147083574916\n",
      "numerator -0.1358222275240879; denominator -0.935822227524088; term 0.0588841275700323\n",
      "numerator -1.1999999999999995; denominator -1.9999999999999996; term 0.03533047654201937\n",
      "numerator -2.505407289332278; denominator -3.3054072893322783; term 0.026779523887913874\n",
      "numerator -3.8945927106677214; denominator -4.694592710667721; term 0.022216056846002166\n",
      "numerator -5.199999999999999; denominator -5.999999999999999; term 0.019253915933201877\n",
      "numerator -6.264177772475912; denominator -7.064177772475912; term 0.0170734593758122\n",
      "y dp: 0.07561617991742652\n",
      "numerator 0.8; denominator 0.2412295168563663; term 0.31211410021515656\n",
      "numerator 0.5587704831436338; denominator 0.0; term inf\n",
      "numerator -0.1358222275240879; denominator -0.6945927106677217; term inf\n",
      "numerator -1.1999999999999995; denominator -1.7587704831436333; term inf\n",
      "numerator -2.505407289332278; denominator -3.064177772475912; term inf\n",
      "numerator -3.8945927106677214; denominator -4.453363193811355; term inf\n",
      "numerator -5.199999999999999; denominator -5.758770483143633; term inf\n",
      "numerator -6.264177772475912; denominator -6.822948255619545; term inf\n",
      "y dp: 0.09411391699870213\n",
      "numerator 0.8; denominator 0.2412295168563663; term 0.31211410021515656\n",
      "numerator 0.5587704831436338; denominator 0.0; term inf\n",
      "numerator -0.1358222275240879; denominator -0.6945927106677217; term inf\n",
      "numerator -1.1999999999999995; denominator -1.7587704831436333; term inf\n",
      "numerator -2.505407289332278; denominator -3.064177772475912; term inf\n",
      "numerator -3.8945927106677214; denominator -4.453363193811355; term inf\n",
      "numerator -5.199999999999999; denominator -5.758770483143633; term inf\n",
      "numerator -6.264177772475912; denominator -6.822948255619545; term inf\n",
      "y dp: 0.09411391699870213\n",
      "numerator 0.8; denominator 0.935822227524088; term 0.1451116871023673\n",
      "numerator 0.5587704831436338; denominator 0.6945927106677217; term 0.11673622004185774\n",
      "numerator 0.5587704831436338; denominator 0.6945927106677217; term 0.09390935590217335\n",
      "numerator -1.1999999999999995; denominator -1.0641777724759116; term 0.10589511451683588\n",
      "numerator -2.505407289332278; denominator -2.3695850618081904; term 0.11196491575309943\n",
      "numerator -3.8945927106677214; denominator -3.7587704831436333; term 0.11601073986774828\n",
      "numerator -5.199999999999999; denominator -5.064177772475912; term 0.11912217035330397\n",
      "numerator -6.264177772475912; denominator -6.128355544951823; term 0.12176226497676577\n",
      "y dp: 0.1697484278298948\n",
      "numerator 0.8; denominator 1.9999999999999996; term 0.13228171955616724\n",
      "numerator 0.5587704831436338; denominator 1.7587704831436333; term 0.04202658678655674\n",
      "numerator 0.5587704831436338; denominator 1.7587704831436333; term 0.013352064086058671\n",
      "numerator -0.1358222275240879; denominator 1.0641777724759116; term -0.001704139226657183\n",
      "numerator -2.505407289332278; denominator -1.3054072893322788; term -0.003270674888515351\n",
      "numerator -3.8945927106677214; denominator -2.6945927106677217; term -0.004727225205259082\n",
      "numerator -5.199999999999999; denominator -3.9999999999999996; term -0.006145392766836807\n",
      "numerator -6.264177772475912; denominator -5.064177772475912; term -0.007601595856760867\n",
      "y dp: 0.330704298890418\n",
      "numerator 0.8; denominator 3.3054072893322783; term 0.05779207467992\n",
      "numerator 0.5587704831436338; denominator 3.064177772475912; term 0.010538718014614055\n",
      "numerator 0.5587704831436338; denominator 3.064177772475912; term 0.0019217959903097314\n",
      "numerator -0.1358222275240879; denominator 2.3695850618081904; term -0.00011015540925614471\n",
      "numerator -1.1999999999999995; denominator 1.3054072893322788; term 0.00010126072696819974\n",
      "numerator -3.8945927106677214; denominator -1.3891854213354429; term 0.0002838852777105539\n",
      "numerator -5.199999999999999; denominator -2.6945927106677208; term 0.0005478391737091415\n",
      "numerator -6.264177772475912; denominator -3.7587704831436333; term 0.0009130012035132917\n",
      "y dp: 0.2387829311408037\n",
      "numerator 0.8; denominator 4.694592710667721; term 0.00019329238971461222\n",
      "numerator 0.5587704831436338; denominator 4.453363193811355; term 2.4252700102904873e-05\n",
      "numerator 0.5587704831436338; denominator 4.453363193811355; term 3.0430244209297842e-06\n",
      "numerator -0.1358222275240879; denominator 3.7587704831436333; term -1.0995892330068805e-07\n",
      "numerator -1.1999999999999995; denominator 2.6945927106677217; term 4.896870218584097e-08\n",
      "numerator -2.505407289332278; denominator 1.3891854213354429; term -8.831545560534834e-08\n",
      "numerator -5.199999999999999; denominator -1.305407289332278; term -3.517985328415892e-07\n",
      "numerator -6.264177772475912; denominator -2.3695850618081904; term -9.300060948790301e-07\n",
      "y dp: 0.0011342863047272035\n",
      "numerator 0.8; denominator 5.999999999999999; term 1.8327843672447997e-14\n",
      "numerator 0.5587704831436338; denominator 5.758770483143633; term 1.778341070166128e-15\n",
      "numerator 0.5587704831436338; denominator 5.758770483143633; term 1.725515024221725e-16\n",
      "numerator -0.1358222275240879; denominator 5.064177772475912; term -4.627864675088082e-18\n",
      "numerator -1.1999999999999995; denominator 3.9999999999999996; term 1.3883594025264243e-18\n",
      "numerator -2.505407289332278; denominator 2.6945927106677208; term -1.2908836847705863e-18\n",
      "numerator -3.8945927106677214; denominator 1.305407289332278; term 3.8512625370729985e-18\n",
      "numerator -6.264177772475912; denominator -1.0641777724759125; term 2.2670078068415896e-17\n",
      "y dp: 1.3745882754335996e-13\n",
      "numerator 0.8; denominator 7.064177772475912; term 2.244191301413527e-41\n",
      "numerator 0.5587704831436338; denominator 6.822948255619545; term 1.837897358703786e-42\n",
      "numerator 0.5587704831436338; denominator 6.822948255619545; term 1.5051598760777518e-43\n",
      "numerator -0.1358222275240879; denominator 6.128355544951823; term -3.335873149807066e-45\n",
      "numerator -1.1999999999999995; denominator 5.064177772475912; term 7.904635183869857e-46\n",
      "numerator -2.505407289332278; denominator 3.7587704831436333; term -5.268832108263406e-46\n",
      "numerator -3.8945927106677214; denominator 2.3695850618081904; term 8.659725051995505e-46\n",
      "numerator -5.199999999999999; denominator 1.0641777724759125; term -4.2314894592854206e-45\n",
      "y dp: 1.981670788578653e-40\n",
      "inf\n",
      "numerator 0.6587704831436336; denominator -0.2412295168563663; term -0.2064992212679315\n",
      "numerator 0.6587704831436336; denominator -0.2412295168563663; term 0.5639259802707234\n",
      "numerator -0.035822227524088035; denominator -0.935822227524088; term 0.02158645539489738\n",
      "numerator -1.0999999999999996; denominator -1.9999999999999996; term 0.011872550467193557\n",
      "numerator -2.4054072893322784; denominator -3.3054072893322783; term 0.008639879124403385\n",
      "numerator -3.7945927106677213; denominator -4.694592710667721; term 0.006983528575761847\n",
      "numerator -5.1; denominator -5.999999999999999; term 0.005935999289397571\n",
      "numerator -6.164177772475911; denominator -7.064177772475912; term 0.005179733021400557\n",
      "y dp: 0.07561617991742652\n",
      "numerator 0.8999999999999999; denominator 0.2412295168563663; term 0.3511283627420511\n",
      "numerator 0.6587704831436336; denominator 0.0; term inf\n",
      "numerator -0.035822227524088035; denominator -0.6945927106677217; term inf\n",
      "numerator -1.0999999999999996; denominator -1.7587704831436333; term inf\n",
      "numerator -2.4054072893322784; denominator -3.064177772475912; term inf\n",
      "numerator -3.7945927106677213; denominator -4.453363193811355; term inf\n",
      "numerator -5.1; denominator -5.758770483143633; term inf\n",
      "numerator -6.164177772475911; denominator -6.822948255619545; term inf\n",
      "y dp: 0.09411391699870213\n",
      "numerator 0.8999999999999999; denominator 0.2412295168563663; term 0.3511283627420511\n",
      "numerator 0.6587704831436336; denominator 0.0; term inf\n",
      "numerator -0.035822227524088035; denominator -0.6945927106677217; term inf\n",
      "numerator -1.0999999999999996; denominator -1.7587704831436333; term inf\n",
      "numerator -2.4054072893322784; denominator -3.064177772475912; term inf\n",
      "numerator -3.7945927106677213; denominator -4.453363193811355; term inf\n",
      "numerator -5.1; denominator -5.758770483143633; term inf\n",
      "numerator -6.164177772475911; denominator -6.822948255619545; term inf\n",
      "y dp: 0.09411391699870213\n",
      "numerator 0.8999999999999999; denominator 0.935822227524088; term 0.1632506479901632\n",
      "numerator 0.6587704831436336; denominator 0.6945927106677217; term 0.1548313228720855\n",
      "numerator 0.6587704831436336; denominator 0.6945927106677217; term 0.1468462075799202\n",
      "numerator -1.0999999999999996; denominator -1.0641777724759116; term 0.15178932741857146\n",
      "numerator -2.4054072893322784; denominator -2.3695850618081904; term 0.1540840041998165\n",
      "numerator -3.7945927106677213; denominator -3.7587704831436333; term 0.15555247168965697\n",
      "numerator -5.1; denominator -5.064177772475912; term 0.15665279562833986\n",
      "numerator -6.164177772475911; denominator -6.128355544951823; term 0.15756848207083182\n",
      "y dp: 0.1697484278298948\n",
      "numerator 0.8999999999999999; denominator 1.9999999999999996; term 0.14881693450068814\n",
      "numerator 0.6587704831436336; denominator 1.7587704831436333; term 0.05574132883202731\n",
      "numerator 0.6587704831436336; denominator 1.7587704831436333; term 0.020878643619324327\n",
      "numerator -0.035822227524088035; denominator 1.0641777724759116; term -0.0007028144558833235\n",
      "numerator -2.4054072893322784; denominator -1.3054072893322788; term -0.001295040275203742\n",
      "numerator -3.7945927106677213; denominator -2.6945927106677217; term -0.001823708039012512\n",
      "numerator -5.1; denominator -3.9999999999999996; term -0.002325227749740953\n",
      "numerator -6.164177772475911; denominator -5.064177772475912; term -0.0028302950360073564\n",
      "y dp: 0.330704298890418\n",
      "numerator 0.8999999999999999; denominator 3.3054072893322783; term 0.06501608401490999\n",
      "numerator 0.6587704831436336; denominator 3.064177772475912; term 0.01397786951636339\n",
      "numerator 0.6587704831436336; denominator 3.064177772475912; term 0.003005115413774762\n",
      "numerator -0.035822227524088035; denominator 2.3695850618081904; term -4.542986441948517e-05\n",
      "numerator -1.0999999999999996; denominator 1.3054072893322788; term 3.828142470921469e-05\n",
      "numerator -3.7945927106677213; denominator -1.3891854213354429; term 0.00010456661358850032\n",
      "numerator -5.1; denominator -2.6945927106677208; term 0.0001979110710090217\n",
      "numerator -6.164177772475911; denominator -3.7587704831436333; term 0.0003245633193917191\n",
      "y dp: 0.2387829311408037\n",
      "numerator 0.8999999999999999; denominator 4.694592710667721; term 0.0002174539384289387\n",
      "numerator 0.6587704831436336; denominator 4.453363193811355; term 3.216720259407301e-05\n",
      "numerator 0.6587704831436336; denominator 4.453363193811355; term 4.758382074860762e-06\n",
      "numerator -0.035822227524088035; denominator 3.7587704831436333; term -4.534883044778095e-08\n",
      "numerator -1.0999999999999996; denominator 2.6945927106677217; term 1.8512524469866102e-08\n",
      "numerator -2.4054072893322784; denominator 1.3891854213354429; term -3.205487231571336e-08\n",
      "numerator -5.1; denominator -1.305407289332278; term -1.2523282974293705e-07\n",
      "numerator -6.164177772475911; denominator -2.3695850618081904; term -3.2577746962018956e-07\n",
      "y dp: 0.0011342863047272035\n",
      "numerator 0.8999999999999999; denominator 5.999999999999999; term 2.0618824131503995e-14\n",
      "numerator 0.6587704831436336; denominator 5.758770483143633; term 2.3586758275439532e-15\n",
      "numerator 0.6587704831436336; denominator 5.758770483143633; term 2.698190558277169e-16\n",
      "numerator -0.035822227524088035; denominator 5.064177772475912; term -1.908605906516103e-18\n",
      "numerator -1.0999999999999996; denominator 3.9999999999999996; term 5.248666242919282e-19\n",
      "numerator -2.4054072893322784; denominator 2.6945927106677208; term -4.685376008777884e-19\n",
      "numerator -3.7945927106677213; denominator 1.305407289332278; term 1.3619575894003219e-18\n",
      "numerator -6.164177772475911; denominator -1.0641777724759125; term 7.889047221972836e-18\n",
      "y dp: 1.3745882754335996e-13\n",
      "numerator 0.8999999999999999; denominator 7.064177772475912; term 2.5247152140902177e-41\n",
      "numerator 0.6587704831436336; denominator 6.822948255619545; term 2.4376674116155533e-42\n",
      "numerator 0.6587704831436336; denominator 6.822948255619545; term 2.3536208664206723e-43\n",
      "numerator -0.035822227524088035; denominator 6.128355544951823; term -1.3757677987827212e-45\n",
      "numerator -1.0999999999999996; denominator 5.064177772475912; term 2.988332255802916e-46\n",
      "numerator -2.4054072893322784; denominator 3.7587704831436333; term -1.9123690109014896e-46\n",
      "numerator -3.7945927106677213; denominator 2.3695850618081904; term 3.0624186596349473e-46\n",
      "numerator -5.1; denominator 1.0641777724759125; term -1.467643430270176e-45\n",
      "y dp: 1.981670788578653e-40\n",
      "inf\n",
      "numerator 0.7587704831436337; denominator -0.2412295168563663; term -0.23784537695519353\n",
      "numerator 0.7587704831436337; denominator -0.2412295168563663; term 0.7481259090413384\n",
      "numerator 0.06417777247591205; denominator -0.935822227524088; term -0.051305742652446286\n",
      "numerator -0.9999999999999996; denominator -1.9999999999999996; term -0.025652871326223136\n",
      "numerator -2.3054072893322783; denominator -3.3054072893322783; term -0.017891990720370402\n",
      "numerator -3.694592710667721; denominator -4.694592710667721; term -0.014080799457768712\n",
      "numerator -4.999999999999999; denominator -5.999999999999999; term -0.011733999548140592\n",
      "numerator -6.064177772475912; denominator -7.064177772475912; term -0.010072942886477906\n",
      "y dp: 0.07561617991742652\n",
      "numerator 1.0; denominator 0.2412295168563663; term 0.39014262526894566\n",
      "numerator 0.7587704831436337; denominator 0.0; term inf\n",
      "numerator 0.06417777247591205; denominator -0.6945927106677217; term -inf\n",
      "numerator -0.9999999999999996; denominator -1.7587704831436333; term -inf\n",
      "numerator -2.3054072893322783; denominator -3.064177772475912; term -inf\n",
      "numerator -3.694592710667721; denominator -4.453363193811355; term -inf\n",
      "numerator -4.999999999999999; denominator -5.758770483143633; term -inf\n",
      "numerator -6.064177772475912; denominator -6.822948255619545; term -inf\n",
      "y dp: 0.09411391699870213\n",
      "numerator 1.0; denominator 0.2412295168563663; term 0.39014262526894566\n",
      "numerator 0.7587704831436337; denominator 0.0; term inf\n",
      "numerator 0.06417777247591205; denominator -0.6945927106677217; term -inf\n",
      "numerator -0.9999999999999996; denominator -1.7587704831436333; term -inf\n",
      "numerator -2.3054072893322783; denominator -3.064177772475912; term -inf\n",
      "numerator -3.694592710667721; denominator -4.453363193811355; term -inf\n",
      "numerator -4.999999999999999; denominator -5.758770483143633; term -inf\n",
      "numerator -6.064177772475912; denominator -6.822948255619545; term -inf\n",
      "y dp: 0.09411391699870213\n",
      "numerator 1.0; denominator 0.935822227524088; term 0.18138960887795913\n",
      "numerator 0.7587704831436337; denominator 0.6945927106677217; term 0.19814933133009013\n",
      "numerator 0.7587704831436337; denominator 0.6945927106677217; term 0.21645758954681088\n",
      "numerator -0.9999999999999996; denominator -1.0641777724759116; term 0.20340359961024318\n",
      "numerator -2.3054072893322783; denominator -2.3695850618081904; term 0.19789462247033565\n",
      "numerator -3.694592710667721; denominator -3.7587704831436333; term 0.19451574203268632\n",
      "numerator -4.999999999999999; denominator -5.064177772475912; term 0.19205066525299544\n",
      "numerator -6.064177772475912; denominator -6.128355544951823; term 0.19003945950488785\n",
      "y dp: 0.1697484278298948\n",
      "numerator 1.0; denominator 1.9999999999999996; term 0.16535214944520904\n",
      "numerator 0.7587704831436337; denominator 1.7587704831436333; term 0.07133638614353145\n",
      "numerator 0.7587704831436337; denominator 1.7587704831436333; term 0.03077601352684728\n",
      "numerator 0.06417777247591205; denominator 1.0641777724759116; term 0.0018560207184615905\n",
      "numerator -2.3054072893322783; denominator -1.3054072893322788; term 0.0032778150761527845\n",
      "numerator -3.694592710667721; denominator -2.6945927106677217; term 0.004494256827507682\n",
      "numerator -4.999999999999999; denominator -3.9999999999999996; term 0.005617821034384602\n",
      "numerator -6.064177772475912; denominator -5.064177772475912; term 0.006727146434633735\n",
      "y dp: 0.330704298890418\n",
      "numerator 1.0; denominator 3.3054072893322783; term 0.0722400933499\n",
      "numerator 0.7587704831436337; denominator 3.064177772475912; term 0.017888534740317753\n",
      "numerator 0.7587704831436337; denominator 3.064177772475912; term 0.0044296686274423\n",
      "numerator 0.06417777247591205; denominator 2.3695850618081904; term 0.00011997301548598703\n",
      "numerator -0.9999999999999996; denominator 1.3054072893322788; term -9.190466183726741e-05\n",
      "numerator -3.694592710667721; denominator -1.3891854213354429; term -0.00024442402611304096\n",
      "numerator -4.999999999999999; denominator -2.6945927106677208; term -0.0004535454006562509\n",
      "numerator -6.064177772475912; denominator -3.7587704831436333; term -0.0007317232988293685\n",
      "y dp: 0.2387829311408037\n",
      "numerator 1.0; denominator 4.694592710667721; term 0.00024161548714326524\n",
      "numerator 0.7587704831436337; denominator 4.453363193811355; term 4.11667973026423e-05\n",
      "numerator 0.7587704831436337; denominator 4.453363193811355; term 7.014058660701525e-06\n",
      "numerator 0.06417777247591205; denominator 3.7587704831436333; term 1.1975901771015413e-07\n",
      "numerator -0.9999999999999996; denominator 2.6945927106677217; term -4.444420013311686e-08\n",
      "numerator -2.3054072893322783; denominator 1.3891854213354429; term 7.37568803860122e-08\n",
      "numerator -4.999999999999999; denominator -1.305407289332278; term 2.8250524180747905e-07\n",
      "numerator -6.064177772475912; denominator -2.3695850618081904; term 7.229797467872127e-07\n",
      "y dp: 0.0011342863047272035\n",
      "numerator 1.0; denominator 5.999999999999999; term 2.2909804590559996e-14\n",
      "numerator 0.7587704831436337; denominator 5.758770483143633; term 3.018575501278904e-15\n",
      "numerator 0.7587704831436337; denominator 5.758770483143633; term 3.977248265432919e-16\n",
      "numerator 0.06417777247591205; denominator 5.064177772475912; term 5.040323340275943e-18\n",
      "numerator -0.9999999999999996; denominator 3.9999999999999996; term -1.2600808350689854e-18\n",
      "numerator -2.3054072893322783; denominator 2.6945927106677208; term 1.0780848366490548e-18\n",
      "numerator -3.694592710667721; denominator 1.305407289332278; term -3.0512196549801447e-18\n",
      "numerator -6.064177772475912; denominator -1.0641777724759125; term -1.7387262625888975e-17\n",
      "y dp: 1.3745882754335996e-13\n",
      "numerator 1.0; denominator 7.064177772475912; term 2.8052391267669084e-41\n",
      "numerator 0.7587704831436337; denominator 6.822948255619545; term 3.1196669940992755e-42\n",
      "numerator 0.7587704831436337; denominator 6.822948255619545; term 3.4693378048270328e-43\n",
      "numerator 0.06417777247591205; denominator 6.128355544951823; term 3.633183007204583e-45\n",
      "numerator -0.9999999999999996; denominator 5.064177772475912; term -7.174280150572782e-46\n",
      "numerator -2.3054072893322783; denominator 3.7587704831436333; term 4.4002787158766616e-46\n",
      "numerator -3.694592710667721; denominator 2.3695850618081904; term -6.860795136925201e-46\n",
      "numerator -4.999999999999999; denominator 1.0641777724759125; term 3.223519281446227e-45\n",
      "y dp: 1.981670788578653e-40\n",
      "-inf\n",
      "numerator 0.8587704831436338; denominator -0.2412295168563663; term -0.26919153264245554\n",
      "numerator 0.8587704831436338; denominator -0.2412295168563663; term 0.9583144946693364\n",
      "numerator 0.16417777247591214; denominator -0.935822227524088; term -0.1681237466248805\n",
      "numerator -0.8999999999999995; denominator -1.9999999999999996; term -0.0756556859811962\n",
      "numerator -2.2054072893322783; denominator -3.3054072893322783; term -0.05047837883121189\n",
      "numerator -3.594592710667721; denominator -4.694592710667721; term -0.03865068255669621\n",
      "numerator -4.899999999999999; denominator -5.999999999999999; term -0.031564724087968565\n",
      "numerator -5.964177772475912; denominator -7.064177772475912; term -0.02664961611432027\n",
      "y dp: 0.07561617991742652\n",
      "numerator 1.1; denominator 0.2412295168563663; term 0.4291568877958403\n",
      "numerator 0.8587704831436338; denominator 0.0; term inf\n",
      "numerator 0.16417777247591214; denominator -0.6945927106677217; term -inf\n",
      "numerator -0.8999999999999995; denominator -1.7587704831436333; term -inf\n",
      "numerator -2.2054072893322783; denominator -3.064177772475912; term -inf\n",
      "numerator -3.594592710667721; denominator -4.453363193811355; term -inf\n",
      "numerator -4.899999999999999; denominator -5.758770483143633; term -inf\n",
      "numerator -5.964177772475912; denominator -6.822948255619545; term -inf\n",
      "y dp: 0.09411391699870213\n",
      "numerator 1.1; denominator 0.2412295168563663; term 0.4291568877958403\n",
      "numerator 0.8587704831436338; denominator 0.0; term inf\n",
      "numerator 0.16417777247591214; denominator -0.6945927106677217; term -inf\n",
      "numerator -0.8999999999999995; denominator -1.7587704831436333; term -inf\n",
      "numerator -2.2054072893322783; denominator -3.064177772475912; term -inf\n",
      "numerator -3.594592710667721; denominator -4.453363193811355; term -inf\n",
      "numerator -4.899999999999999; denominator -5.758770483143633; term -inf\n",
      "numerator -5.964177772475912; denominator -6.822948255619545; term -inf\n",
      "y dp: 0.09411391699870213\n",
      "numerator 1.1; denominator 0.935822227524088; term 0.19952856976575506\n",
      "numerator 0.8587704831436338; denominator 0.6945927106677217; term 0.24669024541587156\n",
      "numerator 0.8587704831436338; denominator 0.6945927106677217; term 0.3049993154102567\n",
      "numerator -0.8999999999999995; denominator -1.0641777724759116; term 0.2579450454321948\n",
      "numerator -2.2054072893322783; denominator -2.3695850618081904; term 0.24007320632297122\n",
      "numerator -3.594592710667721; denominator -3.7587704831436333; term 0.22958714860223187\n",
      "numerator -4.899999999999999; denominator -5.064177772475912; term 0.22214406339865253\n",
      "numerator -5.964177772475912; denominator -6.128355544951823; term 0.21619285556972995\n",
      "y dp: 0.1697484278298948\n",
      "numerator 1.1; denominator 1.9999999999999996; term 0.18188736438972997\n",
      "numerator 0.8587704831436338; denominator 1.7587704831436333; term 0.08881175872106915\n",
      "numerator 0.8587704831436338; denominator 1.7587704831436333; term 0.04336490615273747\n",
      "numerator 0.16417777247591214; denominator 1.0641777724759116; term 0.00669019207121672\n",
      "numerator -2.2054072893322783; denominator -1.3054072893322788; term 0.011302678084815509\n",
      "numerator -3.594592710667721; denominator -2.6945927106677217; term 0.015077797877896676\n",
      "numerator -4.899999999999999; denominator -3.9999999999999996; term 0.018470302400423425\n",
      "numerator -5.964177772475912; denominator -5.064177772475912; term 0.021752823849557675\n",
      "y dp: 0.330704298890418\n",
      "numerator 1.1; denominator 3.3054072893322783; term 0.07946410268489\n",
      "numerator 0.8587704831436338; denominator 3.064177772475912; term 0.022270713686477133\n",
      "numerator 0.8587704831436338; denominator 3.064177772475912; term 0.006241619440061339\n",
      "numerator 0.16417777247591214; denominator 2.3695850618081904; term 0.00043245342521262457\n",
      "numerator -0.8999999999999995; denominator 1.3054072893322788; term -0.00029815068896270943\n",
      "numerator -3.594592710667721; denominator -1.3891854213354429; term -0.0007714810973150333\n",
      "numerator -4.899999999999999; denominator -2.6945927106677208; term -0.0014029049220974524\n",
      "numerator -5.964177772475912; denominator -3.7587704831436333; term -0.0022260402412952922\n",
      "y dp: 0.2387829311408037\n",
      "numerator 1.1; denominator 4.694592710667721; term 0.00026577703585759177\n",
      "numerator 0.8587704831436338; denominator 4.453363193811355; term 5.125148422861271e-05\n",
      "numerator 0.8587704831436338; denominator 4.453363193811355; term 9.88315121793735e-06\n",
      "numerator 0.16417777247591214; denominator 3.7587704831436333; term 4.316820511601183e-07\n",
      "numerator -0.8999999999999995; denominator 2.6945927106677217; term -1.4418277185490948e-07\n",
      "numerator -2.2054072893322783; denominator 1.3891854213354429; term 2.2889797946430367e-07\n",
      "numerator -4.899999999999999; denominator -1.305407289332278; term 8.591955235279799e-07\n",
      "numerator -5.964177772475912; denominator -2.3695850618081904; term 2.162570538711129e-06\n",
      "y dp: 0.0011342863047272035\n",
      "numerator 1.1; denominator 5.999999999999999; term 2.5200785049616e-14\n",
      "numerator 0.8587704831436338; denominator 5.758770483143633; term 3.758040091370979e-15\n",
      "numerator 0.8587704831436338; denominator 5.758770483143633; term 5.604137053883882e-16\n",
      "numerator 0.16417777247591214; denominator 5.064177772475912; term 1.8168294627353605e-17\n",
      "numerator -0.8999999999999995; denominator 3.9999999999999996; term -4.0878662911545594e-18\n",
      "numerator -2.2054072893322783; denominator 2.6945927106677208; term 3.3457412990974618e-18\n",
      "numerator -3.594592710667721; denominator 1.305407289332278; term -9.21289269931022e-18\n",
      "numerator -5.964177772475912; denominator -1.0641777724759125; term -5.163360039891769e-17\n",
      "y dp: 1.3745882754335996e-13\n",
      "numerator 1.1; denominator 7.064177772475912; term 3.0857630394435996e-41\n",
      "numerator 0.8587704831436338; denominator 6.822948255619545; term 3.8838961061549524e-42\n",
      "numerator 0.8587704831436338; denominator 6.822948255619545; term 4.8884664086603185e-43\n",
      "numerator 0.16417777247591214; denominator 6.128355544951823; term 1.3096131905373684e-44\n",
      "numerator -0.8999999999999995; denominator 5.064177772475912; term -2.327429889783233e-45\n",
      "numerator -2.2054072893322783; denominator 3.7587704831436333; term 1.3655877280500657e-45\n",
      "numerator -3.594592710667721; denominator 2.3695850618081904; term -2.0715574942392193e-45\n",
      "numerator -4.899999999999999; denominator 1.0641777724759125; term 9.538473725264665e-45\n",
      "y dp: 1.981670788578653e-40\n",
      "-inf\n",
      "numerator 0.9587704831436337; denominator -0.2412295168563663; term -0.3005376883297175\n",
      "numerator 0.9587704831436337; denominator -0.2412295168563663; term 1.1944917371547168\n",
      "numerator 0.264177772475912; denominator -0.935822227524088; term -0.33719883657528665\n",
      "numerator -0.7999999999999996; denominator -1.9999999999999996; term -0.13487953463011462\n",
      "numerator -2.1054072893322786; denominator -3.3054072893322783; term -0.08591266689236188\n",
      "numerator -3.494592710667721; denominator -4.694592710667721; term -0.06395225272553401\n",
      "numerator -4.799999999999999; denominator -5.999999999999999; term -0.0511618021804272\n",
      "numerator -5.864177772475911; denominator -7.064177772475912; term -0.042470888022558446\n",
      "y dp: 0.07561617991742652\n",
      "numerator 1.2; denominator 0.2412295168563663; term 0.4681711503227348\n",
      "numerator 0.9587704831436337; denominator 0.0; term inf\n",
      "numerator 0.264177772475912; denominator -0.6945927106677217; term -inf\n",
      "numerator -0.7999999999999996; denominator -1.7587704831436333; term -inf\n",
      "numerator -2.1054072893322786; denominator -3.064177772475912; term -inf\n",
      "numerator -3.494592710667721; denominator -4.453363193811355; term -inf\n",
      "numerator -4.799999999999999; denominator -5.758770483143633; term -inf\n",
      "numerator -5.864177772475911; denominator -6.822948255619545; term -inf\n",
      "y dp: 0.09411391699870213\n",
      "numerator 1.2; denominator 0.2412295168563663; term 0.4681711503227348\n",
      "numerator 0.9587704831436337; denominator 0.0; term inf\n",
      "numerator 0.264177772475912; denominator -0.6945927106677217; term -inf\n",
      "numerator -0.7999999999999996; denominator -1.7587704831436333; term -inf\n",
      "numerator -2.1054072893322786; denominator -3.064177772475912; term -inf\n",
      "numerator -3.494592710667721; denominator -4.453363193811355; term -inf\n",
      "numerator -4.799999999999999; denominator -5.758770483143633; term -inf\n",
      "numerator -5.864177772475911; denominator -6.822948255619545; term -inf\n",
      "y dp: 0.09411391699870213\n",
      "numerator 1.2; denominator 0.935822227524088; term 0.21766753065355096\n",
      "numerator 0.9587704831436337; denominator 0.6945927106677217; term 0.3004540651294297\n",
      "numerator 0.9587704831436337; denominator 0.6945927106677217; term 0.41472719877766895\n",
      "numerator -0.7999999999999996; denominator -1.0641777724759116; term 0.3117728706644689\n",
      "numerator -2.1054072893322786; denominator -2.3695850618081904; term 0.2770142693303983\n",
      "numerator -3.494592710667721; denominator -3.7587704831436333; term 0.257544867582159\n",
      "numerator -4.799999999999999; denominator -5.064177772475912; term 0.24410978838722097\n",
      "numerator -5.864177772475911; denominator -6.128355544951823; term 0.2335868381989239\n",
      "y dp: 0.1697484278298948\n",
      "numerator 1.2; denominator 1.9999999999999996; term 0.19842257933425084\n",
      "numerator 0.9587704831436337; denominator 1.7587704831436333; term 0.10816744656464036\n",
      "numerator 0.9587704831436337; denominator 1.7587704831436333; term 0.05896605384110483\n",
      "numerator 0.264177772475912; denominator 1.0641777724759116; term 0.014638081304024208\n",
      "numerator -2.1054072893322786; denominator -1.3054072893322788; term 0.023608817976721444\n",
      "numerator -3.494592710667721; denominator -2.6945927106677217; term 0.030618060711849648\n",
      "numerator -4.799999999999999; denominator -3.9999999999999996; term 0.03674167285421957\n",
      "numerator -5.864177772475911; denominator -5.064177772475912; term 0.04254584079696638\n",
      "y dp: 0.330704298890418\n",
      "numerator 1.2; denominator 3.3054072893322783; term 0.08668811201988\n",
      "numerator 0.9587704831436337; denominator 3.064177772475912; term 0.027124406354841524\n",
      "numerator 0.9587704831436337; denominator 3.064177772475912; term 0.008487131660380873\n",
      "numerator 0.264177772475912; denominator 2.3695850618081904; term 0.0009462042839847624\n",
      "numerator -0.7999999999999996; denominator 1.3054072893322788; term -0.0005798676270415185\n",
      "numerator -3.494592710667721; denominator -1.3891854213354429; term -0.0014586974146787923\n",
      "numerator -4.799999999999999; denominator -2.6945927106677208; term -0.002598443750975325\n",
      "numerator -5.864177772475911; denominator -3.7587704831436333; term -0.004053915011792477\n",
      "y dp: 0.2387829311408037\n",
      "numerator 1.2; denominator 4.694592710667721; term 0.00028993858457191827\n",
      "numerator 0.9587704831436337; denominator 4.453363193811355; term 6.242126337198422e-05\n",
      "numerator 0.9587704831436337; denominator 4.453363193811355; term 1.3438756786053518e-05\n",
      "numerator 0.264177772475912; denominator 3.7587704831436333; term 9.445165243545147e-07\n",
      "numerator -0.7999999999999996; denominator 2.6945927106677217; term -2.8041834170046796e-07\n",
      "numerator -2.1054072893322786; denominator 1.3891854213354429; term 4.249935333406251e-07\n",
      "numerator -4.799999999999999; denominator -1.305407289332278; term 1.5627068859700132e-06\n",
      "numerator -5.864177772475911; denominator -2.3695850618081904; term 3.867339954703931e-06\n",
      "y dp: 0.0011342863047272035\n",
      "numerator 1.2; denominator 5.999999999999999; term 2.7491765508671994e-14\n",
      "numerator 0.9587704831436337; denominator 5.758770483143633; term 4.577069597820177e-15\n",
      "numerator 0.9587704831436337; denominator 5.758770483143633; term 7.620305831824963e-16\n",
      "numerator 0.264177772475912; denominator 5.064177772475912; term 3.9752068562405434e-17\n",
      "numerator -0.7999999999999996; denominator 3.9999999999999996; term -7.950413712481085e-18\n",
      "numerator -2.1054072893322786; denominator 2.6945927106677208; term 6.2120182086134585e-18\n",
      "numerator -3.494592710667721; denominator 1.305407289332278; term -1.662965553184534e-17\n",
      "numerator -5.864177772475911; denominator -1.0641777724759125; term -9.16381255613811e-17\n",
      "y dp: 1.3745882754335996e-13\n",
      "numerator 1.2; denominator 7.064177772475912; term 3.3662869521202903e-41\n",
      "numerator 0.9587704831436337; denominator 6.822948255619545; term 4.730354747782582e-42\n",
      "numerator 0.9587704831436337; denominator 6.822948255619545; term 6.64716239528401e-43\n",
      "numerator 0.264177772475912; denominator 6.128355544951823; term 2.865422121793004e-44\n",
      "numerator -0.7999999999999996; denominator 5.064177772475912; term -4.526574303716953e-45\n",
      "numerator -2.1054072893322786; denominator 3.7587704831436333; term 2.535478709724048e-45\n",
      "numerator -3.494592710667721; denominator 2.3695850618081904; term -3.739247668236727e-45\n",
      "numerator -4.799999999999999; denominator 1.0641777724759125; term 1.686596851743823e-44\n",
      "y dp: 1.981670788578653e-40\n",
      "-inf\n",
      "numerator 1.0587704831436338; denominator -0.2412295168563663; term -0.33188384401697957\n",
      "numerator 1.0587704831436338; denominator -0.2412295168563663; term 1.4566576364974813\n",
      "numerator 0.3641777724759121; denominator -0.935822227524088; term -0.5668622925565475\n",
      "numerator -0.6999999999999995; denominator -1.9999999999999996; term -0.19840180239479152\n",
      "numerator -2.005407289332278; denominator -3.3054072893322783; term -0.12037137511714985\n",
      "numerator -3.3945927106677214; denominator -4.694592710667721; term -0.08703881629970178\n",
      "numerator -4.699999999999999; denominator -5.999999999999999; term -0.06818040610143306\n",
      "numerator -5.764177772475912; denominator -7.064177772475912; term -0.055633365131256905\n",
      "y dp: 0.07561617991742652\n",
      "numerator 1.3; denominator 0.2412295168563663; term 0.5071854128496294\n",
      "numerator 1.0587704831436338; denominator 0.0; term inf\n",
      "numerator 0.3641777724759121; denominator -0.6945927106677217; term -inf\n",
      "numerator -0.6999999999999995; denominator -1.7587704831436333; term -inf\n",
      "numerator -2.005407289332278; denominator -3.064177772475912; term -inf\n",
      "numerator -3.3945927106677214; denominator -4.453363193811355; term -inf\n",
      "numerator -4.699999999999999; denominator -5.758770483143633; term -inf\n",
      "numerator -5.764177772475912; denominator -6.822948255619545; term -inf\n",
      "y dp: 0.09411391699870213\n",
      "numerator 1.3; denominator 0.2412295168563663; term 0.5071854128496294\n",
      "numerator 1.0587704831436338; denominator 0.0; term inf\n",
      "numerator 0.3641777724759121; denominator -0.6945927106677217; term -inf\n",
      "numerator -0.6999999999999995; denominator -1.7587704831436333; term -inf\n",
      "numerator -2.005407289332278; denominator -3.064177772475912; term -inf\n",
      "numerator -3.3945927106677214; denominator -4.453363193811355; term -inf\n",
      "numerator -4.699999999999999; denominator -5.758770483143633; term -inf\n",
      "numerator -5.764177772475912; denominator -6.822948255619545; term -inf\n",
      "y dp: 0.09411391699870213\n",
      "numerator 1.3; denominator 0.935822227524088; term 0.2358064915413469\n",
      "numerator 1.0587704831436338; denominator 0.6945927106677217; term 0.3594407904707647\n",
      "numerator 1.0587704831436338; denominator 0.6945927106677217; term 0.5478970532564594\n",
      "numerator -0.6999999999999995; denominator -1.0641777724759116; term 0.36039837252680706\n",
      "numerator -2.005407289332278; denominator -2.3695850618081904; term 0.3050093178664934\n",
      "numerator -3.3945927106677214; denominator -3.7587704831436333; term 0.2754577359161856\n",
      "numerator -4.699999999999999; denominator -5.064177772475912; term 0.2556488766730454\n",
      "numerator -5.764177772475912; denominator -6.128355544951823; term 0.240456931989051\n",
      "y dp: 0.1697484278298948\n",
      "numerator 1.3; denominator 1.9999999999999996; term 0.21495779427877176\n",
      "numerator 1.0587704831436338; denominator 1.7587704831436333; term 0.12940344967424516\n",
      "numerator 1.0587704831436338; denominator 1.7587704831436333; term 0.07790018893605936\n",
      "numerator 0.3641777724759121; denominator 1.0641777724759116; term 0.026658626045329238\n",
      "numerator -2.005407289332278; denominator -1.3054072893322788; term 0.040953810685577144\n",
      "numerator -3.3945927106677214; denominator -2.6945927106677217; term 0.051592771952862736\n",
      "numerator -4.699999999999999; denominator -3.9999999999999996; term 0.060621507044613714\n",
      "numerator -5.764177772475912; denominator -5.064177772475912; term 0.06900096306645134\n",
      "y dp: 0.330704298890418\n",
      "numerator 1.3; denominator 3.3054072893322783; term 0.09391212135487\n",
      "numerator 1.0587704831436338; denominator 3.064177772475912; term 0.032449612745410944\n",
      "numerator 1.0587704831436338; denominator 3.064177772475912; term 0.01121236909714991\n",
      "numerator 0.3641777724759121; denominator 2.3695850618081904; term 0.0017232112354987222\n",
      "numerator -0.6999999999999995; denominator 1.3054072893322788; term -0.0009240394738917885\n",
      "numerator -3.3945927106677214; denominator -1.3891854213354429; term -0.0022579690329797104\n",
      "numerator -4.699999999999999; denominator -2.6945927106677208; term -0.00393842617215975\n",
      "numerator -5.764177772475912; denominator -3.7587704831436333; term -0.006039684705918534\n",
      "y dp: 0.2387829311408037\n",
      "numerator 1.3; denominator 4.694592710667721; term 0.00031410013328624477\n",
      "numerator 1.0587704831436338; denominator 4.453363193811355; term 7.467613473275685e-05\n",
      "numerator 1.0587704831436338; denominator 4.453363193811355; term 1.775397240453532e-05\n",
      "numerator 0.3641777724759121; denominator 3.7587704831436333; term 1.720137516211153e-06\n",
      "numerator -0.6999999999999995; denominator 2.6945927106677217; term -4.4685649767434815e-07\n",
      "numerator -2.005407289332278; denominator 1.3891854213354429; term 6.450753542030183e-07\n",
      "numerator -4.699999999999999; denominator -1.305407289332278; term 2.3225350352570753e-06\n",
      "numerator -5.764177772475912; denominator -2.3695850618081904; term 5.6497253640726504e-06\n",
      "y dp: 0.0011342863047272035\n",
      "numerator 1.3; denominator 5.999999999999999; term 2.9782745967727995e-14\n",
      "numerator 1.0587704831436338; denominator 5.758770483143633; term 5.475664020626501e-15\n",
      "numerator 1.0587704831436338; denominator 5.758770483143633; term 1.006720350745108e-15\n",
      "numerator 0.3641777724759121; denominator 5.064177772475912; term 7.239579479874316e-17\n",
      "numerator -0.6999999999999995; denominator 3.9999999999999996; term -1.2669264089780047e-17\n",
      "numerator -2.005407289332278; denominator 2.6945927106677208; term 9.428896046343385e-18\n",
      "numerator -3.3945927106677214; denominator 1.305407289332278; term -2.4518985032581533e-17\n",
      "numerator -5.764177772475912; denominator -1.0641777724759125; term -1.328084387626834e-16\n",
      "y dp: 1.3745882754335996e-13\n",
      "numerator 1.3; denominator 7.064177772475912; term 3.6468108647969815e-41\n",
      "numerator 1.0587704831436338; denominator 6.822948255619545; term 5.659042918982169e-42\n",
      "numerator 1.0587704831436338; denominator 6.822948255619545; term 8.781581482061602e-43\n",
      "numerator 0.3641777724759121; denominator 6.128355544951823; term 5.218458295206587e-44\n",
      "numerator -0.6999999999999995; denominator 5.064177772475912; term -7.213255479494493e-45\n",
      "numerator -2.005407289332278; denominator 3.7587704831436333; term 3.848469914102357e-45\n",
      "numerator -3.3945927106677214; denominator 2.3695850618081904; term -5.5131964360321316e-45\n",
      "numerator -4.699999999999999; denominator 1.0641777724759125; term 2.4349337037048036e-44\n",
      "y dp: 1.981670788578653e-40\n",
      "-inf\n",
      "numerator 1.1587704831436336; denominator -0.2412295168563663; term -0.3632299997042415\n",
      "numerator 1.1587704831436336; denominator -0.2412295168563663; term 1.7448121926976279\n",
      "numerator 0.46417777247591196; denominator -0.935822227524088; term -0.865445394621544\n",
      "numerator -0.5999999999999996; denominator -1.9999999999999996; term -0.2596336183864631\n",
      "numerator -1.9054072893322784; denominator -3.3054072893322783; term -0.1496662122776456\n",
      "numerator -3.2945927106677213; denominator -4.694592710667721; term -0.10503343791309341\n",
      "numerator -4.6; denominator -5.999999999999999; term -0.08052563573337163\n",
      "numerator -5.664177772475911; denominator -7.064177772475912; term -0.06456682302257433\n",
      "y dp: 0.07561617991742652\n",
      "numerator 1.4; denominator 0.2412295168563663; term 0.5461996753765239\n",
      "numerator 1.1587704831436336; denominator 0.0; term inf\n",
      "numerator 0.46417777247591196; denominator -0.6945927106677217; term -inf\n",
      "numerator -0.5999999999999996; denominator -1.7587704831436333; term -inf\n",
      "numerator -1.9054072893322784; denominator -3.064177772475912; term -inf\n",
      "numerator -3.2945927106677213; denominator -4.453363193811355; term -inf\n",
      "numerator -4.6; denominator -5.758770483143633; term -inf\n",
      "numerator -5.664177772475911; denominator -6.822948255619545; term -inf\n",
      "y dp: 0.09411391699870213\n",
      "numerator 1.4; denominator 0.2412295168563663; term 0.5461996753765239\n",
      "numerator 1.1587704831436336; denominator 0.0; term inf\n",
      "numerator 0.46417777247591196; denominator -0.6945927106677217; term -inf\n",
      "numerator -0.5999999999999996; denominator -1.7587704831436333; term -inf\n",
      "numerator -1.9054072893322784; denominator -3.064177772475912; term -inf\n",
      "numerator -3.2945927106677213; denominator -4.453363193811355; term -inf\n",
      "numerator -4.6; denominator -5.758770483143633; term -inf\n",
      "numerator -5.664177772475911; denominator -6.822948255619545; term -inf\n",
      "y dp: 0.09411391699870213\n",
      "numerator 1.4; denominator 0.935822227524088; term 0.2539454524291428\n",
      "numerator 1.1587704831436336; denominator 0.6945927106677217; term 0.4236504214398764\n",
      "numerator 1.1587704831436336; denominator 0.6945927106677217; term 0.706764692454039\n",
      "numerator -0.5999999999999996; denominator -1.0641777724759116; term 0.3984849396786494\n",
      "numerator -1.9054072893322784; denominator -2.3695850618081904; term 0.3204257660931746\n",
      "numerator -3.2945927106677213; denominator -3.7587704831436333; term 0.28085577398644085\n",
      "numerator -4.6; denominator -5.064177772475912; term 0.25511279784832497\n",
      "numerator -5.664177772475911; denominator -6.128355544951823; term 0.23578988334593803\n",
      "y dp: 0.1697484278298948\n",
      "numerator 1.4; denominator 1.9999999999999996; term 0.23149300922329263\n",
      "numerator 1.1587704831436336; denominator 1.7587704831436333; term 0.15251976804988346\n",
      "numerator 1.1587704831436336; denominator 1.7587704831436333; term 0.10048804378171097\n",
      "numerator 0.46417777247591196; denominator 1.0641777724759116; term 0.04383131985037993\n",
      "numerator -1.9054072893322784; denominator -1.3054072893322788; term 0.06397736325395237\n",
      "numerator -3.2945927106677213; denominator -2.6945927106677217; term 0.07822308499156488\n",
      "numerator -4.6; denominator -3.9999999999999996; term 0.08995654774029962\n",
      "numerator -5.664177772475911; denominator -5.064177772475912; term 0.1006145323271621\n",
      "y dp: 0.330704298890418\n",
      "numerator 1.4; denominator 3.3054072893322783; term 0.10113613068986\n",
      "numerator 1.1587704831436336; denominator 3.064177772475912; term 0.03824633285818537\n",
      "numerator 1.1587704831436336; denominator 3.064177772475912; term 0.01446349555911743\n",
      "numerator 0.46417777247591196; denominator 2.3695850618081904; term 0.0028332526479228027\n",
      "numerator -0.5999999999999996; denominator 1.3054072893322788; term -0.0013022384681360352\n",
      "numerator -3.2945927106677213; denominator -1.3891854213354429; term -0.003088389281070711\n",
      "numerator -4.6; denominator -2.6945927106677208; term -0.005272259008451363\n",
      "numerator -5.664177772475911; denominator -3.7587704831436333; term -0.00794488847359211\n",
      "y dp: 0.2387829311408037\n",
      "numerator 1.4; denominator 4.694592710667721; term 0.0003382616820005713\n",
      "numerator 1.1587704831436336; denominator 4.453363193811355; term 8.801609831093062e-05\n",
      "numerator 1.1587704831436336; denominator 4.453363193811355; term 2.2901895112868033e-05\n",
      "numerator 0.46417777247591196; denominator 3.7587704831436333; term 2.8281989301132424e-06\n",
      "numerator -0.5999999999999996; denominator 2.6945927106677217; term -6.297498510071479e-07\n",
      "numerator -1.9054072893322784; denominator 1.3891854213354429; term 8.637651519632468e-07\n",
      "numerator -4.6; denominator -1.305407289332278; term 3.0437394761778196e-06\n",
      "numerator -5.664177772475911; denominator -2.3695850618081904; term 7.275654191125812e-06\n",
      "y dp: 0.0011342863047272035\n",
      "numerator 1.4; denominator 5.999999999999999; term 3.207372642678399e-14\n",
      "numerator 1.1587704831436336; denominator 5.758770483143633; term 6.4538233597899474e-15\n",
      "numerator 1.1587704831436336; denominator 5.758770483143633; term 1.2986278988957132e-15\n",
      "numerator 0.46417777247591196; denominator 5.064177772475912; term 1.190310120353014e-16\n",
      "numerator -0.5999999999999996; denominator 3.9999999999999996; term -1.78546518052952e-17\n",
      "numerator -1.9054072893322784; denominator 2.6945927106677208; term 1.2625427050112125e-17\n",
      "numerator -3.2945927106677213; denominator 1.305407289332278; term -3.186410882510305e-17\n",
      "numerator -5.664177772475911; denominator -1.0641777724759125; term -1.6959946130709796e-16\n",
      "y dp: 1.3745882754335996e-13\n",
      "numerator 1.4; denominator 7.064177772475912; term 3.9273347774736716e-41\n",
      "numerator 1.1587704831436336; denominator 6.822948255619545; term 6.669960619753707e-42\n",
      "numerator 1.1587704831436336; denominator 6.822948255619545; term 1.1327879386356566e-42\n",
      "numerator 0.46417777247591196; denominator 6.128355544951823; term 8.580033879995987e-44\n",
      "numerator -0.5999999999999996; denominator 5.064177772475912; term -1.0165560055923325e-44\n",
      "numerator -1.9054072893322784; denominator 3.7587704831436333; term 5.1531564157920363e-45\n",
      "numerator -3.2945927106677213; denominator 2.3695850618081904; term -7.164778271957776e-45\n",
      "numerator -4.6; denominator 1.0641777724759125; term 3.097037064993928e-44\n",
      "y dp: 1.981670788578653e-40\n",
      "-inf\n",
      "numerator 1.2587704831436337; denominator -0.2412295168563663; term -0.39457615539150354\n",
      "numerator 1.2587704831436337; denominator -0.2412295168563663; term 2.058955405755158\n",
      "numerator 0.564177772475912; denominator -0.935822227524088; term -1.2412794228231587\n",
      "numerator -0.49999999999999956; denominator -1.9999999999999996; term -0.31031985570578946\n",
      "numerator -1.8054072893322783; denominator -3.3054072893322783; term -0.16949612573431136\n",
      "numerator -3.194592710667721; denominator -4.694592710667721; term -0.11533931080471434\n",
      "numerator -4.499999999999999; denominator -5.999999999999999; term -0.08650448310353576\n",
      "numerator -5.564177772475912; denominator -7.064177772475912; term -0.06813621310318646\n",
      "y dp: 0.07561617991742652\n",
      "numerator 1.5; denominator 0.2412295168563663; term 0.5852139379034185\n",
      "numerator 1.2587704831436337; denominator 0.0; term inf\n",
      "numerator 0.564177772475912; denominator -0.6945927106677217; term -inf\n",
      "numerator -0.49999999999999956; denominator -1.7587704831436333; term -inf\n",
      "numerator -1.8054072893322783; denominator -3.064177772475912; term -inf\n",
      "numerator -3.194592710667721; denominator -4.453363193811355; term -inf\n",
      "numerator -4.499999999999999; denominator -5.758770483143633; term -inf\n",
      "numerator -5.564177772475912; denominator -6.822948255619545; term -inf\n",
      "y dp: 0.09411391699870213\n",
      "numerator 1.5; denominator 0.2412295168563663; term 0.5852139379034185\n",
      "numerator 1.2587704831436337; denominator 0.0; term inf\n",
      "numerator 0.564177772475912; denominator -0.6945927106677217; term -inf\n",
      "numerator -0.49999999999999956; denominator -1.7587704831436333; term -inf\n",
      "numerator -1.8054072893322783; denominator -3.064177772475912; term -inf\n",
      "numerator -3.194592710667721; denominator -4.453363193811355; term -inf\n",
      "numerator -4.499999999999999; denominator -5.758770483143633; term -inf\n",
      "numerator -5.564177772475912; denominator -6.822948255619545; term -inf\n",
      "y dp: 0.09411391699870213\n",
      "numerator 1.5; denominator 0.935822227524088; term 0.2720844133169387\n",
      "numerator 1.2587704831436337; denominator 0.6945927106677217; term 0.493082958036765\n",
      "numerator 1.2587704831436337; denominator 0.6945927106677217; term 0.8935859299778197\n",
      "numerator -0.49999999999999956; denominator -1.0641777724759116; term 0.4198480522191351\n",
      "numerator -1.8054072893322783; denominator -2.3695850618081904; term 0.31988585094724187\n",
      "numerator -3.194592710667721; denominator -3.7587704831436333; term 0.2718721486891995\n",
      "numerator -4.499999999999999; denominator -5.064177772475912; term 0.24158406834585838\n",
      "numerator -5.564177772475912; denominator -6.128355544951823; term 0.2193437853620639\n",
      "y dp: 0.1697484278298948\n",
      "numerator 1.5; denominator 1.9999999999999996; term 0.2480282241678136\n",
      "numerator 1.2587704831436337; denominator 1.7587704831436333; term 0.17751640169155541\n",
      "numerator 1.2587704831436337; denominator 1.7587704831436333; term 0.12705035072216975\n",
      "numerator 0.564177772475912; denominator 1.0641777724759116; term 0.06735621220122752\n",
      "numerator -1.8054072893322783; denominator -1.3054072893322788; term 0.09315513823437402\n",
      "numerator -3.194592710667721; denominator -2.6945927106677217; term 0.11044070756468109\n",
      "numerator -4.499999999999999; denominator -3.9999999999999996; term 0.12424579601026622\n",
      "numerator -5.564177772475912; denominator -5.064177772475912; term 0.136512920269366\n",
      "y dp: 0.330704298890418\n",
      "numerator 1.5; denominator 3.3054072893322783; term 0.10836014002485\n",
      "numerator 1.2587704831436337; denominator 3.064177772475912; term 0.04451456669316483\n",
      "numerator 1.2587704831436337; denominator 3.064177772475912; term 0.018286674855032447\n",
      "numerator 0.564177772475912; denominator 2.3695850618081904; term 0.0043538996138972955\n",
      "numerator -0.49999999999999956; denominator 1.3054072893322788; term -0.0016676403025619418\n",
      "numerator -3.194592710667721; denominator -1.3891854213354429; term -0.0038349319484354796\n",
      "numerator -4.499999999999999; denominator -2.6945927106677208; term -0.006404379296225187\n",
      "numerator -5.564177772475912; denominator -3.7587704831436333; term -0.009480521645673302\n",
      "y dp: 0.2387829311408037\n",
      "numerator 1.5; denominator 4.694592710667721; term 0.0003624232307148979\n",
      "numerator 1.2587704831436337; denominator 4.453363193811355; term 0.00010244115410650553\n",
      "numerator 1.2587704831436337; denominator 4.453363193811355; term 2.895562195053695e-05\n",
      "numerator 0.564177772475912; denominator 3.7587704831436333; term 4.346133493909399e-06\n",
      "numerator -0.49999999999999956; denominator 2.6945927106677217; term -8.064546223819519e-07\n",
      "numerator -1.8054072893322783; denominator 1.3891854213354429; term 1.0480811498615018e-06\n",
      "numerator -4.499999999999999; denominator -1.305407289332278; term 3.612945333551187e-06\n",
      "numerator -5.564177772475912; denominator -2.3695850618081904; term 8.483793404224017e-06\n",
      "y dp: 0.0011342863047272035\n",
      "numerator 1.5; denominator 5.999999999999999; term 3.436470688584e-14\n",
      "numerator 1.2587704831436337; denominator 5.758770483143633; term 7.51154761531052e-15\n",
      "numerator 1.2587704831436337; denominator 5.758770483143633; term 1.6418981184538039e-15\n",
      "numerator 0.564177772475912; denominator 5.064177772475912; term 1.82916648016638e-16\n",
      "numerator -0.49999999999999956; denominator 3.9999999999999996; term -2.2864581002079732e-17\n",
      "numerator -1.8054072893322783; denominator 2.6945927106677208; term 1.5319525301637855e-17\n",
      "numerator -3.194592710667721; denominator 1.305407289332278; term -3.748994222679335e-17\n",
      "numerator -5.564177772475912; denominator -1.0641777724759125; term -1.960205415157281e-16\n",
      "y dp: 1.3745882754335996e-13\n",
      "numerator 1.5; denominator 7.064177772475912; term 4.2078586901503633e-41\n",
      "numerator 1.2587704831436337; denominator 6.822948255619545; term 7.763107850097202e-42\n",
      "numerator 1.2587704831436337; denominator 6.822948255619545; term 1.4322211825532399e-42\n",
      "numerator 0.564177772475912; denominator 6.128355544951823; term 1.318506001387776e-43\n",
      "numerator -0.49999999999999956; denominator 5.064177772475912; term -1.3017967186637173e-44\n",
      "numerator -1.8054072893322783; denominator 3.7587704831436333; term 6.252771473129889e-45\n",
      "numerator -3.194592710667721; denominator 2.3695850618081904; term -8.429770465504701e-45\n",
      "numerator -4.499999999999999; denominator 1.0641777724759125; term 3.5646268956091897e-44\n",
      "y dp: 1.981670788578653e-40\n",
      "-inf\n",
      "numerator 1.3587704831436338; denominator -0.2412295168563663; term -0.42592231107876555\n",
      "numerator 1.3587704831436338; denominator -0.2412295168563663; term 2.3990872756700714\n",
      "numerator 0.664177772475912; denominator -0.935822227524088; term -1.7026956572142735\n",
      "numerator -0.3999999999999996; denominator -1.9999999999999996; term -0.3405391314428544\n",
      "numerator -1.7054072893322783; denominator -3.3054072893322783; term -0.17569935146565405\n",
      "numerator -3.094592710667721; denominator -4.694592710667721; term -0.1158179134643876\n",
      "numerator -4.3999999999999995; denominator -5.999999999999999; term -0.08493313654055092\n",
      "numerator -5.464177772475912; denominator -7.064177772475912; term -0.06569621713651778\n",
      "y dp: 0.07561617991742652\n",
      "numerator 1.6; denominator 0.2412295168563663; term 0.6242282004303131\n",
      "numerator 1.3587704831436338; denominator 0.0; term inf\n",
      "numerator 0.664177772475912; denominator -0.6945927106677217; term -inf\n",
      "numerator -0.3999999999999996; denominator -1.7587704831436333; term -inf\n",
      "numerator -1.7054072893322783; denominator -3.064177772475912; term -inf\n",
      "numerator -3.094592710667721; denominator -4.453363193811355; term -inf\n",
      "numerator -4.3999999999999995; denominator -5.758770483143633; term -inf\n",
      "numerator -5.464177772475912; denominator -6.822948255619545; term -inf\n",
      "y dp: 0.09411391699870213\n",
      "numerator 1.6; denominator 0.2412295168563663; term 0.6242282004303131\n",
      "numerator 1.3587704831436338; denominator 0.0; term inf\n",
      "numerator 0.664177772475912; denominator -0.6945927106677217; term -inf\n",
      "numerator -0.3999999999999996; denominator -1.7587704831436333; term -inf\n",
      "numerator -1.7054072893322783; denominator -3.064177772475912; term -inf\n",
      "numerator -3.094592710667721; denominator -4.453363193811355; term -inf\n",
      "numerator -4.3999999999999995; denominator -5.758770483143633; term -inf\n",
      "numerator -5.464177772475912; denominator -6.822948255619545; term -inf\n",
      "y dp: 0.09411391699870213\n",
      "numerator 1.6; denominator 0.935822227524088; term 0.2902233742047346\n",
      "numerator 1.3587704831436338; denominator 0.6945927106677217; term 0.5677384002614304\n",
      "numerator 1.3587704831436338; denominator 0.6945927106677217; term 1.110616579435213\n",
      "numerator -0.3999999999999996; denominator -1.0641777724759116; term 0.4174552816871023\n",
      "numerator -1.7054072893322783; denominator -2.3695850618081904; term 0.30044554712721766\n",
      "numerator -3.094592710667721; denominator -3.7587704831436333; term 0.2473565769077937\n",
      "numerator -4.3999999999999995; denominator -5.064177772475912; term 0.21491523151292952\n",
      "numerator -5.464177772475912; denominator -6.128355544951823; term 0.1916231886981185\n",
      "y dp: 0.1697484278298948\n",
      "numerator 1.6; denominator 1.9999999999999996; term 0.2645634391123345\n",
      "numerator 1.3587704831436338; denominator 1.7587704831436333; term 0.20439335059926086\n",
      "numerator 1.3587704831436338; denominator 1.7587704831436333; term 0.15790784210154554\n",
      "numerator 0.664177772475912; denominator 1.0641777724759116; term 0.09855390850672607\n",
      "numerator -1.7054072893322783; denominator -1.3054072893322788; term 0.12875257809041948\n",
      "numerator -3.094592710667721; denominator -2.6945927106677217; term 0.147865311169626\n",
      "numerator -4.3999999999999995; denominator -3.9999999999999996; term 0.16265184228658863\n",
      "numerator -5.464177772475912; denominator -5.064177772475912; term 0.17549908814518472\n",
      "y dp: 0.330704298890418\n",
      "numerator 1.6; denominator 3.3054072893322783; term 0.11558414935984\n",
      "numerator 1.3587704831436338; denominator 3.064177772475912; term 0.051254314250349306\n",
      "numerator 1.3587704831436338; denominator 3.064177772475912; term 0.022728070793643952\n",
      "numerator 0.664177772475912; denominator 2.3695850618081904; term 0.006370515950534466\n",
      "numerator -0.3999999999999996; denominator 1.3054072893322788; term -0.0019520393374830942\n",
      "numerator -3.094592710667721; denominator -1.3891854213354429; term -0.004348423624331415\n",
      "numerator -4.3999999999999995; denominator -2.6945927106677208; term -0.007100540230555677\n",
      "numerator -5.464177772475912; denominator -3.7587704831436333; term -0.010322155682121949\n",
      "y dp: 0.2387829311408037\n",
      "numerator 1.6; denominator 4.694592710667721; term 0.00038658477942922443\n",
      "numerator 1.3587704831436338; denominator 4.453363193811355; term 0.00011795130211948154\n",
      "numerator 1.3587704831436338; denominator 4.453363193811355; term 3.598824995702734e-05\n",
      "numerator 0.664177772475912; denominator 3.7587704831436333; term 6.359152759913639e-06\n",
      "numerator -0.3999999999999996; denominator 2.6945927106677217; term -9.439872281607755e-07\n",
      "numerator -1.7054072893322783; denominator 1.3891854213354429; term 1.1588681217186665e-06\n",
      "numerator -4.3999999999999995; denominator -1.305407289332278; term 3.906075733781374e-06\n",
      "numerator -5.464177772475912; denominator -2.3695850618081904; term 9.007269899755725e-06\n",
      "y dp: 0.0011342863047272035\n",
      "numerator 1.6; denominator 5.999999999999999; term 3.6655687344895995e-14\n",
      "numerator 1.3587704831436338; denominator 5.758770483143633; term 8.648836787188217e-15\n",
      "numerator 1.3587704831436338; denominator 5.758770483143633; term 2.0406759002388704e-15\n",
      "numerator 0.664177772475912; denominator 5.064177772475912; term 2.6763901953293373e-16\n",
      "numerator -0.3999999999999996; denominator 3.9999999999999996; term -2.6763901953293347e-17\n",
      "numerator -1.7054072893322783; denominator 2.6945927106677208; term 1.6938869203283206e-17\n",
      "numerator -3.094592710667721; denominator 1.305407289332278; term -4.015520795065169e-17\n",
      "numerator -5.464177772475912; denominator -1.0641777724759125; term -2.0618283937899616e-16\n",
      "y dp: 1.3745882754335996e-13\n",
      "numerator 1.6; denominator 7.064177772475912; term 4.488382602827054e-41\n",
      "numerator 1.3587704831436338; denominator 6.822948255619545; term 8.93848461001265e-42\n",
      "numerator 1.3587704831436338; denominator 6.822948255619545; term 1.780073451695258e-42\n",
      "numerator 0.664177772475912; denominator 6.128355544951823; term 1.9292046803067114e-43\n",
      "numerator -0.3999999999999996; denominator 5.064177772475912; term -1.523804863875075e-44\n",
      "numerator -1.7054072893322783; denominator 3.7587704831436333; term 6.913718020364769e-45\n",
      "numerator -3.094592710667721; denominator 2.3695850618081904; term -9.02906662194545e-45\n",
      "numerator -4.3999999999999995; denominator 1.0641777724759125; term 3.7332008019796535e-44\n",
      "y dp: 1.981670788578653e-40\n",
      "-inf\n",
      "numerator 1.4587704831436337; denominator -0.2412295168563663; term -0.4572684667660275\n",
      "numerator 1.4587704831436337; denominator -0.2412295168563663; term 2.765207802442367\n",
      "numerator 0.764177772475912; denominator -0.935822227524088; term -2.258025377847769\n",
      "numerator -0.2999999999999996; denominator -1.9999999999999996; term -0.338703806677165\n",
      "numerator -1.6054072893322784; denominator -3.3054072893322783; term -0.16450546409787684\n",
      "numerator -2.994592710667721; denominator -4.694592710667721; term -0.1049349526175286\n",
      "numerator -4.299999999999999; denominator -5.999999999999999; term -0.07520338270922881\n",
      "numerator -5.364177772475911; denominator -7.064177772475912; term -0.05710562884128212\n",
      "y dp: 0.07561617991742652\n",
      "numerator 1.7; denominator 0.2412295168563663; term 0.6632424629572076\n",
      "numerator 1.4587704831436337; denominator 0.0; term inf\n",
      "numerator 0.764177772475912; denominator -0.6945927106677217; term -inf\n",
      "numerator -0.2999999999999996; denominator -1.7587704831436333; term -inf\n",
      "numerator -1.6054072893322784; denominator -3.064177772475912; term -inf\n",
      "numerator -2.994592710667721; denominator -4.453363193811355; term -inf\n",
      "numerator -4.299999999999999; denominator -5.758770483143633; term -inf\n",
      "numerator -5.364177772475911; denominator -6.822948255619545; term -inf\n",
      "y dp: 0.09411391699870213\n",
      "numerator 1.7; denominator 0.2412295168563663; term 0.6632424629572076\n",
      "numerator 1.4587704831436337; denominator 0.0; term inf\n",
      "numerator 0.764177772475912; denominator -0.6945927106677217; term -inf\n",
      "numerator -0.2999999999999996; denominator -1.7587704831436333; term -inf\n",
      "numerator -1.6054072893322784; denominator -3.064177772475912; term -inf\n",
      "numerator -2.994592710667721; denominator -4.453363193811355; term -inf\n",
      "numerator -4.299999999999999; denominator -5.758770483143633; term -inf\n",
      "numerator -5.364177772475911; denominator -6.822948255619545; term -inf\n",
      "y dp: 0.09411391699870213\n",
      "numerator 1.7; denominator 0.935822227524088; term 0.3083623350925305\n",
      "numerator 1.4587704831436337; denominator 0.6945927106677217; term 0.6476167481138725\n",
      "numerator 1.4587704831436337; denominator 0.6945927106677217; term 1.3601124544336294\n",
      "numerator -0.2999999999999996; denominator -1.0641777724759116; term 0.38342629106108717\n",
      "numerator -1.6054072893322784; denominator -2.3695850618081904; term 0.25977348208018713\n",
      "numerator -2.994592710667721; denominator -3.7587704831436333; term 0.2069601693827002\n",
      "numerator -4.299999999999999; denominator -5.064177772475912; term 0.17573015173014322\n",
      "numerator -5.364177772475911; denominator -6.128355544951823; term 0.15381740940947056\n",
      "y dp: 0.1697484278298948\n",
      "numerator 1.7; denominator 1.9999999999999996; term 0.2810986540568554\n",
      "numerator 1.4587704831436337; denominator 1.7587704831436333; term 0.2331506147729999\n",
      "numerator 1.4587704831436337; denominator 1.7587704831436333; term 0.19338125026394834\n",
      "numerator 0.764177772475912; denominator 1.0641777724759116; term 0.1388655701025328\n",
      "numerator -1.6054072893322784; denominator -1.3054072893322788; term 0.170778729597811\n",
      "numerator -2.994592710667721; denominator -2.6945927106677217; term 0.18979222231472978\n",
      "numerator -4.299999999999999; denominator -3.9999999999999996; term 0.2040266389883345\n",
      "numerator -5.364177772475911; denominator -5.064177772475912; term 0.21611310088727673\n",
      "y dp: 0.330704298890418\n",
      "numerator 1.7; denominator 3.3054072893322783; term 0.12280815869482999\n",
      "numerator 1.4587704831436337; denominator 3.064177772475912; term 0.05846557552973878\n",
      "numerator 1.4587704831436337; denominator 3.064177772475912; term 0.027833847183700928\n",
      "numerator 0.764177772475912; denominator 2.3695850618081904; term 0.008976258199418564\n",
      "numerator -0.2999999999999996; denominator 1.3054072893322788; term -0.0020628638140997232\n",
      "numerator -2.994592710667721; denominator -1.3891854213354429; term -0.0044468051895223525\n",
      "numerator -4.299999999999999; denominator -2.6945927106677208; term -0.007096160484382761\n",
      "numerator -5.364177772475911; denominator -3.7587704831436333; term -0.010126999376778209\n",
      "y dp: 0.2387829311408037\n",
      "numerator 1.7; denominator 4.694592710667721; term 0.0004107463281435509\n",
      "numerator 1.4587704831436337; denominator 4.453363193811355; term 0.00013454654234985864\n",
      "numerator 1.4587704831436337; denominator 4.453363193811355; term 4.407287617182448e-05\n",
      "numerator 0.764177772475912; denominator 3.7587704831436333; term 8.960247104905379e-06\n",
      "numerator -0.2999999999999996; denominator 2.6945927106677217; term -9.975808666110077e-07\n",
      "numerator -1.6054072893322784; denominator 1.3891854213354429; term 1.1528508508361372e-06\n",
      "numerator -4.299999999999999; denominator -1.305407289332278; term 3.7974804485204385e-06\n",
      "numerator -5.364177772475911; denominator -2.3695850618081904; term 8.596593784154308e-06\n",
      "y dp: 0.0011342863047272035\n",
      "numerator 1.7; denominator 5.999999999999999; term 3.8946667803952e-14\n",
      "numerator 1.4587704831436337; denominator 5.758770483143633; term 9.865690875423038e-15\n",
      "numerator 1.4587704831436337; denominator 5.758770483143633; term 2.4991061350704035e-15\n",
      "numerator 0.764177772475912; denominator 5.064177772475912; term 3.7711183241999244e-16\n",
      "numerator -0.2999999999999996; denominator 3.9999999999999996; term -2.82833874314994e-17\n",
      "numerator -1.6054072893322784; denominator 2.6945927106677208; term 1.6850916344342958e-17\n",
      "numerator -2.994592710667721; denominator 1.305407289332278; term -3.865585221195781e-17\n",
      "numerator -5.364177772475911; denominator -1.0641777724759125; term -1.948517142291575e-16\n",
      "y dp: 1.3745882754335996e-13\n",
      "numerator 1.7; denominator 7.064177772475912; term 4.768906515503745e-41\n",
      "numerator 1.4587704831436337; denominator 6.822948255619545; term 1.0196090899500053e-41\n",
      "numerator 1.4587704831436337; denominator 6.822948255619545; term 2.1799603177980593e-42\n",
      "numerator 0.764177772475912; denominator 6.128355544951823; term 2.718310332227792e-43\n",
      "numerator -0.2999999999999996; denominator 5.064177772475912; term -1.610316889151457e-44\n",
      "numerator -1.6054072893322784; denominator 3.7587704831436333; term 6.877819445406769e-45\n",
      "numerator -2.994592710667721; denominator 2.3695850618081904; term -8.691930206880672e-45\n",
      "numerator -4.299999999999999; denominator 1.0641777724759125; term 3.5121293505905156e-44\n",
      "y dp: 1.981670788578653e-40\n",
      "-inf\n",
      "numerator 1.5587704831436338; denominator -0.2412295168563663; term -0.48861462245328957\n",
      "numerator 1.5587704831436338; denominator -0.2412295168563663; term 3.157316986072047\n",
      "numerator 0.8641777724759121; denominator -0.935822227524088; term -2.9155998647765298\n",
      "numerator -0.1999999999999995; denominator -1.9999999999999996; term -0.29155998647765236\n",
      "numerator -1.5054072893322783; denominator -3.3054072893322783; term -0.1327874269345317\n",
      "numerator -2.8945927106677214; denominator -4.694592710667721; term -0.08187409254898897\n",
      "numerator -4.199999999999999; denominator -5.999999999999999; term -0.05731186478429228\n",
      "numerator -5.264177772475912; denominator -7.064177772475912; term -0.042708416239484605\n",
      "y dp: 0.07561617991742652\n",
      "numerator 1.8; denominator 0.2412295168563663; term 0.7022567254841022\n",
      "numerator 1.5587704831436338; denominator 0.0; term inf\n",
      "numerator 0.8641777724759121; denominator -0.6945927106677217; term -inf\n",
      "numerator -0.1999999999999995; denominator -1.7587704831436333; term -inf\n",
      "numerator -1.5054072893322783; denominator -3.064177772475912; term -inf\n",
      "numerator -2.8945927106677214; denominator -4.453363193811355; term -inf\n",
      "numerator -4.199999999999999; denominator -5.758770483143633; term -inf\n",
      "numerator -5.264177772475912; denominator -6.822948255619545; term -inf\n",
      "y dp: 0.09411391699870213\n",
      "numerator 1.8; denominator 0.2412295168563663; term 0.7022567254841022\n",
      "numerator 1.5587704831436338; denominator 0.0; term inf\n",
      "numerator 0.8641777724759121; denominator -0.6945927106677217; term -inf\n",
      "numerator -0.1999999999999995; denominator -1.7587704831436333; term -inf\n",
      "numerator -1.5054072893322783; denominator -3.064177772475912; term -inf\n",
      "numerator -2.8945927106677214; denominator -4.453363193811355; term -inf\n",
      "numerator -4.199999999999999; denominator -5.758770483143633; term -inf\n",
      "numerator -5.264177772475912; denominator -6.822948255619545; term -inf\n",
      "y dp: 0.09411391699870213\n",
      "numerator 1.8; denominator 0.935822227524088; term 0.32650129598032646\n",
      "numerator 1.5587704831436338; denominator 0.6945927106677217; term 0.7327180015940915\n",
      "numerator 1.5587704831436338; denominator 0.6945927106677217; term 1.6443293685804814\n",
      "numerator -0.1999999999999995; denominator -1.0641777724759116; term 0.3090328347593255\n",
      "numerator -1.5054072893322783; denominator -2.3695850618081904; term 0.19632985098863864\n",
      "numerator -2.8945927106677214; denominator -3.7587704831436333; term 0.15119171497880393\n",
      "numerator -4.199999999999999; denominator -5.064177772475912; term 0.12539157024902742\n",
      "numerator -5.264177772475912; denominator -6.128355544951823; term 0.10770972932608645\n",
      "y dp: 0.1697484278298948\n",
      "numerator 1.8; denominator 1.9999999999999996; term 0.2976338690013763\n",
      "numerator 1.5587704831436338; denominator 1.7587704831436333; term 0.26378819421277244\n",
      "numerator 1.5587704831436338; denominator 1.7587704831436333; term 0.2337913075534881\n",
      "numerator 0.8641777724759121; denominator 1.0641777724759116; term 0.18985291425110787\n",
      "numerator -1.5054072893322783; denominator -1.3054072893322788; term 0.2189400682455088\n",
      "numerator -2.8945927106677214; denominator -2.6945927106677217; term 0.23519039560509372\n",
      "numerator -4.199999999999999; denominator -3.9999999999999996; term 0.2469499153853484\n",
      "numerator -5.264177772475912; denominator -5.064177772475912; term 0.25670272922721377\n",
      "y dp: 0.330704298890418\n",
      "numerator 1.8; denominator 3.3054072893322783; term 0.13003216802982\n",
      "numerator 1.5587704831436338; denominator 3.064177772475912; term 0.0661483505313333\n",
      "numerator 1.5587704831436338; denominator 3.064177772475912; term 0.0336501678339524\n",
      "numerator 0.8641777724759121; denominator 2.3695850618081904; term 0.012272075626605835\n",
      "numerator -0.1999999999999995; denominator 1.3054072893322788; term -0.0018801910678594455\n",
      "numerator -2.8945927106677214; denominator -1.3891854213354429; term -0.003917682460601026\n",
      "numerator -4.199999999999999; denominator -2.6945927106677208; term -0.006106402006278319\n",
      "numerator -5.264177772475912; denominator -3.7587704831436333; term -0.00855204803150634\n",
      "y dp: 0.2387829311408037\n",
      "numerator 1.8; denominator 4.694592710667721; term 0.00043490787685787743\n",
      "numerator 1.5587704831436338; denominator 4.453363193811355; term 0.00015222687479763693\n",
      "numerator 1.5587704831436338; denominator 4.453363193811355; term 5.328259763441371e-05\n",
      "numerator 0.8641777724759121; denominator 3.7587704831436333; term 1.2250185730129457e-05\n",
      "numerator -0.1999999999999995; denominator 2.6945927106677217; term -9.092421041318577e-07\n",
      "numerator -1.5054072893322783; denominator 1.3891854213354429; term 9.853110105432078e-07\n",
      "numerator -4.199999999999999; denominator -1.305407289332278; term 3.1701265023563914e-06\n",
      "numerator -5.264177772475912; denominator -2.3695850618081904; term 7.0426294200668645e-06\n",
      "y dp: 0.0011342863047272035\n",
      "numerator 1.8; denominator 5.999999999999999; term 4.1237648263007996e-14\n",
      "numerator 1.5587704831436338; denominator 5.758770483143633; term 1.1162109880014982e-14\n",
      "numerator 1.5587704831436338; denominator 5.758770483143633; term 3.0213337137678938e-15\n",
      "numerator 0.8641777724759121; denominator 5.064177772475912; term 5.155761815592411e-16\n",
      "numerator -0.1999999999999995; denominator 3.9999999999999996; term -2.5778809077961993e-17\n",
      "numerator -1.5054072893322783; denominator 2.6945927106677208; term 1.4402030756868098e-17\n",
      "numerator -2.8945927106677214; denominator 1.305407289332278; term -3.1934870893027067e-17\n",
      "numerator -5.264177772475912; denominator -1.0641777724759125; term -1.5797251349352556e-16\n",
      "y dp: 1.3745882754335996e-13\n",
      "numerator 1.8; denominator 7.064177772475912; term 5.049430428180436e-41\n",
      "numerator 1.5587704831436338; denominator 6.822948255619545; term 1.1535926718559412e-41\n",
      "numerator 1.5587704831436338; denominator 6.822948255619545; term 2.6354973525979935e-42\n",
      "numerator 0.8641777724759121; denominator 6.128355544951823; term 3.716393761472274e-43\n",
      "numerator -0.1999999999999995; denominator 5.064177772475912; term -1.467718523496972e-44\n",
      "numerator -1.5054072893322783; denominator 3.7587704831436333; term 5.878289653143258e-45\n",
      "numerator -2.8945927106677214; denominator 2.3695850618081904; term -7.180689419183757e-45\n",
      "numerator -4.199999999999999; denominator 1.0641777724759125; term 2.8340091609322177e-44\n",
      "y dp: 1.981670788578653e-40\n",
      "-inf\n",
      "numerator 1.6587704831436336; denominator -0.2412295168563663; term -0.5199607781405515\n",
      "numerator 1.6587704831436336; denominator -0.2412295168563663; term 3.575414826559108\n",
      "numerator 0.9641777724759121; denominator -0.935822227524088; term -3.683750398053434\n",
      "numerator -0.09999999999999953; denominator -1.9999999999999996; term -0.1841875199026709\n",
      "numerator -1.4054072893322784; denominator -3.3054072893322783; term -0.07831364198617095\n",
      "numerator -2.7945927106677213; denominator -4.694592710667721; term -0.04661847076596913\n",
      "numerator -4.099999999999999; denominator -5.999999999999999; term -0.031855955023412236\n",
      "numerator -5.164177772475911; denominator -7.064177772475912; term -0.023287892823687963\n",
      "y dp: 0.07561617991742652\n",
      "numerator 1.9; denominator 0.2412295168563663; term 0.7412709880109968\n",
      "numerator 1.6587704831436336; denominator 0.0; term inf\n",
      "numerator 0.9641777724759121; denominator -0.6945927106677217; term -inf\n",
      "numerator -0.09999999999999953; denominator -1.7587704831436333; term -inf\n",
      "numerator -1.4054072893322784; denominator -3.064177772475912; term -inf\n",
      "numerator -2.7945927106677213; denominator -4.453363193811355; term -inf\n",
      "numerator -4.099999999999999; denominator -5.758770483143633; term -inf\n",
      "numerator -5.164177772475911; denominator -6.822948255619545; term -inf\n",
      "y dp: 0.09411391699870213\n",
      "numerator 1.9; denominator 0.2412295168563663; term 0.7412709880109968\n",
      "numerator 1.6587704831436336; denominator 0.0; term inf\n",
      "numerator 0.9641777724759121; denominator -0.6945927106677217; term -inf\n",
      "numerator -0.09999999999999953; denominator -1.7587704831436333; term -inf\n",
      "numerator -1.4054072893322784; denominator -3.064177772475912; term -inf\n",
      "numerator -2.7945927106677213; denominator -4.453363193811355; term -inf\n",
      "numerator -4.099999999999999; denominator -5.758770483143633; term -inf\n",
      "numerator -5.164177772475911; denominator -6.822948255619545; term -inf\n",
      "y dp: 0.09411391699870213\n",
      "numerator 1.9; denominator 0.935822227524088; term 0.34464025686812233\n",
      "numerator 1.6587704831436336; denominator 0.6945927106677217; term 0.823042160702087\n",
      "numerator 1.6587704831436336; denominator 0.6945927106677217; term 1.9655231354831793\n",
      "numerator -0.09999999999999953; denominator -1.0641777724759116; term 0.18469875863975171\n",
      "numerator -1.4054072893322784; denominator -2.3695850618081904; term 0.10954533175730412\n",
      "numerator -2.7945927106677213; denominator -3.7587704831436333; term 0.08144540534983792\n",
      "numerator -4.099999999999999; denominator -5.064177772475912; term 0.065938870422212\n",
      "numerator -5.164177772475911; denominator -6.128355544951823; term 0.05556466926222268\n",
      "y dp: 0.1697484278298948\n",
      "numerator 1.9; denominator 1.9999999999999996; term 0.3141690839458972\n",
      "numerator 1.6587704831436336; denominator 1.7587704831436333; term 0.2963060889185785\n",
      "numerator 1.6587704831436336; denominator 1.7587704831436333; term 0.2794587463142747\n",
      "numerator 0.9641777724759121; denominator 1.0641777724759116; term 0.2531982141417143\n",
      "numerator -1.4054072893322784; denominator -1.3054072893322788; term 0.27259432263680516\n",
      "numerator -2.7945927106677213; denominator -2.6945927106677217; term 0.2827106686640775\n",
      "numerator -4.099999999999999; denominator -3.9999999999999996; term 0.28977843538067943\n",
      "numerator -5.164177772475911; denominator -5.064177772475912; term 0.29550055747828113\n",
      "y dp: 0.330704298890418\n",
      "numerator 1.9; denominator 3.3054072893322783; term 0.13725617736481\n",
      "numerator 1.6587704831436336; denominator 3.064177772475912; term 0.07430263925513282\n",
      "numerator 1.6587704831436336; denominator 3.064177772475912; term 0.040223196553147336\n",
      "numerator 0.9641777724759121; denominator 2.3695850618081904; term 0.016366710222624488\n",
      "numerator -0.09999999999999953; denominator 1.3054072893322788; term -0.001253762741818\n",
      "numerator -2.7945927106677213; denominator -1.3891854213354429; term -0.0025221659869012667\n",
      "numerator -4.099999999999999; denominator -2.6945927106677208; term -0.0038376414013725725\n",
      "numerator -5.164177772475911; denominator -3.7587704831436333; term -0.005272538590099446\n",
      "y dp: 0.2387829311408037\n",
      "numerator 1.9; denominator 4.694592710667721; term 0.00045906942557220393\n",
      "numerator 1.6587704831436336; denominator 4.453363193811355; term 0.00017099229946281627\n",
      "numerator 1.6587704831436336; denominator 4.453363193811355; term 6.369051138428023e-05\n",
      "numerator 0.9641777724759121; denominator 3.7587704831436333; term 1.6337516661296082e-05\n",
      "numerator -0.09999999999999953; denominator 2.6945927106677217; term -6.06307461480795e-07\n",
      "numerator -1.4054072893322784; denominator 1.3891854213354429; term 6.133874663920062e-07\n",
      "numerator -4.099999999999999; denominator -1.305407289332278; term 1.926516446444544e-06\n",
      "numerator -5.164177772475911; denominator -2.3695850618081904; term 4.198571965779687e-06\n",
      "y dp: 0.0011342863047272035\n",
      "numerator 1.9; denominator 5.999999999999999; term 4.3528628722063994e-14\n",
      "numerator 1.6587704831436336; denominator 5.758770483143633; term 1.2538093800964051e-14\n",
      "numerator 1.6587704831436336; denominator 5.758770483143633; term 3.611503527150833e-15\n",
      "numerator 0.9641777724759121; denominator 5.064177772475912; term 6.876005508777294e-16\n",
      "numerator -0.09999999999999953; denominator 3.9999999999999996; term -1.7190013771943158e-17\n",
      "numerator -1.4054072893322784; denominator 2.6945927106677208; term 8.965722561026513e-18\n",
      "numerator -2.7945927106677213; denominator 1.305407289332278; term -1.9193659419298827e-17\n",
      "numerator -5.164177772475911; denominator -1.0641777724759125; term -9.314183392029029e-17\n",
      "y dp: 1.3745882754335996e-13\n",
      "numerator 1.9; denominator 7.064177772475912; term 5.329954340857126e-41\n",
      "numerator 1.6587704831436336; denominator 6.822948255619545; term 1.2957992067190718e-41\n",
      "numerator 1.6587704831436336; denominator 6.822948255619545; term 3.150300127831406e-42\n",
      "numerator 0.9641777724759121; denominator 6.128355544951823; term 4.956385669211273e-43\n",
      "numerator -0.09999999999999953; denominator 5.064177772475912; term -9.787147868602643e-45\n",
      "numerator -1.4054072893322784; denominator 3.7587704831436333; term 3.659422414321809e-45\n",
      "numerator -2.7945927106677213; denominator 2.3695850618081904; term -4.315774676817914e-45\n",
      "numerator -4.099999999999999; denominator 1.0641777724759125; term 1.6627556628799967e-44\n",
      "y dp: 1.981670788578653e-40\n",
      "-inf\n",
      "numerator 1.7587704831436337; denominator -0.2412295168563663; term -0.5513069338278136\n",
      "numerator 1.7587704831436337; denominator -0.2412295168563663; term 4.019501323903554\n",
      "numerator 1.064177772475912; denominator -0.935822227524088; term -4.570808257731367\n",
      "numerator 4.440892098500626e-16; denominator -1.9999999999999996; term 1.0149233137760323e-15\n",
      "numerator -1.3054072893322783; denominator -3.3054072893322783; term 4.008245205340922e-16\n",
      "numerator -2.694592710667721; denominator -4.694592710667721; term 2.3006443750355296e-16\n",
      "numerator -3.999999999999999; denominator -5.999999999999999; term 1.5337629166903529e-16\n",
      "numerator -5.064177772475912; denominator -7.064177772475912; term 1.0995261332769064e-16\n",
      "y dp: 0.07561617991742652\n",
      "numerator 2.0; denominator 0.2412295168563663; term 0.7802852505378913\n",
      "numerator 1.7587704831436337; denominator 0.0; term inf\n",
      "numerator 1.064177772475912; denominator -0.6945927106677217; term -inf\n",
      "numerator 4.440892098500626e-16; denominator -1.7587704831436333; term inf\n",
      "numerator -1.3054072893322783; denominator -3.064177772475912; term inf\n",
      "numerator -2.694592710667721; denominator -4.453363193811355; term inf\n",
      "numerator -3.999999999999999; denominator -5.758770483143633; term inf\n",
      "numerator -5.064177772475912; denominator -6.822948255619545; term inf\n",
      "y dp: 0.09411391699870213\n",
      "numerator 2.0; denominator 0.2412295168563663; term 0.7802852505378913\n",
      "numerator 1.7587704831436337; denominator 0.0; term inf\n",
      "numerator 1.064177772475912; denominator -0.6945927106677217; term -inf\n",
      "numerator 4.440892098500626e-16; denominator -1.7587704831436333; term inf\n",
      "numerator -1.3054072893322783; denominator -3.064177772475912; term inf\n",
      "numerator -2.694592710667721; denominator -4.453363193811355; term inf\n",
      "numerator -3.999999999999999; denominator -5.758770483143633; term inf\n",
      "numerator -5.064177772475912; denominator -6.822948255619545; term inf\n",
      "y dp: 0.09411391699870213\n",
      "numerator 2.0; denominator 0.935822227524088; term 0.36277921775591826\n",
      "numerator 1.7587704831436337; denominator 0.6945927106677217; term 0.9185892254378597\n",
      "numerator 1.7587704831436337; denominator 0.6945927106677217; term 2.3259495687491363\n",
      "numerator 4.440892098500626e-16; denominator -1.0641777724759116; term -9.706358588318278e-16\n",
      "numerator -1.3054072893322783; denominator -2.3695850618081904; term -5.347244738450033e-16\n",
      "numerator -2.694592710667721; denominator -3.7587704831436333; term -3.833340385905438e-16\n",
      "numerator -3.999999999999999; denominator -5.064177772475912; term -3.02780870508919e-16\n",
      "numerator -5.064177772475912; denominator -6.128355544951823; term -2.5020352411263843e-16\n",
      "y dp: 0.1697484278298948\n",
      "numerator 2.0; denominator 1.9999999999999996; term 0.3307042988904181\n",
      "numerator 1.7587704831436337; denominator 1.7587704831436333; term 0.33070429889041814\n",
      "numerator 1.7587704831436337; denominator 1.7587704831436333; term 0.3307042988904182\n",
      "numerator 1.064177772475912; denominator 1.0641777724759116; term 0.33070429889041836\n",
      "numerator -1.3054072893322783; denominator -1.3054072893322788; term 0.33070429889041825\n",
      "numerator -2.694592710667721; denominator -2.6945927106677217; term 0.3307042988904182\n",
      "numerator -3.999999999999999; denominator -3.9999999999999996; term 0.33070429889041814\n",
      "numerator -5.064177772475912; denominator -5.064177772475912; term 0.33070429889041814\n",
      "y dp: 0.330704298890418\n",
      "numerator 2.0; denominator 3.3054072893322783; term 0.1444801866998\n",
      "numerator 1.7587704831436337; denominator 3.064177772475912; term 0.08292844170113739\n",
      "numerator 1.7587704831436337; denominator 3.064177772475912; term 0.04759909715003477\n",
      "numerator 1.064177772475912; denominator 2.3695850618081904; term 0.021376696702474735\n",
      "numerator 4.440892098500626e-16; denominator 1.3054072893322788; term 7.27218273207455e-18\n",
      "numerator -2.694592710667721; denominator -1.3891854213354429; term 1.410579918241171e-17\n",
      "numerator -3.999999999999999; denominator -2.6945927106677208; term 2.0939415632748868e-17\n",
      "numerator -5.064177772475912; denominator -3.7587704831436333; term 2.821159836482342e-17\n",
      "y dp: 0.2387829311408037\n",
      "numerator 2.0; denominator 4.694592710667721; term 0.0004832309742865305\n",
      "numerator 1.7587704831436337; denominator 4.453363193811355; term 0.00019084281634539679\n",
      "numerator 1.7587704831436337; denominator 4.453363193811355; term 7.536971446090938e-05\n",
      "numerator 1.064177772475912; denominator 3.7587704831436333; term 2.1338566748580898e-05\n",
      "numerator 4.440892098500626e-16; denominator 2.6945927106677217; term 3.516756803057593e-21\n",
      "numerator -1.3054072893322783; denominator 1.3891854213354429; term -3.304670416931861e-21\n",
      "numerator -3.999999999999999; denominator -1.305407289332278; term -1.0126097636921316e-20\n",
      "numerator -5.064177772475912; denominator -2.3695850618081904; term -2.1641071004932234e-20\n",
      "y dp: 0.0011342863047272035\n",
      "numerator 2.0; denominator 5.999999999999999; term 4.581960918111999e-14\n",
      "numerator 1.7587704831436337; denominator 5.758770483143633; term 1.3993642638270245e-14\n",
      "numerator 1.7587704831436337; denominator 5.758770483143633; term 4.273760466038712e-15\n",
      "numerator 1.064177772475912; denominator 5.064177772475912; term 8.98080813348131e-16\n",
      "numerator 4.440892098500626e-16; denominator 3.9999999999999996; term 9.97069996953183e-32\n",
      "numerator -1.3054072893322783; denominator 2.6945927106677208; term -4.8303494507511863e-32\n",
      "numerator -2.694592710667721; denominator 1.305407289332278; term 9.970699969531833e-32\n",
      "numerator -5.064177772475912; denominator -1.0641777724759125; term 4.744827271128919e-31\n",
      "y dp: 1.3745882754335996e-13\n",
      "numerator 2.0; denominator 7.064177772475912; term 5.610478253533817e-41\n",
      "numerator 1.7587704831436337; denominator 6.822948255619545; term 1.4462286945393985e-41\n",
      "numerator 1.7587704831436337; denominator 6.822948255619545; term 3.727984215234649e-42\n",
      "numerator 1.064177772475912; denominator 6.128355544951823; term 6.4735766534657826e-43\n",
      "numerator 4.440892098500626e-16; denominator 5.064177772475912; term 5.676825874017254e-59\n",
      "numerator -1.3054072893322783; denominator 3.7587704831436333; term -1.9715409359111505e-59\n",
      "numerator -2.694592710667721; denominator 2.3695850618081904; term 2.2419536315929186e-59\n",
      "numerator -3.999999999999999; denominator 1.0641777724759125; term -8.426989135008133e-59\n",
      "y dp: 1.981670788578653e-40\n",
      "inf\n",
      "numerator 1.8587704831436338; denominator -0.2412295168563663; term -0.5826530895150756\n",
      "numerator 1.8587704831436338; denominator -0.2412295168563663; term 4.489576478105382\n",
      "numerator 1.1641777724759121; denominator -0.935822227524088; term -5.58510472386321\n",
      "numerator 0.10000000000000042; denominator -1.9999999999999996; term 0.2792552361931617\n",
      "numerator -1.2054072893322783; denominator -3.3054072893322783; term 0.10183806951047286\n",
      "numerator -2.594592710667721; denominator -4.694592710667721; term 0.056283543452007756\n",
      "numerator -3.899999999999999; denominator -5.999999999999999; term 0.03658430324380504\n",
      "numerator -4.964177772475912; denominator -7.064177772475912; term 0.02570872235011193\n",
      "y dp: 0.07561617991742652\n",
      "numerator 2.1; denominator 0.2412295168563663; term 0.819299513064786\n",
      "numerator 1.8587704831436338; denominator 0.0; term inf\n",
      "numerator 1.1641777724759121; denominator -0.6945927106677217; term -inf\n",
      "numerator 0.10000000000000042; denominator -1.7587704831436333; term inf\n",
      "numerator -1.2054072893322783; denominator -3.064177772475912; term inf\n",
      "numerator -2.594592710667721; denominator -4.453363193811355; term inf\n",
      "numerator -3.899999999999999; denominator -5.758770483143633; term inf\n",
      "numerator -4.964177772475912; denominator -6.822948255619545; term inf\n",
      "y dp: 0.09411391699870213\n",
      "numerator 2.1; denominator 0.2412295168563663; term 0.819299513064786\n",
      "numerator 1.8587704831436338; denominator 0.0; term inf\n",
      "numerator 1.1641777724759121; denominator -0.6945927106677217; term -inf\n",
      "numerator 0.10000000000000042; denominator -1.7587704831436333; term inf\n",
      "numerator -1.2054072893322783; denominator -3.064177772475912; term inf\n",
      "numerator -2.594592710667721; denominator -4.453363193811355; term inf\n",
      "numerator -3.899999999999999; denominator -5.758770483143633; term inf\n",
      "numerator -4.964177772475912; denominator -6.822948255619545; term inf\n",
      "y dp: 0.09411391699870213\n",
      "numerator 2.1; denominator 0.935822227524088; term 0.38091817864371424\n",
      "numerator 1.8587704831436338; denominator 0.6945927106677217; term 1.0193591958014094\n",
      "numerator 1.8587704831436338; denominator 0.6945927106677217; term 2.7278644819857636\n",
      "numerator 0.10000000000000042; denominator -1.0641777724759116; term -0.2563354124226009\n",
      "numerator -1.2054072893322783; denominator -2.3695850618081904; term -0.13039775597353528\n",
      "numerator -2.594592710667721; denominator -3.7587704831436333; term -0.09001056825725702\n",
      "numerator -3.899999999999999; denominator -5.064177772475912; term -0.06931850183286038\n",
      "numerator -4.964177772475912; denominator -6.128355544951823; term -0.0561503593412548\n",
      "y dp: 0.1697484278298948\n",
      "numerator 2.1; denominator 1.9999999999999996; term 0.347239513834939\n",
      "numerator 1.8587704831436338; denominator 1.7587704831436333; term 0.3669828241282914\n",
      "numerator 1.8587704831436338; denominator 1.7587704831436333; term 0.3878486976260287\n",
      "numerator 1.1641777724759121; denominator 1.0641777724759116; term 0.4242945535400894\n",
      "numerator -1.2054072893322783; denominator -1.3054072893322788; term 0.3917917050415859\n",
      "numerator -2.594592710667721; denominator -2.6945927106677217; term 0.3772517820509792\n",
      "numerator -3.899999999999999; denominator -3.9999999999999996; term 0.3678204874997047\n",
      "numerator -4.964177772475912; denominator -5.064177772475912; term 0.3605573047279855\n",
      "y dp: 0.330704298890418\n",
      "numerator 2.1; denominator 3.3054072893322783; term 0.15170419603479002\n",
      "numerator 1.8587704831436338; denominator 3.064177772475912; term 0.09202575786934696\n",
      "numerator 1.8587704831436338; denominator 3.064177772475912; term 0.05582403343336366\n",
      "numerator 1.1641777724759121; denominator 2.3695850618081904; term 0.027426362505628753\n",
      "numerator 0.10000000000000042; denominator 1.3054072893322788; term 0.0021009812592403684\n",
      "numerator -2.594592710667721; denominator -1.3891854213354429; term 0.003924019484191135\n",
      "numerator -3.899999999999999; denominator -2.6945927106677208; term 0.00567940228137601\n",
      "numerator -4.964177772475912; denominator -3.7587704831436333; term 0.007500740652452979\n",
      "y dp: 0.2387829311408037\n",
      "numerator 2.1; denominator 4.694592710667721; term 0.000507392523000857\n",
      "numerator 1.8587704831436338; denominator 4.453363193811355; term 0.0002117784254453784\n",
      "numerator 1.8587704831436338; denominator 4.453363193811355; term 8.839330390378642e-05\n",
      "numerator 1.1641777724759121; denominator 3.7587704831436333; term 2.737744166662493e-05\n",
      "numerator 0.10000000000000042; denominator 2.6945927106677217; term 1.0160140921572114e-06\n",
      "numerator -1.2054072893322783; denominator 1.3891854213354429; term -8.816035454599636e-07\n",
      "numerator -3.899999999999999; denominator -1.305407289332278; term -2.633855238431019e-06\n",
      "numerator -4.964177772475912; denominator -2.3695850618081904; term -5.517812312912393e-06\n",
      "y dp: 0.0011342863047272035\n",
      "numerator 2.1; denominator 5.999999999999999; term 4.8110589640176e-14\n",
      "numerator 1.8587704831436338; denominator 5.758770483143633; term 1.552875639193357e-14\n",
      "numerator 1.8587704831436338; denominator 5.758770483143633; term 5.012249421251025e-15\n",
      "numerator 1.1641777724759121; denominator 5.064177772475912; term 1.1522402309887422e-15\n",
      "numerator 0.10000000000000042; denominator 3.9999999999999996; term 2.880600577471868e-17\n",
      "numerator -1.2054072893322783; denominator 2.6945927106677208; term -1.2886166135582412e-17\n",
      "numerator -2.594592710667721; denominator 1.305407289332278; term 2.561220011337396e-17\n",
      "numerator -4.964177772475912; denominator -1.0641777724759125; term 1.1947582236302903e-16\n",
      "y dp: 1.3745882754335996e-13\n",
      "numerator 2.1; denominator 7.064177772475912; term 5.891002166210509e-41\n",
      "numerator 1.8587704831436338; denominator 6.822948255619545; term 1.6048811353169209e-41\n",
      "numerator 1.8587704831436338; denominator 6.822948255619545; term 4.37216518654407e-42\n",
      "numerator 1.1641777724759121; denominator 6.128355544951823; term 8.305617209106656e-43\n",
      "numerator 0.10000000000000042; denominator 5.064177772475912; term 1.6400722056496877e-44\n",
      "numerator -1.2054072893322783; denominator 3.7587704831436333; term -5.259578898438039e-45\n",
      "numerator -2.594592710667721; denominator 2.3695850618081904; term 5.759010423814754e-45\n",
      "numerator -3.899999999999999; denominator 1.0641777724759125; term -2.110562843332261e-44\n",
      "y dp: 1.981670788578653e-40\n",
      "inf\n",
      "numerator 1.9587704831436337; denominator -0.2412295168563663; term -0.6139992452023375\n",
      "numerator 1.9587704831436337; denominator -0.2412295168563663; term 4.985640289164593\n",
      "numerator 1.264177772475912; denominator -0.935822227524088; term -6.73497107650184\n",
      "numerator 0.20000000000000046; denominator -1.9999999999999996; term 0.6734971076501858\n",
      "numerator -1.1054072893322784; denominator -3.3054072893322783; term 0.22523354823578032\n",
      "numerator -2.494592710667721; denominator -4.694592710667721; term 0.11968364504764223\n",
      "numerator -3.799999999999999; denominator -5.999999999999999; term 0.07579964186350674\n",
      "numerator -4.864177772475911; denominator -7.064177772475912; term 0.05219332595941707\n",
      "y dp: 0.07561617991742652\n",
      "numerator 2.2; denominator 0.2412295168563663; term 0.8583137755916806\n",
      "numerator 1.9587704831436337; denominator 0.0; term inf\n",
      "numerator 1.264177772475912; denominator -0.6945927106677217; term -inf\n",
      "numerator 0.20000000000000046; denominator -1.7587704831436333; term inf\n",
      "numerator -1.1054072893322784; denominator -3.064177772475912; term inf\n",
      "numerator -2.494592710667721; denominator -4.453363193811355; term inf\n",
      "numerator -3.799999999999999; denominator -5.758770483143633; term inf\n",
      "numerator -4.864177772475911; denominator -6.822948255619545; term inf\n",
      "y dp: 0.09411391699870213\n",
      "numerator 2.2; denominator 0.2412295168563663; term 0.8583137755916806\n",
      "numerator 1.9587704831436337; denominator 0.0; term inf\n",
      "numerator 1.264177772475912; denominator -0.6945927106677217; term -inf\n",
      "numerator 0.20000000000000046; denominator -1.7587704831436333; term inf\n",
      "numerator -1.1054072893322784; denominator -3.064177772475912; term inf\n",
      "numerator -2.494592710667721; denominator -4.453363193811355; term inf\n",
      "numerator -3.799999999999999; denominator -5.758770483143633; term inf\n",
      "numerator -4.864177772475911; denominator -6.822948255619545; term inf\n",
      "y dp: 0.09411391699870213\n",
      "numerator 2.2; denominator 0.935822227524088; term 0.3990571395315101\n",
      "numerator 1.9587704831436337; denominator 0.6945927106677217; term 1.1253520717927354\n",
      "numerator 1.9587704831436337; denominator 0.6945927106677217; term 3.17352368880047\n",
      "numerator 0.20000000000000046; denominator -1.0641777724759116; term -0.5964273584510171\n",
      "numerator -1.1054072893322784; denominator -2.3695850618081904; term -0.27823232017079524\n",
      "numerator -2.494592710667721; denominator -3.7587704831436333; term -0.18465514744325257\n",
      "numerator -3.799999999999999; denominator -5.064177772475912; term -0.13855942500638135\n",
      "numerator -4.864177772475911; denominator -6.128355544951823; term -0.10997692127022005\n",
      "y dp: 0.1697484278298948\n",
      "numerator 2.2; denominator 1.9999999999999996; term 0.36377472877945993\n",
      "numerator 1.9587704831436337; denominator 1.7587704831436333; term 0.40514166463219814\n",
      "numerator 1.9587704831436337; denominator 1.7587704831436333; term 0.45121267486521577\n",
      "numerator 1.264177772475912; denominator 1.0641777724759116; term 0.5360129190603988\n",
      "numerator -1.1054072893322784; denominator -1.3054072893322788; term 0.4538909754431585\n",
      "numerator -2.494592710667721; denominator -2.6945927106677217; term 0.42020195270913013\n",
      "numerator -3.799999999999999; denominator -3.9999999999999996; term 0.39919185507367355\n",
      "numerator -4.864177772475911; denominator -5.064177772475912; term 0.38342653746403893\n",
      "y dp: 0.330704298890418\n",
      "numerator 2.2; denominator 3.3054072893322783; term 0.15892820536978\n",
      "numerator 1.9587704831436337; denominator 3.064177772475912; term 0.10159458775976152\n",
      "numerator 1.9587704831436337; denominator 3.064177772475912; term 0.064944169211883\n",
      "numerator 1.264177772475912; denominator 2.3695850618081904; term 0.0346478277960307\n",
      "numerator 0.20000000000000046; denominator 1.3054072893322788; term 0.005308355189858529\n",
      "numerator -2.494592710667721; denominator -1.3891854213354429; term 0.009532337410744175\n",
      "numerator -3.799999999999999; denominator -2.6945927106677208; term 0.013442804182399728\n",
      "numerator -4.864177772475911; denominator -3.7587704831436333; term 0.01739616440988113\n",
      "y dp: 0.2387829311408037\n",
      "numerator 2.2; denominator 4.694592710667721; term 0.0005315540717151835\n",
      "numerator 1.9587704831436337; denominator 4.453363193811355; term 0.00023379912676276115\n",
      "numerator 1.9587704831436337; denominator 4.453363193811355; term 0.00010283437675239665\n",
      "numerator 1.264177772475912; denominator 3.7587704831436333; term 3.4586025914534614e-05\n",
      "numerator 0.20000000000000046; denominator 2.6945927106677217; term 2.5670689137999084e-06\n",
      "numerator -1.1054072893322784; denominator 1.3891854213354429; term -2.0426766981220082e-06\n",
      "numerator -3.799999999999999; denominator -1.305407289332278; term -5.946168308002951e-06\n",
      "numerator -4.864177772475911; denominator -2.3695850618081904; term -1.2206027199174624e-05\n",
      "y dp: 0.0011342863047272035\n",
      "numerator 2.2; denominator 5.999999999999999; term 5.0401570099232e-14\n",
      "numerator 1.9587704831436337; denominator 5.758770483143633; term 1.714343506195401e-14\n",
      "numerator 1.9587704831436337; denominator 5.758770483143633; term 5.831115283607253e-15\n",
      "numerator 1.264177772475912; denominator 5.064177772475912; term 1.4556294548634798e-15\n",
      "numerator 0.20000000000000046; denominator 3.9999999999999996; term 7.278147274317417e-17\n",
      "numerator -1.1054072893322784; denominator 2.6945927106677208; term -2.985726569367396e-17\n",
      "numerator -2.494592710667721; denominator 1.305407289332278; term 5.705630569751623e-17\n",
      "numerator -4.864177772475911; denominator -1.0641777724759125; term 2.6079478554390783e-16\n",
      "y dp: 1.3745882754335996e-13\n",
      "numerator 2.2; denominator 7.064177772475912; term 6.171526078887199e-41\n",
      "numerator 1.9587704831436337; denominator 6.822948255619545; term 1.7717565290516382e-41\n",
      "numerator 1.9587704831436337; denominator 6.822948255619545; term 5.0864586134960153e-42\n",
      "numerator 1.264177772475912; denominator 6.128355544951823; term 1.0492517727854608e-42\n",
      "numerator 0.20000000000000046; denominator 5.064177772475912; term 4.1438188781136595e-44\n",
      "numerator -1.1054072893322784; denominator 3.7587704831436333; term -1.2186451963697898e-44\n",
      "numerator -2.494592710667721; denominator 2.3695850618081904; term 1.2829349208652255e-44\n",
      "numerator -3.799999999999999; denominator 1.0641777724759125; term -4.581145016725299e-44\n",
      "y dp: 1.981670788578653e-40\n",
      "inf\n",
      "numerator 2.0587704831436335; denominator -0.2412295168563663; term -0.6453454008895996\n",
      "numerator 2.0587704831436335; denominator -0.2412295168563663; term 5.5076927570811876\n",
      "numerator 1.364177772475912; denominator -0.935822227524088; term -8.028738595700146\n",
      "numerator 0.30000000000000043; denominator -1.9999999999999996; term 1.2043107893550238\n",
      "numerator -1.0054072893322783; denominator -3.3054072893322783; term 0.3663157790408479\n",
      "numerator -2.3945927106677214; denominator -4.694592710667721; term 0.1868483909798044\n",
      "numerator -3.6999999999999993; denominator -5.999999999999999; term 0.11522317443754604\n",
      "numerator -4.764177772475912; denominator -7.064177772475912; term 0.07770807929952096\n",
      "y dp: 0.07561617991742652\n",
      "numerator 2.3; denominator 0.2412295168563663; term 0.8973280381185751\n",
      "numerator 2.0587704831436335; denominator 0.0; term inf\n",
      "numerator 1.364177772475912; denominator -0.6945927106677217; term -inf\n",
      "numerator 0.30000000000000043; denominator -1.7587704831436333; term inf\n",
      "numerator -1.0054072893322783; denominator -3.064177772475912; term inf\n",
      "numerator -2.3945927106677214; denominator -4.453363193811355; term inf\n",
      "numerator -3.6999999999999993; denominator -5.758770483143633; term inf\n",
      "numerator -4.764177772475912; denominator -6.822948255619545; term inf\n",
      "y dp: 0.09411391699870213\n",
      "numerator 2.3; denominator 0.2412295168563663; term 0.8973280381185751\n",
      "numerator 2.0587704831436335; denominator 0.0; term inf\n",
      "numerator 1.364177772475912; denominator -0.6945927106677217; term -inf\n",
      "numerator 0.30000000000000043; denominator -1.7587704831436333; term inf\n",
      "numerator -1.0054072893322783; denominator -3.064177772475912; term inf\n",
      "numerator -2.3945927106677214; denominator -4.453363193811355; term inf\n",
      "numerator -3.6999999999999993; denominator -5.758770483143633; term inf\n",
      "numerator -4.764177772475912; denominator -6.822948255619545; term inf\n",
      "y dp: 0.09411391699870213\n",
      "numerator 2.3; denominator 0.935822227524088; term 0.417196100419306\n",
      "numerator 2.0587704831436335; denominator 0.6945927106677217; term 1.236567853411838\n",
      "numerator 2.0587704831436335; denominator 0.6945927106677217; term 3.6651830028006684\n",
      "numerator 0.30000000000000043; denominator -1.0641777724759116; term -1.0332436264685196\n",
      "numerator -1.0054072893322783; denominator -2.3695850618081904; term -0.4384019339296701\n",
      "numerator -2.3945927106677214; denominator -3.7587704831436333; term -0.2792918801609373\n",
      "numerator -3.6999999999999993; denominator -5.064177772475912; term -0.20405680902671813\n",
      "numerator -4.764177772475912; denominator -6.128355544951823; term -0.15863356927589864\n",
      "y dp: 0.1697484278298948\n",
      "numerator 2.3; denominator 1.9999999999999996; term 0.38030994372398075\n",
      "numerator 2.0587704831436335; denominator 1.7587704831436333; term 0.44518082040213836\n",
      "numerator 2.0587704831436335; denominator 1.7587704831436333; term 0.5211169629520896\n",
      "numerator 1.364177772475912; denominator 1.0641777724759116; term 0.6680238923478226\n",
      "numerator -1.0054072893322783; denominator -1.3054072893322788; term 0.5145030951666943\n",
      "numerator -2.3945927106677214; denominator -2.6945927106677217; term 0.45722136648875983\n",
      "numerator -3.6999999999999993; denominator -3.9999999999999996; term 0.4229297640021028\n",
      "numerator -4.764177772475912; denominator -5.064177772475912; term 0.39787556272776664\n",
      "y dp: 0.330704298890418\n",
      "numerator 2.3; denominator 3.3054072893322783; term 0.16615221470477\n",
      "numerator 2.0587704831436335; denominator 3.064177772475912; term 0.11163493137238112\n",
      "numerator 2.0587704831436335; denominator 3.064177772475912; term 0.07500566829434181\n",
      "numerator 1.364177772475912; denominator 2.3695850618081904; term 0.04318100546209676\n",
      "numerator 0.30000000000000043; denominator 1.3054072893322788; term 0.00992357078475885\n",
      "numerator -2.3945927106677214; denominator -1.3891854213354429; term 0.017105643278443775\n",
      "numerator -3.6999999999999993; denominator -2.6945927106677208; term 0.023488106339662168\n",
      "numerator -4.764177772475912; denominator -3.7587704831436333; term 0.029770776013804557\n",
      "y dp: 0.2387829311408037\n",
      "numerator 2.3; denominator 4.694592710667721; term 0.00055571562042951\n",
      "numerator 2.0587704831436335; denominator 4.453363193811355; term 0.00025690492029754495\n",
      "numerator 2.0587704831436335; denominator 4.453363193811355; term 0.00011876603004622531\n",
      "numerator 1.364177772475912; denominator 3.7587704831436333; term 4.3103982815881796e-05\n",
      "numerator 0.30000000000000043; denominator 2.6945927106677217; term 4.798942264473135e-06\n",
      "numerator -1.0054072893322783; denominator 1.3891854213354429; term -3.473180368642082e-06\n",
      "numerator -3.6999999999999993; denominator -1.305407289332278; term -9.844258928988308e-06\n",
      "numerator -4.764177772475912; denominator -2.3695850618081904; term -1.979241021218929e-05\n",
      "y dp: 0.0011342863047272035\n",
      "numerator 2.3; denominator 5.999999999999999; term 5.269255055828799e-14\n",
      "numerator 2.0587704831436335; denominator 5.758770483143633; term 1.883767864833157e-14\n",
      "numerator 2.0587704831436335; denominator 5.758770483143633; term 6.734502943926893e-15\n",
      "numerator 1.364177772475912; denominator 5.064177772475912; term 1.814126525081888e-15\n",
      "numerator 0.30000000000000043; denominator 3.9999999999999996; term 1.3605948938114183e-16\n",
      "numerator -1.0054072893322783; denominator 2.6945927106677208; term -5.076655995730421e-17\n",
      "numerator -2.3945927106677214; denominator 1.305407289332278; term 9.31243723034653e-17\n",
      "numerator -4.764177772475912; denominator -1.0641777724759125; term 4.169050285383432e-16\n",
      "y dp: 1.3745882754335996e-13\n",
      "numerator 2.3; denominator 7.064177772475912; term 6.452049991563889e-41\n",
      "numerator 2.0587704831436335; denominator 6.822948255619545; term 1.9468548757435506e-41\n",
      "numerator 2.0587704831436335; denominator 6.822948255619545; term 5.874480067826834e-42\n",
      "numerator 1.364177772475912; denominator 6.128355544951823; term 1.3076648498280228e-42\n",
      "numerator 0.30000000000000043; denominator 5.064177772475912; term 7.746557735010346e-44\n",
      "numerator -1.0054072893322783; denominator 3.7587704831436333; term -2.072072676142468e-44\n",
      "numerator -2.3945927106677214; denominator 2.3695850618081904; term 2.093940498796979e-44\n",
      "numerator -3.6999999999999993; denominator 1.0641777724759125; term -7.280343609811852e-44\n",
      "y dp: 1.981670788578653e-40\n",
      "inf\n",
      "numerator 2.1587704831436336; denominator -0.2412295168563663; term -0.6766915565768615\n",
      "numerator 2.1587704831436336; denominator -0.2412295168563663; term 6.055733881855165\n",
      "numerator 1.464177772475912; denominator -0.935822227524088; term -9.474738561511007\n",
      "numerator 0.40000000000000047; denominator -1.9999999999999996; term 1.894947712302204\n",
      "numerator -0.9054072893322783; denominator -3.3054072893322783; term 0.5190584159353406\n",
      "numerator -2.2945927106677213; denominator -4.694592710667721; term 0.2537020208184502\n",
      "numerator -3.599999999999999; denominator -5.999999999999999; term 0.15222121249107012\n",
      "numerator -4.664177772475911; denominator -7.064177772475912; term 0.10050522773740159\n",
      "y dp: 0.07561617991742652\n",
      "numerator 2.4; denominator 0.2412295168563663; term 0.9363423006454696\n",
      "numerator 2.1587704831436336; denominator 0.0; term inf\n",
      "numerator 1.464177772475912; denominator -0.6945927106677217; term -inf\n",
      "numerator 0.40000000000000047; denominator -1.7587704831436333; term inf\n",
      "numerator -0.9054072893322783; denominator -3.064177772475912; term inf\n",
      "numerator -2.2945927106677213; denominator -4.453363193811355; term inf\n",
      "numerator -3.599999999999999; denominator -5.758770483143633; term inf\n",
      "numerator -4.664177772475911; denominator -6.822948255619545; term inf\n",
      "y dp: 0.09411391699870213\n",
      "numerator 2.4; denominator 0.2412295168563663; term 0.9363423006454696\n",
      "numerator 2.1587704831436336; denominator 0.0; term inf\n",
      "numerator 1.464177772475912; denominator -0.6945927106677217; term -inf\n",
      "numerator 0.40000000000000047; denominator -1.7587704831436333; term inf\n",
      "numerator -0.9054072893322783; denominator -3.064177772475912; term inf\n",
      "numerator -2.2945927106677213; denominator -4.453363193811355; term inf\n",
      "numerator -3.599999999999999; denominator -5.758770483143633; term inf\n",
      "numerator -4.664177772475911; denominator -6.822948255619545; term inf\n",
      "y dp: 0.09411391699870213\n",
      "numerator 2.4; denominator 0.935822227524088; term 0.4353350613071019\n",
      "numerator 2.1587704831436336; denominator 0.6945927106677217; term 1.3530065406587177\n",
      "numerator 2.1587704831436336; denominator 0.6945927106677217; term 4.205098237593771\n",
      "numerator 0.40000000000000047; denominator -1.0641777724759116; term -1.5805999134186806\n",
      "numerator -0.9054072893322783; denominator -2.3695850618081904; term -0.6039397809316046\n",
      "numerator -2.2945927106677213; denominator -3.7587704831436333; term -0.3686832769445703\n",
      "numerator -3.599999999999999; denominator -5.064177772475912; term -0.2620879156759037\n",
      "numerator -4.664177772475911; denominator -6.128355544951823; term -0.19947025295179754\n",
      "y dp: 0.1697484278298948\n",
      "numerator 2.4; denominator 1.9999999999999996; term 0.3968451586685017\n",
      "numerator 2.1587704831436336; denominator 1.7587704831436333; term 0.4871002914381123\n",
      "numerator 2.1587704831436336; denominator 1.7587704831436333; term 0.5978822942307604\n",
      "numerator 1.464177772475912; denominator 1.0641777724759116; term 0.8226125262256387\n",
      "numerator -0.9054072893322783; denominator -1.3054072893322788; term 0.5705494244035524\n",
      "numerator -2.2945927106677213; denominator -2.6945927106677217; term 0.48585396417391785\n",
      "numerator -3.599999999999999; denominator -3.9999999999999996; term 0.437268567756526\n",
      "numerator -4.664177772475911; denominator -5.064177772475912; term 0.40273039888472173\n",
      "y dp: 0.330704298890418\n",
      "numerator 2.4; denominator 3.3054072893322783; term 0.17337622403976\n",
      "numerator 2.1587704831436336; denominator 3.064177772475912; term 0.12214678870720573\n",
      "numerator 2.1587704831436336; denominator 3.064177772475912; term 0.08605469448948909\n",
      "numerator 1.464177772475912; denominator 2.3695850618081904; term 0.05317360111671505\n",
      "numerator 0.40000000000000047; denominator 1.3054072893322788; term 0.016293336662433874\n",
      "numerator -2.2945927106677213; denominator -1.3891854213354429; term 0.026912585579926172\n",
      "numerator -3.599999999999999; denominator -2.6945927106677208; term 0.03595545542158243\n",
      "numerator -4.664177772475911; denominator -3.7587704831436333; term 0.04461635439797746\n",
      "y dp: 0.2387829311408037\n",
      "numerator 2.4; denominator 4.694592710667721; term 0.0005798771691438365\n",
      "numerator 2.1587704831436336; denominator 4.453363193811355; term 0.00028109580604973\n",
      "numerator 2.1587704831436336; denominator 4.453363193811355; term 0.00013626136082475778\n",
      "numerator 1.464177772475912; denominator 3.7587704831436333; term 5.307875451870374e-05\n",
      "numerator 0.40000000000000047; denominator 2.6945927106677217; term 7.879299058231455e-06\n",
      "numerator -0.9054072893322783; denominator 1.3891854213354429; term -5.135365439765217e-06\n",
      "numerator -3.599999999999999; denominator -1.305407289332278; term -1.4162105370662612e-05\n",
      "numerator -4.664177772475911; denominator -2.3695850618081904; term -2.7876010085454013e-05\n",
      "y dp: 0.0011342863047272035\n",
      "numerator 2.4; denominator 5.999999999999999; term 5.498353101734399e-14\n",
      "numerator 2.1587704831436336; denominator 5.758770483143633; term 2.0611487151066264e-14\n",
      "numerator 2.1587704831436336; denominator 5.758770483143633; term 7.726557293029441e-15\n",
      "numerator 1.464177772475912; denominator 5.064177772475912; term 2.2339368707991326e-15\n",
      "numerator 0.40000000000000047; denominator 3.9999999999999996; term 2.2339368707991357e-16\n",
      "numerator -0.9054072893322783; denominator 2.6945927106677208; term -7.506228005153593e-17\n",
      "numerator -2.2945927106677213; denominator 1.305407289332278; term 1.3194147302521475e-16\n",
      "numerator -4.664177772475911; denominator -1.0641777724759125; term 5.782854159039167e-16\n",
      "y dp: 1.3745882754335996e-13\n",
      "numerator 2.4; denominator 7.064177772475912; term 6.732573904240581e-41\n",
      "numerator 2.1587704831436336; denominator 6.822948255619545; term 2.130176175392659e-41\n",
      "numerator 2.1587704831436336; denominator 6.822948255619545; term 6.739845121272877e-42\n",
      "numerator 1.464177772475912; denominator 6.128355544951823; term 1.610273970580397e-42\n",
      "numerator 0.40000000000000047; denominator 5.064177772475912; term 1.2718937153686252e-43\n",
      "numerator -0.9054072893322783; denominator 3.7587704831436333; term -3.063719496348567e-44\n",
      "numerator -2.2945927106677213; denominator 2.3695850618081904; term 2.966759259736191e-44\n",
      "numerator -3.599999999999999; denominator 1.0641777724759125; term -1.00362304224805e-43\n",
      "y dp: 1.981670788578653e-40\n",
      "inf\n",
      "numerator 2.2587704831436337; denominator -0.2412295168563663; term -0.7080377122641236\n",
      "numerator 2.2587704831436337; denominator -0.2412295168563663; term 6.629763663486526\n",
      "numerator 1.564177772475912; denominator -0.935822227524088; term -11.081302253987305\n",
      "numerator 0.5000000000000004; denominator -1.9999999999999996; term 2.7703255634968293\n",
      "numerator -0.8054072893322783; denominator -3.3054072893322783; term 0.6750273740440103\n",
      "numerator -2.194592710667721; denominator -4.694592710667721; term 0.3155566938132647\n",
      "numerator -3.499999999999999; denominator -5.999999999999999; term 0.1840747380577377\n",
      "numerator -4.564177772475912; denominator -7.064177772475912; term 0.11893101433416921\n",
      "y dp: 0.07561617991742652\n",
      "numerator 2.5; denominator 0.2412295168563663; term 0.9753565631723642\n",
      "numerator 2.2587704831436337; denominator 0.0; term inf\n",
      "numerator 1.564177772475912; denominator -0.6945927106677217; term -inf\n",
      "numerator 0.5000000000000004; denominator -1.7587704831436333; term inf\n",
      "numerator -0.8054072893322783; denominator -3.064177772475912; term inf\n",
      "numerator -2.194592710667721; denominator -4.453363193811355; term inf\n",
      "numerator -3.499999999999999; denominator -5.758770483143633; term inf\n",
      "numerator -4.564177772475912; denominator -6.822948255619545; term inf\n",
      "y dp: 0.09411391699870213\n",
      "numerator 2.5; denominator 0.2412295168563663; term 0.9753565631723642\n",
      "numerator 2.2587704831436337; denominator 0.0; term inf\n",
      "numerator 1.564177772475912; denominator -0.6945927106677217; term -inf\n",
      "numerator 0.5000000000000004; denominator -1.7587704831436333; term inf\n",
      "numerator -0.8054072893322783; denominator -3.064177772475912; term inf\n",
      "numerator -2.194592710667721; denominator -4.453363193811355; term inf\n",
      "numerator -3.499999999999999; denominator -5.758770483143633; term inf\n",
      "numerator -4.564177772475912; denominator -6.822948255619545; term inf\n",
      "y dp: 0.09411391699870213\n",
      "numerator 2.5; denominator 0.935822227524088; term 0.4534740221948978\n",
      "numerator 2.2587704831436337; denominator 0.6945927106677217; term 1.4746681335333742\n",
      "numerator 2.2587704831436337; denominator 0.6945927106677217; term 4.79552520678719\n",
      "numerator 0.5000000000000004; denominator -1.0641777724759116; term -2.2531598248053726\n",
      "numerator -0.8054072893322783; denominator -2.3695850618081904; term -0.7658350722147577\n",
      "numerator -2.194592710667721; denominator -3.7587704831436333; term -0.447139849212222\n",
      "numerator -3.499999999999999; denominator -5.064177772475912; term -0.3090313062761307\n",
      "numerator -4.564177772475912; denominator -6.128355544951823; term -0.23015535060895354\n",
      "y dp: 0.1697484278298948\n",
      "numerator 2.5; denominator 1.9999999999999996; term 0.4133803736130226\n",
      "numerator 2.2587704831436337; denominator 1.7587704831436333; term 0.5309000777401198\n",
      "numerator 2.2587704831436337; denominator 1.7587704831436333; term 0.681829401045338\n",
      "numerator 1.564177772475912; denominator 1.0641777724759116; term 1.0021844294439284\n",
      "numerator -0.8054072893322783; denominator -1.3054072893322788; term 0.6183255228659857\n",
      "numerator -2.194592710667721; denominator -2.6945927106677217; term 0.5035910176440881\n",
      "numerator -3.499999999999999; denominator -3.9999999999999996; term 0.440642140438577\n",
      "numerator -4.564177772475912; denominator -5.064177772475912; term 0.3971363473724754\n",
      "y dp: 0.330704298890418\n",
      "numerator 2.5; denominator 3.3054072893322783; term 0.18060023337475\n",
      "numerator 2.2587704831436337; denominator 3.064177772475912; term 0.13313015976423537\n",
      "numerator 2.2587704831436337; denominator 3.064177772475912; term 0.09813741160607384\n",
      "numerator 1.564177772475912; denominator 2.3695850618081904; term 0.06478111309724569\n",
      "numerator 0.5000000000000004; denominator 1.3054072893322788; term 0.02481260585360357\n",
      "numerator -2.194592710667721; denominator -1.3891854213354429; term 0.039198197089228504\n",
      "numerator -3.499999999999999; denominator -2.6945927106677208; term 0.0509144440527723\n",
      "numerator -4.564177772475912; denominator -3.7587704831436333; term 0.06182409244878379\n",
      "y dp: 0.2387829311408037\n",
      "numerator 2.5; denominator 4.694592710667721; term 0.0006040387178581631\n",
      "numerator 2.2587704831436337; denominator 4.453363193811355; term 0.0003063717840193161\n",
      "numerator 2.2587704831436337; denominator 4.453363193811355; term 0.00015539346612747926\n",
      "numerator 1.564177772475912; denominator 3.7587704831436333; term 6.466556199550305e-05\n",
      "numerator 0.5000000000000004; denominator 2.6945927106677217; term 1.1999134737412494e-05\n",
      "numerator -0.8054072893322783; denominator 1.3891854213354429; term -6.95673193424522e-06\n",
      "numerator -3.499999999999999; denominator -1.305407289332278; term -1.8652080441739123e-05\n",
      "numerator -4.564177772475912; denominator -2.3695850618081904; term -3.5926716594700355e-05\n",
      "y dp: 0.0011342863047272035\n",
      "numerator 2.5; denominator 5.999999999999999; term 5.72745114764e-14\n",
      "numerator 2.2587704831436337; denominator 5.758770483143633; term 2.2464860570158085e-14\n",
      "numerator 2.2587704831436337; denominator 5.758770483143633; term 8.811423221734385e-15\n",
      "numerator 1.564177772475912; denominator 5.064177772475912; term 2.721593310216002e-15\n",
      "numerator 0.5000000000000004; denominator 3.9999999999999996; term 3.4019916377700063e-16\n",
      "numerator -0.8054072893322783; denominator 2.6945927106677208; term -1.0168471296088562e-16\n",
      "numerator -2.194592710667721; denominator 1.305407289332278; term 1.709478196375361e-16\n",
      "numerator -4.564177772475912; denominator -1.0641777724759125; term 7.331822359224515e-16\n",
      "y dp: 1.3745882754335996e-13\n",
      "numerator 2.5; denominator 7.064177772475912; term 7.013097816917272e-41\n",
      "numerator 2.2587704831436337; denominator 6.822948255619545; term 2.321720427998963e-41\n",
      "numerator 2.2587704831436337; denominator 6.822948255619545; term 7.686169345570494e-42\n",
      "numerator 1.564177772475912; denominator 6.128355544951823; term 1.9617881432696162e-42\n",
      "numerator 0.5000000000000004; denominator 5.064177772475912; term 1.9369266161350474e-43\n",
      "numerator -0.8054072893322783; denominator 3.7587704831436333; term -4.1503327285686214e-44\n",
      "numerator -2.194592710667721; denominator 2.3695850618081904; term 3.8438332937548095e-44\n",
      "numerator -3.499999999999999; denominator 1.0641777724759125; term -1.2642076235854048e-43\n",
      "y dp: 1.981670788578653e-40\n",
      "inf\n",
      "numerator 2.358770483143634; denominator -0.2412295168563663; term -0.7393838679513857\n",
      "numerator 2.358770483143634; denominator -0.2412295168563663; term 7.22978210197527\n",
      "numerator 1.6641777724759121; denominator -0.935822227524088; term -12.856760953181922\n",
      "numerator 0.6000000000000004; denominator -1.9999999999999996; term 3.85702828595458\n",
      "numerator -0.7054072893322784; denominator -3.3054072893322783; term 0.8231287795770442\n",
      "numerator -2.094592710667721; denominator -4.694592710667721; term 0.3672564688572673\n",
      "numerator -3.399999999999999; denominator -5.999999999999999; term 0.2081119990191181\n",
      "numerator -4.464177772475912; denominator -7.064177772475912; term 0.13151551250968235\n",
      "y dp: 0.07561617991742652\n",
      "numerator 2.6; denominator 0.2412295168563663; term 1.0143708256992587\n",
      "numerator 2.358770483143634; denominator 0.0; term inf\n",
      "numerator 1.6641777724759121; denominator -0.6945927106677217; term -inf\n",
      "numerator 0.6000000000000004; denominator -1.7587704831436333; term inf\n",
      "numerator -0.7054072893322784; denominator -3.064177772475912; term inf\n",
      "numerator -2.094592710667721; denominator -4.453363193811355; term inf\n",
      "numerator -3.399999999999999; denominator -5.758770483143633; term inf\n",
      "numerator -4.464177772475912; denominator -6.822948255619545; term inf\n",
      "y dp: 0.09411391699870213\n",
      "numerator 2.6; denominator 0.2412295168563663; term 1.0143708256992587\n",
      "numerator 2.358770483143634; denominator 0.0; term inf\n",
      "numerator 1.6641777724759121; denominator -0.6945927106677217; term -inf\n",
      "numerator 0.6000000000000004; denominator -1.7587704831436333; term inf\n",
      "numerator -0.7054072893322784; denominator -3.064177772475912; term inf\n",
      "numerator -2.094592710667721; denominator -4.453363193811355; term inf\n",
      "numerator -3.399999999999999; denominator -5.758770483143633; term inf\n",
      "numerator -4.464177772475912; denominator -6.822948255619545; term inf\n",
      "y dp: 0.09411391699870213\n",
      "numerator 2.6; denominator 0.935822227524088; term 0.4716129830826938\n",
      "numerator 2.358770483143634; denominator 0.6945927106677217; term 1.601552632035808\n",
      "numerator 2.358770483143634; denominator 0.6945927106677217; term 5.438719723988337\n",
      "numerator 0.6000000000000004; denominator -1.0641777724759116; term -3.0664348746927708\n",
      "numerator -0.7054072893322784; denominator -2.3695850618081904; term -0.9128541311871615\n",
      "numerator -2.094592710667721; denominator -3.7587704831436333; term -0.5086923018211004\n",
      "numerator -3.399999999999999; denominator -5.064177772475912; term -0.34152707584476244\n",
      "numerator -4.464177772475912; denominator -6.128355544951823; term -0.24878412642699718\n",
      "y dp: 0.1697484278298948\n",
      "numerator 2.6; denominator 1.9999999999999996; term 0.4299155885575435\n",
      "numerator 2.358770483143634; denominator 1.7587704831436333; term 0.5765801793081609\n",
      "numerator 2.358770483143634; denominator 1.7587704831436333; term 0.7732790157399322\n",
      "numerator 1.6641777724759121; denominator 1.0641777724759116; term 1.2092657666795756\n",
      "numerator -0.7054072893322784; denominator -1.3054072893322788; term 0.6534549741882355\n",
      "numerator -2.094592710667721; denominator -2.6945927106677217; term 0.5079513576450935\n",
      "numerator -3.399999999999999; denominator -3.9999999999999996; term 0.43175865399832936\n",
      "numerator -4.464177772475912; denominator -5.064177772475912; term 0.38060421115728676\n",
      "y dp: 0.330704298890418\n",
      "numerator 2.6; denominator 3.3054072893322783; term 0.18782424270974\n",
      "numerator 2.358770483143634; denominator 3.064177772475912; term 0.14458504454347004\n",
      "numerator 2.358770483143634; denominator 3.064177772475912; term 0.11129998345284507\n",
      "numerator 1.6641777724759121; denominator 2.3695850618081904; term 0.07816683246552081\n",
      "numerator 0.6000000000000004; denominator 1.3054072893322788; term 0.03592756058785462\n",
      "numerator -2.094592710667721; denominator -1.3891854213354429; term 0.05417103099674836\n",
      "numerator -3.399999999999999; denominator -2.6945927106677208; term 0.0683522614233244\n",
      "numerator -4.464177772475912; denominator -3.7587704831436333; term 0.08117990909869752\n",
      "y dp: 0.2387829311408037\n",
      "numerator 2.6; denominator 4.694592710667721; term 0.0006282002665724895\n",
      "numerator 2.358770483143634; denominator 4.453363193811355; term 0.00033273285420630326\n",
      "numerator 2.358770483143634; denominator 4.453363193811355; term 0.00017623544299387502\n",
      "numerator 1.6641777724759121; denominator 3.7587704831436333; term 7.80274050432478e-05\n",
      "numerator 0.6000000000000004; denominator 2.6945927106677217; term 1.7374218686410523e-05\n",
      "numerator -0.7054072893322784; denominator 1.3891854213354429; term -8.822364761116842e-06\n",
      "numerator -3.399999999999999; denominator -1.305407289332278; term -2.2978299901435645e-05\n",
      "numerator -4.464177772475912; denominator -2.3695850618081904; term -4.3289948659196044e-05\n",
      "y dp: 0.0011342863047272035\n",
      "numerator 2.6; denominator 5.999999999999999; term 5.956549193545599e-14\n",
      "numerator 2.358770483143634; denominator 5.758770483143633; term 2.4397798905607022e-14\n",
      "numerator 2.358770483143634; denominator 5.758770483143633; term 9.993245620861209e-15\n",
      "numerator 1.6641777724759121; denominator 5.064177772475912; term 3.2839560505789045e-15\n",
      "numerator 0.6000000000000004; denominator 3.9999999999999996; term 4.925934075868361e-16\n",
      "numerator -0.7054072893322784; denominator 2.6945927106677208; term -1.2895417515720767e-16\n",
      "numerator -2.094592710667721; denominator 1.305407289332278; term 2.0691356444977143e-16\n",
      "numerator -4.464177772475912; denominator -1.0641777724759125; term 8.67993073273234e-16\n",
      "y dp: 1.3745882754335996e-13\n",
      "numerator 2.6; denominator 7.064177772475912; term 7.293621729593963e-41\n",
      "numerator 2.358770483143634; denominator 6.822948255619545; term 2.5214876335624626e-41\n",
      "numerator 2.358770483143634; denominator 6.822948255619545; term 8.717068312456029e-42\n",
      "numerator 1.6641777724759121; denominator 6.128355544951823; term 2.3671523658076977e-42\n",
      "numerator 0.6000000000000004; denominator 5.064177772475912; term 2.8045844425209214e-43\n",
      "numerator -0.7054072893322784; denominator 3.7587704831436333; term -5.263354913991866e-44\n",
      "numerator -2.094592710667721; denominator 2.3695850618081904; term 4.652538123316754e-44\n",
      "numerator -3.399999999999999; denominator 1.0641777724759125; term -1.4864649524179958e-43\n",
      "y dp: 1.981670788578653e-40\n",
      "inf\n",
      "numerator 2.458770483143634; denominator -0.2412295168563663; term -0.7707300236386476\n",
      "numerator 2.458770483143634; denominator -0.2412295168563663; term 7.855789197321396\n",
      "numerator 1.764177772475912; denominator -0.935822227524088; term -14.809445939147738\n",
      "numerator 0.7000000000000004; denominator -1.9999999999999996; term 5.183306078701712\n",
      "numerator -0.6054072893322784; denominator -3.3054072893322783; term 0.949356919800413\n",
      "numerator -1.9945927106677213; denominator -4.694592710667721; term 0.40335349811134874\n",
      "numerator -3.299999999999999; denominator -5.999999999999999; term 0.2218444239612418\n",
      "numerator -4.364177772475911; denominator -7.064177772475912; term 0.1370532474100014\n",
      "y dp: 0.07561617991742652\n",
      "numerator 2.7; denominator 0.2412295168563663; term 1.0533850882261533\n",
      "numerator 2.458770483143634; denominator 0.0; term inf\n",
      "numerator 1.764177772475912; denominator -0.6945927106677217; term -inf\n",
      "numerator 0.7000000000000004; denominator -1.7587704831436333; term inf\n",
      "numerator -0.6054072893322784; denominator -3.064177772475912; term inf\n",
      "numerator -1.9945927106677213; denominator -4.453363193811355; term inf\n",
      "numerator -3.299999999999999; denominator -5.758770483143633; term inf\n",
      "numerator -4.364177772475911; denominator -6.822948255619545; term inf\n",
      "y dp: 0.09411391699870213\n",
      "numerator 2.7; denominator 0.2412295168563663; term 1.0533850882261533\n",
      "numerator 2.458770483143634; denominator 0.0; term inf\n",
      "numerator 1.764177772475912; denominator -0.6945927106677217; term -inf\n",
      "numerator 0.7000000000000004; denominator -1.7587704831436333; term inf\n",
      "numerator -0.6054072893322784; denominator -3.064177772475912; term inf\n",
      "numerator -1.9945927106677213; denominator -4.453363193811355; term inf\n",
      "numerator -3.299999999999999; denominator -5.758770483143633; term inf\n",
      "numerator -4.364177772475911; denominator -6.822948255619545; term inf\n",
      "y dp: 0.09411391699870213\n",
      "numerator 2.7; denominator 0.935822227524088; term 0.48975194397048966\n",
      "numerator 2.458770483143634; denominator 0.6945927106677217; term 1.733660036166018\n",
      "numerator 2.458770483143634; denominator 0.6945927106677217; term 6.136937602804618\n",
      "numerator 0.7000000000000004; denominator -1.0641777724759116; term -4.036784485705348\n",
      "numerator -0.6054072893322784; denominator -2.3695850618081904; term -1.0313614786398815\n",
      "numerator -1.9945927106677213; denominator -3.7587704831436333; term -0.5472922852257007\n",
      "numerator -3.299999999999999; denominator -5.064177772475912; term -0.35663529646626413\n",
      "numerator -4.364177772475911; denominator -6.128355544951823; term -0.25397022452467094\n",
      "y dp: 0.1697484278298948\n",
      "numerator 2.7; denominator 1.9999999999999996; term 0.44645080350206445\n",
      "numerator 2.458770483143634; denominator 1.7587704831436333; term 0.6241405961422354\n",
      "numerator 2.458770483143634; denominator 1.7587704831436333; term 0.8725518706586528\n",
      "numerator 1.764177772475912; denominator 1.0641777724759116; term 1.446503258536267\n",
      "numerator -0.6054072893322784; denominator -1.3054072893322788; term 0.6708432103276254\n",
      "numerator -1.9945927106677213; denominator -2.6945927106677217; term 0.496571883395633\n",
      "numerator -3.299999999999999; denominator -3.9999999999999996; term 0.40967180380139717\n",
      "numerator -4.364177772475911; denominator -5.064177772475912; term 0.3530445929203751\n",
      "y dp: 0.330704298890418\n",
      "numerator 2.7; denominator 3.3054072893322783; term 0.19504825204473003\n",
      "numerator 2.458770483143634; denominator 3.064177772475912; term 0.15651144304490974\n",
      "numerator 2.458770483143634; denominator 3.064177772475912; term 0.12558857383855174\n",
      "numerator 1.764177772475912; denominator 2.3695850618081904; term 0.09350184300784445\n",
      "numerator 0.7000000000000004; denominator 1.3054072893322788; term 0.05013859708027964\n",
      "numerator -1.9945927106677213; denominator -1.3891854213354429; term 0.07198900789161353\n",
      "numerator -3.299999999999999; denominator -2.6945927106677208; term 0.08816312947846437\n",
      "numerator -4.364177772475911; denominator -3.7587704831436333; term 0.10236314554115522\n",
      "y dp: 0.2387829311408037\n",
      "numerator 2.7; denominator 4.694592710667721; term 0.0006523618152868162\n",
      "numerator 2.458770483143634; denominator 4.453363193811355; term 0.00036017901661069174\n",
      "numerator 2.458770483143634; denominator 4.453363193811355; term 0.00019886038846343048\n",
      "numerator 1.764177772475912; denominator 3.7587704831436333; term 9.333506228337148e-05\n",
      "numerator 0.7000000000000004; denominator 2.6945927106677217; term 2.424653764545e-05\n",
      "numerator -0.6054072893322784; denominator 1.3891854213354429; term -1.056664604032036e-05\n",
      "numerator -3.299999999999999; denominator -1.305407289332278; term -2.6711917589255465e-05\n",
      "numerator -4.364177772475911; denominator -2.3695850618081904; term -4.919661204914931e-05\n",
      "y dp: 0.0011342863047272035\n",
      "numerator 2.7; denominator 5.999999999999999; term 6.1856472394512e-14\n",
      "numerator 2.458770483143634; denominator 5.758770483143633; term 2.6410302157413092e-14\n",
      "numerator 2.458770483143634; denominator 5.758770483143633; term 1.1276169381229413e-14\n",
      "numerator 1.764177772475912; denominator 5.064177772475912; term 3.928212688179878e-15\n",
      "numerator 0.7000000000000004; denominator 3.9999999999999996; term 6.874372204314792e-16\n",
      "numerator -0.6054072893322784; denominator 2.6945927106677208; term -1.5444987383804225e-16\n",
      "numerator -1.9945927106677213; denominator 1.305407289332278; term 2.359911692223542e-16\n",
      "numerator -4.364177772475911; denominator -1.0641777724759125; term 9.677963981756737e-16\n",
      "y dp: 1.3745882754335996e-13\n",
      "numerator 2.7; denominator 7.064177772475912; term 7.574145642270654e-41\n",
      "numerator 2.458770483143634; denominator 6.822948255619545; term 2.729477792083157e-41\n",
      "numerator 2.458770483143634; denominator 6.822948255619545; term 9.836157593665832e-42\n",
      "numerator 1.764177772475912; denominator 6.128355544951823; term 2.8315476257916478e-42\n",
      "numerator 0.7000000000000004; denominator 5.064177772475912; term 3.9139292242600325e-43\n",
      "numerator -0.6054072893322784; denominator 3.7587704831436333; term -6.30397970007446e-44\n",
      "numerator -1.9945927106677213; denominator 2.3695850618081904; term 5.306360240290718e-44\n",
      "numerator -3.299999999999999; denominator 1.0641777724759125; term -1.6454946951408649e-43\n",
      "y dp: 1.981670788578653e-40\n",
      "inf\n",
      "numerator 2.5587704831436335; denominator -0.2412295168563663; term -0.8020761793259096\n",
      "numerator 2.5587704831436335; denominator -0.2412295168563663; term 8.507784949524904\n",
      "numerator 1.864177772475912; denominator -0.935822227524088; term -16.947688491937633\n",
      "numerator 0.8000000000000005; denominator -1.9999999999999996; term 6.77907539677506\n",
      "numerator -0.5054072893322783; denominator -3.3054072893322783; term 1.036542193006219\n",
      "numerator -1.8945927106677212; denominator -4.694592710667721; term 0.418316434289738\n",
      "numerator -3.1999999999999993; denominator -5.999999999999999; term 0.2231020982878603\n",
      "numerator -4.264177772475912; denominator -7.064177772475912; term 0.13467200842800903\n",
      "y dp: 0.07561617991742652\n",
      "numerator 2.8; denominator 0.2412295168563663; term 1.0923993507530478\n",
      "numerator 2.5587704831436335; denominator 0.0; term inf\n",
      "numerator 1.864177772475912; denominator -0.6945927106677217; term -inf\n",
      "numerator 0.8000000000000005; denominator -1.7587704831436333; term inf\n",
      "numerator -0.5054072893322783; denominator -3.064177772475912; term inf\n",
      "numerator -1.8945927106677212; denominator -4.453363193811355; term inf\n",
      "numerator -3.1999999999999993; denominator -5.758770483143633; term inf\n",
      "numerator -4.264177772475912; denominator -6.822948255619545; term inf\n",
      "y dp: 0.09411391699870213\n",
      "numerator 2.8; denominator 0.2412295168563663; term 1.0923993507530478\n",
      "numerator 2.5587704831436335; denominator 0.0; term inf\n",
      "numerator 1.864177772475912; denominator -0.6945927106677217; term -inf\n",
      "numerator 0.8000000000000005; denominator -1.7587704831436333; term inf\n",
      "numerator -0.5054072893322783; denominator -3.064177772475912; term inf\n",
      "numerator -1.8945927106677212; denominator -4.453363193811355; term inf\n",
      "numerator -3.1999999999999993; denominator -5.758770483143633; term inf\n",
      "numerator -4.264177772475912; denominator -6.822948255619545; term inf\n",
      "y dp: 0.09411391699870213\n",
      "numerator 2.8; denominator 0.935822227524088; term 0.5078909048582856\n",
      "numerator 2.5587704831436335; denominator 0.6945927106677217; term 1.8709903459240045\n",
      "numerator 2.5587704831436335; denominator 0.6945927106677217; term 6.892434656843449\n",
      "numerator 0.8000000000000005; denominator -1.0641777724759116; term -5.18141598902788\n",
      "numerator -0.5054072893322783; denominator -2.3695850618081904; term -1.105140917760176\n",
      "numerator -1.8945927106677212; denominator -3.7587704831436333; term -0.5570417072387804\n",
      "numerator -3.1999999999999993; denominator -5.064177772475912; term -0.3519887222072388\n",
      "numerator -4.264177772475912; denominator -6.128355544951823; term -0.24491765766343201\n",
      "y dp: 0.1697484278298948\n",
      "numerator 2.8; denominator 1.9999999999999996; term 0.46298601844658527\n",
      "numerator 2.5587704831436335; denominator 1.7587704831436333; term 0.6735813282423432\n",
      "numerator 2.5587704831436335; denominator 1.7587704831436333; term 0.9799686981456094\n",
      "numerator 1.864177772475912; denominator 1.0641777724759116; term 1.716664181544492\n",
      "numerator -0.5054072893322783; denominator -1.3054072893322788; term 0.6646313359656543\n",
      "numerator -1.8945927106677212; denominator -2.6945927106677217; term 0.4673083540294466\n",
      "numerator -3.1999999999999993; denominator -3.9999999999999996; term 0.37384668322355724\n",
      "numerator -4.264177772475912; denominator -5.064177772475912; term 0.3147892488253519\n",
      "y dp: 0.330704298890418\n",
      "numerator 2.8; denominator 3.3054072893322783; term 0.20227226137972\n",
      "numerator 2.5587704831436335; denominator 3.064177772475912; term 0.16890935526855438\n",
      "numerator 2.5587704831436335; denominator 3.064177772475912; term 0.1410493465719428\n",
      "numerator 1.864177772475912; denominator 2.3695850618081904; term 0.11096502123499265\n",
      "numerator 0.8000000000000005; denominator 1.3054072893322788; term 0.06800331031811643\n",
      "numerator -1.8945927106677212; denominator -1.3891854213354429; term 0.09274397359146208\n",
      "numerator -3.1999999999999993; denominator -2.6945927106677208; term 0.11013935958400788\n",
      "numerator -4.264177772475912; denominator -3.7587704831436333; term 0.12494878607753274\n",
      "y dp: 0.2387829311408037\n",
      "numerator 2.8; denominator 4.694592710667721; term 0.0006765233640011427\n",
      "numerator 2.5587704831436335; denominator 4.453363193811355; term 0.00038871027123248115\n",
      "numerator 2.5587704831436335; denominator 4.453363193811355; term 0.0002233413995756307\n",
      "numerator 1.864177772475912; denominator 3.7587704831436333; term 0.00011076709116177285\n",
      "numerator 0.8000000000000005; denominator 2.6945927106677217; term 3.28857391243591e-05\n",
      "numerator -0.5054072893322783; denominator 1.3891854213354429; term -1.1964344005678585e-05\n",
      "numerator -3.1999999999999993; denominator -1.305407289332278; term -2.9328701571564604e-05\n",
      "numerator -4.264177772475912; denominator -2.3695850618081904; term -5.277835320316031e-05\n",
      "y dp: 0.0011342863047272035\n",
      "numerator 2.8; denominator 5.999999999999999; term 6.414745285356799e-14\n",
      "numerator 2.5587704831436335; denominator 5.758770483143633; term 2.850237032557627e-14\n",
      "numerator 2.5587704831436335; denominator 5.758770483143633; term 1.2664339393658475e-14\n",
      "numerator 1.864177772475912; denominator 5.064177772475912; term 4.6618782083565766e-15\n",
      "numerator 0.8000000000000005; denominator 3.9999999999999996; term 9.32375641671316e-16\n",
      "numerator -0.5054072893322783; denominator 2.6945927106677208; term -1.7487965577542614e-16\n",
      "numerator -1.8945927106677212; denominator 1.305407289332278; term 2.538102274928136e-16\n",
      "numerator -4.264177772475912; denominator -1.0641777724759125; term 1.0170217406287801e-15\n",
      "y dp: 1.3745882754335996e-13\n",
      "numerator 2.8; denominator 7.064177772475912; term 7.854669554947343e-41\n",
      "numerator 2.5587704831436335; denominator 6.822948255619545; term 2.9456909035610465e-41\n",
      "numerator 2.5587704831436335; denominator 6.822948255619545; term 1.1047052760936248e-41\n",
      "numerator 1.864177772475912; denominator 6.128355544951823; term 3.360390900503456e-42\n",
      "numerator 0.8000000000000005; denominator 5.064177772475912; term 5.30848805311278e-43\n",
      "numerator -0.5054072893322783; denominator 3.7587704831436333; term -7.137835548641001e-44\n",
      "numerator -1.8945927106677212; denominator 2.3695850618081904; term 5.707029225648806e-44\n",
      "numerator -3.1999999999999993; denominator 1.0641777724759125; term -1.7161130399845429e-43\n",
      "y dp: 1.981670788578653e-40\n",
      "inf\n",
      "numerator 2.6587704831436336; denominator -0.2412295168563663; term -0.8334223350131715\n",
      "numerator 2.6587704831436336; denominator -0.2412295168563663; term 9.185769358585796\n",
      "numerator 1.964177772475912; denominator -0.935822227524088; term -19.279819891604493\n",
      "numerator 0.9000000000000005; denominator -1.9999999999999996; term 8.675918951222028\n",
      "numerator -0.4054072893322783; denominator -3.3054072893322783; term 1.0640990584830432\n",
      "numerator -1.7945927106677213; denominator -4.694592710667721; term 0.40677105160640126\n",
      "numerator -3.099999999999999; denominator -5.999999999999999; term 0.21016504332997396\n",
      "numerator -4.164177772475911; denominator -7.064177772475912; term 0.12388768094087464\n",
      "y dp: 0.07561617991742652\n",
      "numerator 2.9; denominator 0.2412295168563663; term 1.1314136132799424\n",
      "numerator 2.6587704831436336; denominator 0.0; term inf\n",
      "numerator 1.964177772475912; denominator -0.6945927106677217; term -inf\n",
      "numerator 0.9000000000000005; denominator -1.7587704831436333; term inf\n",
      "numerator -0.4054072893322783; denominator -3.064177772475912; term inf\n",
      "numerator -1.7945927106677213; denominator -4.453363193811355; term inf\n",
      "numerator -3.099999999999999; denominator -5.758770483143633; term inf\n",
      "numerator -4.164177772475911; denominator -6.822948255619545; term inf\n",
      "y dp: 0.09411391699870213\n",
      "numerator 2.9; denominator 0.2412295168563663; term 1.1314136132799424\n",
      "numerator 2.6587704831436336; denominator 0.0; term inf\n",
      "numerator 1.964177772475912; denominator -0.6945927106677217; term -inf\n",
      "numerator 0.9000000000000005; denominator -1.7587704831436333; term inf\n",
      "numerator -0.4054072893322783; denominator -3.064177772475912; term inf\n",
      "numerator -1.7945927106677213; denominator -4.453363193811355; term inf\n",
      "numerator -3.099999999999999; denominator -5.758770483143633; term inf\n",
      "numerator -4.164177772475911; denominator -6.822948255619545; term inf\n",
      "y dp: 0.09411391699870213\n",
      "numerator 2.9; denominator 0.935822227524088; term 0.5260298657460815\n",
      "numerator 2.6587704831436336; denominator 0.6945927106677217; term 2.0135435613097683\n",
      "numerator 2.6587704831436336; denominator 0.6945927106677217; term 7.707466699712243\n",
      "numerator 0.9000000000000005; denominator -1.0641777724759116; term -6.518384624405448\n",
      "numerator -0.4054072893322783; denominator -2.3695850618081904; term -1.1152166191446573\n",
      "numerator -1.7945927106677213; denominator -3.7587704831436333; term -0.5324506043951566\n",
      "numerator -3.099999999999999; denominator -5.064177772475912; term -0.32593580790075555\n",
      "numerator -4.164177772475911; denominator -6.128355544951823; term -0.22147126362998484\n",
      "y dp: 0.1697484278298948\n",
      "numerator 2.9; denominator 1.9999999999999996; term 0.4795212333911062\n",
      "numerator 2.6587704831436336; denominator 1.7587704831436333; term 0.7249023756084849\n",
      "numerator 2.6587704831436336; denominator 1.7587704831436333; term 1.0958502305449134\n",
      "numerator 1.964177772475912; denominator 1.0641777724759116; term 2.0226363681615465\n",
      "numerator -0.4054072893322783; denominator -1.3054072893322788; term 0.6281499529090923\n",
      "numerator -1.7945927106677213; denominator -2.6945927106677217; term 0.41834646187311564\n",
      "numerator -3.099999999999999; denominator -3.9999999999999996; term 0.32421850795166457\n",
      "numerator -4.164177772475911; denominator -5.064177772475912; term 0.26659875796136423\n",
      "y dp: 0.330704298890418\n",
      "numerator 2.9; denominator 3.3054072893322783; term 0.20949627071471\n",
      "numerator 2.6587704831436336; denominator 3.064177772475912; term 0.1817787812144041\n",
      "numerator 2.6587704831436336; denominator 3.064177772475912; term 0.15772846546176733\n",
      "numerator 1.964177772475912; denominator 2.3695850618081904; term 0.13074303638221355\n",
      "numerator 0.9000000000000005; denominator 1.3054072893322788; term 0.09013947884738739\n",
      "numerator -1.7945927106677213; denominator -1.3891854213354429; term 0.1164449678196328\n",
      "numerator -3.099999999999999; denominator -2.6945927106677208; term 0.1339643645630626\n",
      "numerator -4.164177772475911; denominator -3.7587704831436333; term 0.14841327282925984\n",
      "y dp: 0.2387829311408037\n",
      "numerator 2.9; denominator 4.694592710667721; term 0.0007006849127154692\n",
      "numerator 2.6587704831436336; denominator 4.453363193811355; term 0.0004183266180716717\n",
      "numerator 2.6587704831436336; denominator 4.453363193811355; term 0.0002497515733699611\n",
      "numerator 1.964177772475912; denominator 3.7587704831436333; term 0.00013050982794881623\n",
      "numerator 0.9000000000000005; denominator 2.6945927106677217; term 4.359057481634332e-05\n",
      "numerator -0.4054072893322783; denominator 1.3891854213354429; term -1.2721078486226374e-05\n",
      "numerator -3.099999999999999; denominator -1.305407289332278; term -3.0209225603047703e-05\n",
      "numerator -4.164177772475911; denominator -2.3695850618081904; term -5.308802279666981e-05\n",
      "y dp: 0.0011342863047272035\n",
      "numerator 2.9; denominator 5.999999999999999; term 6.643843331262399e-14\n",
      "numerator 2.6587704831436336; denominator 5.758770483143633; term 3.067400341009659e-14\n",
      "numerator 2.6587704831436336; denominator 5.758770483143633; term 1.4161900548967905e-14\n",
      "numerator 1.964177772475912; denominator 5.064177772475912; term 5.4927949854922845e-15\n",
      "numerator 0.9000000000000005; denominator 3.9999999999999996; term 1.2358788717357649e-15\n",
      "numerator -0.4054072893322783; denominator 2.6945927106677208; term -1.85940643775168e-16\n",
      "numerator -1.7945927106677213; denominator 1.305407289332278; term 2.5561962665802392e-16\n",
      "numerator -4.164177772475911; denominator -1.0641777724759125; term 1.0002516450436646e-15\n",
      "y dp: 1.3745882754335996e-13\n",
      "numerator 2.9; denominator 7.064177772475912; term 8.135193467624034e-41\n",
      "numerator 2.6587704831436336; denominator 6.822948255619545; term 3.170126967996132e-41\n",
      "numerator 2.6587704831436336; denominator 6.822948255619545; term 1.2353369386003632e-41\n",
      "numerator 1.964177772475912; denominator 6.128355544951823; term 3.959335156910105e-42\n",
      "numerator 0.9000000000000005; denominator 5.064177772475912; term 7.0364860818796346e-43\n",
      "numerator -0.4054072893322783; denominator 3.7587704831436333; term -7.589297515429379e-44\n",
      "numerator -1.7945927106677213; denominator 2.3695850618081904; term 5.74771432340363e-44\n",
      "numerator -3.099999999999999; denominator 1.0641777724759125; term -1.674336268187236e-43\n",
      "y dp: 1.981670788578653e-40\n",
      "inf\n",
      "numerator 2.7587704831436337; denominator -0.2412295168563663; term -0.8647684907004336\n",
      "numerator 2.7587704831436337; denominator -0.2412295168563663; term 9.889742424504073\n",
      "numerator 2.064177772475912; denominator -0.935822227524088; term -21.814171418201205\n",
      "numerator 1.0000000000000004; denominator -1.9999999999999996; term 10.90708570910061\n",
      "numerator -0.30540728933227834; denominator -3.3054072893322783; term 1.007773986486295\n",
      "numerator -1.6945927106677212; denominator -4.694592710667721; term 0.3637730803823718\n",
      "numerator -2.999999999999999; denominator -5.999999999999999; term 0.18188654019118589\n",
      "numerator -4.064177772475912; denominator -7.064177772475912; term 0.10464335094139011\n",
      "y dp: 0.07561617991742652\n",
      "numerator 3.0; denominator 0.2412295168563663; term 1.170427875806837\n",
      "numerator 2.7587704831436337; denominator 0.0; term inf\n",
      "numerator 2.064177772475912; denominator -0.6945927106677217; term -inf\n",
      "numerator 1.0000000000000004; denominator -1.7587704831436333; term inf\n",
      "numerator -0.30540728933227834; denominator -3.064177772475912; term inf\n",
      "numerator -1.6945927106677212; denominator -4.453363193811355; term inf\n",
      "numerator -2.999999999999999; denominator -5.758770483143633; term inf\n",
      "numerator -4.064177772475912; denominator -6.822948255619545; term inf\n",
      "y dp: 0.09411391699870213\n",
      "numerator 3.0; denominator 0.2412295168563663; term 1.170427875806837\n",
      "numerator 2.7587704831436337; denominator 0.0; term inf\n",
      "numerator 2.064177772475912; denominator -0.6945927106677217; term -inf\n",
      "numerator 1.0000000000000004; denominator -1.7587704831436333; term inf\n",
      "numerator -0.30540728933227834; denominator -3.064177772475912; term inf\n",
      "numerator -1.6945927106677212; denominator -4.453363193811355; term inf\n",
      "numerator -2.999999999999999; denominator -5.758770483143633; term inf\n",
      "numerator -4.064177772475912; denominator -6.822948255619545; term inf\n",
      "y dp: 0.09411391699870213\n",
      "numerator 3.0; denominator 0.935822227524088; term 0.5441688266338774\n",
      "numerator 2.7587704831436337; denominator 0.6945927106677217; term 2.161319682323309\n",
      "numerator 2.7587704831436337; denominator 0.6945927106677217; term 8.584289545018411\n",
      "numerator 1.0000000000000004; denominator -1.0641777724759116; term -8.066593540143431\n",
      "numerator -0.30540728933227834; denominator -2.3695850618081904; term -1.0396742058124486\n",
      "numerator -1.6945927106677212; denominator -3.7587704831436333; term -0.46872357291832634\n",
      "numerator -2.999999999999999; denominator -5.064177772475912; term -0.27767009412615706\n",
      "numerator -4.064177772475912; denominator -6.128355544951823; term -0.1841441176758117\n",
      "y dp: 0.1697484278298948\n",
      "numerator 3.0; denominator 1.9999999999999996; term 0.4960564483356272\n",
      "numerator 2.7587704831436337; denominator 1.7587704831436333; term 0.7781037382406601\n",
      "numerator 2.7587704831436337; denominator 1.7587704831436333; term 1.2205172002006737\n",
      "numerator 2.064177772475912; denominator 1.0641777724759116; term 2.367428206771525\n",
      "numerator -0.30540728933227834; denominator -1.3054072893322788; term 0.5538729844910708\n",
      "numerator -1.6945927106677212; denominator -2.6945927106677217; term 0.3483231875594889\n",
      "numerator -2.999999999999999; denominator -3.9999999999999996; term 0.26124239066961663\n",
      "numerator -4.064177772475912; denominator -5.064177772475912; term 0.20965605179946803\n",
      "y dp: 0.330704298890418\n",
      "numerator 3.0; denominator 3.3054072893322783; term 0.2167202800497\n",
      "numerator 2.7587704831436337; denominator 3.064177772475912; term 0.19511972088245885\n",
      "numerator 2.7587704831436337; denominator 3.064177772475912; term 0.17567209431677436\n",
      "numerator 2.064177772475912; denominator 2.3695850618081904; term 0.1530303504092272\n",
      "numerator 1.0000000000000004; denominator 1.3054072893322788; term 0.11722804955953854\n",
      "numerator -1.6945927106677212; denominator -1.3891854213354429; term 0.14300020372976543\n",
      "numerator -2.999999999999999; denominator -2.6945927106677208; term 0.15920796099941564\n",
      "numerator -4.064177772475912; denominator -3.7587704831436333; term 0.17214391227045064\n",
      "y dp: 0.2387829311408037\n",
      "numerator 3.0; denominator 4.694592710667721; term 0.0007248464614297958\n",
      "numerator 2.7587704831436337; denominator 4.453363193811355; term 0.00044902805712826346\n",
      "numerator 2.7587704831436337; denominator 4.453363193811355; term 0.000278164006885907\n",
      "numerator 2.064177772475912; denominator 3.7587704831436333; term 0.00015275738773933134\n",
      "numerator 1.0000000000000004; denominator 2.6945927106677217; term 5.669034401175903e-05\n",
      "numerator -0.30540728933227834; denominator 1.3891854213354429; term -1.2463162965892516e-05\n",
      "numerator -2.999999999999999; denominator -1.305407289332278; term -2.8642010201124614e-05\n",
      "numerator -4.064177772475912; denominator -2.3695850618081904; term -4.9125149839361054e-05\n",
      "y dp: 0.0011342863047272035\n",
      "numerator 3.0; denominator 5.999999999999999; term 6.872941377168e-14\n",
      "numerator 2.7587704831436337; denominator 5.758770483143633; term 3.292520141097403e-14\n",
      "numerator 2.7587704831436337; denominator 5.758770483143633; term 1.577299773797718e-14\n",
      "numerator 2.064177772475912; denominator 5.064177772475912; term 6.429132783015903e-15\n",
      "numerator 1.0000000000000004; denominator 3.9999999999999996; term 1.6072831957539767e-15\n",
      "numerator -0.30540728933227834; denominator 2.6945927106677208; term -1.821707607465859e-16\n",
      "numerator -1.6945927106677212; denominator 1.305407289332278; term 2.3648193615945114e-16\n",
      "numerator -4.064177772475912; denominator -1.0641777724759125; term 9.031429272340523e-16\n",
      "y dp: 1.3745882754335996e-13\n",
      "numerator 3.0; denominator 7.064177772475912; term 8.415717380300727e-41\n",
      "numerator 2.7587704831436337; denominator 6.822948255619545; term 3.4027859853884137e-41\n",
      "numerator 2.7587704831436337; denominator 6.822948255619545; term 1.3758723040604337e-41\n",
      "numerator 2.064177772475912; denominator 6.128355544951823; term 4.63426935166356e-42\n",
      "numerator 1.0000000000000004; denominator 5.064177772475912; term 9.151079523414588e-43\n",
      "numerator -0.30540728933227834; denominator 3.7587704831436333; term -7.435427101078918e-44\n",
      "numerator -1.6945927106677212; denominator 2.3695850618081904; term 5.317395340336378e-44\n",
      "numerator -2.999999999999999; denominator 1.0641777724759125; term -1.4990151489346398e-43\n",
      "y dp: 1.981670788578653e-40\n",
      "inf\n",
      "numerator 2.858770483143634; denominator -0.2412295168563663; term -0.8961146463876956\n",
      "numerator 2.858770483143634; denominator -0.2412295168563663; term 10.619704147279732\n",
      "numerator 2.164177772475912; denominator -0.935822227524088; term -24.55907435178064\n",
      "numerator 1.1000000000000005; denominator -1.9999999999999996; term 13.507490893479362\n",
      "numerator -0.20540728933227836; denominator -3.3054072893322783; term 0.8393934082085575\n",
      "numerator -1.5945927106677211; denominator -4.694592710667721; term 0.2851132553140109\n",
      "numerator -2.899999999999999; denominator -5.999999999999999; term 0.13780474006843857\n",
      "numerator -3.9641777724759115; denominator -7.064177772475912; term 0.07733136185354793\n",
      "y dp: 0.07561617991742652\n",
      "numerator 3.1; denominator 0.2412295168563663; term 1.2094421383337315\n",
      "numerator 2.858770483143634; denominator 0.0; term inf\n",
      "numerator 2.164177772475912; denominator -0.6945927106677217; term -inf\n",
      "numerator 1.1000000000000005; denominator -1.7587704831436333; term inf\n",
      "numerator -0.20540728933227836; denominator -3.064177772475912; term inf\n",
      "numerator -1.5945927106677211; denominator -4.453363193811355; term inf\n",
      "numerator -2.899999999999999; denominator -5.758770483143633; term inf\n",
      "numerator -3.9641777724759115; denominator -6.822948255619545; term inf\n",
      "y dp: 0.09411391699870213\n",
      "numerator 3.1; denominator 0.2412295168563663; term 1.2094421383337315\n",
      "numerator 2.858770483143634; denominator 0.0; term inf\n",
      "numerator 2.164177772475912; denominator -0.6945927106677217; term -inf\n",
      "numerator 1.1000000000000005; denominator -1.7587704831436333; term inf\n",
      "numerator -0.20540728933227836; denominator -3.064177772475912; term inf\n",
      "numerator -1.5945927106677211; denominator -4.453363193811355; term inf\n",
      "numerator -2.899999999999999; denominator -5.758770483143633; term inf\n",
      "numerator -3.9641777724759115; denominator -6.822948255619545; term inf\n",
      "y dp: 0.09411391699870213\n",
      "numerator 3.1; denominator 0.935822227524088; term 0.5623077875216733\n",
      "numerator 2.858770483143634; denominator 0.6945927106677217; term 2.314318708964626\n",
      "numerator 2.858770483143634; denominator 0.6945927106677217; term 9.525159006369359\n",
      "numerator 1.1000000000000005; denominator -1.0641777724759116; term -9.845793793107504\n",
      "numerator -0.20540728933227836; denominator -2.3695850618081904; term -0.8534818382183443\n",
      "numerator -1.5945927106677211; denominator -3.7587704831436333; term -0.3620747592899125\n",
      "numerator -2.899999999999999; denominator -5.064177772475912; term -0.20734201071053346\n",
      "numerator -3.9641777724759115; denominator -6.128355544951823; term -0.13412090472398017\n",
      "y dp: 0.1697484278298948\n",
      "numerator 3.1; denominator 1.9999999999999996; term 0.512591663280148\n",
      "numerator 2.858770483143634; denominator 1.7587704831436333; term 0.8331854161388689\n",
      "numerator 2.858770483143634; denominator 1.7587704831436333; term 1.3542903394570003\n",
      "numerator 2.164177772475912; denominator 1.0641777724759116; term 2.754168641685326\n",
      "numerator -0.20540728933227836; denominator -1.3054072893322788; term 0.433371499972179\n",
      "numerator -1.5945927106677211; denominator -2.6945927106677217; term 0.2564584369767446\n",
      "numerator -2.899999999999999; denominator -3.9999999999999996; term 0.1859323668081398\n",
      "numerator -3.9641777724759115; denominator -5.064177772475912; term 0.1455456322427456\n",
      "y dp: 0.330704298890418\n",
      "numerator 3.1; denominator 3.3054072893322783; term 0.22394428938469\n",
      "numerator 2.858770483143634; denominator 3.064177772475912; term 0.2089321742727186\n",
      "numerator 2.858770483143634; denominator 3.064177772475912; term 0.1949263969457128\n",
      "numerator 2.164177772475912; denominator 2.3695850618081904; term 0.1780292180002255\n",
      "numerator 1.1000000000000005; denominator 1.3054072893322788; term 0.15001612247807894\n",
      "numerator -1.5945927106677211; denominator -1.3891854213354429; term 0.1721977582778118\n",
      "numerator -2.899999999999999; denominator -2.6945927106677208; term 0.18532429670304765\n",
      "numerator -3.9641777724759115; denominator -3.7587704831436333; term 0.19545180025877065\n",
      "y dp: 0.2387829311408037\n",
      "numerator 3.1; denominator 4.694592710667721; term 0.0007490080101441222\n",
      "numerator 2.858770483143634; denominator 4.453363193811355; term 0.00048081458840225626\n",
      "numerator 2.858770483143634; denominator 4.453363193811355; term 0.0003086517971629536\n",
      "numerator 2.164177772475912; denominator 3.7587704831436333; term 0.00017771166445261318\n",
      "numerator 1.1000000000000005; denominator 2.6945927106677217; term 7.254633701188698e-05\n",
      "numerator -0.20540728933227836; denominator 1.3891854213354429; term -1.0726823221534088e-05\n",
      "numerator -2.899999999999999; denominator -1.305407289332278; term -2.382994763140983e-05\n",
      "numerator -3.9641777724759115; denominator -2.3695850618081904; term -3.9866114216475654e-05\n",
      "y dp: 0.0011342863047272035\n",
      "numerator 3.1; denominator 5.999999999999999; term 7.102039423073599e-14\n",
      "numerator 2.858770483143634; denominator 5.758770483143633; term 3.525596432820859e-14\n",
      "numerator 2.858770483143634; denominator 5.758770483143633; term 1.7501775851505795e-14\n",
      "numerator 2.164177772475912; denominator 5.064177772475912; term 7.479388753401959e-15\n",
      "numerator 1.1000000000000005; denominator 3.9999999999999996; term 2.0568319071855403e-15\n",
      "numerator -0.20540728933227836; denominator 2.6945927106677208; term -1.5679114138270992e-16\n",
      "numerator -1.5945927106677211; denominator 1.305407289332278; term 1.9152490811816036e-16\n",
      "numerator -3.9641777724759115; denominator -1.0641777724759125; term 7.134510823986298e-16\n",
      "y dp: 1.3745882754335996e-13\n",
      "numerator 3.1; denominator 7.064177772475912; term 8.696241292977417e-41\n",
      "numerator 2.858770483143634; denominator 6.822948255619545; term 3.6436679557378895e-41\n",
      "numerator 2.858770483143634; denominator 6.822948255619545; term 1.5266729296474694e-41\n",
      "numerator 2.164177772475912; denominator 6.128355544951823; term 5.3913184311007674e-42\n",
      "numerator 1.1000000000000005; denominator 5.064177772475912; term 1.1710588649638593e-42\n",
      "numerator -0.20540728933227836; denominator 3.7587704831436333; term -6.399540173561831e-44\n",
      "numerator -1.5945927106677211; denominator 2.3695850618081904; term 4.3065177430684576e-44\n",
      "numerator -2.899999999999999; denominator 1.0641777724759125; term -1.1735728538890531e-43\n",
      "y dp: 1.981670788578653e-40\n",
      "inf\n",
      "numerator 2.958770483143634; denominator -0.2412295168563663; term -0.9274608020749576\n",
      "numerator 2.958770483143634; denominator -0.2412295168563663; term 11.375654526912774\n",
      "numerator 2.264177772475912; denominator -0.935822227524088; term -27.522859972395683\n",
      "numerator 1.2000000000000004; denominator -1.9999999999999996; term 16.513715983437418\n",
      "numerator -0.10540728933227839; denominator -3.3054072893322783; term 0.5266116657499379\n",
      "numerator -1.4945927106677213; denominator -4.694592710667721; term 0.16765457740219963\n",
      "numerator -2.799999999999999; denominator -5.999999999999999; term 0.07823880278769314\n",
      "numerator -3.8641777724759114; denominator -7.064177772475912; term 0.042797428436086415\n",
      "y dp: 0.07561617991742652\n",
      "numerator 3.2; denominator 0.2412295168563663; term 1.2484564008606263\n",
      "numerator 2.958770483143634; denominator 0.0; term inf\n",
      "numerator 2.264177772475912; denominator -0.6945927106677217; term -inf\n",
      "numerator 1.2000000000000004; denominator -1.7587704831436333; term inf\n",
      "numerator -0.10540728933227839; denominator -3.064177772475912; term inf\n",
      "numerator -1.4945927106677213; denominator -4.453363193811355; term inf\n",
      "numerator -2.799999999999999; denominator -5.758770483143633; term inf\n",
      "numerator -3.8641777724759114; denominator -6.822948255619545; term inf\n",
      "y dp: 0.09411391699870213\n",
      "numerator 3.2; denominator 0.2412295168563663; term 1.2484564008606263\n",
      "numerator 2.958770483143634; denominator 0.0; term inf\n",
      "numerator 2.264177772475912; denominator -0.6945927106677217; term -inf\n",
      "numerator 1.2000000000000004; denominator -1.7587704831436333; term inf\n",
      "numerator -0.10540728933227839; denominator -3.064177772475912; term inf\n",
      "numerator -1.4945927106677213; denominator -4.453363193811355; term inf\n",
      "numerator -2.799999999999999; denominator -5.758770483143633; term inf\n",
      "numerator -3.8641777724759114; denominator -6.822948255619545; term inf\n",
      "y dp: 0.09411391699870213\n",
      "numerator 3.2; denominator 0.935822227524088; term 0.5804467484094692\n",
      "numerator 2.958770483143634; denominator 0.6945927106677217; term 2.4725406412337203\n",
      "numerator 2.958770483143634; denominator 0.6945927106677217; term 10.532330897372503\n",
      "numerator 1.2000000000000004; denominator -1.0641777724759116; term -11.876584348723648\n",
      "numerator -0.10540728933227839; denominator -2.3695850618081904; term -0.5283112992659716\n",
      "numerator -1.4945927106677213; denominator -3.7587704831436333; term -0.2100714104219332\n",
      "numerator -2.799999999999999; denominator -5.064177772475912; term -0.11614915107805106\n",
      "numerator -3.8641777724759114; denominator -6.128355544951823; term -0.07323677038572993\n",
      "y dp: 0.1697484278298948\n",
      "numerator 3.2; denominator 1.9999999999999996; term 0.529126878224669\n",
      "numerator 2.958770483143634; denominator 1.7587704831436333; term 0.8901474093031113\n",
      "numerator 2.958770483143634; denominator 1.7587704831436333; term 1.4974903806580038\n",
      "numerator 2.264177772475912; denominator 1.0641777724759116; term 3.1861071731406536\n",
      "numerator -0.10540728933227839; denominator -1.3054072893322788; term 0.2572675389415571\n",
      "numerator -1.4945927106677213; denominator -2.6945927106677217; term 0.14269696005308108\n",
      "numerator -2.799999999999999; denominator -3.9999999999999996; term 0.09988787203715674\n",
      "numerator -3.8641777724759114; denominator -5.064177772475912; term 0.07621859109365126\n",
      "y dp: 0.330704298890418\n",
      "numerator 3.2; denominator 3.3054072893322783; term 0.23116829871968\n",
      "numerator 2.958770483143634; denominator 3.064177772475912; term 0.2232161413851834\n",
      "numerator 2.958770483143634; denominator 3.064177772475912; term 0.2155375371573317\n",
      "numerator 2.264177772475912; denominator 2.3695850618081904; term 0.20594968656387252\n",
      "numerator 1.2000000000000004; denominator 1.3054072893322788; term 0.18931993554521978\n",
      "numerator -1.4945927106677213; denominator -1.3891854213354429; term 0.20368497344145653\n",
      "numerator -2.799999999999999; denominator -2.6945927106677208; term 0.21165273823321265\n",
      "numerator -3.8641777724759114; denominator -3.7587704831436333; term 0.21758812096460478\n",
      "y dp: 0.2387829311408037\n",
      "numerator 3.2; denominator 4.694592710667721; term 0.0007731695588584489\n",
      "numerator 2.958770483143634; denominator 4.453363193811355; term 0.0005136862118936504\n",
      "numerator 2.958770483143634; denominator 4.453363193811355; term 0.00034128804124058633\n",
      "numerator 2.264177772475912; denominator 3.7587704831436333; term 0.00020558233083242222\n",
      "numerator 1.2000000000000004; denominator 2.6945927106677217; term 9.155327854270586e-05\n",
      "numerator -0.10540728933227839; denominator 1.3891854213354429; term -6.946792539323243e-06\n",
      "numerator -2.799999999999999; denominator -1.305407289332278; term -1.490034510229705e-05\n",
      "numerator -3.8641777724759114; denominator -2.3695850618081904; term -2.4298592726010895e-05\n",
      "y dp: 0.0011342863047272035\n",
      "numerator 3.2; denominator 5.999999999999999; term 7.331137468979199e-14\n",
      "numerator 2.958770483143634; denominator 5.758770483143633; term 3.766629216180028e-14\n",
      "numerator 2.958770483143634; denominator 5.758770483143633; term 1.935237978037324e-14\n",
      "numerator 2.264177772475912; denominator 5.064177772475912; term 8.6523874381706e-15\n",
      "numerator 1.2000000000000004; denominator 3.9999999999999996; term 2.5957162314511816e-15\n",
      "numerator -0.10540728933227839; denominator 2.6945927106677208; term -1.0153943145094682e-16\n",
      "numerator -1.4945927106677213; denominator 1.305407289332278; term 1.162549767663362e-16\n",
      "numerator -3.8641777724759114; denominator -1.0641777724759125; term 4.2213801939783334e-16\n",
      "y dp: 1.3745882754335996e-13\n",
      "numerator 3.2; denominator 7.064177772475912; term 8.976765205654108e-41\n",
      "numerator 2.958770483143634; denominator 6.822948255619545; term 3.8927728790445615e-41\n",
      "numerator 2.958770483143634; denominator 6.822948255619545; term 1.6881003725351067e-41\n",
      "numerator 2.264177772475912; denominator 6.128355544951823; term 6.23684333124367e-42\n",
      "numerator 1.2000000000000004; denominator 5.064177772475912; term 1.477873079055304e-42\n",
      "numerator -0.10540728933227839; denominator 3.7587704831436333; term -4.1444029620580274e-44\n",
      "numerator -1.4945927106677213; denominator 2.3695850618081904; term 2.61404182402929e-44\n",
      "numerator -2.799999999999999; denominator 1.0641777724759125; term -6.877908274904963e-44\n",
      "y dp: 1.981670788578653e-40\n",
      "inf\n",
      "numerator 3.0587704831436335; denominator -0.2412295168563663; term -0.9588069577622195\n",
      "numerator 3.0587704831436335; denominator -0.2412295168563663; term 12.157593563403195\n",
      "numerator 2.3641777724759123; denominator -0.935822227524088; term -30.71385956009922\n",
      "numerator 1.3000000000000005; denominator -1.9999999999999996; term 19.964008714064505\n",
      "numerator -0.005407289332278298; denominator -3.3054072893322783; term 0.032658962088414546\n",
      "numerator -1.3945927106677212; denominator -4.694592710667721; term 0.009701789542462416\n",
      "numerator -2.6999999999999993; denominator -5.999999999999999; term 0.004365805294108086\n",
      "numerator -3.764177772475912; denominator -7.064177772475912; term 0.002326338291070429\n",
      "y dp: 0.07561617991742652\n",
      "numerator 3.3; denominator 0.2412295168563663; term 1.2874706633875206\n",
      "numerator 3.0587704831436335; denominator 0.0; term inf\n",
      "numerator 2.3641777724759123; denominator -0.6945927106677217; term -inf\n",
      "numerator 1.3000000000000005; denominator -1.7587704831436333; term inf\n",
      "numerator -0.005407289332278298; denominator -3.064177772475912; term inf\n",
      "numerator -1.3945927106677212; denominator -4.453363193811355; term inf\n",
      "numerator -2.6999999999999993; denominator -5.758770483143633; term inf\n",
      "numerator -3.764177772475912; denominator -6.822948255619545; term inf\n",
      "y dp: 0.09411391699870213\n",
      "numerator 3.3; denominator 0.2412295168563663; term 1.2874706633875206\n",
      "numerator 3.0587704831436335; denominator 0.0; term inf\n",
      "numerator 2.3641777724759123; denominator -0.6945927106677217; term -inf\n",
      "numerator 1.3000000000000005; denominator -1.7587704831436333; term inf\n",
      "numerator -0.005407289332278298; denominator -3.064177772475912; term inf\n",
      "numerator -1.3945927106677212; denominator -4.453363193811355; term inf\n",
      "numerator -2.6999999999999993; denominator -5.758770483143633; term inf\n",
      "numerator -3.764177772475912; denominator -6.822948255619545; term inf\n",
      "y dp: 0.09411391699870213\n",
      "numerator 3.3; denominator 0.935822227524088; term 0.5985857092972652\n",
      "numerator 3.0587704831436335; denominator 0.6945927106677217; term 2.635985479130591\n",
      "numerator 3.0587704831436335; denominator 0.6945927106677217; term 11.608061031635254\n",
      "numerator 1.3000000000000005; denominator -1.0641777724759116; term -14.18041208097815\n",
      "numerator -0.005407289332278298; denominator -2.3695850618081904; term -0.03235907932094747\n",
      "numerator -1.3945927106677212; denominator -3.7587704831436333; term -0.012005983431893272\n",
      "numerator -2.6999999999999993; denominator -5.064177772475912; term -0.006401069773319459\n",
      "numerator -3.764177772475912; denominator -6.128355544951823; term -0.003931685161551107\n",
      "y dp: 0.1697484278298948\n",
      "numerator 3.3; denominator 1.9999999999999996; term 0.5456620931691899\n",
      "numerator 3.0587704831436335; denominator 1.7587704831436333; term 0.948989717733387\n",
      "numerator 3.0587704831436335; denominator 1.7587704831436333; term 1.650438056147793\n",
      "numerator 2.3641777724759123; denominator 1.0641777724759116; term 3.6666138573020106\n",
      "numerator -0.005407289332278298; denominator -1.3054072893322788; term 0.015187935717989019\n",
      "numerator -1.3945927106677212; denominator -2.6945927106677217; term 0.007860551377038628\n",
      "numerator -2.6999999999999993; denominator -3.9999999999999996; term 0.005305872179501073\n",
      "numerator -3.764177772475912; denominator -5.064177772475912; term 0.003943828005056721\n",
      "y dp: 0.330704298890418\n",
      "numerator 3.3; denominator 3.3054072893322783; term 0.23839230805467\n",
      "numerator 3.0587704831436335; denominator 3.064177772475912; term 0.23797162221985316\n",
      "numerator 3.0587704831436335; denominator 3.064177772475912; term 0.23755167876037997\n",
      "numerator 2.3641777724759123; denominator 2.3695850618081904; term 0.23700959623330428\n",
      "numerator 1.3000000000000005; denominator 1.3054072893322788; term 0.23602784940851407\n",
      "numerator -1.3945927106677212; denominator -1.3891854213354429; term 0.23694656828694882\n",
      "numerator -2.6999999999999993; denominator -2.6945927106677208; term 0.2374220533745265\n",
      "numerator -3.764177772475912; denominator -3.7587704831436333; term 0.23776360382093367\n",
      "y dp: 0.2387829311408037\n",
      "numerator 3.3; denominator 4.694592710667721; term 0.0007973311075727752\n",
      "numerator 3.0587704831436335; denominator 4.453363193811355; term 0.0005476429276024453\n",
      "numerator 3.0587704831436335; denominator 4.453363193811355; term 0.0003761458361582901\n",
      "numerator 2.3641777724759123; denominator 3.7587704831436333; term 0.00023658683844698426\n",
      "numerator 1.3000000000000005; denominator 2.6945927106677217; term 0.00011414077116866593\n",
      "numerator -0.005407289332278298; denominator 1.3891854213354429; term -4.4428350948646603e-07\n",
      "numerator -2.6999999999999993; denominator -1.305407289332278; term -9.189204667510639e-07\n",
      "numerator -3.764177772475912; denominator -2.3695850618081904; term -1.4597408007704334e-06\n",
      "y dp: 0.0011342863047272035\n",
      "numerator 3.3; denominator 5.999999999999999; term 7.560235514884798e-14\n",
      "numerator 3.0587704831436335; denominator 5.758770483143633; term 4.015618491174908e-14\n",
      "numerator 3.0587704831436335; denominator 5.758770483143633; term 2.1328954415398998e-14\n",
      "numerator 2.3641777724759123; denominator 5.064177772475912; term 9.957280767887604e-15\n",
      "numerator 1.3000000000000005; denominator 3.9999999999999996; term 3.236116249563473e-15\n",
      "numerator -0.005407289332278298; denominator 2.6945927106677208; term -6.4939746942093e-18\n",
      "numerator -1.3945927106677212; denominator 1.305407289332278; term 6.93764302207731e-18\n",
      "numerator -3.764177772475912; denominator -1.0641777724759125; term 2.453962329650812e-17\n",
      "y dp: 1.3745882754335996e-13\n",
      "numerator 3.3; denominator 7.064177772475912; term 9.257289118330797e-41\n",
      "numerator 3.0587704831436335; denominator 6.822948255619545; term 4.1501007553084276e-41\n",
      "numerator 3.0587704831436335; denominator 6.822948255619545; term 1.8605161898969793e-41\n",
      "numerator 2.3641777724759123; denominator 6.128355544951823; term 7.177440977799193e-42\n",
      "numerator 1.3000000000000005; denominator 5.064177772475912; term 1.8424853333253198e-42\n",
      "numerator -0.005407289332278298; denominator 3.7587704831436333; term -2.650561222731757e-45\n",
      "numerator -1.3945927106677212; denominator 2.3695850618081904; term 1.5599580787277285e-45\n",
      "numerator -2.6999999999999993; denominator 1.0641777724759125; term -3.9578789573526836e-45\n",
      "y dp: 1.981670788578653e-40\n",
      "inf\n",
      "numerator 3.1587704831436336; denominator -0.2412295168563663; term -0.9901531134494815\n",
      "numerator 3.1587704831436336; denominator -0.2412295168563663; term 12.965521256751003\n",
      "numerator 2.464177772475912; denominator -0.935822227524088; term -34.14040439494413\n",
      "numerator 1.4000000000000004; denominator -1.9999999999999996; term 23.8982830764609\n",
      "numerator 0.09459271066772168; denominator -3.3054072893322783; term -0.6839106889498139\n",
      "numerator -1.2945927106677213; denominator -4.694592710667721; term -0.18859693422397833\n",
      "numerator -2.599999999999999; denominator -5.999999999999999; term -0.08172533816372392\n",
      "numerator -3.6641777724759117; denominator -7.064177772475912; term -0.04239080289207369\n",
      "y dp: 0.07561617991742652\n",
      "numerator 3.4; denominator 0.2412295168563663; term 1.3264849259144151\n",
      "numerator 3.1587704831436336; denominator 0.0; term inf\n",
      "numerator 2.464177772475912; denominator -0.6945927106677217; term -inf\n",
      "numerator 1.4000000000000004; denominator -1.7587704831436333; term inf\n",
      "numerator 0.09459271066772168; denominator -3.064177772475912; term -inf\n",
      "numerator -1.2945927106677213; denominator -4.453363193811355; term -inf\n",
      "numerator -2.599999999999999; denominator -5.758770483143633; term -inf\n",
      "numerator -3.6641777724759117; denominator -6.822948255619545; term -inf\n",
      "y dp: 0.09411391699870213\n",
      "numerator 3.4; denominator 0.2412295168563663; term 1.3264849259144151\n",
      "numerator 3.1587704831436336; denominator 0.0; term inf\n",
      "numerator 2.464177772475912; denominator -0.6945927106677217; term -inf\n",
      "numerator 1.4000000000000004; denominator -1.7587704831436333; term inf\n",
      "numerator 0.09459271066772168; denominator -3.064177772475912; term -inf\n",
      "numerator -1.2945927106677213; denominator -4.453363193811355; term -inf\n",
      "numerator -2.599999999999999; denominator -5.758770483143633; term -inf\n",
      "numerator -3.6641777724759117; denominator -6.822948255619545; term -inf\n",
      "y dp: 0.09411391699870213\n",
      "numerator 3.4; denominator 0.935822227524088; term 0.616724670185061\n",
      "numerator 3.1587704831436336; denominator 0.6945927106677217; term 2.8046532226552388\n",
      "numerator 3.1587704831436336; denominator 0.6945927106677217; term 12.754605222765024\n",
      "numerator 1.4000000000000004; denominator -1.0641777724759116; term -16.779571772417594\n",
      "numerator 0.09459271066772168; denominator -2.3695850618081904; term 0.6698325387759588\n",
      "numerator -1.2945927106677213; denominator -3.7587704831436333; term 0.2307031849792978\n",
      "numerator -2.599999999999999; denominator -5.064177772475912; term 0.11844534451501172\n",
      "numerator -3.6641777724759117; denominator -6.128355544951823; term 0.07081912846630856\n",
      "y dp: 0.1697484278298948\n",
      "numerator 3.4; denominator 1.9999999999999996; term 0.5621973081137108\n",
      "numerator 3.1587704831436336; denominator 1.7587704831436333; term 1.0097123414296965\n",
      "numerator 3.1587704831436336; denominator 1.7587704831436333; term 1.8134540982704788\n",
      "numerator 2.464177772475912; denominator 1.0641777724759116; term 4.199179306260706\n",
      "numerator 0.09459271066772168; denominator -1.3054072893322788; term -0.30428185624900156\n",
      "numerator -1.2945927106677213; denominator -2.6945927106677217; term -0.1461894673465464\n",
      "numerator -2.599999999999999; denominator -3.9999999999999996; term -0.09502315377525514\n",
      "numerator -3.6641777724759117; denominator -5.064177772475912; term -0.06875385177555131\n",
      "y dp: 0.330704298890418\n",
      "numerator 3.4; denominator 3.3054072893322783; term 0.24561631738965997\n",
      "numerator 3.1587704831436336; denominator 3.064177772475912; term 0.2531986167767279\n",
      "numerator 3.1587704831436336; denominator 3.064177772475912; term 0.2610149855636066\n",
      "numerator 2.464177772475912; denominator 2.3695850618081904; term 0.27143457986612857\n",
      "numerator 1.4000000000000004; denominator 1.3054072893322788; term 0.2911033322074952\n",
      "numerator -1.2945927106677213; denominator -1.3891854213354429; term 0.27128146188334346\n",
      "numerator -2.599999999999999; denominator -2.6945927106677208; term 0.2617582234615009\n",
      "numerator -3.6641777724759117; denominator -3.7587704831436333; term 0.2551708513386672\n",
      "y dp: 0.2387829311408037\n",
      "numerator 3.4; denominator 4.694592710667721; term 0.0008214926562871018\n",
      "numerator 3.1587704831436336; denominator 4.453363193811355; term 0.0005826847355286414\n",
      "numerator 3.1587704831436336; denominator 4.453363193811355; term 0.0004132982789555506\n",
      "numerator 2.464177772475912; denominator 3.7587704831436333; term 0.0002709504176889907\n",
      "numerator 1.4000000000000004; denominator 2.6945927106677217; term 0.00014077473870646254\n",
      "numerator 0.09459271066772168; denominator 1.3891854213354429; term 9.585663600603744e-06\n",
      "numerator -2.599999999999999; denominator -1.305407289332278; term 1.909191527061092e-05\n",
      "numerator -3.6641777724759117; denominator -2.3695850618081904; term 2.9522540758753595e-05\n",
      "y dp: 0.0011342863047272035\n",
      "numerator 3.4; denominator 5.999999999999999; term 7.7893335607904e-14\n",
      "numerator 3.1587704831436336; denominator 5.758770483143633; term 4.2725642578055026e-14\n",
      "numerator 3.1587704831436336; denominator 5.758770483143633; term 2.3435644647402586e-14\n",
      "numerator 2.464177772475912; denominator 5.064177772475912; term 1.1403548062164365e-14\n",
      "numerator 1.4000000000000004; denominator 3.9999999999999996; term 3.9912418217575295e-15\n",
      "numerator 0.09459271066772168; denominator 2.6945927106677208; term 1.4011111265749146e-16\n",
      "numerator -1.2945927106677213; denominator 1.305407289332278; term -1.3895036944577855e-16\n",
      "numerator -3.6641777724759117; denominator -1.0641777724759125; term -4.784340251873303e-16\n",
      "y dp: 1.3745882754335996e-13\n",
      "numerator 3.4; denominator 7.064177772475912; term 9.53781303100749e-41\n",
      "numerator 3.1587704831436336; denominator 6.822948255619545; term 4.4156515845294915e-41\n",
      "numerator 3.1587704831436336; denominator 6.822948255619545; term 2.0442819389067239e-41\n",
      "numerator 2.464177772475912; denominator 6.128355544951823; term 8.21994428615925e-42\n",
      "numerator 1.4000000000000004; denominator 5.064177772475912; term 2.272416672094165e-42\n",
      "numerator 0.09459271066772168; denominator 3.7587704831436333; term 5.718733126799866e-44\n",
      "numerator -1.2945927106677213; denominator 2.3695850618081904; term -3.1243572301049617e-44\n",
      "numerator -2.599999999999999; denominator 1.0641777724759125; term 7.6334321279547e-44\n",
      "y dp: 1.981670788578653e-40\n",
      "-inf\n",
      "numerator 3.2587704831436337; denominator -0.2412295168563663; term -1.0214992691367437\n",
      "numerator 3.2587704831436337; denominator -0.2412295168563663; term 13.799437606956198\n",
      "numerator 2.564177772475912; denominator -0.935822227524088; term -37.810825756983306\n",
      "numerator 1.5000000000000004; denominator -1.9999999999999996; term 28.358119317737497\n",
      "numerator 0.19459271066772166; denominator -3.3054072893322783; term -1.6694715127199842\n",
      "numerator -1.1945927106677212; denominator -4.694592710667721; term -0.42481608579821784\n",
      "numerator -2.499999999999999; denominator -5.999999999999999; term -0.17700670241592406\n",
      "numerator -3.5641777724759116; denominator -7.064177772475912; term -0.08930740061330274\n",
      "y dp: 0.07561617991742652\n",
      "numerator 3.5; denominator 0.2412295168563663; term 1.36549918844131\n",
      "numerator 3.2587704831436337; denominator 0.0; term inf\n",
      "numerator 2.564177772475912; denominator -0.6945927106677217; term -inf\n",
      "numerator 1.5000000000000004; denominator -1.7587704831436333; term inf\n",
      "numerator 0.19459271066772166; denominator -3.064177772475912; term -inf\n",
      "numerator -1.1945927106677212; denominator -4.453363193811355; term -inf\n",
      "numerator -2.499999999999999; denominator -5.758770483143633; term -inf\n",
      "numerator -3.5641777724759116; denominator -6.822948255619545; term -inf\n",
      "y dp: 0.09411391699870213\n",
      "numerator 3.5; denominator 0.2412295168563663; term 1.36549918844131\n",
      "numerator 3.2587704831436337; denominator 0.0; term inf\n",
      "numerator 2.564177772475912; denominator -0.6945927106677217; term -inf\n",
      "numerator 1.5000000000000004; denominator -1.7587704831436333; term inf\n",
      "numerator 0.19459271066772166; denominator -3.064177772475912; term -inf\n",
      "numerator -1.1945927106677212; denominator -4.453363193811355; term -inf\n",
      "numerator -2.499999999999999; denominator -5.758770483143633; term -inf\n",
      "numerator -3.5641777724759116; denominator -6.822948255619545; term -inf\n",
      "y dp: 0.09411391699870213\n",
      "numerator 3.5; denominator 0.935822227524088; term 0.634863631072857\n",
      "numerator 3.2587704831436337; denominator 0.6945927106677217; term 2.978543871807664\n",
      "numerator 3.2587704831436337; denominator 0.6945927106677217; term 13.974219284369227\n",
      "numerator 1.5000000000000004; denominator -1.0641777724759116; term -19.697206114148866\n",
      "numerator 0.19459271066772166; denominator -2.3695850618081904; term 1.6175543946956696\n",
      "numerator -1.1945927106677212; denominator -3.7587704831436333; term 0.5140826495465873\n",
      "numerator -2.499999999999999; denominator -5.064177772475912; term 0.2537838681042434\n",
      "numerator -3.5641777724759116; denominator -6.128355544951823; term 0.14759764101076053\n",
      "y dp: 0.1697484278298948\n",
      "numerator 3.5; denominator 1.9999999999999996; term 0.5787325230582316\n",
      "numerator 3.2587704831436337; denominator 1.7587704831436333; term 1.0723152803920393\n",
      "numerator 3.2587704831436337; denominator 1.7587704831436333; term 1.9868592393701707\n",
      "numerator 2.564177772475912; denominator 1.0641777724759116; term 4.787414688034851\n",
      "numerator 0.19459271066772166; denominator -1.3054072893322788; term -0.7136439399780601\n",
      "numerator -1.1945927106677212; denominator -2.6945927106677217; term -0.31637948300495844\n",
      "numerator -2.499999999999999; denominator -3.9999999999999996; term -0.197737176878099\n",
      "numerator -3.5641777724759116; denominator -5.064177772475912; term -0.13916779431629056\n",
      "y dp: 0.330704298890418\n",
      "numerator 3.5; denominator 3.3054072893322783; term 0.25284032672465\n",
      "numerator 3.2587704831436337; denominator 3.064177772475912; term 0.2688971250558078\n",
      "numerator 3.2587704831436337; denominator 3.064177772475912; term 0.28597362137576093\n",
      "numerator 2.564177772475912; denominator 2.3695850618081904; term 0.3094580630444258\n",
      "numerator 1.5000000000000004; denominator 1.3054072893322788; term 0.3555879443603172\n",
      "numerator -1.1945927106677212; denominator -1.3891854213354429; term 0.30577830706415327\n",
      "numerator -2.499999999999999; denominator -2.6945927106677208; term 0.283696220446968\n",
      "numerator -3.5641777724759116; denominator -3.7587704831436333; term 0.26900917935453283\n",
      "y dp: 0.2387829311408037\n",
      "numerator 3.5; denominator 4.694592710667721; term 0.0008456542050014284\n",
      "numerator 3.2587704831436337; denominator 4.453363193811355; term 0.000618811635672239\n",
      "numerator 3.2587704831436337; denominator 4.453363193811355; term 0.00045281846667185314\n",
      "numerator 2.564177772475912; denominator 3.7587704831436333; term 0.0003089060777755983\n",
      "numerator 1.5000000000000004; denominator 2.6945927106677217; term 0.0001719588696388097\n",
      "numerator 0.19459271066772166; denominator 1.3891854213354429; term 2.4087455894984803e-05\n",
      "numerator -2.499999999999999; denominator -1.305407289332278; term 4.613015434306645e-05\n",
      "numerator -3.5641777724759116; denominator -2.3695850618081904; term 6.938601757768402e-05\n",
      "y dp: 0.0011342863047272035\n",
      "numerator 3.5; denominator 5.999999999999999; term 8.018431606695999e-14\n",
      "numerator 3.2587704831436337; denominator 5.758770483143633; term 4.5374665160718084e-14\n",
      "numerator 3.2587704831436337; denominator 5.758770483143633; term 2.567659536720347e-14\n",
      "numerator 2.564177772475912; denominator 5.064177772475912; term 1.30009960296579e-14\n",
      "numerator 1.5000000000000004; denominator 3.9999999999999996; term 4.875373511121715e-15\n",
      "numerator 0.19459271066772166; denominator 2.6945927106677208; term 3.520799797649905e-16\n",
      "numerator -1.1945927106677212; denominator 1.305407289332278; term -3.221923003160426e-16\n",
      "numerator -3.5641777724759116; denominator -1.0641777724759125; term -1.0790966180185985e-15\n",
      "y dp: 1.3745882754335996e-13\n",
      "numerator 3.5; denominator 7.064177772475912; term 9.81833694368418e-41\n",
      "numerator 3.2587704831436337; denominator 6.822948255619545; term 4.689425366707749e-41\n",
      "numerator 3.2587704831436337; denominator 6.822948255619545; term 2.239759176737973e-41\n",
      "numerator 2.564177772475912; denominator 6.128355544951823; term 9.371422161400734e-42\n",
      "numerator 1.5000000000000004; denominator 5.064177772475912; term 2.775797745194177e-42\n",
      "numerator 0.19459271066772166; denominator 3.7587704831436333; term 1.4370390794676356e-43\n",
      "numerator -1.1945927106677212; denominator 2.3695850618081904; term -7.244628761993979e-44\n",
      "numerator -2.499999999999999; denominator 1.0641777724759125; term 1.7019310469947724e-43\n",
      "y dp: 1.981670788578653e-40\n",
      "-inf\n",
      "numerator 3.358770483143634; denominator -0.2412295168563663; term -1.0528454248240058\n",
      "numerator 3.358770483143634; denominator -0.2412295168563663; term 14.659342614018774\n",
      "numerator 2.664177772475912; denominator -0.935822227524088; term -41.733454926269616\n",
      "numerator 1.6000000000000005; denominator -1.9999999999999996; term 33.386763941015715\n",
      "numerator 0.29459271066772175; denominator -3.3054072893322783; term -2.9755780237884166\n",
      "numerator -1.0945927106677211; denominator -4.694592710667721; term -0.6937867064507515\n",
      "numerator -2.399999999999999; denominator -5.999999999999999; term -0.27751468258030054\n",
      "numerator -3.4641777724759115; denominator -7.064177772475912; term -0.13608946800236593\n",
      "y dp: 0.07561617991742652\n",
      "numerator 3.6; denominator 0.2412295168563663; term 1.4045134509682045\n",
      "numerator 3.358770483143634; denominator 0.0; term inf\n",
      "numerator 2.664177772475912; denominator -0.6945927106677217; term -inf\n",
      "numerator 1.6000000000000005; denominator -1.7587704831436333; term inf\n",
      "numerator 0.29459271066772175; denominator -3.064177772475912; term -inf\n",
      "numerator -1.0945927106677211; denominator -4.453363193811355; term -inf\n",
      "numerator -2.399999999999999; denominator -5.758770483143633; term -inf\n",
      "numerator -3.4641777724759115; denominator -6.822948255619545; term -inf\n",
      "y dp: 0.09411391699870213\n",
      "numerator 3.6; denominator 0.2412295168563663; term 1.4045134509682045\n",
      "numerator 3.358770483143634; denominator 0.0; term inf\n",
      "numerator 2.664177772475912; denominator -0.6945927106677217; term -inf\n",
      "numerator 1.6000000000000005; denominator -1.7587704831436333; term inf\n",
      "numerator 0.29459271066772175; denominator -3.064177772475912; term -inf\n",
      "numerator -1.0945927106677211; denominator -4.453363193811355; term -inf\n",
      "numerator -2.399999999999999; denominator -5.758770483143633; term -inf\n",
      "numerator -3.4641777724759115; denominator -6.822948255619545; term -inf\n",
      "y dp: 0.09411391699870213\n",
      "numerator 3.6; denominator 0.935822227524088; term 0.6530025919606529\n",
      "numerator 3.358770483143634; denominator 0.6945927106677217; term 3.157657426587865\n",
      "numerator 3.358770483143634; denominator 0.6945927106677217; term 15.269159030055267\n",
      "numerator 1.6000000000000005; denominator -1.0641777724759116; term -22.957305705839143\n",
      "numerator 0.29459271066772175; denominator -2.3695850618081904; term 2.8541093656076373\n",
      "numerator -1.0945927106677211; denominator -3.7587704831436333; term 0.8311460678572146\n",
      "numerator -2.399999999999999; denominator -5.064177772475912; term 0.39389426131501437\n",
      "numerator -3.4641777724759115; denominator -6.128355544951823; term 0.22265675265484586\n",
      "y dp: 0.1697484278298948\n",
      "numerator 3.6; denominator 1.9999999999999996; term 0.5952677380027526\n",
      "numerator 3.358770483143634; denominator 1.7587704831436333; term 1.136798534620416\n",
      "numerator 3.358770483143634; denominator 1.7587704831436333; term 2.1709742117909796\n",
      "numerator 2.664177772475912; denominator 1.0641777724759116; term 5.435051726569362\n",
      "numerator 0.29459271066772175; denominator -1.3054072893322788; term -1.2265341505549066\n",
      "numerator -1.0945927106677211; denominator -2.6945927106677217; term -0.4982405449503869\n",
      "numerator -2.399999999999999; denominator -3.9999999999999996; term -0.29894432697023204\n",
      "numerator -3.4641777724759115; denominator -5.064177772475912; term -0.20449445877010333\n",
      "y dp: 0.330704298890418\n",
      "numerator 3.6; denominator 3.3054072893322783; term 0.26006433605964\n",
      "numerator 3.358770483143634; denominator 3.064177772475912; term 0.2850671470570927\n",
      "numerator 3.358770483143634; denominator 3.064177772475912; term 0.3124737500055916\n",
      "numerator 2.664177772475912; denominator 2.3695850618081904; term 0.35132126407474745\n",
      "numerator 1.6000000000000005; denominator 1.3054072893322788; term 0.4306043233503926\n",
      "numerator -1.0945927106677211; denominator -1.3891854213354429; term 0.33928973503641013\n",
      "numerator -2.399999999999999; denominator -2.6945927106677208; term 0.30219608360983113\n",
      "numerator -3.4641777724759115; denominator -3.7587704831436333; term 0.27851154000095024\n",
      "y dp: 0.2387829311408037\n",
      "numerator 3.6; denominator 4.694592710667721; term 0.0008698157537157549\n",
      "numerator 3.358770483143634; denominator 4.453363193811355; term 0.0006560236280332372\n",
      "numerator 3.358770483143634; denominator 4.453363193811355; term 0.0004947794963466825\n",
      "numerator 2.664177772475912; denominator 3.7587704831436333; term 0.0003506946067484288\n",
      "numerator 1.6000000000000005; denominator 2.6945927106677217; term 0.0002082360605282134\n",
      "numerator 0.29459271066772175; denominator 1.3891854213354429; term 4.415884631930743e-05\n",
      "numerator -2.399999999999999; denominator -1.305407289332278; term 8.118633320988096e-05\n",
      "numerator -3.4641777724759115; denominator -2.3695850618081904; term 0.00011868908842625808\n",
      "y dp: 0.0011342863047272035\n",
      "numerator 3.6; denominator 5.999999999999999; term 8.247529652601599e-14\n",
      "numerator 3.358770483143634; denominator 5.758770483143633; term 4.810325265973827e-14\n",
      "numerator 3.358770483143634; denominator 5.758770483143633; term 2.8055951465621147e-14\n",
      "numerator 2.664177772475912; denominator 5.064177772475912; term 1.4759758768070853e-14\n",
      "numerator 1.6000000000000005; denominator 3.9999999999999996; term 5.903903507228344e-15\n",
      "numerator 0.29459271066772175; denominator 2.6945927106677208; term 6.454581914474494e-16\n",
      "numerator -1.0945927106677211; denominator 1.305407289332278; term -5.412209945300166e-16\n",
      "numerator -3.4641777724759115; denominator -1.0641777724759125; term -1.7618162939882565e-15\n",
      "y dp: 1.3745882754335996e-13\n",
      "numerator 3.6; denominator 7.064177772475912; term 1.0098860856360873e-40\n",
      "numerator 3.358770483143634; denominator 6.822948255619545; term 4.971422101843204e-41\n",
      "numerator 3.358770483143634; denominator 6.822948255619545; term 2.447309460564364e-41\n",
      "numerator 2.664177772475912; denominator 6.128355544951823; term 1.0639179498285538e-41\n",
      "numerator 1.6000000000000005; denominator 5.064177772475912; term 3.3613921078711174e-42\n",
      "numerator 0.29459271066772175; denominator 3.7587704831436333; term 2.634482783973164e-43\n",
      "numerator -1.0945927106677211; denominator 2.3695850618081904; term -1.2169580650192562e-43\n",
      "numerator -2.399999999999999; denominator 1.0641777724759125; term 2.7445596324107804e-43\n",
      "y dp: 1.981670788578653e-40\n",
      "-inf\n",
      "numerator 3.458770483143634; denominator -0.2412295168563663; term -1.0841915805112676\n",
      "numerator 3.458770483143634; denominator -0.2412295168563663; term 15.545236277938729\n",
      "numerator 2.764177772475912; denominator -0.935822227524088; term -45.91662318285592\n",
      "numerator 1.7000000000000004; denominator -1.9999999999999996; term 39.02912970542755\n",
      "numerator 0.3945927106677216; denominator -3.3054072893322783; term -4.659217075962162\n",
      "numerator -0.9945927106677213; denominator -4.694592710667721; term -0.9870980565876255\n",
      "numerator -2.299999999999999; denominator -5.999999999999999; term -0.37838758835858965\n",
      "numerator -3.3641777724759114; denominator -7.064177772475912; term -0.18019975645241634\n",
      "y dp: 0.07561617991742652\n",
      "numerator 3.7; denominator 0.2412295168563663; term 1.443527713495099\n",
      "numerator 3.458770483143634; denominator 0.0; term inf\n",
      "numerator 2.764177772475912; denominator -0.6945927106677217; term -inf\n",
      "numerator 1.7000000000000004; denominator -1.7587704831436333; term inf\n",
      "numerator 0.3945927106677216; denominator -3.064177772475912; term -inf\n",
      "numerator -0.9945927106677213; denominator -4.453363193811355; term -inf\n",
      "numerator -2.299999999999999; denominator -5.758770483143633; term -inf\n",
      "numerator -3.3641777724759114; denominator -6.822948255619545; term -inf\n",
      "y dp: 0.09411391699870213\n",
      "numerator 3.7; denominator 0.2412295168563663; term 1.443527713495099\n",
      "numerator 3.458770483143634; denominator 0.0; term inf\n",
      "numerator 2.764177772475912; denominator -0.6945927106677217; term -inf\n",
      "numerator 1.7000000000000004; denominator -1.7587704831436333; term inf\n",
      "numerator 0.3945927106677216; denominator -3.064177772475912; term -inf\n",
      "numerator -0.9945927106677213; denominator -4.453363193811355; term -inf\n",
      "numerator -2.299999999999999; denominator -5.758770483143633; term -inf\n",
      "numerator -3.3641777724759114; denominator -6.822948255619545; term -inf\n",
      "y dp: 0.09411391699870213\n",
      "numerator 3.7; denominator 0.935822227524088; term 0.6711415528484488\n",
      "numerator 3.458770483143634; denominator 0.6945927106677217; term 3.3419938869958425\n",
      "numerator 3.458770483143634; denominator 0.6945927106677217; term 16.641680273430556\n",
      "numerator 1.7000000000000004; denominator -1.0641777724759116; term -26.58470905571591\n",
      "numerator 0.3945927106677216; denominator -2.3695850618081904; term 4.426991281166679\n",
      "numerator -0.9945927106677213; denominator -3.7587704831436333; term 1.1714078521643225\n",
      "numerator -2.299999999999999; denominator -5.064177772475912; term 0.5320188549899008\n",
      "numerator -3.3641777724759114; denominator -6.128355544951823; term 0.29205322592117644\n",
      "y dp: 0.1697484278298948\n",
      "numerator 3.7; denominator 1.9999999999999996; term 0.6118029529472735\n",
      "numerator 3.458770483143634; denominator 1.7587704831436333; term 1.2031621041148262\n",
      "numerator 3.458770483143634; denominator 1.7587704831436333; term 2.3661197478770144\n",
      "numerator 2.764177772475912; denominator 1.0641777724759116; term 6.145942701735953\n",
      "numerator 0.3945927106677216; denominator -1.3054072893322788; term -1.857768230731239\n",
      "numerator -0.9945927106677213; denominator -2.6945927106677217; term -0.6857150370370789\n",
      "numerator -2.299999999999999; denominator -3.9999999999999996; term -0.39428614629632025\n",
      "numerator -3.3641777724759114; denominator -5.064177772475912; term -0.2619277499645823\n",
      "y dp: 0.330704298890418\n",
      "numerator 3.7; denominator 3.3054072893322783; term 0.26728834539463003\n",
      "numerator 3.458770483143634; denominator 3.064177772475912; term 0.30170868278058255\n",
      "numerator 3.458770483143634; denominator 3.064177772475912; term 0.34056153526184757\n",
      "numerator 2.764177772475912; denominator 2.3695850618081904; term 0.39727319398811745\n",
      "numerator 1.7000000000000004; denominator 1.3054072893322788; term 0.5173591685130328\n",
      "numerator -0.9945927106677213; denominator -1.3891854213354429; term 0.3704053108371383\n",
      "numerator -2.299999999999999; denominator -2.6945927106677208; term 0.3161636307975867\n",
      "numerator -3.3641777724759114; denominator -3.7587704831436333; term 0.2829730264096781\n",
      "y dp: 0.2387829311408037\n",
      "numerator 3.7; denominator 4.694592710667721; term 0.0008939773024300814\n",
      "numerator 3.458770483143634; denominator 4.453363193811355; term 0.0006943207126116369\n",
      "numerator 3.458770483143634; denominator 4.453363193811355; term 0.0005392544650195246\n",
      "numerator 2.764177772475912; denominator 3.7587704831436333; term 0.00039656457147357015\n",
      "numerator 1.7000000000000004; denominator 2.6945927106677217; term 0.00025018985943074575\n",
      "numerator 0.3945927106677216; denominator 1.3891854213354429; term 7.106545555268666e-05\n",
      "numerator -2.299999999999999; denominator -1.305407289332278; term 0.000125210383844865\n",
      "numerator -3.3641777724759114; denominator -2.3695850618081904; term 0.00017776529612852904\n",
      "y dp: 0.0011342863047272035\n",
      "numerator 3.7; denominator 5.999999999999999; term 8.4766276985072e-14\n",
      "numerator 3.458770483143634; denominator 5.758770483143633; term 5.0911405075115576e-14\n",
      "numerator 3.458770483143634; denominator 5.758770483143633; term 3.0577857833475106e-14\n",
      "numerator 2.764177772475912; denominator 5.064177772475912; term 1.669029776415148e-14\n",
      "numerator 1.7000000000000004; denominator 3.9999999999999996; term 7.093376549764382e-15\n",
      "numerator 0.3945927106677216; denominator 2.6945927106677208; term 1.0387449908393714e-15\n",
      "numerator -0.9945927106677213; denominator 1.305407289332278; term -7.914221136760296e-16\n",
      "numerator -3.3641777724759114; denominator -1.0641777724759125; term -2.5019172100167763e-15\n",
      "y dp: 1.3745882754335996e-13\n",
      "numerator 3.7; denominator 7.064177772475912; term 1.0379384769037564e-40\n",
      "numerator 3.458770483143634; denominator 6.822948255619545; term 5.261641789935853e-41\n",
      "numerator 3.458770483143634; denominator 6.822948255619545; term 2.66729434755953e-41\n",
      "numerator 2.764177772475912; denominator 6.128355544951823; term 1.2030757181260527e-41\n",
      "numerator 1.7000000000000004; denominator 5.064177772475912; term 4.038619520685514e-42\n",
      "numerator 0.3945927106677216; denominator 3.7587704831436333; term 4.2397103818109745e-43\n",
      "numerator -0.9945927106677213; denominator 2.3695850618081904; term -1.7795457563670236e-43\n",
      "numerator -2.299999999999999; denominator 1.0641777724759125; term 3.8461198359006275e-43\n",
      "y dp: 1.981670788578653e-40\n",
      "-inf\n",
      "numerator 3.5587704831436335; denominator -0.2412295168563663; term -1.1155377361985297\n",
      "numerator 3.5587704831436335; denominator -0.2412295168563663; term 16.457118598716068\n",
      "numerator 2.8641777724759123; denominator -0.935822227524088; term -50.36866180679516\n",
      "numerator 1.8000000000000005; denominator -1.9999999999999996; term 45.33179562611567\n",
      "numerator 0.4945927106677217; denominator -3.3054072893322783; term -6.783059912318676\n",
      "numerator -0.8945927106677212; denominator -4.694592710667721; term -1.2925670718556639\n",
      "numerator -2.1999999999999993; denominator -5.999999999999999; term -0.47394125968041\n",
      "numerator -3.264177772475912; denominator -7.064177772475912; term -0.21899626186301552\n",
      "y dp: 0.07561617991742652\n",
      "numerator 3.8; denominator 0.2412295168563663; term 1.4825419760219936\n",
      "numerator 3.5587704831436335; denominator 0.0; term inf\n",
      "numerator 2.8641777724759123; denominator -0.6945927106677217; term -inf\n",
      "numerator 1.8000000000000005; denominator -1.7587704831436333; term inf\n",
      "numerator 0.4945927106677217; denominator -3.064177772475912; term -inf\n",
      "numerator -0.8945927106677212; denominator -4.453363193811355; term -inf\n",
      "numerator -2.1999999999999993; denominator -5.758770483143633; term -inf\n",
      "numerator -3.264177772475912; denominator -6.822948255619545; term -inf\n",
      "y dp: 0.09411391699870213\n",
      "numerator 3.8; denominator 0.2412295168563663; term 1.4825419760219936\n",
      "numerator 3.5587704831436335; denominator 0.0; term inf\n",
      "numerator 2.8641777724759123; denominator -0.6945927106677217; term -inf\n",
      "numerator 1.8000000000000005; denominator -1.7587704831436333; term inf\n",
      "numerator 0.4945927106677217; denominator -3.064177772475912; term -inf\n",
      "numerator -0.8945927106677212; denominator -4.453363193811355; term -inf\n",
      "numerator -2.1999999999999993; denominator -5.758770483143633; term -inf\n",
      "numerator -3.264177772475912; denominator -6.822948255619545; term -inf\n",
      "y dp: 0.09411391699870213\n",
      "numerator 3.8; denominator 0.935822227524088; term 0.6892805137362447\n",
      "numerator 3.5587704831436335; denominator 0.6945927106677217; term 3.531553253031597\n",
      "numerator 3.5587704831436335; denominator 0.6945927106677217; term 18.094038828102512\n",
      "numerator 1.8000000000000005; denominator -1.0641777724759116; term -30.605102580566967\n",
      "numerator 0.4945927106677217; denominator -2.3695850618081904; term 6.3880638384998365\n",
      "numerator -0.8945927106677212; denominator -3.7587704831436333; term 1.520368261597749\n",
      "numerator -2.1999999999999993; denominator -5.064177772475912; term 0.6604843522070406\n",
      "numerator -3.264177772475912; denominator -6.128355544951823; term 0.35179720330004477\n",
      "y dp: 0.1697484278298948\n",
      "numerator 3.8; denominator 1.9999999999999996; term 0.6283381678917944\n",
      "numerator 3.5587704831436335; denominator 1.7587704831436333; term 1.2714059888752696\n",
      "numerator 3.5587704831436335; denominator 1.7587704831436333; term 2.572616579972385\n",
      "numerator 2.8641777724759123; denominator 1.0641777724759116; term 6.924060449333144\n",
      "numerator 0.4945927106677217; denominator -1.3054072893322788; term -2.6233880065236455\n",
      "numerator -0.8945927106677212; denominator -2.6945927106677217; term -0.8709530678228634\n",
      "numerator -2.1999999999999993; denominator -3.9999999999999996; term -0.47902418730257484\n",
      "numerator -3.264177772475912; denominator -5.064177772475912; term -0.30876090353102636\n",
      "y dp: 0.330704298890418\n",
      "numerator 3.8; denominator 3.3054072893322783; term 0.27451235472962\n",
      "numerator 3.5587704831436335; denominator 3.064177772475912; term 0.31882173222627735\n",
      "numerator 3.5587704831436335; denominator 3.064177772475912; term 0.37028314095327786\n",
      "numerator 2.8641777724759123; denominator 2.3695850618081904; term 0.4475706565400318\n",
      "numerator 1.8000000000000005; denominator 1.3054072893322788; term 0.6171462258220873\n",
      "numerator -0.8945927106677212; denominator -1.3891854213354429; term 0.3974231996372368\n",
      "numerator -2.1999999999999993; denominator -2.6945927106677208; term 0.3244761390990556\n",
      "numerator -3.264177772475912; denominator -3.7587704831436333; term 0.28178038688335266\n",
      "y dp: 0.2387829311408037\n",
      "numerator 3.8; denominator 4.694592710667721; term 0.0009181388511444079\n",
      "numerator 3.5587704831436335; denominator 4.453363193811355; term 0.0007337028894074375\n",
      "numerator 3.5587704831436335; denominator 4.453363193811355; term 0.0005863164697298641\n",
      "numerator 2.8641777724759123; denominator 3.7587704831436333; term 0.0004467723176415748\n",
      "numerator 1.8000000000000005; denominator 2.6945927106677217; term 0.00029844590930981776\n",
      "numerator 0.4945927106677217; denominator 1.3891854213354429; term 0.00010625591732120044\n",
      "numerator -2.1999999999999993; denominator -1.305407289332278; term 0.0001790728610273134\n",
      "numerator -3.264177772475912; denominator -2.3695850618081904; term 0.00024667848478627\n",
      "y dp: 0.0011342863047272035\n",
      "numerator 3.8; denominator 5.999999999999999; term 8.705725744412799e-14\n",
      "numerator 3.5587704831436335; denominator 5.758770483143633; term 5.379912240685001e-14\n",
      "numerator 3.5587704831436335; denominator 5.758770483143633; term 3.3246459361584844e-14\n",
      "numerator 2.8641777724759123; denominator 5.064177772475912; term 1.8803401893693684e-14\n",
      "numerator 1.8000000000000005; denominator 3.9999999999999996; term 8.461530852162162e-15\n",
      "numerator 0.4945927106677217; denominator 2.6945927106677208; term 1.5531146744371598e-15\n",
      "numerator -0.8945927106677212; denominator 1.305407289332278; term -1.0643460304969198e-15\n",
      "numerator -3.264177772475912; denominator -1.0641777724759125; term -3.2646938743025222e-15\n",
      "y dp: 1.3745882754335996e-13\n",
      "numerator 3.8; denominator 7.064177772475912; term 1.0659908681714251e-40\n",
      "numerator 3.5587704831436335; denominator 6.822948255619545; term 5.560084430985695e-41\n",
      "numerator 3.5587704831436335; denominator 6.822948255619545; term 2.900075394897104e-41\n",
      "numerator 2.8641777724759123; denominator 6.128355544951823; term 1.3553932084457557e-41\n",
      "numerator 1.8000000000000005; denominator 5.064177772475912; term 4.8175792494140085e-42\n",
      "numerator 0.4945927106677217; denominator 3.7587704831436333; term 6.339146246118884e-43\n",
      "numerator -0.8945927106677212; denominator 2.3695850618081904; term -2.393226609601933e-43\n",
      "numerator -2.1999999999999993; denominator 1.0641777724759125; term 4.947574246805108e-43\n",
      "y dp: 1.981670788578653e-40\n",
      "-inf\n",
      "numerator 3.6587704831436336; denominator -0.2412295168563663; term -1.1468838918857915\n",
      "numerator 3.6587704831436336; denominator -0.2412295168563663; term 17.39498957635079\n",
      "numerator 2.964177772475912; denominator -0.935822227524088; term -55.097902078140145\n",
      "numerator 1.9000000000000004; denominator -1.9999999999999996; term 52.34300697423316\n",
      "numerator 0.5945927106677216; denominator -3.3054072893322783; term -9.415714215235433\n",
      "numerator -0.7945927106677213; denominator -4.694592710667721; term -1.5936756055867491\n",
      "numerator -2.099999999999999; denominator -5.999999999999999; term -0.5577864619553621\n",
      "numerator -3.1641777724759117; denominator -7.064177772475912; term -0.2498430222953673\n",
      "y dp: 0.07561617991742652\n",
      "numerator 3.9; denominator 0.2412295168563663; term 1.521556238548888\n",
      "numerator 3.6587704831436336; denominator 0.0; term inf\n",
      "numerator 2.964177772475912; denominator -0.6945927106677217; term -inf\n",
      "numerator 1.9000000000000004; denominator -1.7587704831436333; term inf\n",
      "numerator 0.5945927106677216; denominator -3.064177772475912; term -inf\n",
      "numerator -0.7945927106677213; denominator -4.453363193811355; term -inf\n",
      "numerator -2.099999999999999; denominator -5.758770483143633; term -inf\n",
      "numerator -3.1641777724759117; denominator -6.822948255619545; term -inf\n",
      "y dp: 0.09411391699870213\n",
      "numerator 3.9; denominator 0.2412295168563663; term 1.521556238548888\n",
      "numerator 3.6587704831436336; denominator 0.0; term inf\n",
      "numerator 2.964177772475912; denominator -0.6945927106677217; term -inf\n",
      "numerator 1.9000000000000004; denominator -1.7587704831436333; term inf\n",
      "numerator 0.5945927106677216; denominator -3.064177772475912; term -inf\n",
      "numerator -0.7945927106677213; denominator -4.453363193811355; term -inf\n",
      "numerator -2.099999999999999; denominator -5.758770483143633; term -inf\n",
      "numerator -3.1641777724759117; denominator -6.822948255619545; term -inf\n",
      "y dp: 0.09411391699870213\n",
      "numerator 3.9; denominator 0.935822227524088; term 0.7074194746240406\n",
      "numerator 3.6587704831436336; denominator 0.6945927106677217; term 3.726335524695129\n",
      "numerator 3.6587704831436336; denominator 0.6945927106677217; term 19.62849050767854\n",
      "numerator 1.9000000000000004; denominator -1.0641777724759116; term -35.04502060574039\n",
      "numerator 0.5945927106677216; denominator -2.3695850618081904; term 8.793739517193183\n",
      "numerator -0.7945927106677213; denominator -3.7587704831436333; term 1.8589699347719868\n",
      "numerator -2.099999999999999; denominator -5.064177772475912; term 0.7708727928625929\n",
      "numerator -3.1641777724759117; denominator -6.128355544951823; term 0.398015183468181\n",
      "y dp: 0.1697484278298948\n",
      "numerator 3.9; denominator 1.9999999999999996; term 0.6448733828363152\n",
      "numerator 3.6587704831436336; denominator 1.7587704831436333; term 1.3415301889017466\n",
      "numerator 3.6587704831436336; denominator 1.7587704831436333; term 2.7907854404212014\n",
      "numerator 2.964177772475912; denominator 1.0641777724759116; term 7.773498361086257\n",
      "numerator 0.5945927106677216; denominator -1.3054072893322788; term -3.540707562812503\n",
      "numerator -0.7945927106677213; denominator -2.6945927106677217; term -1.044098578935041\n",
      "numerator -2.099999999999999; denominator -3.9999999999999996; term -0.5481517539408964\n",
      "numerator -3.1641777724759117; denominator -5.064177772475912; term -0.34249382104836446\n",
      "y dp: 0.330704298890418\n",
      "numerator 3.9; denominator 3.3054072893322783; term 0.28173636406460995\n",
      "numerator 3.6587704831436336; denominator 3.064177772475912; term 0.3364062953941772\n",
      "numerator 3.6587704831436336; denominator 3.064177772475912; term 0.4016847308886317\n",
      "numerator 2.964177772475912; denominator 2.3695850618081904; term 0.5024782482104584\n",
      "numerator 1.9000000000000004; denominator 1.3054072893322788; term 0.7313492726765825\n",
      "numerator -0.7945927106677213; denominator -1.3891854213354429; term 0.418320543892772\n",
      "numerator -2.099999999999999; denominator -2.6945927106677208; term 0.32601332984276316\n",
      "numerator -3.1641777724759117; denominator -3.7587704831436333; term 0.27444190499138543\n",
      "y dp: 0.2387829311408037\n",
      "numerator 3.9; denominator 4.694592710667721; term 0.0009423003998587344\n",
      "numerator 3.6587704831436336; denominator 4.453363193811355; term 0.0007741701584206393\n",
      "numerator 3.6587704831436336; denominator 4.453363193811355; term 0.0006360386075171867\n",
      "numerator 2.964177772475912; denominator 3.7587704831436333; term 0.0005015819697674612\n",
      "numerator 1.9000000000000004; denominator 2.6945927106677217; term 0.00035367339144995355\n",
      "numerator 0.5945927106677216; denominator 1.3891854213354429; term 0.00015137764713303562\n",
      "numerator -2.099999999999999; denominator -1.305407289332278; term 0.00024352021133724363\n",
      "numerator -3.1641777724759117; denominator -2.3695850618081904; term 0.00032517981830707345\n",
      "y dp: 0.0011342863047272035\n",
      "numerator 3.9; denominator 5.999999999999999; term 8.934823790318399e-14\n",
      "numerator 3.6587704831436336; denominator 5.758770483143633; term 5.676640465494156e-14\n",
      "numerator 3.6587704831436336; denominator 5.758770483143633; term 3.606590094076984e-14\n",
      "numerator 2.964177772475912; denominator 5.064177772475912; term 2.111018742153696e-14\n",
      "numerator 1.9000000000000004; denominator 3.9999999999999996; term 1.0027339025230058e-14\n",
      "numerator 0.5945927106677216; denominator 2.6945927106677208; term 2.2126470795351995e-15\n",
      "numerator -0.7945927106677213; denominator 1.305407289332278; term -1.3468235201736885e-15\n",
      "numerator -3.1641777724759117; denominator -1.0641777724759125; term -4.0045837793307306e-15\n",
      "y dp: 1.3745882754335996e-13\n",
      "numerator 3.9; denominator 7.064177772475912; term 1.0940432594390942e-40\n",
      "numerator 3.6587704831436336; denominator 6.822948255619545; term 5.866750024992736e-41\n",
      "numerator 3.6587704831436336; denominator 6.822948255619545; term 3.146014159750725e-41\n",
      "numerator 2.964177772475912; denominator 6.128355544951823; term 1.521671707169348e-41\n",
      "numerator 1.9000000000000004; denominator 5.064177772475912; term 5.709073364950706e-42\n",
      "numerator 0.5945927106677216; denominator 3.7587704831436333; term 9.031073918160313e-43\n",
      "numerator -0.7945927106677213; denominator 2.3695850618081904; term -3.0283890713742335e-43\n",
      "numerator -2.099999999999999; denominator 1.0641777724759125; term 5.976085212802015e-43\n",
      "y dp: 1.981670788578653e-40\n",
      "-inf\n",
      "numerator 3.7587704831436337; denominator -0.2412295168563663; term -1.1782300475730536\n",
      "numerator 3.7587704831436337; denominator -0.2412295168563663; term 18.358849210842894\n",
      "numerator 3.064177772475912; denominator -0.935822227524088; term -60.112675276943826\n",
      "numerator 2.0000000000000004; denominator -1.9999999999999996; term 60.112675276943854\n",
      "numerator 0.6945927106677217; denominator -3.3054072893322783; term -12.631976156419626\n",
      "numerator -0.6945927106677212; denominator -4.694592710667721; term -1.8689754575811917\n",
      "numerator -1.9999999999999991; denominator -5.999999999999999; term -0.6229918191937304\n",
      "numerator -3.0641777724759116; denominator -7.064177772475912; term -0.27023069722928184\n",
      "y dp: 0.07561617991742652\n",
      "numerator 4.0; denominator 0.2412295168563663; term 1.5605705010757827\n",
      "numerator 3.7587704831436337; denominator 0.0; term inf\n",
      "numerator 3.064177772475912; denominator -0.6945927106677217; term -inf\n",
      "numerator 2.0000000000000004; denominator -1.7587704831436333; term inf\n",
      "numerator 0.6945927106677217; denominator -3.064177772475912; term -inf\n",
      "numerator -0.6945927106677212; denominator -4.453363193811355; term -inf\n",
      "numerator -1.9999999999999991; denominator -5.758770483143633; term -inf\n",
      "numerator -3.0641777724759116; denominator -6.822948255619545; term -inf\n",
      "y dp: 0.09411391699870213\n",
      "numerator 4.0; denominator 0.2412295168563663; term 1.5605705010757827\n",
      "numerator 3.7587704831436337; denominator 0.0; term inf\n",
      "numerator 3.064177772475912; denominator -0.6945927106677217; term -inf\n",
      "numerator 2.0000000000000004; denominator -1.7587704831436333; term inf\n",
      "numerator 0.6945927106677217; denominator -3.064177772475912; term -inf\n",
      "numerator -0.6945927106677212; denominator -4.453363193811355; term -inf\n",
      "numerator -1.9999999999999991; denominator -5.758770483143633; term -inf\n",
      "numerator -3.0641777724759116; denominator -6.822948255619545; term -inf\n",
      "y dp: 0.09411391699870213\n",
      "numerator 4.0; denominator 0.935822227524088; term 0.7255584355118365\n",
      "numerator 3.7587704831436337; denominator 0.6945927106677217; term 3.9263407019864376\n",
      "numerator 3.7587704831436337; denominator 0.6945927106677217; term 21.24729112576606\n",
      "numerator 2.0000000000000004; denominator -1.0641777724759116; term -39.931845365144596\n",
      "numerator 0.6945927106677217; denominator -2.3695850618081904; term 11.70515849427871\n",
      "numerator -0.6945927106677212; denominator -3.7587704831436333; term 2.1630258627913324\n",
      "numerator -1.9999999999999991; denominator -5.064177772475912; term 0.8542456287958521\n",
      "numerator -3.0641777724759116; denominator -6.128355544951823; term 0.42712281439792604\n",
      "y dp: 0.1697484278298948\n",
      "numerator 4.0; denominator 1.9999999999999996; term 0.6614085977808362\n",
      "numerator 3.7587704831436337; denominator 1.7587704831436333; term 1.4135347041942574\n",
      "numerator 3.7587704831436337; denominator 1.7587704831436333; term 3.0209470615675746\n",
      "numerator 3.064177772475912; denominator 1.0641777724759116; term 8.698470384647425\n",
      "numerator 0.6945927106677217; denominator -1.3054072893322788; term -4.628359418940896\n",
      "numerator -0.6945927106677212; denominator -2.6945927106677217; term -1.1930651716006462\n",
      "numerator -1.9999999999999991; denominator -3.9999999999999996; term -0.5965325858003229\n",
      "numerator -3.0641777724759116; denominator -5.064177772475912; term -0.36094346843461317\n",
      "y dp: 0.330704298890418\n",
      "numerator 4.0; denominator 3.3054072893322783; term 0.2889603733996\n",
      "numerator 3.7587704831436337; denominator 3.064177772475912; term 0.3544623722842822\n",
      "numerator 3.7587704831436337; denominator 3.064177772475912; term 0.43481246887665803\n",
      "numerator 3.064177772475912; denominator 2.3695850618081904; term 0.5622683582038375\n",
      "numerator 2.0000000000000004; denominator 1.3054072893322788; term 0.8614451026873616\n",
      "numerator -0.6945927106677212; denominator -1.3891854213354429; term 0.43072255134368065\n",
      "numerator -1.9999999999999991; denominator -2.6945927106677208; term 0.3196939928164114\n",
      "numerator -3.0641777724759116; denominator -3.7587704831436333; term 0.26061693076903103\n",
      "y dp: 0.2387829311408037\n",
      "numerator 4.0; denominator 4.694592710667721; term 0.000966461948573061\n",
      "numerator 3.7587704831436337; denominator 4.453363193811355; term 0.0008157225196512423\n",
      "numerator 3.7587704831436337; denominator 4.453363193811355; term 0.0006884939754209779\n",
      "numerator 3.064177772475912; denominator 3.7587704831436333; term 0.0005612654311907134\n",
      "numerator 2.0000000000000004; denominator 2.6945927106677217; term 0.00041658646887056383\n",
      "numerator 0.6945927106677217; denominator 1.3891854213354429; term 0.00020829323443528197\n",
      "numerator -1.9999999999999991; denominator -1.305407289332278; term 0.00031912374955685266\n",
      "numerator -3.0641777724759116; denominator -2.3695850618081904; term 0.0004126679880886383\n",
      "y dp: 0.0011342863047272035\n",
      "numerator 4.0; denominator 5.999999999999999; term 9.163921836223998e-14\n",
      "numerator 3.7587704831436337; denominator 5.758770483143633; term 5.981325181939024e-14\n",
      "numerator 3.7587704831436337; denominator 5.758770483143633; term 3.9040327461849605e-14\n",
      "numerator 3.064177772475912; denominator 5.064177772475912; term 2.3622098001566456e-14\n",
      "numerator 2.0000000000000004; denominator 3.9999999999999996; term 1.1811049000783233e-14\n",
      "numerator 0.6945927106677217; denominator 2.6945927106677208; term 3.0445671840514963e-15\n",
      "numerator -0.6945927106677212; denominator 1.305407289332278; term -1.6199803620385914e-15\n",
      "numerator -3.0641777724759116; denominator -1.0641777724759125; term -4.664547546090087e-15\n",
      "y dp: 1.3745882754335996e-13\n",
      "numerator 4.0; denominator 7.064177772475912; term 1.1220956507067634e-40\n",
      "numerator 3.7587704831436337; denominator 6.822948255619545; term 6.18163857195697e-41\n",
      "numerator 3.7587704831436337; denominator 6.822948255619545; term 3.405472199294024e-41\n",
      "numerator 3.064177772475912; denominator 6.128355544951823; term 1.7027360996470124e-41\n",
      "numerator 2.0000000000000004; denominator 5.064177772475912; term 6.724630043208508e-42\n",
      "numerator 0.6945927106677217; denominator 3.7587704831436333; term 1.242661405078217e-42\n",
      "numerator -0.6945927106677212; denominator 2.3695850618081904; term -3.64259366632227e-43\n",
      "numerator -1.9999999999999991; denominator 1.0641777724759125; term 6.845836777529044e-43\n",
      "y dp: 1.981670788578653e-40\n",
      "-inf\n",
      "numerator 3.858770483143634; denominator -0.2412295168563663; term -1.2095762032603157\n",
      "numerator 3.858770483143634; denominator -0.2412295168563663; term 19.348697502192387\n",
      "numerator 3.164177772475912; denominator -0.935822227524088; term -65.42131268325905\n",
      "numerator 2.1000000000000005; denominator -1.9999999999999996; term 68.69237831742203\n",
      "numerator 0.7945927106677217; denominator -3.3054072893322783; term -16.51308244693777\n",
      "numerator -0.5945927106677211; denominator -4.694592710667721; term -2.0914611892301473\n",
      "numerator -1.899999999999999; denominator -5.999999999999999; term -0.662296043256213\n",
      "numerator -2.9641777724759115; denominator -7.064177772475912; term -0.27790399299800544\n",
      "y dp: 0.07561617991742652\n",
      "numerator 4.1; denominator 0.2412295168563663; term 1.599584763602677\n",
      "numerator 3.858770483143634; denominator 0.0; term inf\n",
      "numerator 3.164177772475912; denominator -0.6945927106677217; term -inf\n",
      "numerator 2.1000000000000005; denominator -1.7587704831436333; term inf\n",
      "numerator 0.7945927106677217; denominator -3.064177772475912; term -inf\n",
      "numerator -0.5945927106677211; denominator -4.453363193811355; term -inf\n",
      "numerator -1.899999999999999; denominator -5.758770483143633; term -inf\n",
      "numerator -2.9641777724759115; denominator -6.822948255619545; term -inf\n",
      "y dp: 0.09411391699870213\n",
      "numerator 4.1; denominator 0.2412295168563663; term 1.599584763602677\n",
      "numerator 3.858770483143634; denominator 0.0; term inf\n",
      "numerator 3.164177772475912; denominator -0.6945927106677217; term -inf\n",
      "numerator 2.1000000000000005; denominator -1.7587704831436333; term inf\n",
      "numerator 0.7945927106677217; denominator -3.064177772475912; term -inf\n",
      "numerator -0.5945927106677211; denominator -4.453363193811355; term -inf\n",
      "numerator -1.899999999999999; denominator -5.758770483143633; term -inf\n",
      "numerator -2.9641777724759115; denominator -6.822948255619545; term -inf\n",
      "y dp: 0.09411391699870213\n",
      "numerator 4.1; denominator 0.935822227524088; term 0.7436973963996325\n",
      "numerator 3.858770483143634; denominator 0.6945927106677217; term 4.131568784905523\n",
      "numerator 3.858770483143634; denominator 0.6945927106677217; term 22.952696495972482\n",
      "numerator 2.1000000000000005; denominator -1.0641777724759116; term -45.29380700124826\n",
      "numerator 0.7945927106677217; denominator -2.3695850618081904; term 15.18836755922112\n",
      "numerator -0.5945927106677211; denominator -3.7587704831436333; term 2.4026188026521944\n",
      "numerator -1.899999999999999; denominator -5.064177772475912; term 0.9014248571308189\n",
      "numerator -2.9641777724759115; denominator -6.128355544951823; term 0.43600334632436094\n",
      "y dp: 0.1697484278298948\n",
      "numerator 4.1; denominator 1.9999999999999996; term 0.6779438127253571\n",
      "numerator 3.858770483143634; denominator 1.7587704831436333; term 1.4874195347528019\n",
      "numerator 3.858770483143634; denominator 1.7587704831436333; term 3.2634221757556143\n",
      "numerator 3.164177772475912; denominator 1.0641777724759116; term 9.703311023595573\n",
      "numerator 0.7945927106677217; denominator -1.3054072893322788; term -5.906340704313503\n",
      "numerator -0.5945927106677211; denominator -2.6945927106677217; term -1.3033016513410742\n",
      "numerator -1.899999999999999; denominator -3.9999999999999996; term -0.61906828438701\n",
      "numerator -2.9641777724759115; denominator -5.064177772475912; term -0.36235466657554033\n",
      "y dp: 0.330704298890418\n",
      "numerator 4.1; denominator 3.3054072893322783; term 0.29618438273458997\n",
      "numerator 3.858770483143634; denominator 3.064177772475912; term 0.3729899628965921\n",
      "numerator 3.858770483143634; denominator 3.064177772475912; term 0.4697125187261057\n",
      "numerator 3.164177772475912; denominator 2.3695850618081904; term 0.6272211684490803\n",
      "numerator 2.1000000000000005; denominator 1.3054072893322788; term 1.009006510463722\n",
      "numerator -0.5945927106677211; denominator -1.3891854213354429; term 0.4318702938598828\n",
      "numerator -1.899999999999999; denominator -2.6945927106677208; term 0.3045185846028818\n",
      "numerator -2.9641777724759115; denominator -3.7587704831436333; term 0.24014427692077703\n",
      "y dp: 0.2387829311408037\n",
      "numerator 4.1; denominator 4.694592710667721; term 0.0009906234972873874\n",
      "numerator 3.858770483143634; denominator 4.453363193811355; term 0.0008583599730992462\n",
      "numerator 3.858770483143634; denominator 4.453363193811355; term 0.0007437556704807222\n",
      "numerator 3.164177772475912; denominator 3.7587704831436333; term 0.0006261023840752797\n",
      "numerator 2.1000000000000005; denominator 2.6945927106677217; term 0.00048794572973971857\n",
      "numerator 0.7945927106677217; denominator 1.3891854213354429; term 0.0002790974581923728\n",
      "numerator -1.899999999999999; denominator -1.305407289332278; term 0.0004062220081801071\n",
      "numerator -2.9641777724759115; denominator -2.3695850618081904; term 0.0005081540505742226\n",
      "y dp: 0.0011342863047272035\n",
      "numerator 4.1; denominator 5.999999999999999; term 9.393019882129597e-14\n",
      "numerator 3.858770483143634; denominator 5.758770483143633; term 6.293966390019605e-14\n",
      "numerator 3.858770483143634; denominator 5.758770483143633; term 4.2173883815643616e-14\n",
      "numerator 3.164177772475912; denominator 5.064177772475912; term 2.6350904676712925e-14\n",
      "numerator 2.1000000000000005; denominator 3.9999999999999996; term 1.3834224955274292e-14\n",
      "numerator 0.7945927106677217; denominator 2.6945927106677208; term 4.079493818742826e-15\n",
      "numerator -0.5945927106677211; denominator 1.305407289332278; term -1.8581459653708806e-15\n",
      "numerator -2.9641777724759115; denominator -1.0641777724759125; term -5.175709464174914e-15\n",
      "y dp: 1.3745882754335996e-13\n",
      "numerator 4.1; denominator 7.064177772475912; term 1.1501480419744325e-40\n",
      "numerator 3.858770483143634; denominator 6.822948255619545; term 6.504750071878401e-41\n",
      "numerator 3.858770483143634; denominator 6.822948255619545; term 3.6788110707006404e-41\n",
      "numerator 3.164177772475912; denominator 6.128355544951823; term 1.8994348701974318e-41\n",
      "numerator 2.1000000000000005; denominator 5.064177772475912; term 7.876526865020478e-42\n",
      "numerator 0.7945927106677217; denominator 3.7587704831436333; term 1.6650739544728395e-42\n",
      "numerator -0.5945927106677211; denominator 2.3695850618081904; term -4.1781189964826326e-43\n",
      "numerator -1.899999999999999; denominator 1.0641777724759125; term 7.459680420544287e-43\n",
      "y dp: 1.981670788578653e-40\n",
      "-inf\n",
      "numerator 3.958770483143634; denominator -0.2412295168563663; term -1.2409223589475777\n",
      "numerator 3.958770483143634; denominator -0.2412295168563663; term 20.364534450399262\n",
      "numerator 3.264177772475912; denominator -0.935822227524088; term -71.03214557713869\n",
      "numerator 2.2; denominator -1.9999999999999996; term 78.13536013485259\n",
      "numerator 0.8945927106677216; denominator -3.3054072893322783; term -21.146962387245384\n",
      "numerator -0.49459271066772126; denominator -4.694592710667721; term -2.2279107249771233\n",
      "numerator -1.7999999999999992; denominator -5.999999999999999; term -0.6683732174931367\n",
      "numerator -2.8641777724759114; denominator -7.064177772475912; term -0.2709925733637217\n",
      "y dp: 0.07561617991742652\n",
      "numerator 4.2; denominator 0.2412295168563663; term 1.638599026129572\n",
      "numerator 3.958770483143634; denominator 0.0; term inf\n",
      "numerator 3.264177772475912; denominator -0.6945927106677217; term -inf\n",
      "numerator 2.2; denominator -1.7587704831436333; term inf\n",
      "numerator 0.8945927106677216; denominator -3.064177772475912; term -inf\n",
      "numerator -0.49459271066772126; denominator -4.453363193811355; term -inf\n",
      "numerator -1.7999999999999992; denominator -5.758770483143633; term -inf\n",
      "numerator -2.8641777724759114; denominator -6.822948255619545; term -inf\n",
      "y dp: 0.09411391699870213\n",
      "numerator 4.2; denominator 0.2412295168563663; term 1.638599026129572\n",
      "numerator 3.958770483143634; denominator 0.0; term inf\n",
      "numerator 3.264177772475912; denominator -0.6945927106677217; term -inf\n",
      "numerator 2.2; denominator -1.7587704831436333; term inf\n",
      "numerator 0.8945927106677216; denominator -3.064177772475912; term -inf\n",
      "numerator -0.49459271066772126; denominator -4.453363193811355; term -inf\n",
      "numerator -1.7999999999999992; denominator -5.758770483143633; term -inf\n",
      "numerator -2.8641777724759114; denominator -6.822948255619545; term -inf\n",
      "y dp: 0.09411391699870213\n",
      "numerator 4.2; denominator 0.935822227524088; term 0.7618363572874285\n",
      "numerator 3.958770483143634; denominator 0.6945927106677217; term 4.342019773452386\n",
      "numerator 3.958770483143634; denominator 0.6945927106677217; term 24.746962431905214\n",
      "numerator 2.2; denominator -1.0641777724759116; term -51.159983565080374\n",
      "numerator 0.8945927106677216; denominator -2.3695850618081904; term 19.314499028904685\n",
      "numerator -0.49459271066772126; denominator -3.7587704831436333; term 2.5414721310425903\n",
      "numerator -1.7999999999999992; denominator -5.064177772475912; term 0.9033351595080523\n",
      "numerator -2.8641777724759114; denominator -6.128355544951823; term 0.4221870722057274\n",
      "y dp: 0.1697484278298948\n",
      "numerator 4.2; denominator 1.9999999999999996; term 0.694479027669878\n",
      "numerator 3.958770483143634; denominator 1.7587704831436333; term 1.5631846805773797\n",
      "numerator 3.958770483143634; denominator 1.7587704831436333; term 3.5185315153294296\n",
      "numerator 3.264177772475912; denominator 1.0641777724759116; term 10.79247533743643\n",
      "numerator 0.8945927106677216; denominator -1.3054072893322788; term -7.3960593339955185\n",
      "numerator -0.49459271066772126; denominator -2.6945927106677217; term -1.357547290831081\n",
      "numerator -1.7999999999999992; denominator -3.9999999999999996; term -0.6108962808739863\n",
      "numerator -2.8641777724759114; denominator -5.064177772475912; term -0.34550831893723677\n",
      "y dp: 0.330704298890418\n",
      "numerator 4.2; denominator 3.3054072893322783; term 0.30340839206958004\n",
      "numerator 3.958770483143634; denominator 3.064177772475912; term 0.39198906723110716\n",
      "numerator 3.958770483143634; denominator 3.064177772475912; term 0.5064310442457239\n",
      "numerator 3.264177772475912; denominator 2.3695850618081904; term 0.6976246535995712\n",
      "numerator 2.2; denominator 1.3054072893322788; term 1.1757052764000575\n",
      "numerator -0.49459271066772126; denominator -1.3891854213354429; term 0.4185872171348067\n",
      "numerator -1.7999999999999992; denominator -2.6945927106677208; term 0.27961813592821044\n",
      "numerator -2.8641777724759114; denominator -3.7587704831436333; term 0.21306862265155355\n",
      "y dp: 0.2387829311408037\n",
      "numerator 4.2; denominator 4.694592710667721; term 0.001014785046001714\n",
      "numerator 3.958770483143634; denominator 4.453363193811355; term 0.0009020825187646515\n",
      "numerator 3.958770483143634; denominator 4.453363193811355; term 0.0008018967897359057\n",
      "numerator 3.264177772475912; denominator 3.7587704831436333; term 0.0006963802894095754\n",
      "numerator 2.2; denominator 2.6945927106677217; term 0.0005685596307879222\n",
      "numerator 0.8945927106677216; denominator 1.3891854213354429; term 0.00036613492588617437\n",
      "numerator -1.7999999999999992; denominator -1.305407289332278; term 0.0005048561257323889\n",
      "numerator -2.8641777724759114; denominator -2.3695850618081904; term 0.0006102324482572472\n",
      "y dp: 0.0011342863047272035\n",
      "numerator 4.2; denominator 5.999999999999999; term 9.6221179280352e-14\n",
      "numerator 3.958770483143634; denominator 5.758770483143633; term 6.6145640897359e-14\n",
      "numerator 3.958770483143634; denominator 5.758770483143633; term 4.5470714892971383e-14\n",
      "numerator 3.264177772475912; denominator 5.064177772475912; term 2.9308705878952755e-14\n",
      "numerator 2.2; denominator 3.9999999999999996; term 1.611978823342402e-14\n",
      "numerator 0.8945927106677216; denominator 2.6945927106677208; term 5.351697491809439e-15\n",
      "numerator -0.49459271066772126; denominator 1.305407289332278; term -2.0276511329284693e-15\n",
      "numerator -2.8641777724759114; denominator -1.0641777724759125; term -5.457314985782392e-15\n",
      "y dp: 1.3745882754335996e-13\n",
      "numerator 4.2; denominator 7.064177772475912; term 1.1782004332421018e-40\n",
      "numerator 3.958770483143634; denominator 6.822948255619545; term 6.836084524757029e-41\n",
      "numerator 3.958770483143634; denominator 6.822948255619545; term 3.9663923311442066e-41\n",
      "numerator 3.264177772475912; denominator 6.128355544951823; term 2.1126401021077858e-41\n",
      "numerator 2.2; denominator 5.064177772475912; term 9.177814116041158e-42\n",
      "numerator 0.8945927106677216; denominator 3.7587704831436333; term 2.1843327877809122e-42\n",
      "numerator -0.49459271066772126; denominator 2.3695850618081904; term -4.559258462258118e-43\n",
      "numerator -1.7999999999999992; denominator 1.0641777724759125; term 7.711742759831384e-43\n",
      "y dp: 1.981670788578653e-40\n",
      "-inf\n",
      "numerator 4.0587704831436335; denominator -0.2412295168563663; term -1.2722685146348398\n",
      "numerator 4.0587704831436335; denominator -0.2412295168563663; term 21.406360055463516\n",
      "numerator 3.3641777724759123; denominator -0.935822227524088; term -76.95350523863566\n",
      "numerator 2.3000000000000007; denominator -1.9999999999999996; term 88.49653102443105\n",
      "numerator 0.9945927106677217; denominator -3.3054072893322783; term -26.628489917216655\n",
      "numerator -0.39459271066772117; denominator -4.694592710667721; term -2.238193740118536\n",
      "numerator -1.699999999999999; denominator -5.999999999999999; term -0.634154893033585\n",
      "numerator -2.764177772475912; denominator -7.064177772475912; term -0.2481416685831645\n",
      "y dp: 0.07561617991742652\n",
      "numerator 4.3; denominator 0.2412295168563663; term 1.6776132886564665\n",
      "numerator 4.0587704831436335; denominator 0.0; term inf\n",
      "numerator 3.3641777724759123; denominator -0.6945927106677217; term -inf\n",
      "numerator 2.3000000000000007; denominator -1.7587704831436333; term inf\n",
      "numerator 0.9945927106677217; denominator -3.064177772475912; term -inf\n",
      "numerator -0.39459271066772117; denominator -4.453363193811355; term -inf\n",
      "numerator -1.699999999999999; denominator -5.758770483143633; term -inf\n",
      "numerator -2.764177772475912; denominator -6.822948255619545; term -inf\n",
      "y dp: 0.09411391699870213\n",
      "numerator 4.3; denominator 0.2412295168563663; term 1.6776132886564665\n",
      "numerator 4.0587704831436335; denominator 0.0; term inf\n",
      "numerator 3.3641777724759123; denominator -0.6945927106677217; term -inf\n",
      "numerator 2.3000000000000007; denominator -1.7587704831436333; term inf\n",
      "numerator 0.9945927106677217; denominator -3.064177772475912; term -inf\n",
      "numerator -0.39459271066772117; denominator -4.453363193811355; term -inf\n",
      "numerator -1.699999999999999; denominator -5.758770483143633; term -inf\n",
      "numerator -2.764177772475912; denominator -6.822948255619545; term -inf\n",
      "y dp: 0.09411391699870213\n",
      "numerator 4.3; denominator 0.935822227524088; term 0.7799753181752243\n",
      "numerator 4.0587704831436335; denominator 0.6945927106677217; term 4.557693667627023\n",
      "numerator 4.0587704831436335; denominator 0.6945927106677217; term 26.632344747171647\n",
      "numerator 2.3000000000000007; denominator -1.0641777724759116; term -57.5603010162302\n",
      "numerator 0.9945927106677217; denominator -2.3695850618081904; term 24.159949662620097\n",
      "numerator -0.39459271066772117; denominator -3.7587704831436333; term 2.53629213853882\n",
      "numerator -1.699999999999999; denominator -5.064177772475912; term 0.8514109948806109\n",
      "numerator -2.764177772475912; denominator -6.128355544951823; term 0.3840265679802506\n",
      "y dp: 0.1697484278298948\n",
      "numerator 4.3; denominator 1.9999999999999996; term 0.7110142426143988\n",
      "numerator 4.0587704831436335; denominator 1.7587704831436333; term 1.6408301416679907\n",
      "numerator 4.0587704831436335; denominator 1.7587704831436333; term 3.786595812633129\n",
      "numerator 3.3641777724759123; denominator 1.0641777724759116; term 11.97053894160253\n",
      "numerator 0.9945927106677217; denominator -1.3054072893322788; term -9.120380184311559\n",
      "numerator -0.39459271066772117; denominator -2.6945927106677217; term -1.3355768109221502\n",
      "numerator -1.699999999999999; denominator -3.9999999999999996; term -0.5676201446419136\n",
      "numerator -2.764177772475912; denominator -5.064177772475912; term -0.309823836666311\n",
      "y dp: 0.330704298890418\n",
      "numerator 4.3; denominator 3.3054072893322783; term 0.31063240140457\n",
      "numerator 4.0587704831436335; denominator 3.064177772475912; term 0.41145968528782706\n",
      "numerator 4.0587704831436335; denominator 3.064177772475912; term 0.5450142092442614\n",
      "numerator 3.3641777724759123; denominator 2.3695850618081904; term 0.7737745810331654\n",
      "numerator 2.3000000000000007; denominator 1.3054072893322788; term 1.3633151514624953\n",
      "numerator -0.39459271066772117; denominator -1.3891854213354429; term 0.3872443612263208\n",
      "numerator -1.699999999999999; denominator -2.6945927106677208; term 0.24430980291697374\n",
      "numerator -2.764177772475912; denominator -3.7587704831436333; term 0.17966399647159936\n",
      "y dp: 0.2387829311408037\n",
      "numerator 4.3; denominator 4.694592710667721; term 0.0010389465947160405\n",
      "numerator 4.0587704831436335; denominator 4.453363193811355; term 0.0009468901566474577\n",
      "numerator 4.0587704831436335; denominator 4.453363193811355; term 0.0008629904302260131\n",
      "numerator 3.3641777724759123; denominator 3.7587704831436333; term 0.0007723943870064803\n",
      "numerator 2.3000000000000007; denominator 2.6945927106677217; term 0.0006592859407218858\n",
      "numerator 0.9945927106677217; denominator 1.3891854213354429; term 0.0004720183359377223\n",
      "numerator -1.699999999999999; denominator -1.305407289332278; term 0.0006146979396021106\n",
      "numerator -2.764177772475912; denominator -2.3695850618081904; term 0.0007170598805760169\n",
      "y dp: 0.0011342863047272035\n",
      "numerator 4.3; denominator 5.999999999999999; term 9.8512159739408e-14\n",
      "numerator 4.0587704831436335; denominator 5.758770483143633; term 6.943118281087904e-14\n",
      "numerator 4.0587704831436335; denominator 5.758770483143633; term 4.893496558465235e-14\n",
      "numerator 3.3641777724759123; denominator 5.064177772475912; term 3.2507927429307924e-14\n",
      "numerator 2.3000000000000007; denominator 3.9999999999999996; term 1.8692058271852066e-14\n",
      "numerator 0.9945927106677217; denominator 2.6945927106677208; term 6.8993673258893015e-15\n",
      "numerator -0.39459271066772117; denominator 1.305407289332278; term -2.0855100758687408e-15\n",
      "numerator -2.764177772475912; denominator -1.0641777724759125; term -5.417065404945215e-15\n",
      "y dp: 1.3745882754335996e-13\n",
      "numerator 4.3; denominator 7.064177772475912; term 1.2062528245097705e-40\n",
      "numerator 4.0587704831436335; denominator 6.822948255619545; term 7.175641930592848e-41\n",
      "numerator 4.0587704831436335; denominator 6.822948255619545; term 4.2685775377983535e-41\n",
      "numerator 3.3641777724759123; denominator 6.128355544951823; term 2.3432474776337524e-41\n",
      "numerator 2.3000000000000007; denominator 5.064177772475912; term 1.064233808664794e-41\n",
      "numerator 0.9945927106677217; denominator 3.7587704831436333; term 2.8160250626925643e-42\n",
      "numerator -0.39459271066772117; denominator 2.3695850618081904; term -4.689356717788276e-43\n",
      "numerator -1.699999999999999; denominator 1.0641777724759125; term 7.491141636695393e-43\n",
      "y dp: 1.981670788578653e-40\n",
      "-inf\n",
      "numerator 4.158770483143634; denominator -0.2412295168563663; term -1.3036146703221019\n",
      "numerator 4.158770483143634; denominator -0.2412295168563663; term 22.47417431738516\n",
      "numerator 3.464177772475912; denominator -0.935822227524088; term -83.19372294780283\n",
      "numerator 2.4000000000000004; denominator -1.9999999999999996; term 99.83246753736343\n",
      "numerator 1.0945927106677216; denominator -3.3054072893322783; term -33.059735666174035\n",
      "numerator -0.2945927106677213; denominator -4.694592710667721; term -2.07454783494335\n",
      "numerator -1.5999999999999992; denominator -5.999999999999999; term -0.5532127559848931\n",
      "numerator -2.6641777724759117; denominator -7.064177772475912; term -0.20863817069945037\n",
      "y dp: 0.07561617991742652\n",
      "numerator 4.4; denominator 0.2412295168563663; term 1.7166275511833613\n",
      "numerator 4.158770483143634; denominator 0.0; term inf\n",
      "numerator 3.464177772475912; denominator -0.6945927106677217; term -inf\n",
      "numerator 2.4000000000000004; denominator -1.7587704831436333; term inf\n",
      "numerator 1.0945927106677216; denominator -3.064177772475912; term -inf\n",
      "numerator -0.2945927106677213; denominator -4.453363193811355; term -inf\n",
      "numerator -1.5999999999999992; denominator -5.758770483143633; term -inf\n",
      "numerator -2.6641777724759117; denominator -6.822948255619545; term -inf\n",
      "y dp: 0.09411391699870213\n",
      "numerator 4.4; denominator 0.2412295168563663; term 1.7166275511833613\n",
      "numerator 4.158770483143634; denominator 0.0; term inf\n",
      "numerator 3.464177772475912; denominator -0.6945927106677217; term -inf\n",
      "numerator 2.4000000000000004; denominator -1.7587704831436333; term inf\n",
      "numerator 1.0945927106677216; denominator -3.064177772475912; term -inf\n",
      "numerator -0.2945927106677213; denominator -4.453363193811355; term -inf\n",
      "numerator -1.5999999999999992; denominator -5.758770483143633; term -inf\n",
      "numerator -2.6641777724759117; denominator -6.822948255619545; term -inf\n",
      "y dp: 0.09411391699870213\n",
      "numerator 4.4; denominator 0.935822227524088; term 0.7981142790630202\n",
      "numerator 4.158770483143634; denominator 0.6945927106677217; term 4.7785904674294395\n",
      "numerator 4.158770483143634; denominator 0.6945927106677217; term 28.61109925537923\n",
      "numerator 2.4000000000000004; denominator -1.0641777724759116; term -64.52553322284739\n",
      "numerator 1.0945927106677216; denominator -2.3695850618081904; term 29.806559577051313\n",
      "numerator -0.2945927106677213; denominator -3.7587704831436333; term 2.3360817641993106\n",
      "numerator -1.5999999999999992; denominator -5.064177772475912; term 0.7380725935478945\n",
      "numerator -2.6641777724759117; denominator -6.128355544951823; term 0.32086202959025717\n",
      "y dp: 0.1697484278298948\n",
      "numerator 4.4; denominator 1.9999999999999996; term 0.7275494575589199\n",
      "numerator 4.158770483143634; denominator 1.7587704831436333; term 1.7203559180246362\n",
      "numerator 4.158770483143634; denominator 1.7587704831436333; term 4.0679358000108286\n",
      "numerator 3.464177772475912; denominator 1.0641777724759116; term 13.242198007453226\n",
      "numerator 1.0945927106677216; denominator -1.3054072893322788; term -11.103671268444566\n",
      "numerator -0.2945927106677213; denominator -2.6945927106677217; term -1.2139350798302313\n",
      "numerator -1.5999999999999992; denominator -3.9999999999999996; term -0.48557403193209236\n",
      "numerator -2.6641777724759117; denominator -5.064177772475912; term -0.2554522374384405\n",
      "y dp: 0.330704298890418\n",
      "numerator 4.4; denominator 3.3054072893322783; term 0.31785641073956\n",
      "numerator 4.158770483143634; denominator 3.064177772475912; term 0.4314018170667521\n",
      "numerator 4.158770483143634; denominator 3.064177772475912; term 0.5855081775304674\n",
      "numerator 3.464177772475912; denominator 2.3695850618081904; term 0.8559745108521912\n",
      "numerator 2.4000000000000004; denominator 1.3054072893322788; term 1.5737148419755356\n",
      "numerator -0.2945927106677213; denominator -1.3891854213354429; term 0.3337242919450795\n",
      "numerator -1.5999999999999992; denominator -2.6945927106677208; term 0.1981593971505296\n",
      "numerator -2.6641777724759117; denominator -3.7587704831436333; term 0.14045333804317142\n",
      "y dp: 0.2387829311408037\n",
      "numerator 4.4; denominator 4.694592710667721; term 0.001063108143430367\n",
      "numerator 4.158770483143634; denominator 4.453363193811355; term 0.0009927828867476653\n",
      "numerator 4.158770483143634; denominator 4.453363193811355; term 0.0009271096889905303\n",
      "numerator 3.464177772475912; denominator 3.7587704831436333; term 0.0008544476955033393\n",
      "numerator 2.4000000000000004; denominator 2.6945927106677217; term 0.0007610331836383007\n",
      "numerator 1.0945927106677216; denominator 1.3891854213354429; term 0.0005996473635506041\n",
      "numerator -1.5999999999999992; denominator -1.305407289332278; term 0.0007349704490862175\n",
      "numerator -2.6641777724759117; denominator -2.3695850618081904; term 0.0008263438040025254\n",
      "y dp: 0.0011342863047272035\n",
      "numerator 4.4; denominator 5.999999999999999; term 1.00803140198464e-13\n",
      "numerator 4.158770483143634; denominator 5.758770483143633; term 7.279628964075623e-14\n",
      "numerator 4.158770483143634; denominator 5.758770483143633; term 5.2570780781506067e-14\n",
      "numerator 3.464177772475912; denominator 5.064177772475912; term 3.5961322537846085e-14\n",
      "numerator 2.4000000000000004; denominator 3.9999999999999996; term 2.157679352270766e-14\n",
      "numerator 1.0945927106677216; denominator 2.6945927106677208; term 8.764887107441857e-15\n",
      "numerator -0.2945927106677213; denominator 1.305407289332278; term -1.9779817937117557e-15\n",
      "numerator -2.6641777724759117; denominator -1.0641777724759125; term -4.951893626671452e-15\n",
      "y dp: 1.3745882754335996e-13\n",
      "numerator 4.4; denominator 7.064177772475912; term 1.2343052157774398e-40\n",
      "numerator 4.158770483143634; denominator 6.822948255619545; term 7.523422289385867e-41\n",
      "numerator 4.158770483143634; denominator 6.822948255619545; term 4.5857282478367234e-41\n",
      "numerator 3.464177772475912; denominator 6.128355544951823; term 2.592176277999512e-41\n",
      "numerator 2.4000000000000004; denominator 5.064177772475912; term 1.2284764371842403e-41\n",
      "numerator 1.0945927106677216; denominator 3.7587704831436333; term 3.577450018295087e-42\n",
      "numerator -0.2945927106677213; denominator 2.3695850618081904; term -4.4475748735672425e-43\n",
      "numerator -1.5999999999999992; denominator 1.0641777724759125; term 6.686965262534325e-43\n",
      "y dp: 1.981670788578653e-40\n",
      "-inf\n",
      "numerator 4.258770483143634; denominator -0.2412295168563663; term -1.3349608260093637\n",
      "numerator 4.258770483143634; denominator -0.2412295168563663; term 23.567977236164175\n",
      "numerator 3.564177772475912; denominator -0.935822227524088; term -89.76112998469303\n",
      "numerator 2.5000000000000004; denominator -1.9999999999999996; term 112.20141248086632\n",
      "numerator 1.1945927106677217; denominator -3.3054072893322783; term -40.55021900291794\n",
      "numerator -0.1945927106677212; denominator -4.694592710667721; term -1.6808224952117776\n",
      "numerator -1.4999999999999991; denominator -5.999999999999999; term -0.42020562380294424\n",
      "numerator -2.5641777724759116; denominator -7.064177772475912; term -0.1525275771828771\n",
      "y dp: 0.07561617991742652\n",
      "numerator 4.5; denominator 0.2412295168563663; term 1.7556418137102556\n",
      "numerator 4.258770483143634; denominator 0.0; term inf\n",
      "numerator 3.564177772475912; denominator -0.6945927106677217; term -inf\n",
      "numerator 2.5000000000000004; denominator -1.7587704831436333; term inf\n",
      "numerator 1.1945927106677217; denominator -3.064177772475912; term -inf\n",
      "numerator -0.1945927106677212; denominator -4.453363193811355; term -inf\n",
      "numerator -1.4999999999999991; denominator -5.758770483143633; term -inf\n",
      "numerator -2.5641777724759116; denominator -6.822948255619545; term -inf\n",
      "y dp: 0.09411391699870213\n",
      "numerator 4.5; denominator 0.2412295168563663; term 1.7556418137102556\n",
      "numerator 4.258770483143634; denominator 0.0; term inf\n",
      "numerator 3.564177772475912; denominator -0.6945927106677217; term -inf\n",
      "numerator 2.5000000000000004; denominator -1.7587704831436333; term inf\n",
      "numerator 1.1945927106677217; denominator -3.064177772475912; term -inf\n",
      "numerator -0.1945927106677212; denominator -4.453363193811355; term -inf\n",
      "numerator -1.4999999999999991; denominator -5.758770483143633; term -inf\n",
      "numerator -2.5641777724759116; denominator -6.822948255619545; term -inf\n",
      "y dp: 0.09411391699870213\n",
      "numerator 4.5; denominator 0.935822227524088; term 0.8162532399508161\n",
      "numerator 4.258770483143634; denominator 0.6945927106677217; term 5.004710172859632\n",
      "numerator 4.258770483143634; denominator 0.6945927106677217; term 30.685481770135354\n",
      "numerator 2.5000000000000004; denominator -1.0641777724759116; term -72.08730196164181\n",
      "numerator 1.1945927106677217; denominator -2.3695850618081904; term 36.34179116126238\n",
      "numerator -0.1945927106677212; denominator -3.7587704831436333; term 1.8814257705556328\n",
      "numerator -1.4999999999999991; denominator -5.064177772475912; term 0.5572748001011987\n",
      "numerator -2.5641777724759116; denominator -6.128355544951823; term 0.2331704884122685\n",
      "y dp: 0.1697484278298948\n",
      "numerator 4.5; denominator 1.9999999999999996; term 0.7440846725034407\n",
      "numerator 4.258770483143634; denominator 1.7587704831436333; term 1.8017620096473141\n",
      "numerator 4.258770483143634; denominator 1.7587704831436333; term 4.362872209806629\n",
      "numerator 3.564177772475912; denominator 1.0641777724759116; term 14.612269262274634\n",
      "numerator 1.1945927106677217; denominator -1.3054072893322788; term -13.371849912034698\n",
      "numerator -0.1945927106677212; denominator -2.6945927106677217; term -0.965661530487837\n",
      "numerator -1.4999999999999991; denominator -3.9999999999999996; term -0.3621230739329387\n",
      "numerator -2.5641777724759116; denominator -5.064177772475912; term -0.1833561100730315\n",
      "y dp: 0.330704298890418\n",
      "numerator 4.5; denominator 3.3054072893322783; term 0.32508042007454996\n",
      "numerator 4.258770483143634; denominator 3.064177772475912; term 0.451815462567882\n",
      "numerator 4.258770483143634; denominator 3.064177772475912; term 0.6279591129130905\n",
      "numerator 3.564177772475912; denominator 2.3695850618081904; term 0.944535795883448\n",
      "numerator 2.5000000000000004; denominator 1.3054072893322788; term 1.8088909944086917\n",
      "numerator -0.1945927106677212; denominator -1.3891854213354429; term 0.2533837430902763\n",
      "numerator -1.4999999999999991; denominator -2.6945927106677208; term 0.14105122942354853\n",
      "numerator -2.5641777724759116; denominator -3.7587704831436333; term 0.09622306785961919\n",
      "y dp: 0.2387829311408037\n",
      "numerator 4.5; denominator 4.694592710667721; term 0.0010872696921446936\n",
      "numerator 4.258770483143634; denominator 4.453363193811355; term 0.0010397607090652738\n",
      "numerator 4.258770483143634; denominator 4.453363193811355; term 0.0009943276630689417\n",
      "numerator 3.564177772475912; denominator 3.7587704831436333; term 0.0009428510123619631\n",
      "numerator 2.5000000000000004; denominator 2.6945927106677217; term 0.0008747620824376129\n",
      "numerator 1.1945927106677217; denominator 1.3891854213354429; term 0.000752228169975993\n",
      "numerator -1.4999999999999991; denominator -1.305407289332278; term 0.0008643603143515013\n",
      "numerator -2.5641777724759116; denominator -2.3695850618081904; term 0.0009353424534923148\n",
      "y dp: 0.0011342863047272035\n",
      "numerator 4.5; denominator 5.999999999999999; term 1.0309412065751999e-13\n",
      "numerator 4.258770483143634; denominator 5.758770483143633; term 7.624096138699052e-14\n",
      "numerator 4.258770483143634; denominator 5.758770483143633; term 5.6382305374351964e-14\n",
      "numerator 3.564177772475912; denominator 5.064177772475912; term 3.968197180368046e-14\n",
      "numerator 2.5000000000000004; denominator 3.9999999999999996; term 2.4801232377300295e-14\n",
      "numerator 1.1945927106677217; denominator 2.6945927106677208; term 1.0995120448521348e-14\n",
      "numerator -0.1945927106677212; denominator 1.305407289332278; term -1.6390059329990874e-15\n",
      "numerator -2.5641777724759116; denominator -1.0641777724759125; term -3.949248603994433e-15\n",
      "y dp: 1.3745882754335996e-13\n",
      "numerator 4.5; denominator 7.064177772475912; term 1.262357607045109e-40\n",
      "numerator 4.258770483143634; denominator 6.822948255619545; term 7.879425601136079e-41\n",
      "numerator 4.258770483143634; denominator 6.822948255619545; term 4.918206018432946e-41\n",
      "numerator 3.564177772475912; denominator 6.128355544951823; term 2.860369383397739e-41\n",
      "numerator 2.5000000000000004; denominator 5.064177772475912; term 1.4120601171151644e-41\n",
      "numerator 1.1945927106677217; denominator 3.7587704831436333; term 4.487735365846561e-42\n",
      "numerator -0.1945927106677212; denominator 2.3695850618081904; term -3.685373459153621e-43\n",
      "numerator -1.4999999999999991; denominator 1.0641777724759125; term 5.194677366610338e-43\n",
      "y dp: 1.981670788578653e-40\n",
      "-inf\n",
      "numerator 4.358770483143633; denominator -0.2412295168563663; term -1.3663069816966256\n",
      "numerator 4.358770483143633; denominator -0.2412295168563663; term 24.687768811800574\n",
      "numerator 3.664177772475912; denominator -0.935822227524088; term -96.66405762935918\n",
      "numerator 2.6000000000000005; denominator -1.9999999999999996; term 125.66327491816698\n",
      "numerator 1.2945927106677217; denominator -3.3054072893322783; term -49.21716008575642\n",
      "numerator -0.09459271066772112; denominator -4.694592710667721; term -0.9916908389730569\n",
      "numerator -1.399999999999999; denominator -5.999999999999999; term -0.23139452909371314\n",
      "numerator -2.4641777724759115; denominator -7.064177772475912; term -0.08071671943009598\n",
      "y dp: 0.07561617991742652\n",
      "numerator 4.6; denominator 0.2412295168563663; term 1.7946560762371502\n",
      "numerator 4.358770483143633; denominator 0.0; term inf\n",
      "numerator 3.664177772475912; denominator -0.6945927106677217; term -inf\n",
      "numerator 2.6000000000000005; denominator -1.7587704831436333; term inf\n",
      "numerator 1.2945927106677217; denominator -3.064177772475912; term -inf\n",
      "numerator -0.09459271066772112; denominator -4.453363193811355; term -inf\n",
      "numerator -1.399999999999999; denominator -5.758770483143633; term -inf\n",
      "numerator -2.4641777724759115; denominator -6.822948255619545; term -inf\n",
      "y dp: 0.09411391699870213\n",
      "numerator 4.6; denominator 0.2412295168563663; term 1.7946560762371502\n",
      "numerator 4.358770483143633; denominator 0.0; term inf\n",
      "numerator 3.664177772475912; denominator -0.6945927106677217; term -inf\n",
      "numerator 2.6000000000000005; denominator -1.7587704831436333; term inf\n",
      "numerator 1.2945927106677217; denominator -3.064177772475912; term -inf\n",
      "numerator -0.09459271066772112; denominator -4.453363193811355; term -inf\n",
      "numerator -1.399999999999999; denominator -5.758770483143633; term -inf\n",
      "numerator -2.4641777724759115; denominator -6.822948255619545; term -inf\n",
      "y dp: 0.09411391699870213\n",
      "numerator 4.6; denominator 0.935822227524088; term 0.834392200838612\n",
      "numerator 4.358770483143633; denominator 0.6945927106677217; term 5.236052783917601\n",
      "numerator 4.358770483143633; denominator 0.6945927106677217; term 32.85774810504743\n",
      "numerator 2.6000000000000005; denominator -1.0641777724759116; term -80.27807691788365\n",
      "numerator 1.2945927106677217; denominator -2.3695850618081904; term 43.85890799168425\n",
      "numerator -0.09459271066772112; denominator -3.7587704831436333; term 1.1037473590007052\n",
      "numerator -1.399999999999999; denominator -5.064177772475912; term 0.30513271295480304\n",
      "numerator -2.4641777724759115; denominator -6.128355544951823; term 0.1226921713995315\n",
      "y dp: 0.1697484278298948\n",
      "numerator 4.6; denominator 1.9999999999999996; term 0.7606198874479615\n",
      "numerator 4.358770483143633; denominator 1.7587704831436333; term 1.8850484165360257\n",
      "numerator 4.358770483143633; denominator 1.7587704831436333; term 4.6717257743646465\n",
      "numerator 3.664177772475912; denominator 1.0641777724759116; term 16.085689989279714\n",
      "numerator 1.2945927106677217; denominator -1.3054072893322788; term -15.952428928778264\n",
      "numerator -0.09459271066772112; denominator -2.6945927106677217; term -0.5600042960605278\n",
      "numerator -1.399999999999999; denominator -3.9999999999999996; term -0.19600150362118463\n",
      "numerator -2.4641777724759115; denominator -5.064177772475912; term -0.09537235268876561\n",
      "y dp: 0.330704298890418\n",
      "numerator 4.6; denominator 3.3054072893322783; term 0.33230442940954\n",
      "numerator 4.358770483143633; denominator 3.064177772475912; term 0.47270062179121713\n",
      "numerator 4.358770483143633; denominator 3.064177772475912; term 0.6724131792008803\n",
      "numerator 3.664177772475912; denominator 2.3695850618081904; term 1.0397775816782082\n",
      "numerator 2.6000000000000005; denominator 1.3054072893322788; term 2.07094118016313\n",
      "numerator -0.09459271066772112; denominator -1.3891854213354429; term 0.141014969532809\n",
      "numerator -1.399999999999999; denominator -2.6945927106677208; term 0.07326560209428144\n",
      "numerator -2.4641777724759115; denominator -3.7587704831436333; term 0.04803152226969694\n",
      "y dp: 0.2387829311408037\n",
      "numerator 4.6; denominator 4.694592710667721; term 0.00111143124085902\n",
      "numerator 4.358770483143633; denominator 4.453363193811355; term 0.0010878236236002833\n",
      "numerator 4.358770483143633; denominator 4.453363193811355; term 0.0010647174495007333\n",
      "numerator 3.664177772475912; denominator 3.7587704831436333; term 0.0010379229138686283\n",
      "numerator 2.6000000000000005; denominator 2.6945927106677217; term 0.0010014870022377962\n",
      "numerator 1.2945927106677217; denominator 1.3891854213354429; term 0.000933293535199325\n",
      "numerator -1.399999999999999; denominator -1.305407289332278; term 0.0010009220570136328\n",
      "numerator -2.4641777724759115; denominator -2.3695850618081904; term 0.0010408783903253318\n",
      "y dp: 0.0011342863047272035\n",
      "numerator 4.6; denominator 5.999999999999999; term 1.0538510111657598e-13\n",
      "numerator 4.358770483143633; denominator 5.758770483143633; term 7.976519804958194e-14\n",
      "numerator 4.358770483143633; denominator 5.758770483143633; term 6.037368425400958e-14\n",
      "numerator 3.664177772475912; denominator 5.064177772475912; term 4.368328321496995e-14\n",
      "numerator 2.6000000000000005; denominator 3.9999999999999996; term 2.8394134089730476e-14\n",
      "numerator 1.2945927106677217; denominator 2.6945927106677208; term 1.3641705060939652e-14\n",
      "numerator -0.09459271066772112; denominator 1.305407289332278; term -9.885082383015496e-16\n",
      "numerator -2.4641777724759115; denominator -1.0641777724759125; term -2.2889596942668103e-15\n",
      "y dp: 1.3745882754335996e-13\n",
      "numerator 4.6; denominator 7.064177772475912; term 1.2904099983127779e-40\n",
      "numerator 4.358770483143633; denominator 6.822948255619545; term 8.243651865843485e-41\n",
      "numerator 4.358770483143633; denominator 6.822948255619545; term 5.266372406760655e-41\n",
      "numerator 3.664177772475912; denominator 6.128355544951823; term 3.148793272989608e-41\n",
      "numerator 2.6000000000000005; denominator 5.064177772475912; term 1.6166222588529646e-41\n",
      "numerator 1.2945927106677217; denominator 3.7587704831436333; term 5.5679573988350396e-42\n",
      "numerator -0.09459271066772112; denominator 2.3695850618081904; term -2.2227021588171776e-43\n",
      "numerator -1.399999999999999; denominator 1.0641777724759125; term 2.9241195435835706e-43\n",
      "y dp: 1.981670788578653e-40\n",
      "-inf\n",
      "numerator 4.458770483143634; denominator -0.2412295168563663; term -1.3976531373838879\n",
      "numerator 4.458770483143634; denominator -0.2412295168563663; term 25.83354904429437\n",
      "numerator 3.7641777724759122; denominator -0.935822227524088; term -103.91083716185425\n",
      "numerator 2.7000000000000006; denominator -1.9999999999999996; term 140.27963016850327\n",
      "numerator 1.3945927106677218; denominator -3.3054072893322783; term -59.185731912534784\n",
      "numerator 0.005407289332278964; denominator -4.694592710667721; term 0.06817085027771298\n",
      "numerator -1.299999999999999; denominator -5.999999999999999; term 0.014770350893504468\n",
      "numerator -2.3641777724759114; denominator -7.064177772475912; term 0.004943212982287962\n",
      "y dp: 0.07561617991742652\n",
      "numerator 4.7; denominator 0.2412295168563663; term 1.8336703387640447\n",
      "numerator 4.458770483143634; denominator 0.0; term inf\n",
      "numerator 3.7641777724759122; denominator -0.6945927106677217; term -inf\n",
      "numerator 2.7000000000000006; denominator -1.7587704831436333; term inf\n",
      "numerator 1.3945927106677218; denominator -3.064177772475912; term -inf\n",
      "numerator 0.005407289332278964; denominator -4.453363193811355; term inf\n",
      "numerator -1.299999999999999; denominator -5.758770483143633; term inf\n",
      "numerator -2.3641777724759114; denominator -6.822948255619545; term inf\n",
      "y dp: 0.09411391699870213\n",
      "numerator 4.7; denominator 0.2412295168563663; term 1.8336703387640447\n",
      "numerator 4.458770483143634; denominator 0.0; term inf\n",
      "numerator 3.7641777724759122; denominator -0.6945927106677217; term -inf\n",
      "numerator 2.7000000000000006; denominator -1.7587704831436333; term inf\n",
      "numerator 1.3945927106677218; denominator -3.064177772475912; term -inf\n",
      "numerator 0.005407289332278964; denominator -4.453363193811355; term inf\n",
      "numerator -1.299999999999999; denominator -5.758770483143633; term inf\n",
      "numerator -2.3641777724759114; denominator -6.822948255619545; term inf\n",
      "y dp: 0.09411391699870213\n",
      "numerator 4.7; denominator 0.935822227524088; term 0.852531161726408\n",
      "numerator 4.458770483143634; denominator 0.6945927106677217; term 5.472618300603347\n",
      "numerator 4.458770483143634; denominator 0.6945927106677217; term 35.13015407372288\n",
      "numerator 2.7000000000000006; denominator -1.0641777724759116; term -89.13117568540346\n",
      "numerator 1.3945927106677218; denominator -2.3695850618081904; term 52.457153747101714\n",
      "numerator 0.005407289332278964; denominator -3.7587704831436333; term -0.07546377442583037\n",
      "numerator -1.299999999999999; denominator -5.064177772475912; term -0.019371931863603635\n",
      "numerator -2.3641777724759114; denominator -6.128355544951823; term -0.0074732430887721295\n",
      "y dp: 0.1697484278298948\n",
      "numerator 4.7; denominator 1.9999999999999996; term 0.7771551023924825\n",
      "numerator 4.458770483143634; denominator 1.7587704831436333; term 1.970215138690772\n",
      "numerator 4.458770483143634; denominator 1.7587704831436333; term 4.994817226028994\n",
      "numerator 3.7641777724759122; denominator 1.0641777724759116; term 17.667518027608228\n",
      "numerator 1.3945927106677218; denominator -1.3054072893322788; term -18.87456279602663\n",
      "numerator 0.005407289332278964; denominator -2.6945927106677217; term 0.037875936372251826\n",
      "numerator -1.299999999999999; denominator -3.9999999999999996; term 0.012309679320981835\n",
      "numerator -2.3641777724759114; denominator -5.064177772475912; term 0.005746692068186091\n",
      "y dp: 0.330704298890418\n",
      "numerator 4.7; denominator 3.3054072893322783; term 0.33952843874453004\n",
      "numerator 4.458770483143634; denominator 3.064177772475912; term 0.4940572947367572\n",
      "numerator 4.458770483143634; denominator 3.064177772475912; term 0.7189165402025854\n",
      "numerator 3.7641777724759122; denominator 2.3695850618081904; term 1.1420268065122152\n",
      "numerator 2.7000000000000006; denominator 1.3054072893322788; term 2.3620768803583063\n",
      "numerator 0.005407289332278964; denominator -1.3891854213354429; term -0.009194188854145857\n",
      "numerator -1.299999999999999; denominator -2.6945927106677208; term -0.0044357150760004046\n",
      "numerator -2.3641777724759114; denominator -3.7587704831436333; term -0.002789959917676549\n",
      "y dp: 0.2387829311408037\n",
      "numerator 4.7; denominator 4.694592710667721; term 0.0011355927895733467\n",
      "numerator 4.458770483143634; denominator 4.453363193811355; term 0.0011369716303526944\n",
      "numerator 4.458770483143634; denominator 4.453363193811355; term 0.0011383521453253904\n",
      "numerator 3.7641777724759122; denominator 3.7587704831436333; term 0.0011399897551340763\n",
      "numerator 2.7000000000000006; denominator 2.6945927106677217; term 0.001142277393788126\n",
      "numerator 1.3945927106677218; denominator 1.3891854213354429; term 0.0011467236140486267\n",
      "numerator -1.299999999999999; denominator -1.305407289332278; term 0.0011419736280358405\n",
      "numerator -2.3641777724759114; denominator -2.3695850618081904; term 0.0011393676942307422\n",
      "y dp: 0.0011342863047272035\n",
      "numerator 4.7; denominator 5.999999999999999; term 1.0767608157563199e-13\n",
      "numerator 4.458770483143634; denominator 5.758770483143633; term 8.33689996285305e-14\n",
      "numerator 4.458770483143634; denominator 5.758770483143633; term 6.45490623112984e-14\n",
      "numerator 3.7641777724759122; denominator 5.064177772475912; term 4.797899214891904e-14\n",
      "numerator 2.7000000000000006; denominator 3.9999999999999996; term 3.2385819700520364e-14\n",
      "numerator 1.3945927106677218; denominator 2.6945927106677208; term 1.6761356142818668e-14\n",
      "numerator 0.005407289332278964; denominator 1.305407289332278; term 6.942929077096799e-17\n",
      "numerator -2.3641777724759114; denominator -1.0641777724759125; term 1.5424414063600903e-16\n",
      "y dp: 1.3745882754335996e-13\n",
      "numerator 4.7; denominator 7.064177772475912; term 1.3184623895804472e-40\n",
      "numerator 4.458770483143634; denominator 6.822948255619545; term 8.616101083508092e-41\n",
      "numerator 4.458770483143634; denominator 6.822948255619545; term 5.630588969993495e-41\n",
      "numerator 3.7641777724759122; denominator 6.128355544951823; term 3.458438024904798e-41\n",
      "numerator 2.7000000000000006; denominator 5.064177772475912; term 1.843889193225863e-41\n",
      "numerator 1.3945927106677218; denominator 3.7587704831436333; term 6.841264822323314e-42\n",
      "numerator 0.005407289332278964; denominator 2.3695850618081904; term 1.561146670329517e-44\n",
      "numerator -1.299999999999999; denominator 1.0641777724759125; term -1.9070974078950777e-44\n",
      "y dp: 1.981670788578653e-40\n",
      "inf\n",
      "numerator 4.5587704831436335; denominator -0.2412295168563663; term -1.4289992930711497\n",
      "numerator 4.5587704831436335; denominator -0.2412295168563663; term 27.005317933645536\n",
      "numerator 3.864177772475912; denominator -0.935822227524088; term -111.50979986223095\n",
      "numerator 2.8000000000000003; denominator -1.9999999999999996; term 156.11371980712337\n",
      "numerator 1.4945927106677215; denominator -3.3054072893322783; term -70.58931237066513\n",
      "numerator 0.10540728933227861; denominator -4.694592710667721; term 1.584935804103653\n",
      "numerator -1.1999999999999993; denominator -5.999999999999999; term 0.3169871608207304\n",
      "numerator -2.264177772475912; denominator -7.064177772475912; term 0.10159926700697881\n",
      "y dp: 0.07561617991742652\n",
      "numerator 4.8; denominator 0.2412295168563663; term 1.8726846012909393\n",
      "numerator 4.5587704831436335; denominator 0.0; term inf\n",
      "numerator 3.864177772475912; denominator -0.6945927106677217; term -inf\n",
      "numerator 2.8000000000000003; denominator -1.7587704831436333; term inf\n",
      "numerator 1.4945927106677215; denominator -3.064177772475912; term -inf\n",
      "numerator 0.10540728933227861; denominator -4.453363193811355; term inf\n",
      "numerator -1.1999999999999993; denominator -5.758770483143633; term inf\n",
      "numerator -2.264177772475912; denominator -6.822948255619545; term inf\n",
      "y dp: 0.09411391699870213\n",
      "numerator 4.8; denominator 0.2412295168563663; term 1.8726846012909393\n",
      "numerator 4.5587704831436335; denominator 0.0; term inf\n",
      "numerator 3.864177772475912; denominator -0.6945927106677217; term -inf\n",
      "numerator 2.8000000000000003; denominator -1.7587704831436333; term inf\n",
      "numerator 1.4945927106677215; denominator -3.064177772475912; term -inf\n",
      "numerator 0.10540728933227861; denominator -4.453363193811355; term inf\n",
      "numerator -1.1999999999999993; denominator -5.758770483143633; term inf\n",
      "numerator -2.264177772475912; denominator -6.822948255619545; term inf\n",
      "y dp: 0.09411391699870213\n",
      "numerator 4.8; denominator 0.935822227524088; term 0.8706701226142038\n",
      "numerator 4.5587704831436335; denominator 0.6945927106677217; term 5.714406722916869\n",
      "numerator 4.5587704831436335; denominator 0.6945927106677217; term 37.50495548976909\n",
      "numerator 2.8000000000000003; denominator -1.0641777724759116; term -98.68076376659194\n",
      "numerator 1.4945927106677215; denominator -2.3695850618081904; term 62.24193112364004\n",
      "numerator 0.10540728933227861; denominator -3.7587704831436333; term -1.7454519428550535\n",
      "numerator -1.1999999999999993; denominator -5.064177772475912; term -0.41359968498934163\n",
      "numerator -2.264177772475912; denominator -6.128355544951823; term -0.15280823812960873\n",
      "y dp: 0.1697484278298948\n",
      "numerator 4.8; denominator 1.9999999999999996; term 0.7936903173370033\n",
      "numerator 4.5587704831436335; denominator 1.7587704831436333; term 2.057262176111551\n",
      "numerator 4.5587704831436335; denominator 1.7587704831436333; term 5.332467297143772\n",
      "numerator 3.864177772475912; denominator 1.0641777724759116; term 19.362931772326686\n",
      "numerator 1.4945927106677215; denominator -1.3054072893322788; term -22.169093830385048\n",
      "numerator 0.10540728933227861; denominator -2.6945927106677217; term 0.8672123539719563\n",
      "numerator -1.1999999999999993; denominator -3.9999999999999996; term 0.2601637061915868\n",
      "numerator -2.264177772475912; denominator -5.064177772475912; term 0.1163183654344643\n",
      "y dp: 0.330704298890418\n",
      "numerator 4.8; denominator 3.3054072893322783; term 0.34675244807952\n",
      "numerator 4.5587704831436335; denominator 3.064177772475912; term 0.5158854814045022\n",
      "numerator 4.5587704831436335; denominator 3.064177772475912; term 0.7675153597269547\n",
      "numerator 3.864177772475912; denominator 2.3695850618081904; term 1.251618201385684\n",
      "numerator 2.8000000000000003; denominator 1.3054072893322788; term 2.684626470618605\n",
      "numerator 0.10540728933227861; denominator -1.3891854213354429; term -0.2037015324171467\n",
      "numerator -1.1999999999999993; denominator -2.6945927106677208; term -0.09071569069894914\n",
      "numerator -2.264177772475912; denominator -3.7587704831436333; term -0.054644584290652914\n",
      "y dp: 0.2387829311408037\n",
      "numerator 4.8; denominator 4.694592710667721; term 0.001159754338287673\n",
      "numerator 4.5587704831436335; denominator 4.453363193811355; term 0.001187204729322506\n",
      "numerator 4.5587704831436335; denominator 4.453363193811355; term 0.0012153048475823972\n",
      "numerator 3.864177772475912; denominator 3.7587704831436333; term 0.001249385670093513\n",
      "numerator 2.8000000000000003; denominator 2.6945927106677217; term 0.0012982592368829503\n",
      "numerator 1.4945927106677215; denominator 1.3891854213354429; term 0.0013967673157244864\n",
      "numerator -1.1999999999999993; denominator -1.305407289332278; term 0.0012839830086491446\n",
      "numerator -2.264177772475912; denominator -2.3695850618081904; term 0.0012268670305516402\n",
      "y dp: 0.0011342863047272035\n",
      "numerator 4.8; denominator 5.999999999999999; term 1.0996706203468798e-13\n",
      "numerator 4.5587704831436335; denominator 5.758770483143633; term 8.705236612383616e-14\n",
      "numerator 4.5587704831436335; denominator 5.758770483143633; term 6.891258443703789e-14\n",
      "numerator 3.864177772475912; denominator 5.064177772475912; term 5.258316137177783e-14\n",
      "numerator 2.8000000000000003; denominator 3.9999999999999996; term 3.680821296024449e-14\n",
      "numerator 1.4945927106677215; denominator 2.6945927106677208; term 2.0416178877532206e-14\n",
      "numerator 0.10540728933227861; denominator 1.305407289332278; term 1.648538422904286e-15\n",
      "numerator -2.264177772475912; denominator -1.0641777724759125; term 3.5074816922065205e-15\n",
      "y dp: 1.3745882754335996e-13\n",
      "numerator 4.8; denominator 7.064177772475912; term 1.3465147808481161e-40\n",
      "numerator 4.5587704831436335; denominator 6.822948255619545; term 8.996773254129889e-41\n",
      "numerator 4.5587704831436335; denominator 6.822948255619545; term 6.011217265305086e-41\n",
      "numerator 3.864177772475912; denominator 6.128355544951823; term 3.790317316241474e-41\n",
      "numerator 2.8000000000000003; denominator 5.064177772475912; term 2.0956785014850325e-41\n",
      "numerator 1.4945927106677215; denominator 3.7587704831436333; term 8.333006301579212e-42\n",
      "numerator 0.10540728933227861; denominator 2.3695850618081904; term 3.7068076617937464e-43\n",
      "numerator -1.1999999999999993; denominator 1.0641777724759125; term -4.179911767752297e-43\n",
      "y dp: 1.981670788578653e-40\n",
      "inf\n",
      "numerator 4.658770483143634; denominator -0.2412295168563663; term -1.4603454487584118\n",
      "numerator 4.658770483143634; denominator -0.2412295168563663; term 28.203075479854093\n",
      "numerator 3.964177772475912; denominator -0.935822227524088; term -119.46927701054231\n",
      "numerator 2.9000000000000004; denominator -1.9999999999999996; term 173.2304516652864\n",
      "numerator 1.5945927106677216; denominator -3.3054072893322783; term -83.56973628715633\n",
      "numerator 0.2054072893322787; denominator -4.694592710667721; term 3.6565116632911527\n",
      "numerator -1.0999999999999992; denominator -5.999999999999999; term 0.6703604716033776\n",
      "numerator -2.1641777724759117; denominator -7.064177772475912; term 0.20537128012875847\n",
      "y dp: 0.07561617991742652\n",
      "numerator 4.9; denominator 0.2412295168563663; term 1.911698863817834\n",
      "numerator 4.658770483143634; denominator 0.0; term inf\n",
      "numerator 3.964177772475912; denominator -0.6945927106677217; term -inf\n",
      "numerator 2.9000000000000004; denominator -1.7587704831436333; term inf\n",
      "numerator 1.5945927106677216; denominator -3.064177772475912; term -inf\n",
      "numerator 0.2054072893322787; denominator -4.453363193811355; term inf\n",
      "numerator -1.0999999999999992; denominator -5.758770483143633; term inf\n",
      "numerator -2.1641777724759117; denominator -6.822948255619545; term inf\n",
      "y dp: 0.09411391699870213\n",
      "numerator 4.9; denominator 0.2412295168563663; term 1.911698863817834\n",
      "numerator 4.658770483143634; denominator 0.0; term inf\n",
      "numerator 3.964177772475912; denominator -0.6945927106677217; term -inf\n",
      "numerator 2.9000000000000004; denominator -1.7587704831436333; term inf\n",
      "numerator 1.5945927106677216; denominator -3.064177772475912; term -inf\n",
      "numerator 0.2054072893322787; denominator -4.453363193811355; term inf\n",
      "numerator -1.0999999999999992; denominator -5.758770483143633; term inf\n",
      "numerator -2.1641777724759117; denominator -6.822948255619545; term inf\n",
      "y dp: 0.09411391699870213\n",
      "numerator 4.9; denominator 0.935822227524088; term 0.8888090835019998\n",
      "numerator 4.658770483143634; denominator 0.6945927106677217; term 5.96141805085817\n",
      "numerator 4.658770483143634; denominator 0.6945927106677217; term 39.98440816679352\n",
      "numerator 2.9000000000000004; denominator -1.0641777724759116; term -108.96185457240034\n",
      "numerator 1.5945927106677216; denominator -2.3695850618081904; term 73.3249807497522\n",
      "numerator 0.2054072893322787; denominator -3.7587704831436333; term -4.007024532009068\n",
      "numerator -1.0999999999999992; denominator -5.064177772475912; term -0.8703736683902003\n",
      "numerator -2.1641777724759117; denominator -6.128355544951823; term -0.3073652194396628\n",
      "y dp: 0.1697484278298948\n",
      "numerator 4.9; denominator 1.9999999999999996; term 0.8102255322815244\n",
      "numerator 4.658770483143634; denominator 1.7587704831436333; term 2.1461895287983643\n",
      "numerator 4.658770483143634; denominator 1.7587704831436333; term 5.6849967200531015\n",
      "numerator 3.964177772475912; denominator 1.0641777724759116; term 21.177230174428487\n",
      "numerator 1.5945927106677216; denominator -1.3054072893322788; term -25.86859836331173\n",
      "numerator 0.2054072893322787; denominator -2.6945927106677217; term 1.9719487281313735\n",
      "numerator -1.0999999999999992; denominator -3.9999999999999996; term 0.5422859002361274\n",
      "numerator -2.1641777724759117; denominator -5.064177772475912; term 0.23174602953251658\n",
      "y dp: 0.330704298890418\n",
      "numerator 4.9; denominator 3.3054072893322783; term 0.35397645741451\n",
      "numerator 4.658770483143634; denominator 3.064177772475912; term 0.5381851817944523\n",
      "numerator 4.658770483143634; denominator 3.064177772475912; term 0.8182558015827377\n",
      "numerator 3.964177772475912; denominator 2.3695850618081904; term 1.3688942900233037\n",
      "numerator 2.9000000000000004; denominator 1.3054072893322788; term 3.041038205859986\n",
      "numerator 0.2054072893322787; denominator -1.3891854213354429; term -0.4496530160970951\n",
      "numerator -1.0999999999999992; denominator -2.6945927106677208; term -0.18355958425503113\n",
      "numerator -2.1641777724759117; denominator -3.7587704831436333; term -0.1056876374737876\n",
      "y dp: 0.2387829311408037\n",
      "numerator 4.9; denominator 4.694592710667721; term 0.0011839158870019999\n",
      "numerator 4.658770483143634; denominator 4.453363193811355; term 0.0012385229205097196\n",
      "numerator 4.658770483143634; denominator 4.453363193811355; term 0.0012956486533112414\n",
      "numerator 3.964177772475912; denominator 3.7587704831436333; term 0.001366452571506613\n",
      "numerator 2.9000000000000004; denominator 2.6945927106677217; term 0.0014706164837754705\n",
      "numerator 1.5945927106677216; denominator 1.3891854213354429; term 0.0016880643067516846\n",
      "numerator -1.0999999999999992; denominator -1.305407289332278; term 0.0014224455099960795\n",
      "numerator -2.1641777724759117; denominator -2.3695850618081904; term 0.0012991409360686057\n",
      "y dp: 0.0011342863047272035\n",
      "numerator 4.9; denominator 5.999999999999999; term 1.12258042493744e-13\n",
      "numerator 4.658770483143634; denominator 5.758770483143633; term 9.0815297535499e-14\n",
      "numerator 4.658770483143634; denominator 5.758770483143633; term 7.346839552204759e-14\n",
      "numerator 3.964177772475912; denominator 5.064177772475912; term 5.751018103884212e-14\n",
      "numerator 2.9000000000000004; denominator 3.9999999999999996; term 4.169488125316055e-14\n",
      "numerator 1.5945927106677216; denominator 2.6945927106677208; term 2.4673990045037535e-14\n",
      "numerator 0.2054072893322787; denominator 1.305407289332278; term 3.882479785106154e-15\n",
      "numerator -2.1641777724759117; denominator -1.0641777724759125; term 7.895651149962334e-15\n",
      "y dp: 1.3745882754335996e-13\n",
      "numerator 4.9; denominator 7.064177772475912; term 1.3745671721157852e-40\n",
      "numerator 4.658770483143634; denominator 6.822948255619545; term 9.385668377708883e-41\n",
      "numerator 4.658770483143634; denominator 6.822948255619545; term 6.408618849869074e-41\n",
      "numerator 3.964177772475912; denominator 6.128355544951823; term 4.1454684230663125e-41\n",
      "numerator 2.9000000000000004; denominator 5.064177772475912; term 2.3739013452947444e-41\n",
      "numerator 1.5945927106677216; denominator 3.7587704831436333; term 1.0070861729991526e-41\n",
      "numerator 0.2054072893322787; denominator 2.3695850618081904; term 8.729918341142846e-43\n",
      "numerator -1.0999999999999992; denominator 1.0641777724759125; term -9.023783829759029e-43\n",
      "y dp: 1.981670788578653e-40\n",
      "inf\n",
      "numerator 4.758770483143634; denominator -0.2412295168563663; term -1.4916916044456738\n",
      "numerator 4.758770483143634; denominator -0.2412295168563663; term 29.42682168292003\n",
      "numerator 4.064177772475912; denominator -0.935822227524088; term -127.79759988684111\n",
      "numerator 3.0000000000000004; denominator -1.9999999999999996; term 191.69639983026175\n",
      "numerator 1.6945927106677217; denominator -3.3054072893322783; term -98.2775474786433\n",
      "numerator 0.3054072893322788; denominator -4.694592710667721; term 6.393457585675783\n",
      "numerator -0.9999999999999991; denominator -5.999999999999999; term 1.0655762642792965\n",
      "numerator -2.0641777724759116; denominator -7.064177772475912; term 0.3113651596047432\n",
      "y dp: 0.07561617991742652\n",
      "numerator 5.0; denominator 0.2412295168563663; term 1.9507131263447284\n",
      "numerator 4.758770483143634; denominator 0.0; term inf\n",
      "numerator 4.064177772475912; denominator -0.6945927106677217; term -inf\n",
      "numerator 3.0000000000000004; denominator -1.7587704831436333; term inf\n",
      "numerator 1.6945927106677217; denominator -3.064177772475912; term -inf\n",
      "numerator 0.3054072893322788; denominator -4.453363193811355; term inf\n",
      "numerator -0.9999999999999991; denominator -5.758770483143633; term inf\n",
      "numerator -2.0641777724759116; denominator -6.822948255619545; term inf\n",
      "y dp: 0.09411391699870213\n",
      "numerator 5.0; denominator 0.2412295168563663; term 1.9507131263447284\n",
      "numerator 4.758770483143634; denominator 0.0; term inf\n",
      "numerator 4.064177772475912; denominator -0.6945927106677217; term -inf\n",
      "numerator 3.0000000000000004; denominator -1.7587704831436333; term inf\n",
      "numerator 1.6945927106677217; denominator -3.064177772475912; term -inf\n",
      "numerator 0.3054072893322788; denominator -4.453363193811355; term inf\n",
      "numerator -0.9999999999999991; denominator -5.758770483143633; term inf\n",
      "numerator -2.0641777724759116; denominator -6.822948255619545; term inf\n",
      "y dp: 0.09411391699870213\n",
      "numerator 5.0; denominator 0.935822227524088; term 0.9069480443897956\n",
      "numerator 4.758770483143634; denominator 0.6945927106677217; term 6.213652284427245\n",
      "numerator 4.758770483143634; denominator 0.6945927106677217; term 42.57076791840352\n",
      "numerator 3.0000000000000004; denominator -1.0641777724759116; term -120.0103094223399\n",
      "numerator 1.6945927106677217; denominator -2.3695850618081904; term 85.82456010120517\n",
      "numerator 0.3054072893322788; denominator -3.7587704831436333; term -6.973409623224048\n",
      "numerator -0.9999999999999991; denominator -5.064177772475912; term -1.377007272755098\n",
      "numerator -2.0641777724759116; denominator -6.128355544951823; term -0.4638092199627907\n",
      "y dp: 0.1697484278298948\n",
      "numerator 5.0; denominator 1.9999999999999996; term 0.8267607472260452\n",
      "numerator 4.758770483143634; denominator 1.7587704831436333; term 2.2369971967512097\n",
      "numerator 4.758770483143634; denominator 1.7587704831436333; term 6.05272622710108\n",
      "numerator 4.064177772475912; denominator 1.0641777724759116; term 23.115832740833742\n",
      "numerator 1.6945927106677217; denominator -1.3054072893322788; term -30.00743291671653\n",
      "numerator 0.3054072893322788; denominator -2.6945927106677217; term 3.401066406300649\n",
      "numerator -0.9999999999999991; denominator -3.9999999999999996; term 0.8502666015751615\n",
      "numerator -2.0641777724759116; denominator -5.064177772475912; term 0.3465718421634316\n",
      "y dp: 0.330704298890418\n",
      "numerator 5.0; denominator 3.3054072893322783; term 0.3612004667495\n",
      "numerator 4.758770483143634; denominator 3.064177772475912; term 0.5609563959066074\n",
      "numerator 4.758770483143634; denominator 3.064177772475912; term 0.8711840295786828\n",
      "numerator 4.064177772475912; denominator 2.3695850618081904; term 1.4942053888742326\n",
      "numerator 3.0000000000000004; denominator 1.3054072893322788; term 3.433883205076613\n",
      "numerator 0.3054072893322788; denominator -1.3891854213354429; term -0.7549265529564257\n",
      "numerator -0.9999999999999991; denominator -2.6945927106677208; term -0.28016351041391857\n",
      "numerator -2.0641777724759116; denominator -3.7587704831436333; term -0.15385544114722566\n",
      "y dp: 0.2387829311408037\n",
      "numerator 5.0; denominator 4.694592710667721; term 0.0012080774357163262\n",
      "numerator 4.758770483143634; denominator 4.453363193811355; term 0.0012909262039143333\n",
      "numerator 4.758770483143634; denominator 4.453363193811355; term 0.0013794566595514053\n",
      "numerator 4.064177772475912; denominator 3.7587704831436333; term 0.0014915401509575114\n",
      "numerator 3.0000000000000004; denominator 2.6945927106677217; term 0.0016605925025915034\n",
      "numerator 1.6945927106677217; denominator 1.3891854213354429; term 0.002025667637352448\n",
      "numerator -0.9999999999999991; denominator -1.305407289332278; term 0.0015517514371997914\n",
      "numerator -2.0641777724759116; denominator -2.3695850618081904; term 0.0013517517799640142\n",
      "y dp: 0.0011342863047272035\n",
      "numerator 5.0; denominator 5.999999999999999; term 1.145490229528e-13\n",
      "numerator 4.758770483143634; denominator 5.758770483143633; term 9.465779386351891e-14\n",
      "numerator 4.758770483143634; denominator 5.758770483143633; term 7.822064045714693e-14\n",
      "numerator 4.064177772475912; denominator 5.064177772475912; term 6.27747686944532e-14\n",
      "numerator 3.0000000000000004; denominator 3.9999999999999996; term 4.708107652083991e-14\n",
      "numerator 1.6945927106677217; denominator 2.6945927106677208; term 2.960864874559622e-14\n",
      "numerator 0.3054072893322788; denominator 1.305407289332278; term 6.927107905770544e-15\n",
      "numerator -2.0641777724759116; denominator -1.0641777724759125; term 1.3436460088210844e-14\n",
      "y dp: 1.3745882754335996e-13\n",
      "numerator 5.0; denominator 7.064177772475912; term 1.4026195633834543e-40\n",
      "numerator 4.758770483143634; denominator 6.822948255619545; term 9.782786454245073e-41\n",
      "numerator 4.758770483143634; denominator 6.822948255619545; term 6.82315528085909e-41\n",
      "numerator 4.064177772475912; denominator 6.128355544951823; term 4.524952220414481e-41\n",
      "numerator 3.0000000000000004; denominator 5.064177772475912; term 2.68056479672249e-41\n",
      "numerator 1.6945927106677217; denominator 3.7587704831436333; term 1.2084977216271424e-41\n",
      "numerator 0.3054072893322788; denominator 2.3695850618081904; term 1.557589213719716e-42\n",
      "numerator -0.9999999999999991; denominator 1.0641777724759125; term -1.4636550903481402e-42\n",
      "y dp: 1.981670788578653e-40\n",
      "inf\n",
      "numerator 4.858770483143633; denominator -0.2412295168563663; term -1.5230377601329357\n",
      "numerator 4.858770483143633; denominator -0.2412295168563663; term 30.67655654284334\n",
      "numerator 4.164177772475912; denominator -0.935822227524088; term -136.50309977118027\n",
      "numerator 3.1000000000000005; denominator -1.9999999999999996; term 211.57980464532952\n",
      "numerator 1.7945927106677217; denominator -3.3054072893322783; term -114.87225080141687\n",
      "numerator 0.4054072893322789; denominator -4.694592710667721; term 9.919933567629206\n",
      "numerator -0.899999999999999; denominator -5.999999999999999; term 1.4879900351443796\n",
      "numerator -1.9641777724759115; denominator -7.064177772475912; term 0.4137320784994737\n",
      "y dp: 0.07561617991742652\n",
      "numerator 5.1; denominator 0.2412295168563663; term 1.989727388871623\n",
      "numerator 4.858770483143633; denominator 0.0; term inf\n",
      "numerator 4.164177772475912; denominator -0.6945927106677217; term -inf\n",
      "numerator 3.1000000000000005; denominator -1.7587704831436333; term inf\n",
      "numerator 1.7945927106677217; denominator -3.064177772475912; term -inf\n",
      "numerator 0.4054072893322789; denominator -4.453363193811355; term inf\n",
      "numerator -0.899999999999999; denominator -5.758770483143633; term inf\n",
      "numerator -1.9641777724759115; denominator -6.822948255619545; term inf\n",
      "y dp: 0.09411391699870213\n",
      "numerator 5.1; denominator 0.2412295168563663; term 1.989727388871623\n",
      "numerator 4.858770483143633; denominator 0.0; term inf\n",
      "numerator 4.164177772475912; denominator -0.6945927106677217; term -inf\n",
      "numerator 3.1000000000000005; denominator -1.7587704831436333; term inf\n",
      "numerator 1.7945927106677217; denominator -3.064177772475912; term -inf\n",
      "numerator 0.4054072893322789; denominator -4.453363193811355; term inf\n",
      "numerator -0.899999999999999; denominator -5.758770483143633; term inf\n",
      "numerator -1.9641777724759115; denominator -6.822948255619545; term inf\n",
      "y dp: 0.09411391699870213\n",
      "numerator 5.1; denominator 0.935822227524088; term 0.9250870052775916\n",
      "numerator 4.858770483143633; denominator 0.6945927106677217; term 6.471109423624099\n",
      "numerator 4.858770483143633; denominator 0.6945927106677217; term 45.26629055820655\n",
      "numerator 3.1000000000000005; denominator -1.0641777724759116; term -131.86283754448243\n",
      "numerator 1.7945927106677217; denominator -2.3695850618081904; term 99.86562241606727\n",
      "numerator 0.4054072893322789; denominator -3.7587704831436333; term -10.771142176076198\n",
      "numerator -0.899999999999999; denominator -5.064177772475912; term -1.9142353199281728\n",
      "numerator -1.9641777724759115; denominator -6.128355544951823; term -0.6135248581959991\n",
      "y dp: 0.1697484278298948\n",
      "numerator 5.1; denominator 1.9999999999999996; term 0.843295962170566\n",
      "numerator 4.858770483143633; denominator 1.7587704831436333; term 2.3296851799700895\n",
      "numerator 4.858770483143633; denominator 1.7587704831436333; term 6.435976550631828\n",
      "numerator 4.164177772475912; denominator 1.0641777724759116; term 25.184279534389447\n",
      "numerator 1.7945927106677217; denominator -1.3054072893322788; term -34.621780378560075\n",
      "numerator 0.4054072893322789; denominator -2.6945927106677217; term 5.20892158564899\n",
      "numerator -0.899999999999999; denominator -3.9999999999999996; term 1.1720073567710216\n",
      "numerator -1.9641777724759115; denominator -5.064177772475912; term 0.45457148282976\n",
      "y dp: 0.330704298890418\n",
      "numerator 5.1; denominator 3.3054072893322783; term 0.36842447608448997\n",
      "numerator 4.858770483143633; denominator 3.064177772475912; term 0.5841991237409674\n",
      "numerator 4.858770483143633; denominator 3.064177772475912; term 0.9263462075235391\n",
      "numerator 4.164177772475912; denominator 2.3695850618081904; term 1.6279096071121033\n",
      "numerator 3.1000000000000005; denominator 1.3054072893322788; term 3.8658584361274997\n",
      "numerator 0.4054072893322789; denominator -1.3891854213354429; term -1.1281771068588933\n",
      "numerator -0.899999999999999; denominator -2.6945927106677208; term -0.37681368028394785\n",
      "numerator -1.9641777724759115; denominator -3.7587704831436333; term -0.19690722232115937\n",
      "y dp: 0.2387829311408037\n",
      "numerator 5.1; denominator 4.694592710667721; term 0.0012322389844306525\n",
      "numerator 4.858770483143633; denominator 4.453363193811355; term 0.001344414579536348\n",
      "numerator 4.858770483143633; denominator 4.453363193811355; term 0.0014668019633423753\n",
      "numerator 4.164177772475912; denominator 3.7587704831436333; term 0.0016250058788548122\n",
      "numerator 3.1000000000000005; denominator 2.6945927106677217; term 0.001869491520743266\n",
      "numerator 1.7945927106677217; denominator 1.3891854213354429; term 0.0024150669912413815\n",
      "numerator -0.899999999999999; denominator -1.305407289332278; term 0.001665043783560476\n",
      "numerator -1.9641777724759115; denominator -2.3695850618081904; term 0.0013801749692720717\n",
      "y dp: 0.0011342863047272035\n",
      "numerator 5.1; denominator 5.999999999999999; term 1.16840003411856e-13\n",
      "numerator 4.858770483143633; denominator 5.758770483143633; term 9.857985510789595e-14\n",
      "numerator 4.858770483143633; denominator 5.758770483143633; term 8.317346413315541e-14\n",
      "numerator 4.164177772475912; denominator 5.064177772475912; term 6.83919692719981e-14\n",
      "numerator 3.1000000000000005; denominator 3.9999999999999996; term 5.3003776185798544e-14\n",
      "numerator 1.7945927106677217; denominator 2.6945927106677208; term 3.5300396235884806e-14\n",
      "numerator 0.4054072893322789; denominator 1.305407289332278; term 1.096289109712694e-14\n",
      "numerator -1.9641777724759115; denominator -1.0641777724759125; term 2.0234464176931672e-14\n",
      "y dp: 1.3745882754335996e-13\n",
      "numerator 5.1; denominator 7.064177772475912; term 1.4306719546511233e-40\n",
      "numerator 4.858770483143633; denominator 6.822948255619545; term 1.0188127483738455e-40\n",
      "numerator 4.858770483143633; denominator 6.822948255619545; term 7.255188115448767e-41\n",
      "numerator 4.164177772475912; denominator 6.128355544951823; term 4.929853182289648e-41\n",
      "numerator 3.1000000000000005; denominator 5.064177772475912; term 3.017774168229124e-41\n",
      "numerator 1.7945927106677217; denominator 3.7587704831436333; term 1.4408103790939514e-41\n",
      "numerator 0.4054072893322789; denominator 2.3695850618081904; term 2.465051960551117e-42\n",
      "numerator -0.899999999999999; denominator 1.0641777724759125; term -2.0847520234653457e-42\n",
      "y dp: 1.981670788578653e-40\n",
      "inf\n",
      "numerator 4.958770483143634; denominator -0.2412295168563663; term -1.5543839158201977\n",
      "numerator 4.958770483143634; denominator -0.2412295168563663; term 31.952280059624048\n",
      "numerator 4.264177772475913; denominator -0.935822227524088; term -145.59410794361276\n",
      "numerator 3.2000000000000006; denominator -1.9999999999999996; term 232.95057270978052\n",
      "numerator 1.8945927106677218; denominator -3.3054072893322783; term -133.52256420145343\n",
      "numerator 0.505407289332279; denominator -4.694592710667721; term 14.374681979206985\n",
      "numerator -0.7999999999999989; denominator -5.999999999999999; term 1.916624263894262\n",
      "numerator -1.8641777724759114; denominator -7.064177772475912; term 0.5057812056855159\n",
      "y dp: 0.07561617991742652\n",
      "numerator 5.2; denominator 0.2412295168563663; term 2.0287416513985175\n",
      "numerator 4.958770483143634; denominator 0.0; term inf\n",
      "numerator 4.264177772475913; denominator -0.6945927106677217; term -inf\n",
      "numerator 3.2000000000000006; denominator -1.7587704831436333; term inf\n",
      "numerator 1.8945927106677218; denominator -3.064177772475912; term -inf\n",
      "numerator 0.505407289332279; denominator -4.453363193811355; term inf\n",
      "numerator -0.7999999999999989; denominator -5.758770483143633; term inf\n",
      "numerator -1.8641777724759114; denominator -6.822948255619545; term inf\n",
      "y dp: 0.09411391699870213\n",
      "numerator 5.2; denominator 0.2412295168563663; term 2.0287416513985175\n",
      "numerator 4.958770483143634; denominator 0.0; term inf\n",
      "numerator 4.264177772475913; denominator -0.6945927106677217; term -inf\n",
      "numerator 3.2000000000000006; denominator -1.7587704831436333; term inf\n",
      "numerator 1.8945927106677218; denominator -3.064177772475912; term -inf\n",
      "numerator 0.505407289332279; denominator -4.453363193811355; term inf\n",
      "numerator -0.7999999999999989; denominator -5.758770483143633; term inf\n",
      "numerator -1.8641777724759114; denominator -6.822948255619545; term inf\n",
      "y dp: 0.09411391699870213\n",
      "numerator 5.2; denominator 0.935822227524088; term 0.9432259661653876\n",
      "numerator 4.958770483143634; denominator 0.6945927106677217; term 6.73378946844873\n",
      "numerator 4.958770483143634; denominator 0.6945927106677217; term 48.07323189981002\n",
      "numerator 3.2000000000000006; denominator -1.0641777724759116; term -144.55699607545998\n",
      "numerator 1.8945927106677218; denominator -2.3695850618081904; term 115.57999560969478\n",
      "numerator 0.505407289332279; denominator -3.7587704831436333; term -15.54097877061049\n",
      "numerator -0.7999999999999989; denominator -5.064177772475912; term -2.455044742714453\n",
      "numerator -1.8641777724759114; denominator -6.128355544951823; term -0.746797375940776\n",
      "y dp: 0.1697484278298948\n",
      "numerator 5.2; denominator 1.9999999999999996; term 0.859831177115087\n",
      "numerator 4.958770483143634; denominator 1.7587704831436333; term 2.4242534784550034\n",
      "numerator 4.958770483143634; denominator 1.7587704831436333; term 6.835068422989453\n",
      "numerator 4.264177772475913; denominator 1.0641777724759116; term 27.388231173869357\n",
      "numerator 1.8945927106677218; denominator -1.3054072893322788; term -39.749696178452524\n",
      "numerator 0.505407289332279; denominator -2.6945927106677217; term 7.455592868561972\n",
      "numerator -0.7999999999999989; denominator -3.9999999999999996; term 1.4911185737123926\n",
      "numerator -1.8641777724759114; denominator -5.064177772475912; term 0.5488966276714269\n",
      "y dp: 0.330704298890418\n",
      "numerator 5.2; denominator 3.3054072893322783; term 0.37564848541948\n",
      "numerator 4.958770483143634; denominator 3.064177772475912; term 0.6079133652975326\n",
      "numerator 4.958770483143634; denominator 3.064177772475912; term 0.9837884992260564\n",
      "numerator 4.264177772475913; denominator 2.3695850618081904; term 1.7703728466350201\n",
      "numerator 3.2000000000000006; denominator 1.3054072893322788; term 4.3397897005231485\n",
      "numerator 0.505407289332279; denominator -1.3891854213354429; term -1.5788830743019453\n",
      "numerator -0.7999999999999989; denominator -2.6945927106677208; term -0.4687559846951996\n",
      "numerator -1.8641777724759114; denominator -3.7587704831436333; term -0.2324814700186251\n",
      "y dp: 0.2387829311408037\n",
      "numerator 5.2; denominator 4.694592710667721; term 0.001256400533144979\n",
      "numerator 4.958770483143634; denominator 4.453363193811355; term 0.0013989880473757649\n",
      "numerator 4.958770483143634; denominator 4.453363193811355; term 0.0015577576617236384\n",
      "numerator 4.264177772475913; denominator 3.7587704831436333; term 0.001767215004431586\n",
      "numerator 3.2000000000000006; denominator 2.6945927106677217; term 0.002098680068343146\n",
      "numerator 1.8945927106677218; denominator 1.3891854213354429; term 0.0028622125588420298\n",
      "numerator -0.7999999999999989; denominator -1.305407289332278; term 0.0017540656205810288\n",
      "numerator -1.8641777724759114; denominator -2.3695850618081904; term 0.0013799420810224562\n",
      "y dp: 0.0011342863047272035\n",
      "numerator 5.2; denominator 5.999999999999999; term 1.1913098387091198e-13\n",
      "numerator 4.958770483143634; denominator 5.758770483143633; term 1.0258148126863013e-13\n",
      "numerator 4.958770483143634; denominator 5.758770483143633; term 8.833101144089257e-14\n",
      "numerator 4.264177772475913; denominator 5.064177772475912; term 7.437715509390943e-14\n",
      "numerator 3.2000000000000006; denominator 3.9999999999999996; term 5.950172407512757e-14\n",
      "numerator 1.8945927106677218; denominator 2.6945927106677208; term 4.183620487749478e-14\n",
      "numerator 0.505407289332279; denominator 1.305407289332278; term 1.6197491063421233e-14\n",
      "numerator -1.8641777724759114; denominator -1.0641777724759125; term 2.8374021325455316e-14\n",
      "y dp: 1.3745882754335996e-13\n",
      "numerator 5.2; denominator 7.064177772475912; term 1.4587243459187926e-40\n",
      "numerator 4.958770483143634; denominator 6.822948255619545; term 1.060169146618904e-40\n",
      "numerator 4.958770483143634; denominator 6.822948255619545; term 7.705078910811749e-41\n",
      "numerator 4.264177772475913; denominator 6.128355544951823; term 5.361279381663986e-41\n",
      "numerator 3.2000000000000006; denominator 5.064177772475912; term 3.3877353426589974e-41\n",
      "numerator 1.8945927106677218; denominator 3.7587704831436333; term 1.707573983209841e-41\n",
      "numerator 0.505407289332279; denominator 2.3695850618081904; term 3.642073678206985e-42\n",
      "numerator -0.7999999999999989; denominator 1.0641777724759125; term -2.7379438078157514e-42\n",
      "y dp: 1.981670788578653e-40\n",
      "inf\n",
      "numerator 5.0587704831436335; denominator -0.2412295168563663; term -1.5857300715074596\n",
      "numerator 5.0587704831436335; denominator -0.2412295168563663; term 33.253992233262125\n",
      "numerator 4.364177772475912; denominator -0.935822227524088; term -155.07895568419127\n",
      "numerator 3.3000000000000003; denominator -1.9999999999999996; term 255.88027687891568\n",
      "numerator 1.9945927106677215; denominator -3.3054072893322783; term -154.40667076444433\n",
      "numerator 0.6054072893322786; denominator -4.694592710667721; term 19.912041312957296\n",
      "numerator -0.6999999999999993; denominator -5.999999999999999; term 2.3230714865116826\n",
      "numerator -1.7641777724759118; denominator -7.064177772475912; term 0.5801540125936094\n",
      "y dp: 0.07561617991742652\n",
      "numerator 5.3; denominator 0.2412295168563663; term 2.0677559139254122\n",
      "numerator 5.0587704831436335; denominator 0.0; term inf\n",
      "numerator 4.364177772475912; denominator -0.6945927106677217; term -inf\n",
      "numerator 3.3000000000000003; denominator -1.7587704831436333; term inf\n",
      "numerator 1.9945927106677215; denominator -3.064177772475912; term -inf\n",
      "numerator 0.6054072893322786; denominator -4.453363193811355; term inf\n",
      "numerator -0.6999999999999993; denominator -5.758770483143633; term inf\n",
      "numerator -1.7641777724759118; denominator -6.822948255619545; term inf\n",
      "y dp: 0.09411391699870213\n",
      "numerator 5.3; denominator 0.2412295168563663; term 2.0677559139254122\n",
      "numerator 5.0587704831436335; denominator 0.0; term inf\n",
      "numerator 4.364177772475912; denominator -0.6945927106677217; term -inf\n",
      "numerator 3.3000000000000003; denominator -1.7587704831436333; term inf\n",
      "numerator 1.9945927106677215; denominator -3.064177772475912; term -inf\n",
      "numerator 0.6054072893322786; denominator -4.453363193811355; term inf\n",
      "numerator -0.6999999999999993; denominator -5.758770483143633; term inf\n",
      "numerator -1.7641777724759118; denominator -6.822948255619545; term inf\n",
      "y dp: 0.09411391699870213\n",
      "numerator 5.3; denominator 0.935822227524088; term 0.9613649270531834\n",
      "numerator 5.0587704831436335; denominator 0.6945927106677217; term 7.001692418901136\n",
      "numerator 5.0587704831436335; denominator 0.6945927106677217; term 50.99384775682129\n",
      "numerator 3.3000000000000003; denominator -1.0641777724759116; term -158.13119006046463\n",
      "numerator 1.9945927106677215; denominator -2.3695850618081904; term 133.1065611897185\n",
      "numerator 0.6054072893322786; denominator -3.7587704831436333; term -21.438840909172164\n",
      "numerator -0.6999999999999993; denominator -5.064177772475912; term -2.9634008343833047\n",
      "numerator -1.7641777724759118; denominator -6.128355544951823; term -0.8530780964988374\n",
      "y dp: 0.1697484278298948\n",
      "numerator 5.3; denominator 1.9999999999999996; term 0.8763663920596079\n",
      "numerator 5.0587704831436335; denominator 1.7587704831436333; term 2.52070209220595\n",
      "numerator 5.0587704831436335; denominator 1.7587704831436333; term 7.250322576518061\n",
      "numerator 4.364177772475912; denominator 1.0641777724759116; term 29.733468833974012\n",
      "numerator 1.9945927106677215; denominator -1.3054072893322788; term -45.431154463252454\n",
      "numerator 0.6054072893322786; denominator -2.6945927106677217; term 10.207239099974453\n",
      "numerator -0.6999999999999993; denominator -3.9999999999999996; term 1.7862668424955277\n",
      "numerator -1.7641777724759118; denominator -5.064177772475912; term 0.6222712552408388\n",
      "y dp: 0.330704298890418\n",
      "numerator 5.3; denominator 3.3054072893322783; term 0.38287249475447\n",
      "numerator 5.0587704831436335; denominator 3.064177772475912; term 0.6320991205763028\n",
      "numerator 5.0587704831436335; denominator 3.064177772475912; term 1.0435570684949826\n",
      "numerator 4.364177772475912; denominator 2.3695850618081904; term 1.921968802065557\n",
      "numerator 3.3000000000000003; denominator 1.3054072893322788; term 4.858634618212184\n",
      "numerator 0.6054072893322786; denominator -1.3891854213354429; term -2.1173939554016843\n",
      "numerator -0.6999999999999993; denominator -2.6945927106677208; term -0.5500555846207622\n",
      "numerator -1.7641777724759118; denominator -3.7587704831436333; term -0.25816841979737076\n",
      "y dp: 0.2387829311408037\n",
      "numerator 5.3; denominator 4.694592710667721; term 0.0012805620818593059\n",
      "numerator 5.0587704831436335; denominator 4.453363193811355; term 0.0014546466074325825\n",
      "numerator 5.0587704831436335; denominator 4.453363193811355; term 0.0016523968517346778\n",
      "numerator 4.364177772475912; denominator 3.7587704831436333; term 0.001918540555745364\n",
      "numerator 3.3000000000000003; denominator 2.6945927106677217; term 0.002349588421617466\n",
      "numerator 1.9945927106677215; denominator 1.3891854213354429; term 0.0033735395339250717\n",
      "numerator -0.6999999999999993; denominator -1.305407289332278; term 0.001808996849523841\n",
      "numerator -1.7641777724759118; denominator -2.3695850618081904; term 0.0013468147161484949\n",
      "y dp: 0.0011342863047272035\n",
      "numerator 5.3; denominator 5.999999999999999; term 1.2142196432996797e-13\n",
      "numerator 5.0587704831436335; denominator 5.758770483143633; term 1.066626723457214e-13\n",
      "numerator 5.0587704831436335; denominator 5.758770483143633; term 9.369742727117782e-14\n",
      "numerator 4.364177772475912; denominator 5.064177772475912; term 8.074602587166537e-14\n",
      "numerator 3.3000000000000003; denominator 3.9999999999999996; term 6.661547134412395e-14\n",
      "numerator 1.9945927106677215; denominator 2.6945927106677208; term 4.931013619782216e-14\n",
      "numerator 0.6054072893322786; denominator 1.305407289332278; term 2.2868507121175026e-14\n",
      "numerator -1.7641777724759118; denominator -1.0641777724759125; term 3.7911064294285725e-14\n",
      "y dp: 1.3745882754335996e-13\n",
      "numerator 5.3; denominator 7.064177772475912; term 1.4867767371864615e-40\n",
      "numerator 5.0587704831436335; denominator 6.822948255619545; term 1.1023478401596814e-40\n",
      "numerator 5.0587704831436335; denominator 6.822948255619545; term 8.173189224121657e-41\n",
      "numerator 4.364177772475912; denominator 6.128355544951823; term 5.820362490478152e-41\n",
      "numerator 3.3000000000000003; denominator 5.064177772475912; term 3.792757103230081e-41\n",
      "numerator 1.9945927106677215; denominator 3.7587704831436333; term 2.012627721049086e-41\n",
      "numerator 0.6054072893322786; denominator 2.3695850618081904; term 5.14207956774315e-42\n",
      "numerator -0.6999999999999993; denominator 1.0641777724759125; term -3.3823819577115575e-42\n",
      "y dp: 1.981670788578653e-40\n",
      "inf\n",
      "numerator 5.158770483143634; denominator -0.2412295168563663; term -1.6170762271947219\n",
      "numerator 5.158770483143634; denominator -0.2412295168563663; term 34.581693063757605\n",
      "numerator 4.464177772475912; denominator -0.935822227524088; term -164.96597427296888\n",
      "numerator 3.4000000000000004; denominator -1.9999999999999996; term 280.4421562640472\n",
      "numerator 2.0945927106677216; denominator -3.3054072893322783; term -177.7124707658262\n",
      "numerator 0.7054072893322787; denominator -4.694592710667721; term 26.70299214639072\n",
      "numerator -0.5999999999999992; denominator -5.999999999999999; term 2.6702992146390687\n",
      "numerator -1.6641777724759117; denominator -7.064177772475912; term 0.629068625109742\n",
      "y dp: 0.07561617991742652\n",
      "numerator 5.4; denominator 0.2412295168563663; term 2.1067701764523066\n",
      "numerator 5.158770483143634; denominator 0.0; term inf\n",
      "numerator 4.464177772475912; denominator -0.6945927106677217; term -inf\n",
      "numerator 3.4000000000000004; denominator -1.7587704831436333; term inf\n",
      "numerator 2.0945927106677216; denominator -3.064177772475912; term -inf\n",
      "numerator 0.7054072893322787; denominator -4.453363193811355; term inf\n",
      "numerator -0.5999999999999992; denominator -5.758770483143633; term inf\n",
      "numerator -1.6641777724759117; denominator -6.822948255619545; term inf\n",
      "y dp: 0.09411391699870213\n",
      "numerator 5.4; denominator 0.2412295168563663; term 2.1067701764523066\n",
      "numerator 5.158770483143634; denominator 0.0; term inf\n",
      "numerator 4.464177772475912; denominator -0.6945927106677217; term -inf\n",
      "numerator 3.4000000000000004; denominator -1.7587704831436333; term inf\n",
      "numerator 2.0945927106677216; denominator -3.064177772475912; term -inf\n",
      "numerator 0.7054072893322787; denominator -4.453363193811355; term inf\n",
      "numerator -0.5999999999999992; denominator -5.758770483143633; term inf\n",
      "numerator -1.6641777724759117; denominator -6.822948255619545; term inf\n",
      "y dp: 0.09411391699870213\n",
      "numerator 5.4; denominator 0.935822227524088; term 0.9795038879409793\n",
      "numerator 5.158770483143634; denominator 0.6945927106677217; term 7.274818274981319\n",
      "numerator 5.158770483143634; denominator 0.6945927106677217; term 54.03039394284782\n",
      "numerator 3.4000000000000004; denominator -1.0641777724759116; term -172.62467245324922\n",
      "numerator 2.0945927106677216; denominator -2.3695850618081904; term 152.5914331710314\n",
      "numerator 0.7054072893322787; denominator -3.7587704831436333; term -28.636786877841306\n",
      "numerator -0.5999999999999992; denominator -5.064177772475912; term -3.3928651201958746\n",
      "numerator -1.6641777724759117; denominator -6.128355544951823; term -0.921345159663574\n",
      "y dp: 0.1697484278298948\n",
      "numerator 5.4; denominator 1.9999999999999996; term 0.8929016070041289\n",
      "numerator 5.158770483143634; denominator 1.7587704831436333; term 2.6190310212229306\n",
      "numerator 5.158770483143634; denominator 1.7587704831436333; term 7.682059743561766\n",
      "numerator 4.464177772475912; denominator 1.0641777724759116; term 32.225894245330814\n",
      "numerator 2.0945927106677216; denominator -1.3054072893322788; term -51.70809427266596\n",
      "numerator 0.7054072893322787; denominator -2.6945927106677217; term 13.536467486539228\n",
      "numerator -0.5999999999999992; denominator -3.9999999999999996; term 2.030470122980882\n",
      "numerator -1.6641777724759117; denominator -5.064177772475912; term 0.6672481492862695\n",
      "y dp: 0.330704298890418\n",
      "numerator 5.4; denominator 3.3054072893322783; term 0.39009650408946006\n",
      "numerator 5.158770483143634; denominator 3.064177772475912; term 0.6567563895772782\n",
      "numerator 5.158770483143634; denominator 3.064177772475912; term 1.105698079139068\n",
      "numerator 4.464177772475912; denominator 2.3695850618081904; term 2.083078960750764\n",
      "numerator 3.4000000000000004; denominator 1.3054072893322788; term 5.425485612368006\n",
      "numerator 0.7054072893322787; denominator -1.3891854213354429; term -2.7549793140304306\n",
      "numerator -0.5999999999999992; denominator -2.6945927106677208; term -0.6134461738407381\n",
      "numerator -1.6641777724759117; denominator -3.7587704831436333; term -0.27160037881917665\n",
      "y dp: 0.2387829311408037\n",
      "numerator 5.4; denominator 4.694592710667721; term 0.0013047236305736324\n",
      "numerator 5.158770483143634; denominator 4.453363193811355; term 0.0015113902597068012\n",
      "numerator 5.158770483143634; denominator 4.453363193811355; term 0.0017507926304149797\n",
      "numerator 4.464177772475912; denominator 3.7587704831436333; term 0.0020793633396781466\n",
      "numerator 3.4000000000000004; denominator 2.6945927106677217; term 0.002623712046320273\n",
      "numerator 2.0945927106677216; denominator 1.3891854213354429; term 0.003955993233668211\n",
      "numerator -0.5999999999999992; denominator -1.305407289332278; term 0.0018182799802006846\n",
      "numerator -1.6641777724759117; denominator -2.3695850618081904; term 0.0012769919830938146\n",
      "y dp: 0.0011342863047272035\n",
      "numerator 5.4; denominator 5.999999999999999; term 1.23712944789024e-13\n",
      "numerator 5.158770483143634; denominator 5.758770483143633; term 1.1082342833916987e-13\n",
      "numerator 5.158770483143634; denominator 5.758770483143633; term 9.927685651483079e-14\n",
      "numerator 4.464177772475912; denominator 5.064177772475912; term 8.751460870578988e-14\n",
      "numerator 3.4000000000000004; denominator 3.9999999999999996; term 7.438741739992141e-14\n",
      "numerator 2.0945927106677216; denominator 2.6945927106677208; term 5.782370806334681e-14\n",
      "numerator 0.7054072893322787; denominator 1.305407289332278; term 3.124638991787031e-14\n",
      "numerator -1.6641777724759117; denominator -1.0641777724759125; term 4.886359113708344e-14\n",
      "y dp: 1.3745882754335996e-13\n",
      "numerator 5.4; denominator 7.064177772475912; term 1.5148291284541308e-40\n",
      "numerator 5.158770483143634; denominator 6.822948255619545; term 1.1453488289961787e-40\n",
      "numerator 5.158770483143634; denominator 6.822948255619545; term 8.659880612552136e-41\n",
      "numerator 4.464177772475912; denominator 6.128355544951823; term 6.308257779641315e-41\n",
      "numerator 3.4000000000000004; denominator 5.064177772475912; term 4.235253463524121e-41\n",
      "numerator 2.0945927106677216; denominator 3.7587704831436333; term 2.360115115384355e-41\n",
      "numerator 0.7054072893322787; denominator 2.3695850618081904; term 7.02588158951763e-42\n",
      "numerator -0.5999999999999992; denominator 1.0641777724759125; term -3.9613014505111654e-42\n",
      "y dp: 1.981670788578653e-40\n",
      "inf\n",
      "numerator 5.258770483143634; denominator -0.2412295168563663; term -1.6484223828819837\n",
      "numerator 5.258770483143634; denominator -0.2412295168563663; term 35.93538255111045\n",
      "numerator 4.564177772475912; denominator -0.935822227524088; term -175.2634949899983\n",
      "numerator 3.5000000000000004; denominator -1.9999999999999996; term 306.71111623249715\n",
      "numerator 2.1945927106677217; denominator -3.3054072893322783; term -203.6378337208096\n",
      "numerator 0.8054072893322788; denominator -4.694592710667721; term 34.936235318110676\n",
      "numerator -0.4999999999999991; denominator -5.999999999999999; term 2.911352943175885\n",
      "numerator -1.5641777724759116; denominator -7.064177772475912; term 0.6446431146298808\n",
      "y dp: 0.07561617991742652\n",
      "numerator 5.5; denominator 0.2412295168563663; term 2.1457844389792013\n",
      "numerator 5.258770483143634; denominator 0.0; term inf\n",
      "numerator 4.564177772475912; denominator -0.6945927106677217; term -inf\n",
      "numerator 3.5000000000000004; denominator -1.7587704831436333; term inf\n",
      "numerator 2.1945927106677217; denominator -3.064177772475912; term -inf\n",
      "numerator 0.8054072893322788; denominator -4.453363193811355; term inf\n",
      "numerator -0.4999999999999991; denominator -5.758770483143633; term inf\n",
      "numerator -1.5641777724759116; denominator -6.822948255619545; term inf\n",
      "y dp: 0.09411391699870213\n",
      "numerator 5.5; denominator 0.2412295168563663; term 2.1457844389792013\n",
      "numerator 5.258770483143634; denominator 0.0; term inf\n",
      "numerator 4.564177772475912; denominator -0.6945927106677217; term -inf\n",
      "numerator 3.5000000000000004; denominator -1.7587704831436333; term inf\n",
      "numerator 2.1945927106677217; denominator -3.064177772475912; term -inf\n",
      "numerator 0.8054072893322788; denominator -4.453363193811355; term inf\n",
      "numerator -0.4999999999999991; denominator -5.758770483143633; term inf\n",
      "numerator -1.5641777724759116; denominator -6.822948255619545; term inf\n",
      "y dp: 0.09411391699870213\n",
      "numerator 5.5; denominator 0.935822227524088; term 0.9976428488287752\n",
      "numerator 5.258770483143634; denominator 0.6945927106677217; term 7.553167036689279\n",
      "numerator 5.258770483143634; denominator 0.6945927106677217; term 57.185126271497005\n",
      "numerator 3.5000000000000004; denominator -1.0641777724759116; term -188.07754411612655\n",
      "numerator 2.1945927106677217; denominator -2.3695850618081904; term 174.1881369907746\n",
      "numerator 0.8054072893322788; denominator -3.7587704831436333; term -37.32401216746983\n",
      "numerator -0.4999999999999991; denominator -5.064177772475912; term -3.6851009032826463\n",
      "numerator -1.5641777724759116; denominator -6.128355544951823; term -0.9405709051906735\n",
      "y dp: 0.1697484278298948\n",
      "numerator 5.5; denominator 1.9999999999999996; term 0.9094368219486497\n",
      "numerator 5.258770483143634; denominator 1.7587704831436333; term 2.7192402655059444\n",
      "numerator 5.258770483143634; denominator 1.7587704831436333; term 8.130600656464676\n",
      "numerator 4.564177772475912; denominator 1.0641777724759116; term 34.8715296944939\n",
      "numerator 2.1945927106677217; denominator -1.3054072893322788; term -58.6244657148453\n",
      "numerator 0.8054072893322788; denominator -2.6945927106677217; term 17.522711997631127\n",
      "numerator -0.4999999999999991; denominator -3.9999999999999996; term 2.1903389997038873\n",
      "numerator -1.5641777724759116; denominator -5.064177772475912; term 0.6765322489555712\n",
      "y dp: 0.330704298890418\n",
      "numerator 5.5; denominator 3.3054072893322783; term 0.39732051342445\n",
      "numerator 5.258770483143634; denominator 3.064177772475912; term 0.6818851723004583\n",
      "numerator 5.258770483143634; denominator 3.064177772475912; term 1.17025769496706\n",
      "numerator 4.564177772475912; denominator 2.3695850618081904; term 2.254092602762157\n",
      "numerator 3.5000000000000004; denominator 1.3054072893322788; term 6.043572894175405\n",
      "numerator 0.8054072893322788; denominator -1.3891854213354429; term -3.503879027106848\n",
      "numerator -0.4999999999999991; denominator -2.6945927106677208; term -0.650168578953548\n",
      "numerator -1.5641777724759116; denominator -3.7587704831436333; term -0.2705616754526716\n",
      "y dp: 0.2387829311408037\n",
      "numerator 5.5; denominator 4.694592710667721; term 0.0013288851792879587\n",
      "numerator 5.258770483143634; denominator 4.453363193811355; term 0.0015692190041984209\n",
      "numerator 5.258770483143634; denominator 4.453363193811355; term 0.0018530180948040289\n",
      "numerator 4.564177772475912; denominator 3.7587704831436333; term 0.002250071941936399\n",
      "numerator 3.5000000000000004; denominator 2.6945927106677217; term 0.0029226130411470997\n",
      "numerator 2.1945927106677217; denominator 1.3891854213354429; term 0.004617054842137657\n",
      "numerator -0.4999999999999991; denominator -1.305407289332278; term 0.0017684346026975591\n",
      "numerator -1.5641777724759116; denominator -2.3695850618081904; term 0.0011673546319143286\n",
      "y dp: 0.0011342863047272035\n",
      "numerator 5.5; denominator 5.999999999999999; term 1.2600392524807998e-13\n",
      "numerator 5.258770483143634; denominator 5.758770483143633; term 1.150637492489754e-13\n",
      "numerator 5.258770483143634; denominator 5.758770483143633; term 1.0507344406267081e-13\n",
      "numerator 4.564177772475912; denominator 5.064177772475912; term 9.469925808585234e-14\n",
      "numerator 3.5000000000000004; denominator 3.9999999999999996; term 8.286185082512081e-14\n",
      "numerator 2.1945927106677217; denominator 2.6945927106677208; term 6.748627096530083e-14\n",
      "numerator 0.8054072893322788; denominator 1.305407289332278; term 4.16375295354057e-14\n",
      "numerator -1.5641777724759116; denominator -1.0641777724759125; term 6.120076916149367e-14\n",
      "y dp: 1.3745882754335996e-13\n",
      "numerator 5.5; denominator 7.064177772475912; term 1.5428815197217997e-40\n",
      "numerator 5.258770483143634; denominator 6.822948255619545; term 1.1891721131283951e-40\n",
      "numerator 5.258770483143634; denominator 6.822948255619545; term 9.165514633276815e-41\n",
      "numerator 4.564177772475912; denominator 6.128355544951823; term 6.826144119031138e-41\n",
      "numerator 3.5000000000000004; denominator 5.064177772475912; term 4.717745997476756e-41\n",
      "numerator 2.1945927106677217; denominator 3.7587704831436333; term 2.7544993830496326e-41\n",
      "numerator 0.8054072893322788; denominator 2.3695850618081904; term 9.362372836181468e-42\n",
      "numerator -0.4999999999999991; denominator 1.0641777724759125; term -4.398876333603072e-42\n",
      "y dp: 1.981670788578653e-40\n",
      "inf\n",
      "0\n"
     ]
    },
    {
     "name": "stderr",
     "output_type": "stream",
     "text": [
      "/var/folders/7v/lh4dpmwx58b8f4ly3bvf48000000gn/T/ipykernel_7499/1457324209.py:41: RuntimeWarning:\n",
      "\n",
      "divide by zero encountered in scalar divide\n",
      "\n",
      "/var/folders/7v/lh4dpmwx58b8f4ly3bvf48000000gn/T/ipykernel_7499/1457324209.py:41: RuntimeWarning:\n",
      "\n",
      "invalid value encountered in scalar multiply\n",
      "\n"
     ]
    }
   ],
   "source": [
    "print(poly_recon_error_nr(random_x_datapoints, random_y_datapoints, step_size, start, end, n_points))\n",
    "print(poly_recon_error_nr(equal_x_datapoints, equal_y_datapoints, step_size, start, end, n_points))\n",
    "print(poly_recon_error_lagrange(cheby_x_datapoints, cheby_y_datapoints, step_size, start, end, n_points))"
   ]
  },
  {
   "cell_type": "code",
   "execution_count": 61,
   "metadata": {},
   "outputs": [
    {
     "data": {
      "application/vnd.plotly.v1+json": {
       "config": {
        "plotlyServerURL": "https://plotly.com"
       },
       "data": [
        {
         "hovertemplate": "x=%{x}<br>y=%{y}<extra></extra>",
         "legendgroup": "",
         "marker": {
          "color": "#636efa",
          "symbol": "circle"
         },
         "mode": "markers",
         "name": "",
         "orientation": "v",
         "showlegend": false,
         "type": "scatter",
         "x": [
          -5,
          -4.9,
          -4.8,
          -4.7,
          -4.6,
          -4.5,
          -4.4,
          -4.3,
          -4.2,
          -4.1,
          -4,
          -3.9,
          -3.8,
          -3.7,
          -3.6,
          -3.5,
          -3.4,
          -3.3,
          -3.2,
          -3.1,
          -3,
          -2.9,
          -2.8,
          -2.7,
          -2.6,
          -2.5,
          -2.4,
          -2.3,
          -2.2,
          -2.1,
          -2,
          -1.9,
          -1.8,
          -1.7,
          -1.6,
          -1.5,
          -1.4,
          -1.3,
          -1.2,
          -1.1,
          -1,
          -0.9,
          -0.8,
          -0.7,
          -0.6,
          -0.5,
          -0.4,
          -0.3,
          -0.2,
          -0.1,
          0,
          0.1,
          0.2,
          0.3,
          0.4,
          0.5,
          0.6,
          0.7,
          0.8,
          0.9,
          1,
          1.1,
          1.2,
          1.3,
          1.4,
          1.5,
          1.6,
          1.7,
          1.8,
          1.9,
          2,
          2.1,
          2.2,
          2.3,
          2.4,
          2.5,
          2.6,
          2.7,
          2.8,
          2.9,
          3
         ],
         "xaxis": "x",
         "y": [
          0.006692699677535516,
          0.04528384736813347,
          0.06520720169094472,
          0.07203269831677915,
          0.07017465298740524,
          0.06306341718548028,
          0.05329955889261701,
          0.042791665194781545,
          0.032878831290454436,
          0.024438868253222973,
          0.01798322969671365,
          0.013739625286006318,
          0.011723256835913357,
          0.011797580532741037,
          0.01372546661238987,
          0.017211595623886754,
          0.021936898203679795,
          0.027585813082263513,
          0.033867105840939764,
          0.04052895873275709,
          0.04736900967790793,
          0.05423998634010154,
          0.06105154898666668,
          0.06776892363137607,
          0.0744088747552221,
          0.08103353469660958,
          0.08774257459867031,
          0.0946641695976399,
          0.10194517873247576,
          0.10974092785213178,
          0.11820495159314316,
          0.12747901829641153,
          0.1376837295283183,
          0.14890995366753168,
          0.16121132081510917,
          0.1745979740817357,
          0.18903174010217452,
          0.20442284942324512,
          0.2206283052078802,
          0.23745196649405031,
          0.25464638004358253,
          0.271916362612138,
          0.28892430326784785,
          0.3052971231823464,
          0.3206347981141787,
          0.33452031660079257,
          0.34653091467156816,
          0.35625039569057204,
          0.3632823117339587,
          0.3672637507031868,
          0.36787944117144233,
          0.3648758547569134,
          0.3580749536127864,
          0.3473871984200745,
          0.33282340006563227,
          0.31450496598393685,
          0.29267205993746337,
          0.26768916180671415,
          0.24004748175719862,
          0.2103636509469026,
          0.17937407873401717,
          0.14792433414093845,
          0.11695287712678501,
          0.08746843301692067,
          0.06052027123419831,
          0.0371606172728937,
          0.018398394652518024,
          0.005143461384945504,
          -0.0018595267154671814,
          -0.0021085257528723,
          0.004566281420127861,
          0.017899700981959272,
          0.037074578045604746,
          0.060589651997036656,
          0.08611115637564908,
          0.11030707020002181,
          0.12866289543859294,
          0.13527780312103344,
          0.12263995838238531,
          0.08137980252823132,
          3.800542496597975e-8
         ],
         "yaxis": "y"
        }
       ],
       "layout": {
        "legend": {
         "tracegroupgap": 0
        },
        "margin": {
         "t": 60
        },
        "template": {
         "data": {
          "bar": [
           {
            "error_x": {
             "color": "#2a3f5f"
            },
            "error_y": {
             "color": "#2a3f5f"
            },
            "marker": {
             "line": {
              "color": "#E5ECF6",
              "width": 0.5
             },
             "pattern": {
              "fillmode": "overlay",
              "size": 10,
              "solidity": 0.2
             }
            },
            "type": "bar"
           }
          ],
          "barpolar": [
           {
            "marker": {
             "line": {
              "color": "#E5ECF6",
              "width": 0.5
             },
             "pattern": {
              "fillmode": "overlay",
              "size": 10,
              "solidity": 0.2
             }
            },
            "type": "barpolar"
           }
          ],
          "carpet": [
           {
            "aaxis": {
             "endlinecolor": "#2a3f5f",
             "gridcolor": "white",
             "linecolor": "white",
             "minorgridcolor": "white",
             "startlinecolor": "#2a3f5f"
            },
            "baxis": {
             "endlinecolor": "#2a3f5f",
             "gridcolor": "white",
             "linecolor": "white",
             "minorgridcolor": "white",
             "startlinecolor": "#2a3f5f"
            },
            "type": "carpet"
           }
          ],
          "choropleth": [
           {
            "colorbar": {
             "outlinewidth": 0,
             "ticks": ""
            },
            "type": "choropleth"
           }
          ],
          "contour": [
           {
            "colorbar": {
             "outlinewidth": 0,
             "ticks": ""
            },
            "colorscale": [
             [
              0,
              "#0d0887"
             ],
             [
              0.1111111111111111,
              "#46039f"
             ],
             [
              0.2222222222222222,
              "#7201a8"
             ],
             [
              0.3333333333333333,
              "#9c179e"
             ],
             [
              0.4444444444444444,
              "#bd3786"
             ],
             [
              0.5555555555555556,
              "#d8576b"
             ],
             [
              0.6666666666666666,
              "#ed7953"
             ],
             [
              0.7777777777777778,
              "#fb9f3a"
             ],
             [
              0.8888888888888888,
              "#fdca26"
             ],
             [
              1,
              "#f0f921"
             ]
            ],
            "type": "contour"
           }
          ],
          "contourcarpet": [
           {
            "colorbar": {
             "outlinewidth": 0,
             "ticks": ""
            },
            "type": "contourcarpet"
           }
          ],
          "heatmap": [
           {
            "colorbar": {
             "outlinewidth": 0,
             "ticks": ""
            },
            "colorscale": [
             [
              0,
              "#0d0887"
             ],
             [
              0.1111111111111111,
              "#46039f"
             ],
             [
              0.2222222222222222,
              "#7201a8"
             ],
             [
              0.3333333333333333,
              "#9c179e"
             ],
             [
              0.4444444444444444,
              "#bd3786"
             ],
             [
              0.5555555555555556,
              "#d8576b"
             ],
             [
              0.6666666666666666,
              "#ed7953"
             ],
             [
              0.7777777777777778,
              "#fb9f3a"
             ],
             [
              0.8888888888888888,
              "#fdca26"
             ],
             [
              1,
              "#f0f921"
             ]
            ],
            "type": "heatmap"
           }
          ],
          "heatmapgl": [
           {
            "colorbar": {
             "outlinewidth": 0,
             "ticks": ""
            },
            "colorscale": [
             [
              0,
              "#0d0887"
             ],
             [
              0.1111111111111111,
              "#46039f"
             ],
             [
              0.2222222222222222,
              "#7201a8"
             ],
             [
              0.3333333333333333,
              "#9c179e"
             ],
             [
              0.4444444444444444,
              "#bd3786"
             ],
             [
              0.5555555555555556,
              "#d8576b"
             ],
             [
              0.6666666666666666,
              "#ed7953"
             ],
             [
              0.7777777777777778,
              "#fb9f3a"
             ],
             [
              0.8888888888888888,
              "#fdca26"
             ],
             [
              1,
              "#f0f921"
             ]
            ],
            "type": "heatmapgl"
           }
          ],
          "histogram": [
           {
            "marker": {
             "pattern": {
              "fillmode": "overlay",
              "size": 10,
              "solidity": 0.2
             }
            },
            "type": "histogram"
           }
          ],
          "histogram2d": [
           {
            "colorbar": {
             "outlinewidth": 0,
             "ticks": ""
            },
            "colorscale": [
             [
              0,
              "#0d0887"
             ],
             [
              0.1111111111111111,
              "#46039f"
             ],
             [
              0.2222222222222222,
              "#7201a8"
             ],
             [
              0.3333333333333333,
              "#9c179e"
             ],
             [
              0.4444444444444444,
              "#bd3786"
             ],
             [
              0.5555555555555556,
              "#d8576b"
             ],
             [
              0.6666666666666666,
              "#ed7953"
             ],
             [
              0.7777777777777778,
              "#fb9f3a"
             ],
             [
              0.8888888888888888,
              "#fdca26"
             ],
             [
              1,
              "#f0f921"
             ]
            ],
            "type": "histogram2d"
           }
          ],
          "histogram2dcontour": [
           {
            "colorbar": {
             "outlinewidth": 0,
             "ticks": ""
            },
            "colorscale": [
             [
              0,
              "#0d0887"
             ],
             [
              0.1111111111111111,
              "#46039f"
             ],
             [
              0.2222222222222222,
              "#7201a8"
             ],
             [
              0.3333333333333333,
              "#9c179e"
             ],
             [
              0.4444444444444444,
              "#bd3786"
             ],
             [
              0.5555555555555556,
              "#d8576b"
             ],
             [
              0.6666666666666666,
              "#ed7953"
             ],
             [
              0.7777777777777778,
              "#fb9f3a"
             ],
             [
              0.8888888888888888,
              "#fdca26"
             ],
             [
              1,
              "#f0f921"
             ]
            ],
            "type": "histogram2dcontour"
           }
          ],
          "mesh3d": [
           {
            "colorbar": {
             "outlinewidth": 0,
             "ticks": ""
            },
            "type": "mesh3d"
           }
          ],
          "parcoords": [
           {
            "line": {
             "colorbar": {
              "outlinewidth": 0,
              "ticks": ""
             }
            },
            "type": "parcoords"
           }
          ],
          "pie": [
           {
            "automargin": true,
            "type": "pie"
           }
          ],
          "scatter": [
           {
            "fillpattern": {
             "fillmode": "overlay",
             "size": 10,
             "solidity": 0.2
            },
            "type": "scatter"
           }
          ],
          "scatter3d": [
           {
            "line": {
             "colorbar": {
              "outlinewidth": 0,
              "ticks": ""
             }
            },
            "marker": {
             "colorbar": {
              "outlinewidth": 0,
              "ticks": ""
             }
            },
            "type": "scatter3d"
           }
          ],
          "scattercarpet": [
           {
            "marker": {
             "colorbar": {
              "outlinewidth": 0,
              "ticks": ""
             }
            },
            "type": "scattercarpet"
           }
          ],
          "scattergeo": [
           {
            "marker": {
             "colorbar": {
              "outlinewidth": 0,
              "ticks": ""
             }
            },
            "type": "scattergeo"
           }
          ],
          "scattergl": [
           {
            "marker": {
             "colorbar": {
              "outlinewidth": 0,
              "ticks": ""
             }
            },
            "type": "scattergl"
           }
          ],
          "scattermapbox": [
           {
            "marker": {
             "colorbar": {
              "outlinewidth": 0,
              "ticks": ""
             }
            },
            "type": "scattermapbox"
           }
          ],
          "scatterpolar": [
           {
            "marker": {
             "colorbar": {
              "outlinewidth": 0,
              "ticks": ""
             }
            },
            "type": "scatterpolar"
           }
          ],
          "scatterpolargl": [
           {
            "marker": {
             "colorbar": {
              "outlinewidth": 0,
              "ticks": ""
             }
            },
            "type": "scatterpolargl"
           }
          ],
          "scatterternary": [
           {
            "marker": {
             "colorbar": {
              "outlinewidth": 0,
              "ticks": ""
             }
            },
            "type": "scatterternary"
           }
          ],
          "surface": [
           {
            "colorbar": {
             "outlinewidth": 0,
             "ticks": ""
            },
            "colorscale": [
             [
              0,
              "#0d0887"
             ],
             [
              0.1111111111111111,
              "#46039f"
             ],
             [
              0.2222222222222222,
              "#7201a8"
             ],
             [
              0.3333333333333333,
              "#9c179e"
             ],
             [
              0.4444444444444444,
              "#bd3786"
             ],
             [
              0.5555555555555556,
              "#d8576b"
             ],
             [
              0.6666666666666666,
              "#ed7953"
             ],
             [
              0.7777777777777778,
              "#fb9f3a"
             ],
             [
              0.8888888888888888,
              "#fdca26"
             ],
             [
              1,
              "#f0f921"
             ]
            ],
            "type": "surface"
           }
          ],
          "table": [
           {
            "cells": {
             "fill": {
              "color": "#EBF0F8"
             },
             "line": {
              "color": "white"
             }
            },
            "header": {
             "fill": {
              "color": "#C8D4E3"
             },
             "line": {
              "color": "white"
             }
            },
            "type": "table"
           }
          ]
         },
         "layout": {
          "annotationdefaults": {
           "arrowcolor": "#2a3f5f",
           "arrowhead": 0,
           "arrowwidth": 1
          },
          "autotypenumbers": "strict",
          "coloraxis": {
           "colorbar": {
            "outlinewidth": 0,
            "ticks": ""
           }
          },
          "colorscale": {
           "diverging": [
            [
             0,
             "#8e0152"
            ],
            [
             0.1,
             "#c51b7d"
            ],
            [
             0.2,
             "#de77ae"
            ],
            [
             0.3,
             "#f1b6da"
            ],
            [
             0.4,
             "#fde0ef"
            ],
            [
             0.5,
             "#f7f7f7"
            ],
            [
             0.6,
             "#e6f5d0"
            ],
            [
             0.7,
             "#b8e186"
            ],
            [
             0.8,
             "#7fbc41"
            ],
            [
             0.9,
             "#4d9221"
            ],
            [
             1,
             "#276419"
            ]
           ],
           "sequential": [
            [
             0,
             "#0d0887"
            ],
            [
             0.1111111111111111,
             "#46039f"
            ],
            [
             0.2222222222222222,
             "#7201a8"
            ],
            [
             0.3333333333333333,
             "#9c179e"
            ],
            [
             0.4444444444444444,
             "#bd3786"
            ],
            [
             0.5555555555555556,
             "#d8576b"
            ],
            [
             0.6666666666666666,
             "#ed7953"
            ],
            [
             0.7777777777777778,
             "#fb9f3a"
            ],
            [
             0.8888888888888888,
             "#fdca26"
            ],
            [
             1,
             "#f0f921"
            ]
           ],
           "sequentialminus": [
            [
             0,
             "#0d0887"
            ],
            [
             0.1111111111111111,
             "#46039f"
            ],
            [
             0.2222222222222222,
             "#7201a8"
            ],
            [
             0.3333333333333333,
             "#9c179e"
            ],
            [
             0.4444444444444444,
             "#bd3786"
            ],
            [
             0.5555555555555556,
             "#d8576b"
            ],
            [
             0.6666666666666666,
             "#ed7953"
            ],
            [
             0.7777777777777778,
             "#fb9f3a"
            ],
            [
             0.8888888888888888,
             "#fdca26"
            ],
            [
             1,
             "#f0f921"
            ]
           ]
          },
          "colorway": [
           "#636efa",
           "#EF553B",
           "#00cc96",
           "#ab63fa",
           "#FFA15A",
           "#19d3f3",
           "#FF6692",
           "#B6E880",
           "#FF97FF",
           "#FECB52"
          ],
          "font": {
           "color": "#2a3f5f"
          },
          "geo": {
           "bgcolor": "white",
           "lakecolor": "white",
           "landcolor": "#E5ECF6",
           "showlakes": true,
           "showland": true,
           "subunitcolor": "white"
          },
          "hoverlabel": {
           "align": "left"
          },
          "hovermode": "closest",
          "mapbox": {
           "style": "light"
          },
          "paper_bgcolor": "white",
          "plot_bgcolor": "#E5ECF6",
          "polar": {
           "angularaxis": {
            "gridcolor": "white",
            "linecolor": "white",
            "ticks": ""
           },
           "bgcolor": "#E5ECF6",
           "radialaxis": {
            "gridcolor": "white",
            "linecolor": "white",
            "ticks": ""
           }
          },
          "scene": {
           "xaxis": {
            "backgroundcolor": "#E5ECF6",
            "gridcolor": "white",
            "gridwidth": 2,
            "linecolor": "white",
            "showbackground": true,
            "ticks": "",
            "zerolinecolor": "white"
           },
           "yaxis": {
            "backgroundcolor": "#E5ECF6",
            "gridcolor": "white",
            "gridwidth": 2,
            "linecolor": "white",
            "showbackground": true,
            "ticks": "",
            "zerolinecolor": "white"
           },
           "zaxis": {
            "backgroundcolor": "#E5ECF6",
            "gridcolor": "white",
            "gridwidth": 2,
            "linecolor": "white",
            "showbackground": true,
            "ticks": "",
            "zerolinecolor": "white"
           }
          },
          "shapedefaults": {
           "line": {
            "color": "#2a3f5f"
           }
          },
          "ternary": {
           "aaxis": {
            "gridcolor": "white",
            "linecolor": "white",
            "ticks": ""
           },
           "baxis": {
            "gridcolor": "white",
            "linecolor": "white",
            "ticks": ""
           },
           "bgcolor": "#E5ECF6",
           "caxis": {
            "gridcolor": "white",
            "linecolor": "white",
            "ticks": ""
           }
          },
          "title": {
           "x": 0.05
          },
          "xaxis": {
           "automargin": true,
           "gridcolor": "white",
           "linecolor": "white",
           "ticks": "",
           "title": {
            "standoff": 15
           },
           "zerolinecolor": "white",
           "zerolinewidth": 2
          },
          "yaxis": {
           "automargin": true,
           "gridcolor": "white",
           "linecolor": "white",
           "ticks": "",
           "title": {
            "standoff": 15
           },
           "zerolinecolor": "white",
           "zerolinewidth": 2
          }
         }
        },
        "xaxis": {
         "anchor": "y",
         "domain": [
          0,
          1
         ],
         "title": {
          "text": "x"
         }
        },
        "yaxis": {
         "anchor": "x",
         "domain": [
          0,
          1
         ],
         "title": {
          "text": "y"
         }
        }
       }
      }
     },
     "metadata": {},
     "output_type": "display_data"
    },
    {
     "name": "stderr",
     "output_type": "stream",
     "text": [
      "/var/folders/7v/lh4dpmwx58b8f4ly3bvf48000000gn/T/ipykernel_7499/2615123625.py:41: RuntimeWarning:\n",
      "\n",
      "divide by zero encountered in scalar divide\n",
      "\n",
      "/var/folders/7v/lh4dpmwx58b8f4ly3bvf48000000gn/T/ipykernel_7499/2615123625.py:41: RuntimeWarning:\n",
      "\n",
      "invalid value encountered in scalar multiply\n",
      "\n"
     ]
    },
    {
     "data": {
      "application/vnd.plotly.v1+json": {
       "config": {
        "plotlyServerURL": "https://plotly.com"
       },
       "data": [
        {
         "hovertemplate": "x=%{x}<br>y=%{y}<extra></extra>",
         "legendgroup": "",
         "marker": {
          "color": "#636efa",
          "symbol": "circle"
         },
         "mode": "markers",
         "name": "",
         "orientation": "v",
         "showlegend": false,
         "type": "scatter",
         "x": [
          -5,
          -4.9,
          -4.8,
          -4.7,
          -4.6,
          -4.5,
          -4.4,
          -4.3,
          -4.2,
          -4.1,
          -4,
          -3.9,
          -3.8,
          -3.7,
          -3.6,
          -3.5,
          -3.4,
          -3.3,
          -3.2,
          -3.1,
          -3,
          -2.9,
          -2.8,
          -2.7,
          -2.6,
          -2.5,
          -2.4,
          -2.3,
          -2.2,
          -2.1,
          -2,
          -1.9,
          -1.8,
          -1.7,
          -1.6,
          -1.5,
          -1.4,
          -1.3,
          -1.2,
          -1.1,
          -1,
          -0.9,
          -0.8,
          -0.7,
          -0.6,
          -0.5,
          -0.4,
          -0.3,
          -0.2,
          -0.1,
          0,
          0.1,
          0.2,
          0.3,
          0.4,
          0.5,
          0.6,
          0.7,
          0.8,
          0.9,
          1,
          1.1,
          1.2,
          1.3,
          1.4,
          1.5,
          1.6,
          1.7,
          1.8,
          1.9,
          2,
          2.1,
          2.2,
          2.3,
          2.4,
          2.5,
          2.6,
          2.7,
          2.8,
          2.9,
          3
         ],
         "xaxis": "x",
         "y": [
          null,
          null,
          null,
          null,
          null,
          null,
          null,
          null,
          null,
          null,
          null,
          null,
          null,
          null,
          null,
          null,
          null,
          null,
          null,
          null,
          null,
          null,
          null,
          null,
          null,
          null,
          null,
          null,
          null,
          null,
          null,
          null,
          null,
          null,
          null,
          null,
          null,
          null,
          null,
          null,
          null,
          null,
          null,
          null,
          null,
          null,
          null,
          null,
          null,
          null,
          null,
          null,
          null,
          null,
          null,
          null,
          null,
          null,
          null,
          null,
          null,
          null,
          null,
          null,
          null,
          null,
          null,
          null,
          null,
          null,
          null,
          null,
          null,
          null,
          null,
          null,
          null,
          null,
          null,
          null,
          null
         ],
         "yaxis": "y"
        }
       ],
       "layout": {
        "legend": {
         "tracegroupgap": 0
        },
        "margin": {
         "t": 60
        },
        "template": {
         "data": {
          "bar": [
           {
            "error_x": {
             "color": "#2a3f5f"
            },
            "error_y": {
             "color": "#2a3f5f"
            },
            "marker": {
             "line": {
              "color": "#E5ECF6",
              "width": 0.5
             },
             "pattern": {
              "fillmode": "overlay",
              "size": 10,
              "solidity": 0.2
             }
            },
            "type": "bar"
           }
          ],
          "barpolar": [
           {
            "marker": {
             "line": {
              "color": "#E5ECF6",
              "width": 0.5
             },
             "pattern": {
              "fillmode": "overlay",
              "size": 10,
              "solidity": 0.2
             }
            },
            "type": "barpolar"
           }
          ],
          "carpet": [
           {
            "aaxis": {
             "endlinecolor": "#2a3f5f",
             "gridcolor": "white",
             "linecolor": "white",
             "minorgridcolor": "white",
             "startlinecolor": "#2a3f5f"
            },
            "baxis": {
             "endlinecolor": "#2a3f5f",
             "gridcolor": "white",
             "linecolor": "white",
             "minorgridcolor": "white",
             "startlinecolor": "#2a3f5f"
            },
            "type": "carpet"
           }
          ],
          "choropleth": [
           {
            "colorbar": {
             "outlinewidth": 0,
             "ticks": ""
            },
            "type": "choropleth"
           }
          ],
          "contour": [
           {
            "colorbar": {
             "outlinewidth": 0,
             "ticks": ""
            },
            "colorscale": [
             [
              0,
              "#0d0887"
             ],
             [
              0.1111111111111111,
              "#46039f"
             ],
             [
              0.2222222222222222,
              "#7201a8"
             ],
             [
              0.3333333333333333,
              "#9c179e"
             ],
             [
              0.4444444444444444,
              "#bd3786"
             ],
             [
              0.5555555555555556,
              "#d8576b"
             ],
             [
              0.6666666666666666,
              "#ed7953"
             ],
             [
              0.7777777777777778,
              "#fb9f3a"
             ],
             [
              0.8888888888888888,
              "#fdca26"
             ],
             [
              1,
              "#f0f921"
             ]
            ],
            "type": "contour"
           }
          ],
          "contourcarpet": [
           {
            "colorbar": {
             "outlinewidth": 0,
             "ticks": ""
            },
            "type": "contourcarpet"
           }
          ],
          "heatmap": [
           {
            "colorbar": {
             "outlinewidth": 0,
             "ticks": ""
            },
            "colorscale": [
             [
              0,
              "#0d0887"
             ],
             [
              0.1111111111111111,
              "#46039f"
             ],
             [
              0.2222222222222222,
              "#7201a8"
             ],
             [
              0.3333333333333333,
              "#9c179e"
             ],
             [
              0.4444444444444444,
              "#bd3786"
             ],
             [
              0.5555555555555556,
              "#d8576b"
             ],
             [
              0.6666666666666666,
              "#ed7953"
             ],
             [
              0.7777777777777778,
              "#fb9f3a"
             ],
             [
              0.8888888888888888,
              "#fdca26"
             ],
             [
              1,
              "#f0f921"
             ]
            ],
            "type": "heatmap"
           }
          ],
          "heatmapgl": [
           {
            "colorbar": {
             "outlinewidth": 0,
             "ticks": ""
            },
            "colorscale": [
             [
              0,
              "#0d0887"
             ],
             [
              0.1111111111111111,
              "#46039f"
             ],
             [
              0.2222222222222222,
              "#7201a8"
             ],
             [
              0.3333333333333333,
              "#9c179e"
             ],
             [
              0.4444444444444444,
              "#bd3786"
             ],
             [
              0.5555555555555556,
              "#d8576b"
             ],
             [
              0.6666666666666666,
              "#ed7953"
             ],
             [
              0.7777777777777778,
              "#fb9f3a"
             ],
             [
              0.8888888888888888,
              "#fdca26"
             ],
             [
              1,
              "#f0f921"
             ]
            ],
            "type": "heatmapgl"
           }
          ],
          "histogram": [
           {
            "marker": {
             "pattern": {
              "fillmode": "overlay",
              "size": 10,
              "solidity": 0.2
             }
            },
            "type": "histogram"
           }
          ],
          "histogram2d": [
           {
            "colorbar": {
             "outlinewidth": 0,
             "ticks": ""
            },
            "colorscale": [
             [
              0,
              "#0d0887"
             ],
             [
              0.1111111111111111,
              "#46039f"
             ],
             [
              0.2222222222222222,
              "#7201a8"
             ],
             [
              0.3333333333333333,
              "#9c179e"
             ],
             [
              0.4444444444444444,
              "#bd3786"
             ],
             [
              0.5555555555555556,
              "#d8576b"
             ],
             [
              0.6666666666666666,
              "#ed7953"
             ],
             [
              0.7777777777777778,
              "#fb9f3a"
             ],
             [
              0.8888888888888888,
              "#fdca26"
             ],
             [
              1,
              "#f0f921"
             ]
            ],
            "type": "histogram2d"
           }
          ],
          "histogram2dcontour": [
           {
            "colorbar": {
             "outlinewidth": 0,
             "ticks": ""
            },
            "colorscale": [
             [
              0,
              "#0d0887"
             ],
             [
              0.1111111111111111,
              "#46039f"
             ],
             [
              0.2222222222222222,
              "#7201a8"
             ],
             [
              0.3333333333333333,
              "#9c179e"
             ],
             [
              0.4444444444444444,
              "#bd3786"
             ],
             [
              0.5555555555555556,
              "#d8576b"
             ],
             [
              0.6666666666666666,
              "#ed7953"
             ],
             [
              0.7777777777777778,
              "#fb9f3a"
             ],
             [
              0.8888888888888888,
              "#fdca26"
             ],
             [
              1,
              "#f0f921"
             ]
            ],
            "type": "histogram2dcontour"
           }
          ],
          "mesh3d": [
           {
            "colorbar": {
             "outlinewidth": 0,
             "ticks": ""
            },
            "type": "mesh3d"
           }
          ],
          "parcoords": [
           {
            "line": {
             "colorbar": {
              "outlinewidth": 0,
              "ticks": ""
             }
            },
            "type": "parcoords"
           }
          ],
          "pie": [
           {
            "automargin": true,
            "type": "pie"
           }
          ],
          "scatter": [
           {
            "fillpattern": {
             "fillmode": "overlay",
             "size": 10,
             "solidity": 0.2
            },
            "type": "scatter"
           }
          ],
          "scatter3d": [
           {
            "line": {
             "colorbar": {
              "outlinewidth": 0,
              "ticks": ""
             }
            },
            "marker": {
             "colorbar": {
              "outlinewidth": 0,
              "ticks": ""
             }
            },
            "type": "scatter3d"
           }
          ],
          "scattercarpet": [
           {
            "marker": {
             "colorbar": {
              "outlinewidth": 0,
              "ticks": ""
             }
            },
            "type": "scattercarpet"
           }
          ],
          "scattergeo": [
           {
            "marker": {
             "colorbar": {
              "outlinewidth": 0,
              "ticks": ""
             }
            },
            "type": "scattergeo"
           }
          ],
          "scattergl": [
           {
            "marker": {
             "colorbar": {
              "outlinewidth": 0,
              "ticks": ""
             }
            },
            "type": "scattergl"
           }
          ],
          "scattermapbox": [
           {
            "marker": {
             "colorbar": {
              "outlinewidth": 0,
              "ticks": ""
             }
            },
            "type": "scattermapbox"
           }
          ],
          "scatterpolar": [
           {
            "marker": {
             "colorbar": {
              "outlinewidth": 0,
              "ticks": ""
             }
            },
            "type": "scatterpolar"
           }
          ],
          "scatterpolargl": [
           {
            "marker": {
             "colorbar": {
              "outlinewidth": 0,
              "ticks": ""
             }
            },
            "type": "scatterpolargl"
           }
          ],
          "scatterternary": [
           {
            "marker": {
             "colorbar": {
              "outlinewidth": 0,
              "ticks": ""
             }
            },
            "type": "scatterternary"
           }
          ],
          "surface": [
           {
            "colorbar": {
             "outlinewidth": 0,
             "ticks": ""
            },
            "colorscale": [
             [
              0,
              "#0d0887"
             ],
             [
              0.1111111111111111,
              "#46039f"
             ],
             [
              0.2222222222222222,
              "#7201a8"
             ],
             [
              0.3333333333333333,
              "#9c179e"
             ],
             [
              0.4444444444444444,
              "#bd3786"
             ],
             [
              0.5555555555555556,
              "#d8576b"
             ],
             [
              0.6666666666666666,
              "#ed7953"
             ],
             [
              0.7777777777777778,
              "#fb9f3a"
             ],
             [
              0.8888888888888888,
              "#fdca26"
             ],
             [
              1,
              "#f0f921"
             ]
            ],
            "type": "surface"
           }
          ],
          "table": [
           {
            "cells": {
             "fill": {
              "color": "#EBF0F8"
             },
             "line": {
              "color": "white"
             }
            },
            "header": {
             "fill": {
              "color": "#C8D4E3"
             },
             "line": {
              "color": "white"
             }
            },
            "type": "table"
           }
          ]
         },
         "layout": {
          "annotationdefaults": {
           "arrowcolor": "#2a3f5f",
           "arrowhead": 0,
           "arrowwidth": 1
          },
          "autotypenumbers": "strict",
          "coloraxis": {
           "colorbar": {
            "outlinewidth": 0,
            "ticks": ""
           }
          },
          "colorscale": {
           "diverging": [
            [
             0,
             "#8e0152"
            ],
            [
             0.1,
             "#c51b7d"
            ],
            [
             0.2,
             "#de77ae"
            ],
            [
             0.3,
             "#f1b6da"
            ],
            [
             0.4,
             "#fde0ef"
            ],
            [
             0.5,
             "#f7f7f7"
            ],
            [
             0.6,
             "#e6f5d0"
            ],
            [
             0.7,
             "#b8e186"
            ],
            [
             0.8,
             "#7fbc41"
            ],
            [
             0.9,
             "#4d9221"
            ],
            [
             1,
             "#276419"
            ]
           ],
           "sequential": [
            [
             0,
             "#0d0887"
            ],
            [
             0.1111111111111111,
             "#46039f"
            ],
            [
             0.2222222222222222,
             "#7201a8"
            ],
            [
             0.3333333333333333,
             "#9c179e"
            ],
            [
             0.4444444444444444,
             "#bd3786"
            ],
            [
             0.5555555555555556,
             "#d8576b"
            ],
            [
             0.6666666666666666,
             "#ed7953"
            ],
            [
             0.7777777777777778,
             "#fb9f3a"
            ],
            [
             0.8888888888888888,
             "#fdca26"
            ],
            [
             1,
             "#f0f921"
            ]
           ],
           "sequentialminus": [
            [
             0,
             "#0d0887"
            ],
            [
             0.1111111111111111,
             "#46039f"
            ],
            [
             0.2222222222222222,
             "#7201a8"
            ],
            [
             0.3333333333333333,
             "#9c179e"
            ],
            [
             0.4444444444444444,
             "#bd3786"
            ],
            [
             0.5555555555555556,
             "#d8576b"
            ],
            [
             0.6666666666666666,
             "#ed7953"
            ],
            [
             0.7777777777777778,
             "#fb9f3a"
            ],
            [
             0.8888888888888888,
             "#fdca26"
            ],
            [
             1,
             "#f0f921"
            ]
           ]
          },
          "colorway": [
           "#636efa",
           "#EF553B",
           "#00cc96",
           "#ab63fa",
           "#FFA15A",
           "#19d3f3",
           "#FF6692",
           "#B6E880",
           "#FF97FF",
           "#FECB52"
          ],
          "font": {
           "color": "#2a3f5f"
          },
          "geo": {
           "bgcolor": "white",
           "lakecolor": "white",
           "landcolor": "#E5ECF6",
           "showlakes": true,
           "showland": true,
           "subunitcolor": "white"
          },
          "hoverlabel": {
           "align": "left"
          },
          "hovermode": "closest",
          "mapbox": {
           "style": "light"
          },
          "paper_bgcolor": "white",
          "plot_bgcolor": "#E5ECF6",
          "polar": {
           "angularaxis": {
            "gridcolor": "white",
            "linecolor": "white",
            "ticks": ""
           },
           "bgcolor": "#E5ECF6",
           "radialaxis": {
            "gridcolor": "white",
            "linecolor": "white",
            "ticks": ""
           }
          },
          "scene": {
           "xaxis": {
            "backgroundcolor": "#E5ECF6",
            "gridcolor": "white",
            "gridwidth": 2,
            "linecolor": "white",
            "showbackground": true,
            "ticks": "",
            "zerolinecolor": "white"
           },
           "yaxis": {
            "backgroundcolor": "#E5ECF6",
            "gridcolor": "white",
            "gridwidth": 2,
            "linecolor": "white",
            "showbackground": true,
            "ticks": "",
            "zerolinecolor": "white"
           },
           "zaxis": {
            "backgroundcolor": "#E5ECF6",
            "gridcolor": "white",
            "gridwidth": 2,
            "linecolor": "white",
            "showbackground": true,
            "ticks": "",
            "zerolinecolor": "white"
           }
          },
          "shapedefaults": {
           "line": {
            "color": "#2a3f5f"
           }
          },
          "ternary": {
           "aaxis": {
            "gridcolor": "white",
            "linecolor": "white",
            "ticks": ""
           },
           "baxis": {
            "gridcolor": "white",
            "linecolor": "white",
            "ticks": ""
           },
           "bgcolor": "#E5ECF6",
           "caxis": {
            "gridcolor": "white",
            "linecolor": "white",
            "ticks": ""
           }
          },
          "title": {
           "x": 0.05
          },
          "xaxis": {
           "automargin": true,
           "gridcolor": "white",
           "linecolor": "white",
           "ticks": "",
           "title": {
            "standoff": 15
           },
           "zerolinecolor": "white",
           "zerolinewidth": 2
          },
          "yaxis": {
           "automargin": true,
           "gridcolor": "white",
           "linecolor": "white",
           "ticks": "",
           "title": {
            "standoff": 15
           },
           "zerolinecolor": "white",
           "zerolinewidth": 2
          }
         }
        },
        "xaxis": {
         "anchor": "y",
         "domain": [
          0,
          1
         ],
         "title": {
          "text": "x"
         }
        },
        "yaxis": {
         "anchor": "x",
         "domain": [
          0,
          1
         ],
         "title": {
          "text": "y"
         }
        }
       }
      }
     },
     "metadata": {},
     "output_type": "display_data"
    }
   ],
   "source": [
    "# plot_interp(random_x_datapoints, random_y_datapoints, step_size, start, end, n_points)\n",
    "plot_interp(equal_x_datapoints, equal_y_datapoints, step_size, start, end, n_points)\n",
    "plot_interp_lag(cheby_x_datapoints, cheby_y_datapoints, step_size, start, end, n_points)\n",
    "# plot_gumbel(step_size, start, end)"
   ]
  }
 ],
 "metadata": {
  "kernelspec": {
   "display_name": ".cs136",
   "language": "python",
   "name": "python3"
  },
  "language_info": {
   "codemirror_mode": {
    "name": "ipython",
    "version": 3
   },
   "file_extension": ".py",
   "mimetype": "text/x-python",
   "name": "python",
   "nbconvert_exporter": "python",
   "pygments_lexer": "ipython3",
   "version": "3.12.0"
  }
 },
 "nbformat": 4,
 "nbformat_minor": 2
}
