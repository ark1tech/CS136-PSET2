{
 "cells": [
  {
   "cell_type": "markdown",
   "metadata": {},
   "source": [
    "### Libraries"
   ]
  },
  {
   "cell_type": "code",
   "execution_count": 4,
   "metadata": {},
   "outputs": [],
   "source": [
    "import math\n",
    "import numpy as np\n",
    "import random\n",
    "\n",
    "import pandas \n",
    "import plotly.express as px"
   ]
  },
  {
   "cell_type": "markdown",
   "metadata": {},
   "source": [
    "### Constants"
   ]
  },
  {
   "cell_type": "code",
   "execution_count": 5,
   "metadata": {},
   "outputs": [],
   "source": [
    "# Notation: (weight, abscissa)\n",
    "GAUSS_LEGENDRE_VALUES = [\n",
    "    (0.2325515532308739, 0.0),\n",
    "    (0.2262831802628972, -0.2304583159551348),\n",
    "    (0.2262831802628972, 0.2304583159551348),\n",
    "    (0.2078160475368885, -0.4484927510364469),\n",
    "    (0.2078160475368885, 0.4484927510364469),\n",
    "    (0.1781459807619457, -0.6423493394403402),\n",
    "    (0.1781459807619457, 0.6423493394403402),\n",
    "    (0.1388735102197872, -0.8015780907333099),\n",
    "    (0.1388735102197872, 0.8015780907333099),\n",
    "    (0.0921214998377285, -0.9175983992229779),\n",
    "    (0.0921214998377285, 0.9175983992229779),\n",
    "    (0.0404840047653159, -0.9841830547185881),\n",
    "    (0.0404840047653159, 0.9841830547185881)\n",
    "]"
   ]
  },
  {
   "cell_type": "markdown",
   "metadata": {},
   "source": [
    "### Functions"
   ]
  },
  {
   "cell_type": "code",
   "execution_count": 6,
   "metadata": {},
   "outputs": [
    {
     "ename": "SyntaxError",
     "evalue": "invalid syntax (2445981797.py, line 6)",
     "output_type": "error",
     "traceback": [
      "\u001b[0;36m  Cell \u001b[0;32mIn[6], line 6\u001b[0;36m\u001b[0m\n\u001b[0;31m    f =\u001b[0m\n\u001b[0m        ^\u001b[0m\n\u001b[0;31mSyntaxError\u001b[0m\u001b[0;31m:\u001b[0m invalid syntax\n"
     ]
    }
   ],
   "source": [
    "# Integral in the denominator of the lambda variable\n",
    "def f_lambda_denom (a, b, s, k):\n",
    "    x = (b + a)/2 + ((b - a) * s)/2\n",
    "    dx = (b - a)/2\n",
    "    f = math.pow(s, 1/k) * math.pow(math.e, -s)\n",
    "    return f\n",
    "\n",
    "# Weibull distribution function\n",
    "def pdf_Weibull (a, b, t, k, mu):\n",
    "    x = (b + a)/2 + ((b - a) * t)/2\n",
    "    dx = (b - a)/2\n",
    "\n",
    "    varLambda = mu / f_lambda_denom()\n",
    "\n",
    "    f = .\n",
    "\n",
    "    return f"
   ]
  },
  {
   "cell_type": "code",
   "execution_count": null,
   "metadata": {},
   "outputs": [],
   "source": [
    "# Evaluation\n",
    "avg_life_expectancy = 78\n",
    "\n"
   ]
  }
 ],
 "metadata": {
  "kernelspec": {
   "display_name": "matlab",
   "language": "python",
   "name": "python3"
  },
  "language_info": {
   "codemirror_mode": {
    "name": "ipython",
    "version": 3
   },
   "file_extension": ".py",
   "mimetype": "text/x-python",
   "name": "python",
   "nbconvert_exporter": "python",
   "pygments_lexer": "ipython3",
   "version": "3.11.2"
  }
 },
 "nbformat": 4,
 "nbformat_minor": 2
}
