{
 "cells": [
  {
   "cell_type": "markdown",
   "metadata": {},
   "source": [
    "### Libraries"
   ]
  },
  {
   "cell_type": "code",
   "execution_count": 37,
   "metadata": {},
   "outputs": [],
   "source": [
    "import math\n",
    "import numpy as np\n",
    "\n",
    "import pandas \n",
    "import plotly.express as px"
   ]
  },
  {
   "cell_type": "markdown",
   "metadata": {},
   "source": [
    "### Constants"
   ]
  },
  {
   "cell_type": "code",
   "execution_count": 38,
   "metadata": {},
   "outputs": [],
   "source": [
    "# Gauss-Laguerre constants\n",
    "# Notation: (abscissa, weight)\n",
    "N = 6\n",
    "\n",
    "GAUSS_LAGUERRE = [\n",
    "    (0.222847, 0.458964),\n",
    "    (1.188932, 0.417),\n",
    "    (2.992736, 0.113373),\n",
    "    (5.775144, 0.0103992),\n",
    "    (9.837467, 0.000261017),\n",
    "    (15.982874, 0.000000898548)\n",
    "]"
   ]
  },
  {
   "cell_type": "markdown",
   "metadata": {},
   "source": [
    "### Functions"
   ]
  },
  {
   "cell_type": "code",
   "execution_count": 39,
   "metadata": {},
   "outputs": [],
   "source": [
    "# Weibull distribution function\n",
    "def f_Weibull (x, k, mu):\n",
    "    varLambdaDenom = lambda s, k : math.pow (s, 1/k)\n",
    "    \n",
    "    area = 0\n",
    "    for i in range(N):\n",
    "        area += GAUSS_LAGUERRE[i][1] * varLambdaDenom(GAUSS_LAGUERRE[i][0], k)\n",
    "    \n",
    "    varLambda = mu / area\n",
    "\n",
    "    f = (k / varLambda) * math.pow(x / varLambda, k-1) * math.pow(math.e, -math.pow(x / varLambda, k))\n",
    "\n",
    "    return f"
   ]
  },
  {
   "cell_type": "code",
   "execution_count": 40,
   "metadata": {},
   "outputs": [],
   "source": [
    "# Integral of Weibull function\n",
    "def cdf_Weibull (t, k, mu):\n",
    "    area = 0\n",
    "    \n",
    "    for i in range(N):\n",
    "        area += GAUSS_LAGUERRE[i][1] * f_Weibull( -GAUSS_LAGUERRE[i][0] + t, k, mu)\n",
    "\n",
    "    return area"
   ]
  },
  {
   "cell_type": "code",
   "execution_count": 41,
   "metadata": {},
   "outputs": [],
   "source": [
    "# Inverse survivability -- solved as root-finding problem using bisection method\n",
    "def surv_inv (alpha, a, b, k, mu):\n",
    "    isDiffSign = lambda x1, x2 : np.sign(x1) != np.sign(x2)\n",
    "\n",
    "    f = lambda x : cdf_Weibull(x, k, mu) - alpha\n",
    "\n",
    "    f_a = f(a)\n",
    "    f_b = f(b)\n",
    "    tol = 1.0e-4\n",
    "\n",
    "    if f_a == 0.0:\n",
    "        return a\n",
    "    \n",
    "    if f_b == 0.0:\n",
    "        return b\n",
    "    \n",
    "    n = int (math.ceil (math.log(abs(b-a) / tol) / math.log(2)))\n",
    "\n",
    "    for i in range(n):\n",
    "        c = 0.5 * (a + b)\n",
    "        f_c = f(c)\n",
    "\n",
    "        if f_c == 0.0:\n",
    "            return c\n",
    "\n",
    "        if isDiffSign(f_a, f_c):\n",
    "            a = c\n",
    "            f_a = f_c\n",
    "        \n",
    "        elif isDiffSign(f_b, f_c):\n",
    "            b = c\n",
    "            f_b = f_c\n",
    "\n",
    "    return 0.5 * (a+b)"
   ]
  },
  {
   "cell_type": "markdown",
   "metadata": {},
   "source": [
    "### Evaluation"
   ]
  },
  {
   "cell_type": "code",
   "execution_count": 42,
   "metadata": {},
   "outputs": [
    {
     "ename": "ValueError",
     "evalue": "math domain error",
     "output_type": "error",
     "traceback": [
      "\u001b[0;31m---------------------------------------------------------------------------\u001b[0m",
      "\u001b[0;31mValueError\u001b[0m                                Traceback (most recent call last)",
      "Cell \u001b[0;32mIn[42], line 19\u001b[0m\n\u001b[1;32m     16\u001b[0m area_incr \u001b[38;5;241m=\u001b[39m \u001b[38;5;241m0\u001b[39m\n\u001b[1;32m     18\u001b[0m \u001b[38;5;28;01mfor\u001b[39;00m i \u001b[38;5;129;01min\u001b[39;00m \u001b[38;5;28mrange\u001b[39m(N):\n\u001b[0;32m---> 19\u001b[0m     area_decr \u001b[38;5;241m+\u001b[39m\u001b[38;5;241m=\u001b[39m \u001b[43msurv_inv\u001b[49m\u001b[43m \u001b[49m\u001b[43m(\u001b[49m\u001b[43malpha\u001b[49m\u001b[43m,\u001b[49m\u001b[43m \u001b[49m\u001b[38;5;241;43m0\u001b[39;49m\u001b[43m,\u001b[49m\u001b[43m \u001b[49m\u001b[38;5;241;43m100\u001b[39;49m\u001b[43m,\u001b[49m\u001b[43m \u001b[49m\u001b[38;5;241;43m0.5\u001b[39;49m\u001b[43m,\u001b[49m\u001b[43m \u001b[49m\u001b[43mexpected_value\u001b[49m\u001b[43m)\u001b[49m\n\u001b[1;32m     20\u001b[0m     area_cons \u001b[38;5;241m+\u001b[39m\u001b[38;5;241m=\u001b[39m surv_inv (alpha, \u001b[38;5;241m0\u001b[39m, \u001b[38;5;241m100\u001b[39m, \u001b[38;5;241m1\u001b[39m, expected_value)\n\u001b[1;32m     21\u001b[0m     area_incr \u001b[38;5;241m+\u001b[39m\u001b[38;5;241m=\u001b[39m surv_inv (alpha, \u001b[38;5;241m0\u001b[39m, \u001b[38;5;241m100\u001b[39m, \u001b[38;5;241m2\u001b[39m, expected_value)\n",
      "Cell \u001b[0;32mIn[41], line 7\u001b[0m, in \u001b[0;36msurv_inv\u001b[0;34m(alpha, a, b, k, mu)\u001b[0m\n\u001b[1;32m      3\u001b[0m isDiffSign \u001b[38;5;241m=\u001b[39m \u001b[38;5;28;01mlambda\u001b[39;00m x1, x2 : np\u001b[38;5;241m.\u001b[39msign(x1) \u001b[38;5;241m!=\u001b[39m np\u001b[38;5;241m.\u001b[39msign(x2)\n\u001b[1;32m      5\u001b[0m f \u001b[38;5;241m=\u001b[39m \u001b[38;5;28;01mlambda\u001b[39;00m x : cdf_Weibull(x, k, mu) \u001b[38;5;241m-\u001b[39m alpha\n\u001b[0;32m----> 7\u001b[0m f_a \u001b[38;5;241m=\u001b[39m \u001b[43mf\u001b[49m\u001b[43m(\u001b[49m\u001b[43ma\u001b[49m\u001b[43m)\u001b[49m\n\u001b[1;32m      8\u001b[0m f_b \u001b[38;5;241m=\u001b[39m f(b)\n\u001b[1;32m      9\u001b[0m tol \u001b[38;5;241m=\u001b[39m \u001b[38;5;241m1.0e-4\u001b[39m\n",
      "Cell \u001b[0;32mIn[41], line 5\u001b[0m, in \u001b[0;36msurv_inv.<locals>.<lambda>\u001b[0;34m(x)\u001b[0m\n\u001b[1;32m      2\u001b[0m \u001b[38;5;28;01mdef\u001b[39;00m \u001b[38;5;21msurv_inv\u001b[39m (alpha, a, b, k, mu):\n\u001b[1;32m      3\u001b[0m     isDiffSign \u001b[38;5;241m=\u001b[39m \u001b[38;5;28;01mlambda\u001b[39;00m x1, x2 : np\u001b[38;5;241m.\u001b[39msign(x1) \u001b[38;5;241m!=\u001b[39m np\u001b[38;5;241m.\u001b[39msign(x2)\n\u001b[0;32m----> 5\u001b[0m     f \u001b[38;5;241m=\u001b[39m \u001b[38;5;28;01mlambda\u001b[39;00m x : \u001b[43mcdf_Weibull\u001b[49m\u001b[43m(\u001b[49m\u001b[43mx\u001b[49m\u001b[43m,\u001b[49m\u001b[43m \u001b[49m\u001b[43mk\u001b[49m\u001b[43m,\u001b[49m\u001b[43m \u001b[49m\u001b[43mmu\u001b[49m\u001b[43m)\u001b[49m \u001b[38;5;241m-\u001b[39m alpha\n\u001b[1;32m      7\u001b[0m     f_a \u001b[38;5;241m=\u001b[39m f(a)\n\u001b[1;32m      8\u001b[0m     f_b \u001b[38;5;241m=\u001b[39m f(b)\n",
      "Cell \u001b[0;32mIn[40], line 6\u001b[0m, in \u001b[0;36mcdf_Weibull\u001b[0;34m(t, k, mu)\u001b[0m\n\u001b[1;32m      3\u001b[0m area \u001b[38;5;241m=\u001b[39m \u001b[38;5;241m0\u001b[39m\n\u001b[1;32m      5\u001b[0m \u001b[38;5;28;01mfor\u001b[39;00m i \u001b[38;5;129;01min\u001b[39;00m \u001b[38;5;28mrange\u001b[39m(N):\n\u001b[0;32m----> 6\u001b[0m     area \u001b[38;5;241m+\u001b[39m\u001b[38;5;241m=\u001b[39m GAUSS_LAGUERRE[i][\u001b[38;5;241m1\u001b[39m] \u001b[38;5;241m*\u001b[39m \u001b[43mf_Weibull\u001b[49m\u001b[43m(\u001b[49m\u001b[43m \u001b[49m\u001b[38;5;241;43m-\u001b[39;49m\u001b[43mGAUSS_LAGUERRE\u001b[49m\u001b[43m[\u001b[49m\u001b[43mi\u001b[49m\u001b[43m]\u001b[49m\u001b[43m[\u001b[49m\u001b[38;5;241;43m0\u001b[39;49m\u001b[43m]\u001b[49m\u001b[43m \u001b[49m\u001b[38;5;241;43m+\u001b[39;49m\u001b[43m \u001b[49m\u001b[43mt\u001b[49m\u001b[43m,\u001b[49m\u001b[43m \u001b[49m\u001b[43mk\u001b[49m\u001b[43m,\u001b[49m\u001b[43m \u001b[49m\u001b[43mmu\u001b[49m\u001b[43m)\u001b[49m\n\u001b[1;32m      8\u001b[0m \u001b[38;5;28;01mreturn\u001b[39;00m area\n",
      "Cell \u001b[0;32mIn[39], line 11\u001b[0m, in \u001b[0;36mf_Weibull\u001b[0;34m(x, k, mu)\u001b[0m\n\u001b[1;32m      7\u001b[0m     area \u001b[38;5;241m+\u001b[39m\u001b[38;5;241m=\u001b[39m GAUSS_LAGUERRE[i][\u001b[38;5;241m1\u001b[39m] \u001b[38;5;241m*\u001b[39m varLambdaDenom(GAUSS_LAGUERRE[i][\u001b[38;5;241m0\u001b[39m], k)\n\u001b[1;32m      9\u001b[0m varLambda \u001b[38;5;241m=\u001b[39m mu \u001b[38;5;241m/\u001b[39m area\n\u001b[0;32m---> 11\u001b[0m f \u001b[38;5;241m=\u001b[39m (k \u001b[38;5;241m/\u001b[39m varLambda) \u001b[38;5;241m*\u001b[39m \u001b[43mmath\u001b[49m\u001b[38;5;241;43m.\u001b[39;49m\u001b[43mpow\u001b[49m\u001b[43m(\u001b[49m\u001b[43mx\u001b[49m\u001b[43m \u001b[49m\u001b[38;5;241;43m/\u001b[39;49m\u001b[43m \u001b[49m\u001b[43mvarLambda\u001b[49m\u001b[43m,\u001b[49m\u001b[43m \u001b[49m\u001b[43mk\u001b[49m\u001b[38;5;241;43m-\u001b[39;49m\u001b[38;5;241;43m1\u001b[39;49m\u001b[43m)\u001b[49m \u001b[38;5;241m*\u001b[39m math\u001b[38;5;241m.\u001b[39mpow(math\u001b[38;5;241m.\u001b[39me, \u001b[38;5;241m-\u001b[39mmath\u001b[38;5;241m.\u001b[39mpow(x \u001b[38;5;241m/\u001b[39m varLambda, k))\n\u001b[1;32m     13\u001b[0m \u001b[38;5;28;01mreturn\u001b[39;00m f\n",
      "\u001b[0;31mValueError\u001b[0m: math domain error"
     ]
    }
   ],
   "source": [
    "# Mu; average life expectancy\n",
    "expected_value = 78\n",
    "\n",
    "# List for values\n",
    "y_CDF_decr = []\n",
    "y_CDF_cons = []\n",
    "y_CDF_incr = []\n",
    "x_values = []\n",
    "\n",
    "# For alpha in [0,1] with 0.01 step\n",
    "for alpha in range(0, 100, 1):\n",
    "    alpha /= 100\n",
    "\n",
    "    area_decr = 0\n",
    "    area_cons = 0\n",
    "    area_incr = 0\n",
    "\n",
    "    for i in range(N):\n",
    "        area_decr += surv_inv (alpha, 0, 100, 0.5, expected_value)\n",
    "        area_cons += surv_inv (alpha, 0, 100, 1, expected_value)\n",
    "        area_incr += surv_inv (alpha, 0, 100, 2, expected_value)\n",
    "\n",
    "    x_values.append(alpha)\n",
    "\n",
    "    y_CDF_decr.append(area_decr)\n",
    "    y_CDF_cons.append(area_cons)\n",
    "    y_CDF_incr.append(area_incr)"
   ]
  },
  {
   "cell_type": "markdown",
   "metadata": {},
   "source": [
    "### Plotting"
   ]
  },
  {
   "cell_type": "code",
   "execution_count": null,
   "metadata": {},
   "outputs": [],
   "source": []
  }
 ],
 "metadata": {
  "kernelspec": {
   "display_name": "matlab",
   "language": "python",
   "name": "python3"
  },
  "language_info": {
   "codemirror_mode": {
    "name": "ipython",
    "version": 3
   },
   "file_extension": ".py",
   "mimetype": "text/x-python",
   "name": "python",
   "nbconvert_exporter": "python",
   "pygments_lexer": "ipython3",
   "version": "3.11.2"
  }
 },
 "nbformat": 4,
 "nbformat_minor": 2
}
