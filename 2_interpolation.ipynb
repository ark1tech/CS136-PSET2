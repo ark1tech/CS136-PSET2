{
 "cells": [
  {
   "cell_type": "markdown",
   "metadata": {},
   "source": [
    "### Libraries"
   ]
  },
  {
   "cell_type": "code",
   "execution_count": 161,
   "metadata": {},
   "outputs": [],
   "source": [
    "import math\n",
    "import numpy as np\n",
    "\n",
    "import pandas \n",
    "import plotly.express as px"
   ]
  },
  {
   "cell_type": "markdown",
   "metadata": {},
   "source": [
    "### Constants"
   ]
  },
  {
   "cell_type": "code",
   "execution_count": 162,
   "metadata": {},
   "outputs": [],
   "source": [
    "# @title Gauss-Laguerre constants\n",
    "# Notation: (abscissa, weight)\n",
    "GAUSS_LAGUERRE = [\n",
    "    (0.222847, 0.458964),\n",
    "    (1.188932, 0.417),\n",
    "    (2.992736, 0.113373),\n",
    "    (5.775144, 0.0103992),\n",
    "    (9.837467, 0.000261017),\n",
    "    (15.982874, 0.000000898548)\n",
    "]"
   ]
  },
  {
   "cell_type": "markdown",
   "metadata": {},
   "source": [
    "### Functions"
   ]
  },
  {
   "cell_type": "code",
   "execution_count": 163,
   "metadata": {},
   "outputs": [],
   "source": [
    "# @title Weibull distribution function\n",
    "def f_Weibull (t, k, mu):\n",
    "    varLambdaDenom = lambda s, k : math.pow (s, 1/k)\n",
    "    \n",
    "    area = 0\n",
    "\n",
    "    for i in range(6):\n",
    "        area += GAUSS_LAGUERRE[i][1] * varLambdaDenom(GAUSS_LAGUERRE[i][0], k)\n",
    "    \n",
    "    varLambda = mu / area\n",
    "    \n",
    "    # print(\"---> lambda=\", varLambda, \"k=\", k, \", t=\", t)\n",
    "    # print(\"---> (t/lambda)^(k-1) =\", (t/varLambda) ** (k-1))\n",
    "    # print(\"---> e^-(t/lambda)^-k =\", (math.e ** ((t/varLambda) ** k)))\n",
    "    f = (k/varLambda) * ((t/varLambda) ** k-1) * (math.e ** ((t/varLambda) ** k))\n",
    "\n",
    "    return f"
   ]
  },
  {
   "cell_type": "code",
   "execution_count": 164,
   "metadata": {},
   "outputs": [],
   "source": [
    "# @title Integral of Weibull function\n",
    "def cdf_Weibull (t, k, mu):\n",
    "    area = 0\n",
    "    \n",
    "    for i in range(6):\n",
    "        area += GAUSS_LAGUERRE[i][1] * f_Weibull( -GAUSS_LAGUERRE[i][0] + t, k, mu)\n",
    "\n",
    "    return area"
   ]
  },
  {
   "cell_type": "code",
   "execution_count": 165,
   "metadata": {},
   "outputs": [],
   "source": [
    "# Inverse survivability\n",
    "# solved as root-finding problem using bisection method\n",
    "def surv_inv (alpha, a, b, k, mu):\n",
    "    isDiffSign = lambda x1, x2 : np.sign(x1) != np.sign(x2)\n",
    "    f = lambda t : cdf_Weibull(t, k, mu) - alpha\n",
    "\n",
    "    tol = 1.0e-4\n",
    "\n",
    "    fa = f(a)\n",
    "    if fa == 0.0:\n",
    "        return a\n",
    "    \n",
    "    fb = f(b)\n",
    "    if fb == 0.0:\n",
    "        return b\n",
    "    \n",
    "    if not isDiffSign(fa, fb):\n",
    "        return None\n",
    "    \n",
    "    n = int (math.ceil (math.log(abs(b-a) / tol) / math.log(2.0)))\n",
    "\n",
    "    for i in range(n):\n",
    "        c = 0.5 * (a + b)\n",
    "        fc = f(c)\n",
    "\n",
    "        if (abs(fc) > abs(fa)) and (abs(fc) > abs(fb)):\n",
    "            return None\n",
    "\n",
    "        if fc == 0.0:\n",
    "            return c\n",
    "\n",
    "        if isDiffSign(fa, fc):\n",
    "            a = c\n",
    "            fa = fc\n",
    "        \n",
    "        elif isDiffSign(fb, fc):\n",
    "            b = c\n",
    "            fb = fc\n",
    "\n",
    "    return 0.5 * (a+b)"
   ]
  },
  {
   "cell_type": "markdown",
   "metadata": {},
   "source": [
    "### Evaluation"
   ]
  },
  {
   "cell_type": "code",
   "execution_count": 166,
   "metadata": {},
   "outputs": [],
   "source": [
    "# Average life expectancy\n",
    "expected_value = 78\n",
    "\n",
    "# List for values\n",
    "y_t_decr = []\n",
    "y_t_cons = []\n",
    "y_t_incr = []\n",
    "x_values = []"
   ]
  },
  {
   "cell_type": "code",
   "execution_count": 167,
   "metadata": {},
   "outputs": [],
   "source": [
    "# For alpha in (0,1) with 0.01 step\n",
    "for alpha in range(1, 100, 1):\n",
    "    alpha /= 100\n",
    "\n",
    "    t_decr = surv_inv (alpha, 0, 100, 0.5, expected_value)\n",
    "    t_cons = surv_inv (alpha, 0, 100, 1, expected_value)\n",
    "    t_incr = surv_inv (alpha, 0, 100, 2, expected_value)\n",
    "\n",
    "    x_values.append(alpha)\n",
    "\n",
    "    y_t_decr.append(t_decr)\n",
    "    y_t_cons.append(t_cons)\n",
    "    y_t_incr.append(t_incr)"
   ]
  },
  {
   "cell_type": "markdown",
   "metadata": {},
   "source": [
    "### Plotting"
   ]
  },
  {
   "cell_type": "code",
   "execution_count": null,
   "metadata": {},
   "outputs": [],
   "source": []
  }
 ],
 "metadata": {
  "kernelspec": {
   "display_name": "matlab",
   "language": "python",
   "name": "python3"
  },
  "language_info": {
   "codemirror_mode": {
    "name": "ipython",
    "version": 3
   },
   "file_extension": ".py",
   "mimetype": "text/x-python",
   "name": "python",
   "nbconvert_exporter": "python",
   "pygments_lexer": "ipython3",
   "version": "3.11.2"
  }
 },
 "nbformat": 4,
 "nbformat_minor": 2
}
