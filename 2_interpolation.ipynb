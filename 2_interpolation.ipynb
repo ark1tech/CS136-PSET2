{
 "cells": [
  {
   "cell_type": "markdown",
   "metadata": {},
   "source": [
    "### Libraries"
   ]
  },
  {
   "cell_type": "code",
   "execution_count": 7,
   "metadata": {},
   "outputs": [],
   "source": [
    "import math\n",
    "import numpy as np\n",
    "import random\n",
    "\n",
    "import pandas \n",
    "import plotly.express as px"
   ]
  },
  {
   "cell_type": "markdown",
   "metadata": {},
   "source": [
    "### Constants"
   ]
  },
  {
   "cell_type": "code",
   "execution_count": 8,
   "metadata": {},
   "outputs": [],
   "source": [
    "# Gauss-Laguerre constants\n",
    "# Notation: (abscissa, weight)\n",
    "N = 6\n",
    "\n",
    "GAUSS_LAGUERRE = [\n",
    "    (0.222847, 0.458964),\n",
    "    (1.188932, 0.417),\n",
    "    (2.992736, 0.113373),\n",
    "    (5.775144, 0.0103992),\n",
    "    (9.837467, 0.000261017),\n",
    "    (15.982874, 0.000000898548)\n",
    "]"
   ]
  },
  {
   "cell_type": "markdown",
   "metadata": {},
   "source": [
    "### Functions"
   ]
  },
  {
   "cell_type": "code",
   "execution_count": 9,
   "metadata": {},
   "outputs": [],
   "source": [
    "# Weibull distribution function\n",
    "def f_Weibull (x, k, mu):\n",
    "    varLambdaDenom = lambda s, k : math.pow (s, 1/k)\n",
    "    \n",
    "    area = 0\n",
    "    for i in range(N):\n",
    "        area += GAUSS_LAGUERRE[i][1] * varLambdaDenom(GAUSS_LAGUERRE[i][0], k)\n",
    "    \n",
    "    varLambda = mu / area\n",
    "\n",
    "    f = (k / varLambda) * math.pow(x / varLambda, k-1) * math.pow(math.e, -math.pow(x / varLambda, k))\n",
    "\n",
    "    return f"
   ]
  },
  {
   "cell_type": "code",
   "execution_count": 10,
   "metadata": {},
   "outputs": [],
   "source": [
    "# Survivability function S(t)\n",
    "def cdf_Weibull (t, k, mu):\n",
    "    area = 0\n",
    "    \n",
    "    for i in range(N):\n",
    "        area += GAUSS_LAGUERRE[i][1] * f_Weibull( -GAUSS_LAGUERRE[i][0] + t, k, mu)\n",
    "\n",
    "    return area"
   ]
  },
  {
   "cell_type": "code",
   "execution_count": 11,
   "metadata": {},
   "outputs": [],
   "source": [
    "# Inverse survivability -- solved as root-finding problem using \n",
    "def inverse_survivability(a, b, k, mu, alpha):\n",
    "    f = lambda x : cdf_Weibull(x, k, mu) - alpha\n",
    "\n",
    "    f_a = f(a)\n",
    "    f_b = f(b)\n",
    "    tol = 1.0e-9\n",
    "\n",
    "    if f_a == 0.0:\n",
    "        return a\n",
    "    \n",
    "    if f_b == 0.0:\n",
    "        return b\n",
    "    \n",
    "    n = int( math.ceil( math.log(abs(b-a) / tol) / math.log(2.0) ) )\n",
    "\n",
    "    for i in range(n):\n",
    "        c = 0.5 * (a + b)\n",
    "        f_c = f(c)\n",
    "\n",
    "        if f_c == 0.0:\n",
    "            return c\n",
    "\n",
    "        if np.sign(f_a) == np.sign(f_c):\n",
    "            a = c\n",
    "            f_a = f_c\n",
    "        \n",
    "        elif np.sign(f_b) == np.sign(f_c):\n",
    "            b = c\n",
    "            f_b = f_c\n",
    "\n",
    "    return 0.5 * (a+b)"
   ]
  },
  {
   "cell_type": "markdown",
   "metadata": {},
   "source": [
    "### Evaluation"
   ]
  },
  {
   "cell_type": "code",
   "execution_count": 12,
   "metadata": {},
   "outputs": [],
   "source": [
    "# Mu; average life expectancy\n",
    "avg_life_expectancy = 78\n",
    "\n",
    "# List for values\n",
    "y_CDF_decrease = []\n",
    "y_CDF_constant = []\n",
    "y_CDF_increase = []\n",
    "x_values = []\n",
    "\n",
    "for x in range(0, 100, 1):\n",
    "    x /= 100\n",
    "\n",
    "    area_decrease = 0\n",
    "    area_constant = 0\n",
    "    area_increase = 0\n",
    "\n",
    "    x_values.append(x)"
   ]
  }
 ],
 "metadata": {
  "kernelspec": {
   "display_name": "matlab",
   "language": "python",
   "name": "python3"
  },
  "language_info": {
   "codemirror_mode": {
    "name": "ipython",
    "version": 3
   },
   "file_extension": ".py",
   "mimetype": "text/x-python",
   "name": "python",
   "nbconvert_exporter": "python",
   "pygments_lexer": "ipython3",
   "version": "3.11.2"
  }
 },
 "nbformat": 4,
 "nbformat_minor": 2
}
