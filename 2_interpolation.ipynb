{
 "cells": [
  {
   "cell_type": "markdown",
   "metadata": {},
   "source": [
    "### Libraries"
   ]
  },
  {
   "cell_type": "code",
   "execution_count": 4,
   "metadata": {},
   "outputs": [],
   "source": [
    "import math\n",
    "import numpy as np\n",
    "import random\n",
    "\n",
    "import pandas \n",
    "import plotly.express as px"
   ]
  },
  {
   "cell_type": "markdown",
   "metadata": {},
   "source": [
    "### Constants"
   ]
  },
  {
   "cell_type": "code",
   "execution_count": 5,
   "metadata": {},
   "outputs": [],
   "source": [
    "# Gauss-Laguerre, Gauss-Legendre constants\n",
    "# Notation: (abscissa, weight)\n",
    "N = 6\n",
    "\n",
    "GAUSS_LAGUERRE = [\n",
    "    (0.222847, 0.458964),\n",
    "    (1.188932, 0.417),\n",
    "    (2.992736, 0.113373),\n",
    "    (5.775144, 0.0103992),\n",
    "    (9.837467, 0.000261017),\n",
    "    (15.982874, 0.000000898548)\n",
    "]\n",
    "\n",
    "GAUSS_LEGENDRE = [\n",
    "    (-0.932470, 0.171324),\n",
    "    (-0.661209, 0.360762),\n",
    "    (-0.238619, 0.467914),\n",
    "    (0.238619, 0.467914),\n",
    "    (0.661209, 0.360762),\n",
    "    (0.932470, 0.171324)\n",
    "]"
   ]
  },
  {
   "cell_type": "markdown",
   "metadata": {},
   "source": [
    "### Functions"
   ]
  },
  {
   "cell_type": "code",
   "execution_count": 6,
   "metadata": {},
   "outputs": [
    {
     "ename": "SyntaxError",
     "evalue": "invalid syntax (2445981797.py, line 6)",
     "output_type": "error",
     "traceback": [
      "\u001b[0;36m  Cell \u001b[0;32mIn[6], line 6\u001b[0;36m\u001b[0m\n\u001b[0;31m    f =\u001b[0m\n\u001b[0m        ^\u001b[0m\n\u001b[0;31mSyntaxError\u001b[0m\u001b[0;31m:\u001b[0m invalid syntax\n"
     ]
    }
   ],
   "source": [
    "# Gauss-Legendre approximation of integral in the denominator of the lambda variable\n",
    "def var_lambda (k, mu):\n",
    "    f = lambda s, k : math.pow(s, 1/k)\n",
    "\n",
    "    area = 0\n",
    "\n",
    "    for i in range(N):\n",
    "        area += GAUSS_LAGUERRE[i][1] * f(GAUSS_LAGUERRE[i][0], k)\n",
    "\n",
    "    return mu / area"
   ]
  },
  {
   "cell_type": "code",
   "execution_count": null,
   "metadata": {},
   "outputs": [],
   "source": [
    "# Weibull distribution function\n",
    "def f_Weibull (t, k, mu):\n",
    "    varLambda = var_lambda(k, mu)\n",
    "\n",
    "    pdf = (k / var_lambda) * math.pow(t / varLambda, k-1) * math.pow(math.e, -math.pow(t / varLambda, k))\n",
    "\n",
    "    return pdf"
   ]
  },
  {
   "cell_type": "code",
   "execution_count": null,
   "metadata": {},
   "outputs": [],
   "source": [
    "# Survivability function; equals 1 - CDF\n",
    "def survivability(a, s, k, mu):\n",
    "    x = -s + a\n",
    "    dx = -ds\n",
    "\n",
    "    area = 0\n",
    "    for i in range(N):\n",
    "        area += GAUSS_LEGENDRE[i][1] * f_Weibull(GAUSS_LEGENDRE[i][0], k, mu)\n",
    "\n",
    "    return 1 - area"
   ]
  },
  {
   "cell_type": "code",
   "execution_count": null,
   "metadata": {},
   "outputs": [],
   "source": [
    "def inverse_survivability():\n",
    "    return 0"
   ]
  },
  {
   "cell_type": "markdown",
   "metadata": {},
   "source": [
    "### Evaluation"
   ]
  },
  {
   "cell_type": "code",
   "execution_count": null,
   "metadata": {},
   "outputs": [],
   "source": [
    "# Evaluation\n",
    "avg_life_expectancy = 78\n",
    "\n",
    "# Case 1\n",
    "k = 0.5\n",
    "varLambda = var_lambda(k, avg_life_expectancy)\n",
    "\n"
   ]
  }
 ],
 "metadata": {
  "kernelspec": {
   "display_name": "matlab",
   "language": "python",
   "name": "python3"
  },
  "language_info": {
   "codemirror_mode": {
    "name": "ipython",
    "version": 3
   },
   "file_extension": ".py",
   "mimetype": "text/x-python",
   "name": "python",
   "nbconvert_exporter": "python",
   "pygments_lexer": "ipython3",
   "version": "3.11.2"
  }
 },
 "nbformat": 4,
 "nbformat_minor": 2
}
