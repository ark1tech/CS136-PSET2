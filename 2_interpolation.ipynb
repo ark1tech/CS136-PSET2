{
 "cells": [
  {
   "cell_type": "markdown",
   "metadata": {},
   "source": [
    "### Libraries"
   ]
  },
  {
   "cell_type": "code",
   "execution_count": 297,
   "metadata": {},
   "outputs": [],
   "source": [
    "import math\n",
    "import numpy as np\n",
    "\n",
    "import pandas \n",
    "# import plotly.express as px\n",
    "import matplotlib.pyplot as plt"
   ]
  },
  {
   "cell_type": "markdown",
   "metadata": {},
   "source": [
    "### Constants"
   ]
  },
  {
   "cell_type": "code",
   "execution_count": 298,
   "metadata": {},
   "outputs": [],
   "source": [
    "# @title Gauss-Laguerre constants\n",
    "# Notation: (abscissa, weight)\n",
    "GAUSS_LAGUERRE = [\n",
    "    (0.222847, 0.458964),\n",
    "    (1.188932, 0.417),\n",
    "    (2.992736, 0.113373),\n",
    "    (5.775144, 0.0103992),\n",
    "    (9.837467, 0.000261017),\n",
    "    (15.982874, 0.000000898548)\n",
    "]"
   ]
  },
  {
   "cell_type": "markdown",
   "metadata": {},
   "source": [
    "### Functions"
   ]
  },
  {
   "cell_type": "code",
   "execution_count": 299,
   "metadata": {},
   "outputs": [],
   "source": [
    "# @title Weibull distribution function\n",
    "def f_Weibull (t, k, mu):\n",
    "    varLambdaDenom = lambda s, k : math.pow (s, 1/k)\n",
    "    \n",
    "    area = 0\n",
    "\n",
    "    for i in range(6):\n",
    "        area += GAUSS_LAGUERRE[i][1] * varLambdaDenom(GAUSS_LAGUERRE[i][0], k)\n",
    "    \n",
    "    varLambda = mu / area\n",
    "    \n",
    "    # print(\"---> lambda=\", varLambda, \"k=\", k, \", t=\", t)\n",
    "    # print(\"---> (t/lambda)^(k-1) =\", (t/varLambda) ** (k-1))\n",
    "    # print(\"---> e^-(t/lambda)^-k =\", (math.e ** ((t/varLambda) ** k)))\n",
    "    f = (k/varLambda) * ((t/varLambda) ** k-1) * (math.e ** ((t/varLambda) ** k))\n",
    "\n",
    "    return f"
   ]
  },
  {
   "cell_type": "code",
   "execution_count": 300,
   "metadata": {},
   "outputs": [],
   "source": [
    "# @title Integral of Weibull function\n",
    "def cdf_Weibull (t, k, mu):\n",
    "    area = 0\n",
    "    \n",
    "    for i in range(6):\n",
    "        area += GAUSS_LAGUERRE[i][1] * f_Weibull( -GAUSS_LAGUERRE[i][0] + t, k, mu)\n",
    "\n",
    "    return area"
   ]
  },
  {
   "cell_type": "code",
   "execution_count": 301,
   "metadata": {},
   "outputs": [],
   "source": [
    "# Inverse survivability\n",
    "# solved as root-finding problem using bisection method\n",
    "def surv_inv (alpha, a, b, k, mu):\n",
    "    isDiffSign = lambda x1, x2 : np.sign(x1) != np.sign(x2)\n",
    "    f = lambda t : cdf_Weibull(t, k, mu) - alpha\n",
    "\n",
    "    tol = 1.0e-9\n",
    "\n",
    "    fa = f(a)\n",
    "    if fa == 0.0:\n",
    "        return a\n",
    "    \n",
    "    fb = f(b)\n",
    "    if fb == 0.0:\n",
    "        return b\n",
    "    \n",
    "    # if not isDiffSign(fa, fb):\n",
    "    #    return None\n",
    "    \n",
    "    n = int (math.ceil (math.log(abs(b-a) / tol) / math.log(2.0)))\n",
    "\n",
    "    for i in range(n):\n",
    "        c = 0.5 * (a + b)\n",
    "        fc = f(c)\n",
    "\n",
    "        # if (abs(fc) > abs(fa)) and (abs(fc) > abs(fb)):\n",
    "        #     return None\n",
    "\n",
    "        if fc == 0.0:\n",
    "            return c\n",
    "\n",
    "        if isDiffSign(fa, fc):\n",
    "            a = c\n",
    "            fa = fc\n",
    "        \n",
    "        elif isDiffSign(fb, fc):\n",
    "            b = c\n",
    "            fb = fc\n",
    "\n",
    "    return 0.5 * (a+b)"
   ]
  },
  {
   "cell_type": "markdown",
   "metadata": {},
   "source": [
    "### Evaluation"
   ]
  },
  {
   "cell_type": "code",
   "execution_count": 302,
   "metadata": {},
   "outputs": [],
   "source": [
    "# Average life expectancy\n",
    "expected_value = 78\n",
    "\n",
    "# List for values\n",
    "y_t_decr = []\n",
    "y_t_cons = []\n",
    "y_t_incr = []\n",
    "x_values = []"
   ]
  },
  {
   "cell_type": "code",
   "execution_count": 303,
   "metadata": {},
   "outputs": [],
   "source": [
    "# For alpha in (0,1) with 0.01 step\n",
    "for alpha in range(1, 100, 1):\n",
    "    alpha /= 100\n",
    "\n",
    "    t_decr = surv_inv (alpha, 0, 100, 0.5, expected_value)\n",
    "    t_cons = surv_inv (alpha, 0, 100, 1, expected_value)\n",
    "    t_incr = surv_inv (alpha, 0, 100, 2, expected_value)\n",
    "\n",
    "    x_values.append(alpha)\n",
    "\n",
    "    y_t_decr.append(t_decr)\n",
    "    y_t_cons.append(t_cons)\n",
    "    y_t_incr.append(t_incr)"
   ]
  },
  {
   "cell_type": "markdown",
   "metadata": {},
   "source": [
    "### Plotting"
   ]
  },
  {
   "cell_type": "code",
   "execution_count": 304,
   "metadata": {},
   "outputs": [
    {
     "name": "stdout",
     "output_type": "stream",
     "text": [
      "[0.01, 0.02, 0.03, 0.04, 0.05, 0.06, 0.07, 0.08, 0.09, 0.1, 0.11, 0.12, 0.13, 0.14, 0.15, 0.16, 0.17, 0.18, 0.19, 0.2, 0.21, 0.22, 0.23, 0.24, 0.25, 0.26, 0.27, 0.28, 0.29, 0.3, 0.31, 0.32, 0.33, 0.34, 0.35, 0.36, 0.37, 0.38, 0.39, 0.4, 0.41, 0.42, 0.43, 0.44, 0.45, 0.46, 0.47, 0.48, 0.49, 0.5, 0.51, 0.52, 0.53, 0.54, 0.55, 0.56, 0.57, 0.58, 0.59, 0.6, 0.61, 0.62, 0.63, 0.64, 0.65, 0.66, 0.67, 0.68, 0.69, 0.7, 0.71, 0.72, 0.73, 0.74, 0.75, 0.76, 0.77, 0.78, 0.79, 0.8, 0.81, 0.82, 0.83, 0.84, 0.85, 0.86, 0.87, 0.88, 0.89, 0.9, 0.91, 0.92, 0.93, 0.94, 0.95, 0.96, 0.97, 0.98, 0.99]\n",
      "[25.0, 25.0, 25.0, 50.0, 50.0, 50.0, 50.0, 50.0, 50.0, 50.0, 50.0, 50.0, 50.0, 50.0, 50.0, 50.0, 50.0, 50.0, 50.0, 50.0, 50.0, 50.0, 50.0, 50.0, 50.0, 50.0, 50.0, 50.0, 50.0, 50.0, 50.0, 50.0, 50.0, 50.0, 50.0, 50.0, 50.0, 50.0, 50.0, 50.0, 50.0, 50.0, 50.0, 50.0, 50.0, 50.0, 50.0, 50.0, 50.0, 50.0, 50.0, 50.0, 50.0, 50.0, 50.0, 50.0, 50.0, 50.0, 50.0, 50.0, 50.0, 50.0, 50.0, 50.0, 50.0, 50.0, 50.0, 50.0, 50.0, 50.0, 50.0, 50.0, 50.0, 50.0, 50.0, 50.0, 50.0, 50.0, 50.0, 50.0, 50.0, 50.0, 50.0, 50.0, 50.0, 50.0, 50.0, 50.0, 50.0, 50.0, 50.0, 50.0, 50.0, 50.0, 50.0, 50.0, 50.0, 50.0, 50.0]\n",
      "[25.0, 50.0, 50.0, 50.0, 50.0, 50.0, 50.0, 50.0, 50.0, 50.0, 50.0, 50.0, 50.0, 50.0, 50.0, 50.0, 50.0, 50.0, 50.0, 50.0, 50.0, 50.0, 50.0, 50.0, 50.0, 50.0, 50.0, 50.0, 50.0, 50.0, 50.0, 50.0, 50.0, 50.0, 50.0, 50.0, 50.0, 50.0, 50.0, 50.0, 50.0, 50.0, 50.0, 50.0, 50.0, 50.0, 50.0, 50.0, 50.0, 50.0, 50.0, 50.0, 50.0, 50.0, 50.0, 50.0, 50.0, 50.0, 50.0, 50.0, 50.0, 50.0, 50.0, 50.0, 50.0, 50.0, 50.0, 50.0, 50.0, 50.0, 50.0, 50.0, 50.0, 50.0, 50.0, 50.0, 50.0, 50.0, 50.0, 50.0, 50.0, 50.0, 50.0, 50.0, 50.0, 50.0, 50.0, 50.0, 50.0, 50.0, 50.0, 50.0, 50.0, 50.0, 50.0, 50.0, 50.0, 50.0, 50.0]\n",
      "[25.0, 25.0, 50.0, 50.0, 50.0, 50.0, 50.0, 50.0, 50.0, 50.0, 50.0, 50.0, 50.0, 50.0, 50.0, 50.0, 50.0, 50.0, 50.0, 50.0, 50.0, 50.0, 50.0, 50.0, 50.0, 50.0, 50.0, 50.0, 50.0, 50.0, 50.0, 50.0, 50.0, 50.0, 50.0, 50.0, 50.0, 50.0, 50.0, 50.0, 50.0, 50.0, 50.0, 50.0, 50.0, 50.0, 50.0, 50.0, 50.0, 50.0, 50.0, 50.0, 50.0, 50.0, 50.0, 50.0, 50.0, 50.0, 50.0, 50.0, 50.0, 50.0, 50.0, 50.0, 50.0, 50.0, 50.0, 50.0, 50.0, 50.0, 50.0, 50.0, 50.0, 50.0, 50.0, 50.0, 50.0, 50.0, 50.0, 50.0, 50.0, 50.0, 50.0, 50.0, 50.0, 50.0, 50.0, 50.0, 50.0, 50.0, 50.0, 50.0, 50.0, 50.0, 50.0, 50.0, 50.0, 50.0, 50.0]\n"
     ]
    }
   ],
   "source": [
    "print(x_values)\n",
    "\n",
    "print(y_t_decr)\n",
    "print(y_t_cons)\n",
    "print(y_t_incr)"
   ]
  },
  {
   "cell_type": "code",
   "execution_count": 305,
   "metadata": {},
   "outputs": [
    {
     "data": {
      "image/png": "[encoded data removed]",
      "text/plain": [
       "<Figure size 640x480 with 1 Axes>"
      ]
     },
     "metadata": {},
     "output_type": "display_data"
    }
   ],
   "source": [
    "figures, axes = plt.subplots()\n",
    "\n",
    "axes.plot(x_values, y_t_decr, label=\"k = 0.5\")\n",
    "axes.plot(x_values, y_t_cons, label=\"k = 1\")\n",
    "axes.plot(x_values, y_t_incr, label=\"k = 2\")\n",
    "\n",
    "axes.set_xlabel(\"alpha\")\n",
    "axes.set_ylabel(\"t\")\n",
    "axes.legend()\n",
    "\n",
    "plt.xticks(np.arange(0, 1, step=0.2))\n",
    "plt.yticks(np.arange(0, 100, step=10))\n",
    "\n",
    "plt.show()"
   ]
  }
 ],
 "metadata": {
  "kernelspec": {
   "display_name": "matlab",
   "language": "python",
   "name": "python3"
  },
  "language_info": {
   "codemirror_mode": {
    "name": "ipython",
    "version": 3
   },
   "file_extension": ".py",
   "mimetype": "text/x-python",
   "name": "python",
   "nbconvert_exporter": "python",
   "pygments_lexer": "ipython3",
   "version": "3.11.2"
  }
 },
 "nbformat": 4,
 "nbformat_minor": 2
}
